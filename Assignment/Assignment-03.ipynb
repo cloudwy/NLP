{
 "cells": [
  {
   "cell_type": "markdown",
   "metadata": {},
   "source": [
    "## Assignment-03 First Step of Machine Learning: Model and Evaluation"
   ]
  },
  {
   "cell_type": "markdown",
   "metadata": {},
   "source": [
    "同学们，今天我们的学习了基本的机器学习概念，相比你已经对机器学习的这些方法有一个基本的认识了。值得说明的是，机器学习不仅仅是一系列方法，更重要的是一种思维体系，即：依据以往的、现有的数据，构建某种方法来解决未见过的问题。而且决策树，贝叶斯只是实现这个目标的一个方法，包括之后的神经网络。很有可能有一天，神经网络也会被淘汰，但是重要的是我们要理解机器学习的目标，就是尽可能的自动化解决未知的问题。"
   ]
  },
  {
   "cell_type": "markdown",
   "metadata": {},
   "source": [
    "![](https://timgsa.baidu.com/timg?image&quality=80&size=b9999_10000&sec=1571556399207&di=4a97dc15ad08dd49d3748d1edf6109b3&imgtype=0&src=http%3A%2F%2Fc.hiphotos.baidu.com%2Fzhidao%2Fwh%3D450%2C600%2Fsign%3Dae742c6aedcd7b89e93932873a146e91%2F5d6034a85edf8db1b16050c40223dd54574e74c7.jpg)"
   ]
  },
  {
   "cell_type": "markdown",
   "metadata": {},
   "source": [
    "## Part-1 Programming Review 编程回顾"
   ]
  },
  {
   "cell_type": "markdown",
   "metadata": {},
   "source": [
    "#### 1. Re-code the Linear-Regression Model using scikit-learning(10 points)"
   ]
  },
  {
   "cell_type": "markdown",
   "metadata": {},
   "source": [
    "<评阅点>： \n",
    "> + 是否完成线性回归模型 (4')\n",
    "+ 能够进行预测新数据(3')\n",
    "+ 能够进行可视化操作(3')"
   ]
  },
  {
   "cell_type": "code",
   "execution_count": 1,
   "metadata": {},
   "outputs": [],
   "source": [
    "# you code here"
   ]
  },
  {
   "cell_type": "markdown",
   "metadata": {},
   "source": [
    "#### 2. Complete the unfinished KNN Model using pure python to solve the previous Line-Regression problem. (8 points)"
   ]
  },
  {
   "cell_type": "markdown",
   "metadata": {},
   "source": [
    "<评阅点>:\n",
    "> + 是否完成了KNN模型 (4')\n",
    "+ 是否能够预测新的数据 (4')"
   ]
  },
  {
   "cell_type": "code",
   "execution_count": 2,
   "metadata": {},
   "outputs": [],
   "source": [
    "# you code here"
   ]
  },
  {
   "cell_type": "markdown",
   "metadata": {},
   "source": [
    "#### 3. Re-code the Decision Tree, which could sort the features by salience. (12 points)"
   ]
  },
  {
   "cell_type": "markdown",
   "metadata": {},
   "source": [
    "<评阅点>\n",
    "> + 是否实现了信息熵 (1' )\n",
    "+ 是否实现了最优先特征点的选择(5')\n",
    "+ 是否实现了持续的特征选则(6')"
   ]
  },
  {
   "cell_type": "code",
   "execution_count": 3,
   "metadata": {},
   "outputs": [],
   "source": [
    "# you code here"
   ]
  },
  {
   "cell_type": "markdown",
   "metadata": {},
   "source": [
    "#### 4. Finish the K-Means using 2-D matplotlib (8 points)"
   ]
  },
  {
   "cell_type": "markdown",
   "metadata": {},
   "source": [
    "<评阅点>\n",
    "> + 是否完成了KMeans模型，基于scikit-learning (3')\n",
    "+ 是否完成了可视化任务（5'）"
   ]
  },
  {
   "cell_type": "markdown",
   "metadata": {},
   "source": [
    "## Part-2 Question and Answer 问答"
   ]
  },
  {
   "cell_type": "markdown",
   "metadata": {},
   "source": [
    "#### 1. What's the *model*? why  all the models are wrong, but some are useful? (5 points) "
   ]
  },
  {
   "cell_type": "markdown",
   "metadata": {},
   "source": [
    "A computer-based model is a computer program that is designed to simulate what might or what did happen in a situation. \"All models are wrong\" that is, every model is wrong because it is a simplification of reality.\"But some are useful\" means the simplification can help us solve a problem."
   ]
  },
  {
   "cell_type": "markdown",
   "metadata": {},
   "source": [
    "<评阅点>\n",
    "> + 对模型的理解是否正确,对模型的抽象性是否正确(5')"
   ]
  },
  {
   "cell_type": "markdown",
   "metadata": {},
   "source": [
    "#### 2. What's the underfitting and overfitting? List the reasons that could make model overfitting or underfitting. (10 points)"
   ]
  },
  {
   "cell_type": "markdown",
   "metadata": {},
   "source": [
    "Overfitting occurs when the model or the algorithm fits the data too well. It shows low variance but high bias.<br>\n",
    "Reason: a small dataset/too many features/too much noise<br>\n",
    "\n",
    "Underfitting occurs when the model cannot capture the underlying trend of the data. It shows high variance,low bias.<br>\n",
    "Reason: too few features"
   ]
  },
  {
   "cell_type": "markdown",
   "metadata": {},
   "source": [
    "<评阅点>\n",
    "> + 对过拟合和欠拟合的理解是否正确 (3')\n",
    "+ 对欠拟合产生的原因是否理解正确(2')\n",
    "+ 对过拟合产生的原因是否理解正确(5')"
   ]
  },
  {
   "cell_type": "markdown",
   "metadata": {},
   "source": [
    "#### 3. What's the precision, recall, AUC, F1, F2score. What are they mainly target on? (12')"
   ]
  },
  {
   "cell_type": "markdown",
   "metadata": {},
   "source": [
    "https://en.wikipedia.org/wiki/Precision_and_recall\n",
    "$$Precision = \\frac{\\sum True\\, positive}{\\sum Predicted\\, condition\\, positive} = \\frac{TP}{TP+FP} $$\n",
    "\n",
    "$$Recall/Sensitivity = \\frac{\\sum True\\,positive}{\\sum Condition\\,positive} = \\frac{TP}{TP+FN}$$\n",
    "\n",
    "$$AUC = the\\,area\\,under\\,the\\,ROC\\,curve$$\n",
    "\n",
    "$$F_{\\beta} = (1+\\beta^{2})·\\frac{Precision·Recall}{(\\beta^{2}·Precision)+Recall}$$\n",
    "\n",
    "$$F_{1} score = 2*\\frac{Precision·Recall}{Precision+Recall}$$\n",
    "\n",
    "$$F_{2} score = 5*\\frac{Precision·Recall}{4·Precision+Recall}$$\n",
    "Precision表示在所有预测为1的样本中，预测正确的概率。<br>\n",
    "Recall表示在所有实际为1的样本中，预测正确的概率。<br>\n",
    "F1 score综合反映了Precision和Recall。<br>\n",
    "ROC曲线是以FP为横轴，TP为纵轴画出的曲线，其下的面积为AUC，如果AUC面积越大，则模型预测效果越好。<br>"
   ]
  },
  {
   "cell_type": "markdown",
   "metadata": {},
   "source": [
    "<评阅点>\n",
    "> + 对precision, recall, AUC, F1, F2 理解是否正确(6‘)\n",
    "+ 对precision, recall, AUC, F1, F2的使用侧重点是否理解正确 (6’)"
   ]
  },
  {
   "cell_type": "markdown",
   "metadata": {},
   "source": [
    "#### 4. Based on our course and yourself mind, what's the machine learning?  (8')"
   ]
  },
  {
   "cell_type": "markdown",
   "metadata": {},
   "source": [
    "Machine learning is a branch of AI that provides systems the ability to automatically learn and improve from experience without being explicitly programmed."
   ]
  },
  {
   "cell_type": "markdown",
   "metadata": {},
   "source": [
    "<评阅点> 开放式问题，是否能说出来机器学习这种思维方式和传统的分析式编程的区别（8'）"
   ]
  },
  {
   "cell_type": "markdown",
   "metadata": {},
   "source": [
    "#### 5. \"正确定义了机器学习模型的评价标准(evaluation)， 问题基本上就已经解决一半\". 这句话是否正确？你是怎么看待的？ (8‘)"
   ]
  },
  {
   "cell_type": "markdown",
   "metadata": {},
   "source": [
    "评价标准能判断模型学习的优劣程度，选对评价标准即指明了模型正确学习的方向。"
   ]
  },
  {
   "cell_type": "markdown",
   "metadata": {},
   "source": [
    "<评阅点> 开放式问题，主要看能理解评价指标对机器学习模型的重要性."
   ]
  },
  {
   "cell_type": "markdown",
   "metadata": {},
   "source": [
    "## Part-03 Programming Practice 编程练习"
   ]
  },
  {
   "cell_type": "markdown",
   "metadata": {},
   "source": [
    "1. In our course and previous practice, we complete some importance components of Decision Tree. In this problem, you need to build a **completed** Decision Tree Model. You show finish a `predicate()` function, which accepts three parameters **<gender, income, family_number>**, and outputs the predicated 'bought': 1 or 0.  (20 points)"
   ]
  },
  {
   "cell_type": "markdown",
   "metadata": {},
   "source": [
    "References:https://blog.csdn.net/weixin_41059350/article/details/90242277"
   ]
  },
  {
   "cell_type": "code",
   "execution_count": 8,
   "metadata": {},
   "outputs": [],
   "source": [
    "import pandas as pd\n",
    "from collections import Counter\n",
    "from icecream import ic\n",
    "import numpy as np"
   ]
  },
  {
   "cell_type": "markdown",
   "metadata": {},
   "source": [
    "**Step1:创建数据**"
   ]
  },
  {
   "cell_type": "code",
   "execution_count": 9,
   "metadata": {},
   "outputs": [],
   "source": [
    "training_data = {\n",
    "    'gender':['F', 'F', 'F', 'F', 'M', 'M', 'M'],\n",
    "    'income': ['+10', '-10', '+10', '+10', '+10', '+10', '-10'],\n",
    "    'family_number': [1, 1, 2, 1, 1, 1, 2],\n",
    "    'bought': [1, 1, 1, 0, 0, 0, 1],\n",
    "}"
   ]
  },
  {
   "cell_type": "code",
   "execution_count": 10,
   "metadata": {},
   "outputs": [],
   "source": [
    "#输入数据：dict->DataFrame\n",
    "dataset = pd.DataFrame.from_dict(training_data)"
   ]
  },
  {
   "cell_type": "code",
   "execution_count": 11,
   "metadata": {},
   "outputs": [],
   "source": [
    "target = 'bought'"
   ]
  },
  {
   "cell_type": "code",
   "execution_count": 12,
   "metadata": {},
   "outputs": [
    {
     "data": {
      "text/plain": [
       "['gender', 'income', 'family_number']"
      ]
     },
     "execution_count": 12,
     "metadata": {},
     "output_type": "execute_result"
    }
   ],
   "source": [
    "labels = dataset.columns.tolist()\n",
    "labels.remove(target)\n",
    "labels"
   ]
  },
  {
   "cell_type": "markdown",
   "metadata": {},
   "source": [
    "**Step2：计算Entropy**"
   ]
  },
  {
   "cell_type": "code",
   "execution_count": 13,
   "metadata": {},
   "outputs": [],
   "source": [
    "#信息熵\n",
    "def entropy(elements):\n",
    "    counter = Counter(elements)\n",
    "    probs = [counter[c]/len(elements) for c in set(elements)]\n",
    "    #ic(probs)\n",
    "    return - sum(p * np.log(p) for p in probs)"
   ]
  },
  {
   "cell_type": "markdown",
   "metadata": {},
   "source": [
    "**Step3：选择最优特征**"
   ]
  },
  {
   "cell_type": "code",
   "execution_count": 14,
   "metadata": {},
   "outputs": [],
   "source": [
    "def best_spliter(training_data:pd.DataFrame,target:str)->str:\n",
    "    x_fields = set(training_data.columns.tolist()) - {target}\n",
    "    #ic(x_fields)\n",
    "    spliter = None\n",
    "    min_entropy = float('inf')\n",
    "    \n",
    "    for f in x_fields:\n",
    "        ic(f)\n",
    "        #print('f:',type(f))\n",
    "        values = set(training_data[f])\n",
    "        ic(values)\n",
    "        for v in values:\n",
    "            #print('v:',type(v))\n",
    "            #sub_spliter_1\n",
    "            sub_spliter_1 = training_data[training_data[f]== v][target].tolist()\n",
    "            #ic(sub_spliter_1)\n",
    "            entropy_1 = entropy(sub_spliter_1)\n",
    "            #ic(entropy_1)\n",
    "            #sub_spliter_2\n",
    "            sub_spliter_2 = training_data[training_data[f]!= v][target].tolist()\n",
    "            #ic(sub_spliter_2)\n",
    "            entropy_2 = entropy(sub_spliter_2)\n",
    "            #ic(entropy_2)\n",
    "            #the sum of entropy\n",
    "            entropy_v = entropy_1 + entropy_2\n",
    "            #ic(entropy_v) \n",
    "            #compare\n",
    "            if entropy_v <= min_entropy:\n",
    "                min_entropy = entropy_v\n",
    "                spliter = (f,v)\n",
    "    print('spliter is: {}'.format(spliter))\n",
    "    print('the min entropy is: {}'.format(min_entropy)) \n",
    "    return spliter[0]"
   ]
  },
  {
   "cell_type": "code",
   "execution_count": 15,
   "metadata": {},
   "outputs": [
    {
     "name": "stderr",
     "output_type": "stream",
     "text": [
      "ic| f: 'gender'\n",
      "ic| values: {'F', 'M'}\n",
      "ic| f: 'family_number'\n",
      "ic| values: {1, 2}\n",
      "ic| f: 'income'\n",
      "ic| values: {'-10', '+10'}\n"
     ]
    },
    {
     "name": "stdout",
     "output_type": "stream",
     "text": [
      "spliter is: ('income', '+10')\n",
      "the min entropy is: 0.6730116670092565\n"
     ]
    },
    {
     "data": {
      "text/plain": [
       "'income'"
      ]
     },
     "execution_count": 15,
     "metadata": {},
     "output_type": "execute_result"
    }
   ],
   "source": [
    "best_spliter(dataset,target='bought')"
   ]
  },
  {
   "cell_type": "markdown",
   "metadata": {},
   "source": [
    "**Step4：按照给定特征划分数据集**"
   ]
  },
  {
   "cell_type": "code",
   "execution_count": 16,
   "metadata": {},
   "outputs": [],
   "source": [
    "def splitDataset(training_data:pd.DataFrame,spliter:str,value):\n",
    "    subset = training_data[training_data[spliter] == value]\n",
    "    return subset.drop(spliter,axis=1) #删除dataFrame的某一列"
   ]
  },
  {
   "cell_type": "code",
   "execution_count": 19,
   "metadata": {},
   "outputs": [],
   "source": [
    "subset1 = splitDataset(dataset,spliter='family_number',value=1)"
   ]
  },
  {
   "cell_type": "code",
   "execution_count": 21,
   "metadata": {},
   "outputs": [
    {
     "data": {
      "text/html": [
       "<div>\n",
       "<style scoped>\n",
       "    .dataframe tbody tr th:only-of-type {\n",
       "        vertical-align: middle;\n",
       "    }\n",
       "\n",
       "    .dataframe tbody tr th {\n",
       "        vertical-align: top;\n",
       "    }\n",
       "\n",
       "    .dataframe thead th {\n",
       "        text-align: right;\n",
       "    }\n",
       "</style>\n",
       "<table border=\"1\" class=\"dataframe\">\n",
       "  <thead>\n",
       "    <tr style=\"text-align: right;\">\n",
       "      <th></th>\n",
       "      <th>gender</th>\n",
       "      <th>bought</th>\n",
       "    </tr>\n",
       "  </thead>\n",
       "  <tbody>\n",
       "    <tr>\n",
       "      <th>0</th>\n",
       "      <td>F</td>\n",
       "      <td>1</td>\n",
       "    </tr>\n",
       "    <tr>\n",
       "      <th>1</th>\n",
       "      <td>F</td>\n",
       "      <td>1</td>\n",
       "    </tr>\n",
       "    <tr>\n",
       "      <th>3</th>\n",
       "      <td>F</td>\n",
       "      <td>0</td>\n",
       "    </tr>\n",
       "    <tr>\n",
       "      <th>4</th>\n",
       "      <td>M</td>\n",
       "      <td>0</td>\n",
       "    </tr>\n",
       "    <tr>\n",
       "      <th>5</th>\n",
       "      <td>M</td>\n",
       "      <td>0</td>\n",
       "    </tr>\n",
       "  </tbody>\n",
       "</table>\n",
       "</div>"
      ],
      "text/plain": [
       "  gender  bought\n",
       "0      F       1\n",
       "1      F       1\n",
       "3      F       0\n",
       "4      M       0\n",
       "5      M       0"
      ]
     },
     "execution_count": 21,
     "metadata": {},
     "output_type": "execute_result"
    }
   ],
   "source": [
    "subset1.drop('income',axis=1) #删除某列"
   ]
  },
  {
   "cell_type": "code",
   "execution_count": 22,
   "metadata": {},
   "outputs": [
    {
     "data": {
      "text/html": [
       "<div>\n",
       "<style scoped>\n",
       "    .dataframe tbody tr th:only-of-type {\n",
       "        vertical-align: middle;\n",
       "    }\n",
       "\n",
       "    .dataframe tbody tr th {\n",
       "        vertical-align: top;\n",
       "    }\n",
       "\n",
       "    .dataframe thead th {\n",
       "        text-align: right;\n",
       "    }\n",
       "</style>\n",
       "<table border=\"1\" class=\"dataframe\">\n",
       "  <thead>\n",
       "    <tr style=\"text-align: right;\">\n",
       "      <th></th>\n",
       "      <th>gender</th>\n",
       "      <th>income</th>\n",
       "      <th>bought</th>\n",
       "    </tr>\n",
       "  </thead>\n",
       "  <tbody>\n",
       "    <tr>\n",
       "      <th>1</th>\n",
       "      <td>F</td>\n",
       "      <td>-10</td>\n",
       "      <td>1</td>\n",
       "    </tr>\n",
       "    <tr>\n",
       "      <th>3</th>\n",
       "      <td>F</td>\n",
       "      <td>+10</td>\n",
       "      <td>0</td>\n",
       "    </tr>\n",
       "    <tr>\n",
       "      <th>4</th>\n",
       "      <td>M</td>\n",
       "      <td>+10</td>\n",
       "      <td>0</td>\n",
       "    </tr>\n",
       "    <tr>\n",
       "      <th>5</th>\n",
       "      <td>M</td>\n",
       "      <td>+10</td>\n",
       "      <td>0</td>\n",
       "    </tr>\n",
       "  </tbody>\n",
       "</table>\n",
       "</div>"
      ],
      "text/plain": [
       "  gender income  bought\n",
       "1      F    -10       1\n",
       "3      F    +10       0\n",
       "4      M    +10       0\n",
       "5      M    +10       0"
      ]
     },
     "execution_count": 22,
     "metadata": {},
     "output_type": "execute_result"
    }
   ],
   "source": [
    "subset1.drop(0,axis=0) #删除某行"
   ]
  },
  {
   "cell_type": "markdown",
   "metadata": {},
   "source": [
    "**Step4:多数表决**"
   ]
  },
  {
   "cell_type": "code",
   "execution_count": 23,
   "metadata": {},
   "outputs": [],
   "source": [
    "import operator\n",
    "def majority(targetList:list):\n",
    "    classCount={}\n",
    "    for v in targetList:\n",
    "        if v not in classCount.keys():\n",
    "            classCount[v]=0\n",
    "        classCount[v]+=1\n",
    "    sortedClassCount = sorted(classCount.items(),key=operator.itemgetter(1),reverse=True)\n",
    "    return sortedClassCount[0][0]"
   ]
  },
  {
   "cell_type": "markdown",
   "metadata": {},
   "source": [
    "注释：\n",
    "\n",
    "    1.dict.items()\n",
    "    作用：是可以将字典中的所有项，以列表方式返回。因为字典是无序的，所以用items方法返回字典的所有项，也是没有顺序的。\n",
    "    2.operator.itemgetter()\n",
    "    operator模块提供的itemgetter函数用于获取对象的哪些维的数据，参数为一些序号.\n",
    "    3.sorted()函数，排序\n",
    "    list.sort()是对已经存在的列表进行操作，进而可以改变进行操作的列表；\n",
    "    sorted返回的是一个新的list，而不是在原来的基础上进行的操作\n"
   ]
  },
  {
   "cell_type": "code",
   "execution_count": 124,
   "metadata": {},
   "outputs": [
    {
     "data": {
      "text/html": [
       "<div>\n",
       "<style scoped>\n",
       "    .dataframe tbody tr th:only-of-type {\n",
       "        vertical-align: middle;\n",
       "    }\n",
       "\n",
       "    .dataframe tbody tr th {\n",
       "        vertical-align: top;\n",
       "    }\n",
       "\n",
       "    .dataframe thead th {\n",
       "        text-align: right;\n",
       "    }\n",
       "</style>\n",
       "<table border=\"1\" class=\"dataframe\">\n",
       "  <thead>\n",
       "    <tr style=\"text-align: right;\">\n",
       "      <th></th>\n",
       "      <th>gender</th>\n",
       "      <th>income</th>\n",
       "      <th>family_number</th>\n",
       "      <th>bought</th>\n",
       "    </tr>\n",
       "  </thead>\n",
       "  <tbody>\n",
       "    <tr>\n",
       "      <th>0</th>\n",
       "      <td>F</td>\n",
       "      <td>+10</td>\n",
       "      <td>1</td>\n",
       "      <td>1</td>\n",
       "    </tr>\n",
       "    <tr>\n",
       "      <th>1</th>\n",
       "      <td>F</td>\n",
       "      <td>-10</td>\n",
       "      <td>1</td>\n",
       "      <td>1</td>\n",
       "    </tr>\n",
       "    <tr>\n",
       "      <th>3</th>\n",
       "      <td>F</td>\n",
       "      <td>+10</td>\n",
       "      <td>1</td>\n",
       "      <td>0</td>\n",
       "    </tr>\n",
       "    <tr>\n",
       "      <th>4</th>\n",
       "      <td>M</td>\n",
       "      <td>+10</td>\n",
       "      <td>1</td>\n",
       "      <td>0</td>\n",
       "    </tr>\n",
       "    <tr>\n",
       "      <th>5</th>\n",
       "      <td>M</td>\n",
       "      <td>+10</td>\n",
       "      <td>1</td>\n",
       "      <td>0</td>\n",
       "    </tr>\n",
       "  </tbody>\n",
       "</table>\n",
       "</div>"
      ],
      "text/plain": [
       "  gender income  family_number  bought\n",
       "0      F    +10              1       1\n",
       "1      F    -10              1       1\n",
       "3      F    +10              1       0\n",
       "4      M    +10              1       0\n",
       "5      M    +10              1       0"
      ]
     },
     "execution_count": 124,
     "metadata": {},
     "output_type": "execute_result"
    }
   ],
   "source": [
    "subset = splitDataset(dataset,spliter='family_number',value=1)\n",
    "subset"
   ]
  },
  {
   "cell_type": "code",
   "execution_count": 125,
   "metadata": {},
   "outputs": [
    {
     "data": {
      "text/plain": [
       "[1, 1, 0, 0, 0]"
      ]
     },
     "execution_count": 125,
     "metadata": {},
     "output_type": "execute_result"
    }
   ],
   "source": [
    "targetList = subset['bought'].tolist()\n",
    "targetList"
   ]
  },
  {
   "cell_type": "code",
   "execution_count": 128,
   "metadata": {},
   "outputs": [
    {
     "data": {
      "text/plain": [
       "0"
      ]
     },
     "execution_count": 128,
     "metadata": {},
     "output_type": "execute_result"
    }
   ],
   "source": [
    "majority(targetList)"
   ]
  },
  {
   "cell_type": "markdown",
   "metadata": {},
   "source": [
    "**Step5:创建树**"
   ]
  },
  {
   "cell_type": "code",
   "execution_count": 24,
   "metadata": {},
   "outputs": [
    {
     "data": {
      "text/plain": [
       "['gender', 'income', 'family_number']"
      ]
     },
     "execution_count": 24,
     "metadata": {},
     "output_type": "execute_result"
    }
   ],
   "source": [
    "labels = dataset.columns.tolist()\n",
    "labels.remove(target)\n",
    "labels"
   ]
  },
  {
   "cell_type": "code",
   "execution_count": 25,
   "metadata": {},
   "outputs": [],
   "source": [
    "def createTree(training_data:pd.DataFrame,labels:list,target:str):\n",
    "    ic(labels)\n",
    "    targetList = training_data[target].tolist() #等于classList\n",
    "    labels1 = labels[:]\n",
    "    #类别完全相同则停止划分\n",
    "    if targetList.count(targetList[0]) == len(targetList):\n",
    "        return targetList[0]\n",
    "    #遍历完所有特征时返回出现次数最多的类别\n",
    "    if training_data.shape[1] == 1:\n",
    "        return majority(targetList)\n",
    "    bestFeat = bestFeat = best_spliter(training_data,target)\n",
    "    tree = {bestFeat:{}}\n",
    "    labels1.remove(bestFeat)\n",
    "    #得到bestFeat的所有制\n",
    "    featValue = training_data[bestFeat].tolist()\n",
    "    uniqueVal = set(featValue)\n",
    "    for v in uniqueVal:\n",
    "        sublabels = labels1\n",
    "        #运用递归方法\n",
    "        tree[bestFeat][v] = createTree(splitDataset(training_data,bestFeat,v),sublabels,target)\n",
    "    return tree"
   ]
  },
  {
   "cell_type": "code",
   "execution_count": 26,
   "metadata": {},
   "outputs": [
    {
     "name": "stderr",
     "output_type": "stream",
     "text": [
      "ic| labels: ['gender', 'income', 'family_number']\n",
      "ic| f: 'gender'\n",
      "ic| values: {'F', 'M'}\n",
      "ic| f: 'family_number'\n",
      "ic| values: {1, 2}\n",
      "ic| f: 'income'\n",
      "ic| values: {'-10', '+10'}\n",
      "ic| labels: ['gender', 'family_number']\n",
      "ic| labels: ['gender', 'family_number']\n",
      "ic| f: 'gender'\n",
      "ic| values: {'F', 'M'}\n",
      "ic| f: 'family_number'\n",
      "ic| values: {1, 2}\n"
     ]
    },
    {
     "name": "stdout",
     "output_type": "stream",
     "text": [
      "spliter is: ('income', '+10')\n",
      "the min entropy is: 0.6730116670092565\n",
      "spliter is: ('family_number', 2)\n",
      "the min entropy is: 0.5623351446188083\n"
     ]
    },
    {
     "name": "stderr",
     "output_type": "stream",
     "text": [
      "ic| labels: ['gender']\n",
      "ic| f: 'gender'\n",
      "ic| values: {'F', 'M'}\n",
      "ic| labels: []\n",
      "ic| labels: []\n",
      "ic| labels: ['gender']\n"
     ]
    },
    {
     "name": "stdout",
     "output_type": "stream",
     "text": [
      "spliter is: ('gender', 'M')\n",
      "the min entropy is: 0.6931471805599453\n"
     ]
    },
    {
     "data": {
      "text/plain": [
       "{'income': {'-10': 1,\n",
       "  '+10': {'family_number': {1: {'gender': {'F': 1, 'M': 0}}, 2: 1}}}}"
      ]
     },
     "execution_count": 26,
     "metadata": {},
     "output_type": "execute_result"
    }
   ],
   "source": [
    "tree = createTree(dataset,labels,'bought')\n",
    "tree"
   ]
  },
  {
   "cell_type": "code",
   "execution_count": 36,
   "metadata": {},
   "outputs": [
    {
     "data": {
      "text/plain": [
       "dict_keys(['income'])"
      ]
     },
     "execution_count": 36,
     "metadata": {},
     "output_type": "execute_result"
    }
   ],
   "source": [
    "list[tree.keys()]"
   ]
  },
  {
   "cell_type": "code",
   "execution_count": 40,
   "metadata": {},
   "outputs": [
    {
     "data": {
      "text/plain": [
       "{'family_number': {1: {'gender': {'F': 1, 'M': 0}}, 2: 1}}"
      ]
     },
     "execution_count": 40,
     "metadata": {},
     "output_type": "execute_result"
    }
   ],
   "source": [
    "tree['income']['+10']"
   ]
  },
  {
   "cell_type": "markdown",
   "metadata": {},
   "source": [
    "**Step5:使用决策树分类**"
   ]
  },
  {
   "cell_type": "code",
   "execution_count": 1,
   "metadata": {},
   "outputs": [
    {
     "data": {
      "text/plain": [
       "{'key1': '1', 'key2': '2', 'key3': '3'}"
      ]
     },
     "execution_count": 1,
     "metadata": {},
     "output_type": "execute_result"
    }
   ],
   "source": [
    "list1 = ['key1','key2','key3']\n",
    "list2 = ['1','2','3']\n",
    "dict(zip(list1,list2))"
   ]
  },
  {
   "cell_type": "code",
   "execution_count": 38,
   "metadata": {},
   "outputs": [
    {
     "data": {
      "text/plain": [
       "{0, 1}"
      ]
     },
     "execution_count": 38,
     "metadata": {},
     "output_type": "execute_result"
    }
   ],
   "source": [
    "set(training_data[target])"
   ]
  },
  {
   "cell_type": "code",
   "execution_count": 107,
   "metadata": {},
   "outputs": [],
   "source": [
    "def predict(tree,labels,sample):\n",
    "    testSample = dict(zip(labels,sample))\n",
    "    #ic(testSample)\n",
    "    Feat = list(tree.keys())[0]\n",
    "    #ic(Feat)\n",
    "    #print(type(tree[Feat][testSample[Feat]]))\n",
    "    if isinstance(tree[Feat][testSample[Feat]],dict):\n",
    "        decision(tree[Feat][testSample[Feat]],labels,sample)\n",
    "    else:\n",
    "        print(tree[Feat][testSample[Feat]])\n",
    "\n",
    "        "
   ]
  },
  {
   "cell_type": "code",
   "execution_count": 108,
   "metadata": {},
   "outputs": [
    {
     "name": "stdout",
     "output_type": "stream",
     "text": [
      "1\n"
     ]
    }
   ],
   "source": [
    "#<gender, income, family_number>\n",
    "sample = ('F','+10',1)\n",
    "predict(tree,labels,sample)"
   ]
  },
  {
   "cell_type": "code",
   "execution_count": 110,
   "metadata": {},
   "outputs": [
    {
     "name": "stdout",
     "output_type": "stream",
     "text": [
      "0\n"
     ]
    }
   ],
   "source": [
    "sample = ('M','+10',1)\n",
    "predict(tree,labels,sample)"
   ]
  },
  {
   "cell_type": "markdown",
   "metadata": {},
   "source": [
    "<评阅点>\n",
    "> + 是否将之前的决策树模型的部分进行合并组装， predicate函数能够顺利运行(8')\n",
    "+ 是够能够输入未曾见过的X变量，例如gender, income, family_number 分别是： <M, -10, 1>, 模型能够预测出结果 (12')"
   ]
  },
  {
   "cell_type": "markdown",
   "metadata": {},
   "source": [
    "2. 将上一节课(第二节课)的线性回归问题中的Loss函数改成\"绝对值\"，并且改变其偏导的求值方式，观察其结果的变化。(19 point)"
   ]
  },
  {
   "cell_type": "code",
   "execution_count": 131,
   "metadata": {},
   "outputs": [],
   "source": [
    "from sklearn.datasets import load_boston\n",
    "import random\n",
    "import matplotlib.pyplot as plt"
   ]
  },
  {
   "cell_type": "code",
   "execution_count": 120,
   "metadata": {},
   "outputs": [],
   "source": [
    "dataset = load_boston()"
   ]
  },
  {
   "cell_type": "code",
   "execution_count": 121,
   "metadata": {},
   "outputs": [],
   "source": [
    "x,y=dataset['data'],dataset['target']"
   ]
  },
  {
   "cell_type": "code",
   "execution_count": 125,
   "metadata": {},
   "outputs": [],
   "source": [
    "X_rm = x[:,5]"
   ]
  },
  {
   "cell_type": "code",
   "execution_count": 122,
   "metadata": {},
   "outputs": [
    {
     "data": {
      "text/plain": [
       "array(['CRIM', 'ZN', 'INDUS', 'CHAS', 'NOX', 'RM', 'AGE', 'DIS', 'RAD',\n",
       "       'TAX', 'PTRATIO', 'B', 'LSTAT'], dtype='<U7')"
      ]
     },
     "execution_count": 122,
     "metadata": {},
     "output_type": "execute_result"
    }
   ],
   "source": [
    "dataset.feature_names"
   ]
  },
  {
   "cell_type": "markdown",
   "metadata": {},
   "source": [
    "**Step1:Assume that the target funciton is a linear function**"
   ]
  },
  {
   "cell_type": "code",
   "execution_count": 123,
   "metadata": {},
   "outputs": [],
   "source": [
    "#define target function\n",
    "def price(rm, k, b):\n",
    "    return k * rm + b"
   ]
  },
  {
   "cell_type": "markdown",
   "metadata": {},
   "source": [
    "**Step2:Loss**"
   ]
  },
  {
   "cell_type": "markdown",
   "metadata": {},
   "source": [
    "$$loss = \\frac{1}{n} \\sum{(\\left|y_i - \\hat{y_i}\\right|)}$$"
   ]
  },
  {
   "cell_type": "code",
   "execution_count": 116,
   "metadata": {},
   "outputs": [],
   "source": [
    "def loss(y,y_hat):\n",
    "    return sum(abs(y_i - y_hat_i) for y_i, y_hat_i in zip(list(y),list(y_hat)))/len(list(y))"
   ]
  },
  {
   "cell_type": "markdown",
   "metadata": {},
   "source": [
    "**Step3:Partial derivatives**"
   ]
  },
  {
   "cell_type": "markdown",
   "metadata": {},
   "source": [
    "$$ \\frac{\\partial{loss}}{\\partial{k}} = -\\frac{2}{n}\\sum(y_i - \\hat{y_i})x_i$$"
   ]
  },
  {
   "cell_type": "markdown",
   "metadata": {},
   "source": [
    "$$ \\frac{\\partial{loss}}{\\partial{b}} = -\\frac{2}{n}\\sum(y_i - \\hat{y_i})$$"
   ]
  },
  {
   "cell_type": "code",
   "execution_count": 128,
   "metadata": {},
   "outputs": [],
   "source": [
    "# define partial derivative \n",
    "def partial_derivative_k(x, y, y_hat): \n",
    "    n = len(y)\n",
    "    gradient = 0\n",
    "    for x_i, y_i, y_hat_i in zip(list(x),list(y),list(y_hat)):\n",
    "        gradient += (y_i-y_hat_i) * x_i\n",
    "    return -2/n * gradient\n",
    "\n",
    "def partial_derivative_b(y, y_hat):\n",
    "    n = len(y)\n",
    "    gradient = 0\n",
    "    for y_i, y_hat_i in zip(list(y),list(y_hat)):\n",
    "        gradient += (y_i-y_hat_i)\n",
    "    return -2 / n * gradient"
   ]
  },
  {
   "cell_type": "markdown",
   "metadata": {},
   "source": [
    "**Step4:训练**"
   ]
  },
  {
   "cell_type": "code",
   "execution_count": 129,
   "metadata": {},
   "outputs": [
    {
     "name": "stdout",
     "output_type": "stream",
     "text": [
      "-93.41483781633306\n",
      "-20.971237364744113\n",
      "Iteration 0, the loss is 630.5821457182709, parameters k is -93.41483781633306 and b is -20.971237364744113\n",
      "Iteration 1, the loss is 578.8743739628034, parameters k is -85.3878621237521 and b is -19.71007307330757\n",
      "Iteration 2, the loss is 531.4042927496419, parameters k is -78.0187250171541 and b is -18.552324325381964\n",
      "Iteration 3, the loss is 487.82460383709804, parameters k is -71.25351359728018 and b is -17.48951573988268\n",
      "Iteration 4, the loss is 447.8164716726459, parameters k is -65.04273337507134 and b is -16.513866532208485\n",
      "Iteration 5, the loss is 411.0871907445611, parameters k is -59.34094616261919 and b is -15.618233588863195\n",
      "Iteration 6, the loss is 377.3680441048276, parameters k is -54.10643764061967 and b is -14.796059207374073\n",
      "Iteration 7, the loss is 346.4123373959477, parameters k is -49.30091217020375 and b is -14.041323119164417\n",
      "Iteration 8, the loss is 317.9935939982984, parameters k is -44.88921261634317 and b is -13.348498444372522\n",
      "Iteration 9, the loss is 291.9038980934777, parameters k is -40.83906313301735 and b is -12.712511256375926\n",
      "Iteration 10, the loss is 267.95237352122064, parameters k is -37.120833028319595 and b is -12.128703460188971\n",
      "Iteration 11, the loss is 245.96378730100452, parameters k is -33.70731998190456 and b is -11.59279871314653\n",
      "Iteration 12, the loss is 225.7772676014766, parameters k is -30.5735510287635 and b is -11.100871138544521\n",
      "Iteration 13, the loss is 207.24512677819223, parameters k is -27.69659985329499 and b is -10.649316603341568\n",
      "Iteration 14, the loss is 190.23178086882209, parameters k is -25.055419056967384 and b is -10.234826349785184\n",
      "Iteration 15, the loss is 174.61275764070427, parameters k is -22.630686172418223 and b is -9.85436278804754\n",
      "Iteration 16, the loss is 160.27378593346015, parameters k is -20.40466229740683 and b is -9.505137272766131\n",
      "Iteration 17, the loss is 147.1099596341775, parameters k is -18.36106231436508 and b is -9.184589700899211\n",
      "Iteration 18, the loss is 135.02497016867193, parameters k is -16.484935746053175 and b is -8.890369781630856\n",
      "Iteration 19, the loss is 123.93040189362242, parameters k is -14.762557375642798 and b is -8.620319841293512\n",
      "Iteration 20, the loss is 113.7450852345652, parameters k is -13.181326830987743 and b is -8.372459037506268\n",
      "Iteration 21, the loss is 104.39450283720272, parameters k is -11.729676398425749 and b is -8.144968867037138\n",
      "Iteration 22, the loss is 95.81024438734991, parameters k is -10.396986391663447 and b is -7.936179861362732\n",
      "Iteration 23, the loss is 87.92950611089074, parameters k is -9.173507456570695 and b is -7.744559372588032\n",
      "Iteration 24, the loss is 80.69463129201961, parameters k is -8.050289243454563 and b is -7.56870036036625\n",
      "Iteration 25, the loss is 74.05268844812534, parameters k is -7.019114924968703 and b is -7.407311097782211\n",
      "Iteration 26, the loss is 67.95508407518605, parameters k is -6.072441080581399 and b is -7.25920572088596\n",
      "Iteration 27, the loss is 62.35720713046063, parameters k is -5.203342507788105 and b is -7.123295552735589\n",
      "Iteration 28, the loss is 57.218102651459, parameters k is -4.405461556299103 and b is -6.998581138474667\n",
      "Iteration 29, the loss is 52.50017212334073, parameters k is -3.672961614523634 and b is -6.884144933171749\n",
      "Iteration 30, the loss is 48.16889840258415, parameters k is -3.000484408050718 and b is -6.779144588925067\n",
      "Iteration 31, the loss is 44.19259318442575, parameters k is -2.3831107977159736 and b is -6.682806792119899\n",
      "Iteration 32, the loss is 40.54216516650613, parameters k is -1.816324790447272 and b is -6.594421605751047\n",
      "Iteration 33, the loss is 37.19090721257179, parameters k is -1.2959804995872104 and b is -6.513337275418035\n",
      "Iteration 34, the loss is 34.11430095909054, parameters k is -0.8182718129692075 and b is -6.438955460992892\n",
      "Iteration 35, the loss is 31.289837435254313, parameters k is -0.3797045468343451 and b is -6.37072685907471\n",
      "Iteration 36, the loss is 28.69685238399867, parameters k is 0.022929118137121562 and b is -6.308147184204202\n",
      "Iteration 37, the loss is 26.316375079221675, parameters k is 0.39257410570939977 and b is -6.250753479436205\n",
      "Iteration 38, the loss is 24.130989533128417, parameters k is 0.7319339895917675 and b is -6.198120729277762\n",
      "Iteration 39, the loss is 22.124707078271488, parameters k is 1.0434907731862664 and b is -6.149858750211505\n",
      "Iteration 40, the loss is 20.282849392080198, parameters k is 1.3295230482940363 and b is -6.105609336054963\n",
      "Iteration 41, the loss is 18.591941108067765, parameters k is 1.5921226656321057 and b is -6.0650436372708025\n",
      "Iteration 42, the loss is 17.03961122804432, parameters k is 1.8332100391246107 and b is -6.027859755054667\n",
      "Iteration 43, the loss is 15.622660855370857, parameters k is 2.054548195936919 and b is -5.993780532598579\n",
      "Iteration 44, the loss is 14.351793215602585, parameters k is 2.257755675044803 and b is -5.962551527370474\n",
      "Iteration 45, the loss is 13.196587521173086, parameters k is 2.4443183687065044 and b is -5.933939149574762\n",
      "Iteration 46, the loss is 12.168951040373996, parameters k is 2.615600393471674 and b is -5.907728953174608\n",
      "Iteration 47, the loss is 11.247592849162455, parameters k is 2.7728540702610998 and b is -5.883724066972803\n",
      "Iteration 48, the loss is 10.434630148649024, parameters k is 2.91722908653297 and b is -5.861743754272779\n",
      "Iteration 49, the loss is 9.724091998200485, parameters k is 3.0497809075674516 and b is -5.841622090582028\n",
      "Iteration 50, the loss is 9.095093493944045, parameters k is 3.171478498407786 and b is -5.823206749683817\n",
      "Iteration 51, the loss is 8.561281322571569, parameters k is 3.283211412952778 and b is -5.806357889195909\n",
      "Iteration 52, the loss is 8.108469164379194, parameters k is 3.385796302065527 and b is -5.790947127462873\n",
      "Iteration 53, the loss is 7.708496470639783, parameters k is 3.4799828883127044 and b is -5.7768566042967855\n",
      "Iteration 54, the loss is 7.360213667651546, parameters k is 3.566459451046446 and b is -5.763978118694542\n",
      "Iteration 55, the loss is 7.054368986008179, parameters k is 3.645857861958543 and b is -5.752212337223216\n",
      "Iteration 56, the loss is 6.782559510211763, parameters k is 3.718758207947795 and b is -5.741468067281871\n",
      "Iteration 57, the loss is 6.543973610141399, parameters k is 3.7856930351221063 and b is -5.731661589922917\n",
      "Iteration 58, the loss is 6.333630341606564, parameters k is 3.8471512449850813 and b is -5.722716047351822\n",
      "Iteration 59, the loss is 6.152878124466001, parameters k is 3.9035816713122 and b is -5.71456088062405\n",
      "Iteration 60, the loss is 5.995713008164535, parameters k is 3.9553963638855256 and b is -5.70713131342531\n",
      "Iteration 61, the loss is 5.857363642292811, parameters k is 4.002973603111245 and b is -5.7003678781584\n",
      "Iteration 62, the loss is 5.73865682106927, parameters k is 4.04666066757543 and b is -5.69421598086941\n",
      "Iteration 63, the loss is 5.634020796023929, parameters k is 4.086776374785859 and b is -5.688625501830227\n",
      "Iteration 64, the loss is 5.544940092512515, parameters k is 4.123613413688368 and b is -5.6835504288551375\n",
      "Iteration 65, the loss is 5.471094727303719, parameters k is 4.157440486022738 and b is -5.678948520668828\n",
      "Iteration 66, the loss is 5.411991322048745, parameters k is 4.188504272184625 and b is -5.674780997862923\n",
      "Iteration 67, the loss is 5.36269662883622, parameters k is 4.217031235976048 and b is -5.671012259180059\n",
      "Iteration 68, the loss is 5.321038783759273, parameters k is 4.243229281448277 and b is -5.667609621049781\n",
      "Iteration 69, the loss is 5.288211663767175, parameters k is 4.267289273958816 and b is -5.664543078470675\n",
      "Iteration 70, the loss is 5.261015853872193, parameters k is 4.289386436570772 and b is -5.661785085489311\n",
      "Iteration 71, the loss is 5.238923058155474, parameters k is 4.309681632010862 and b is -5.6593103536699365\n",
      "Iteration 72, the loss is 5.222442642605896, parameters k is 4.328322539565068 and b is -5.657095667080523\n",
      "Iteration 73, the loss is 5.208901300420881, parameters k is 4.345444735522277 and b is -5.655119712441541\n",
      "Iteration 74, the loss is 5.198902253445179, parameters k is 4.361172685070588 and b is -5.653362923194837\n",
      "Iteration 75, the loss is 5.191041384487848, parameters k is 4.375620652903153 and b is -5.651807336351774\n",
      "Iteration 76, the loss is 5.185079705021547, parameters k is 4.388893539195687 and b is -5.650436461073332\n",
      "Iteration 77, the loss is 5.181367257980971, parameters k is 4.401087647071758 and b is -5.649235158020675\n",
      "Iteration 78, the loss is 5.178902712750386, parameters k is 4.412291387170782 and b is -5.648189528593485\n",
      "Iteration 79, the loss is 5.177726985519652, parameters k is 4.422585924473416 and b is -5.647286813245736\n",
      "Iteration 80, the loss is 5.1774758894051915, parameters k is 4.432045772116638 and b is -5.6465152981349505\n",
      "Iteration 81, the loss is 5.178741516272357, parameters k is 4.440739336542948 and b is -5.645864229421981\n",
      "Iteration 82, the loss is 5.18046943967928, parameters k is 4.4487294179720855 and b is -5.6453237345943235\n",
      "Iteration 83, the loss is 5.182409550102357, parameters k is 4.4560736698567815 and b is -5.644884750237335\n",
      "Iteration 84, the loss is 5.184361634160732, parameters k is 4.462825020684002 and b is -5.644538955724948\n",
      "Iteration 85, the loss is 5.186470042674139, parameters k is 4.469032061207634 and b is -5.644278712344726\n",
      "Iteration 86, the loss is 5.188621355002018, parameters k is 4.474739399945679 and b is -5.644097007411902\n",
      "Iteration 87, the loss is 5.190649643384276, parameters k is 4.479987989542803 and b is -5.643987402963529\n",
      "Iteration 88, the loss is 5.192729791784107, parameters k is 4.484815426385985 and b is -5.643943988657388\n",
      "Iteration 89, the loss is 5.194764278136856, parameters k is 4.489256225665281 and b is -5.643961338531034\n",
      "Iteration 90, the loss is 5.196629595882356, parameters k is 4.493342073892086 and b is -5.644034471304649\n",
      "Iteration 91, the loss is 5.198447309367402, parameters k is 4.497102060722373 and b is -5.644158813937252\n",
      "Iteration 92, the loss is 5.200187732771747, parameters k is 4.500562891780941 and b is -5.644330168169649\n",
      "Iteration 93, the loss is 5.201783088365331, parameters k is 4.503749084043746 and b is -5.64454467980934\n",
      "Iteration 94, the loss is 5.203319316644672, parameters k is 4.506683145207743 and b is -5.644798810532671\n",
      "Iteration 95, the loss is 5.204829122378079, parameters k is 4.509385738360546 and b is -5.645089311997927\n",
      "Iteration 96, the loss is 5.206377628368236, parameters k is 4.511875833154654 and b is -5.645413202079978\n",
      "Iteration 97, the loss is 5.207829831937124, parameters k is 4.514170844592249 and b is -5.645767743052607\n",
      "Iteration 98, the loss is 5.209160548852898, parameters k is 4.516286760435948 and b is -5.646150421558891\n",
      "Iteration 99, the loss is 5.210390048114028, parameters k is 4.518238258177653 and b is -5.646558930223107\n",
      "Iteration 100, the loss is 5.211586327374857, parameters k is 4.520038812421261 and b is -5.646991150769623\n",
      "Iteration 101, the loss is 5.212694999519756, parameters k is 4.521700793464878 and b is -5.647445138525278\n",
      "Iteration 102, the loss is 5.213767337422113, parameters k is 4.523235557803755 and b is -5.647919108191856\n",
      "Iteration 103, the loss is 5.21474925612619, parameters k is 4.524653531216102 and b is -5.648411420784583\n",
      "Iteration 104, the loss is 5.215648165962396, parameters k is 4.525964285039631 and b is -5.648920571641058\n",
      "Iteration 105, the loss is 5.216470869950438, parameters k is 4.5271766061968854 and b is -5.649445179412927\n",
      "Iteration 106, the loss is 5.217223613571257, parameters k is 4.528298561481675 and b is -5.649983975959719\n",
      "Iteration 107, the loss is 5.217928339578873, parameters k is 4.529337556576938 and b is -5.650535797070945\n",
      "Iteration 108, the loss is 5.2185803296309325, parameters k is 4.530300390235822 and b is -5.6510995739485566\n",
      "Iteration 109, the loss is 5.2191763545506475, parameters k is 4.53119330402237 and b is -5.651674325387456\n",
      "Iteration 110, the loss is 5.219721000999037, parameters k is 4.532022027975734 and b is -5.652259150596854\n",
      "Iteration 111, the loss is 5.220218479739148, parameters k is 4.532791822531993 and b is -5.652853222609943\n",
      "Iteration 112, the loss is 5.220683720808988, parameters k is 4.533507517010287 and b is -5.653455782233685\n",
      "Iteration 113, the loss is 5.221127236841354, parameters k is 4.534173544944832 and b is -5.654066132494438\n",
      "Iteration 114, the loss is 5.22153187919764, parameters k is 4.534793976521319 and b is -5.65468363353879\n",
      "Iteration 115, the loss is 5.221900833815217, parameters k is 4.535372548354994 and b is -5.655307697952294\n",
      "Iteration 116, the loss is 5.222237025529244, parameters k is 4.535912690828294 and b is -5.655937786461854\n",
      "Iteration 117, the loss is 5.222543139471162, parameters k is 4.536417553188033 and b is -5.656573403990318\n",
      "Iteration 118, the loss is 5.222821640713542, parameters k is 4.5368900265857635 and b is -5.65721409603442\n",
      "Iteration 119, the loss is 5.223074792304911, parameters k is 4.537332765229865 and b is -5.657859445339558\n",
      "Iteration 120, the loss is 5.22330467182655, parameters k is 4.537748205804134 and b is -5.658509068847101\n",
      "Iteration 121, the loss is 5.223513186592387, parameters k is 4.53813858529492 and b is -5.659162614891867\n",
      "Iteration 122, the loss is 5.223702087603215, parameters k is 4.538505957357252 and b is -5.659819760629286\n",
      "Iteration 123, the loss is 5.22387298235722, parameters k is 4.538852207339683 and b is -5.660480209673423\n",
      "Iteration 124, the loss is 5.224027346610748, parameters k is 4.539179066077782 and b is -5.661143689928564\n",
      "Iteration 125, the loss is 5.224166535175095, parameters k is 4.5394881225571835 and b is -5.661809951598525\n",
      "Iteration 126, the loss is 5.224291791828539, parameters k is 4.53978083553884 and b is -5.662478765359102\n",
      "Iteration 127, the loss is 5.224404258416015, parameters k is 4.540058544231538 and b is -5.663149920680299\n",
      "Iteration 128, the loss is 5.224504983202988, parameters k is 4.540322478089746 and b is -5.663823224286053\n",
      "Iteration 129, the loss is 5.224594928544777, parameters k is 4.540573765808484 and b is -5.664498498740198\n",
      "Iteration 130, the loss is 5.224674977927209, parameters k is 4.540813443581029 and b is -5.66517558114831\n",
      "Iteration 131, the loss is 5.2247459424304115, parameters k is 4.541042462679853 and b is -5.665854321965949\n",
      "Iteration 132, the loss is 5.224808566662754, parameters k is 4.541261696416277 and b is -5.666534583904561\n",
      "Iteration 133, the loss is 5.22486353420851, parameters k is 4.5414719465297475 and b is -5.667216240927052\n",
      "Iteration 134, the loss is 5.22491147262911, parameters k is 4.541673949053477 and b is -5.667899177325685\n",
      "Iteration 135, the loss is 5.224952958054375, parameters k is 4.541868379699374 and b is -5.668583286875535\n",
      "Iteration 136, the loss is 5.224989262910333, parameters k is 4.542055858801653 and b is -5.669268472057331\n",
      "Iteration 137, the loss is 5.2250211917196605, parameters k is 4.54223695585529 and b is -5.669954643343989\n",
      "Iteration 138, the loss is 5.225047978033199, parameters k is 4.542412193682531 and b is -5.670641718545617\n",
      "Iteration 139, the loss is 5.225070043362883, parameters k is 4.542582052257939 and b is -5.671329622208191\n",
      "Iteration 140, the loss is 5.225087774675805, parameters k is 4.542746972219956 and b is -5.672018285061528\n",
      "Iteration 141, the loss is 5.225101527225323, parameters k is 4.542907358094685 and b is -5.672707643512487\n",
      "Iteration 142, the loss is 5.225111627150127, parameters k is 4.5430635812554545 and b is -5.673397639179711\n",
      "Iteration 143, the loss is 5.225118373860368, parameters k is 4.543215982639847 and b is -5.674088218466498\n",
      "Iteration 144, the loss is 5.225122042228139, parameters k is 4.543364875244046 and b is -5.674779332168672\n",
      "Iteration 145, the loss is 5.225122884598491, parameters k is 4.543510546412762 and b is -5.675470935114603\n",
      "Iteration 146, the loss is 5.225121132635659, parameters k is 4.54365325994149 and b is -5.676162985834715\n",
      "Iteration 147, the loss is 5.225116999017901, parameters k is 4.543793258006474 and b is -5.676855446258087\n",
      "Iteration 148, the loss is 5.225110678993536, parameters k is 4.543930762936508 and b is -5.677548281433919\n",
      "Iteration 149, the loss is 5.22510235180936, parameters k is 4.544065978839522 and b is -5.678241459275823\n",
      "Iteration 150, the loss is 5.225092182022082, parameters k is 4.544199093095866 and b is -5.67893495032707\n",
      "Iteration 151, the loss is 5.225080320702221, parameters k is 4.544330277729215 and b is -5.679628727545081\n",
      "Iteration 152, the loss is 5.2250669065394, parameters k is 4.544459690665116 and b is -5.680322766103571\n",
      "Iteration 153, the loss is 5.225052066856929, parameters k is 4.544587476886397 and b is -5.681017043210919\n",
      "Iteration 154, the loss is 5.22503591854344, parameters k is 4.54471376949388 and b is -5.681711537943412\n",
      "Iteration 155, the loss is 5.225018568907977, parameters k is 4.544838690680168 and b is -5.682406231092169\n",
      "Iteration 156, the loss is 5.225000116465113, parameters k is 4.544962352623623 and b is -5.683101105022594\n",
      "Iteration 157, the loss is 5.224980651655715, parameters k is 4.545084858309079 and b is -5.683796143545362\n",
      "Iteration 158, the loss is 5.224960257508579, parameters k is 4.545206302281295 and b is -5.684491331797973\n",
      "Iteration 159, the loss is 5.224939010247915, parameters k is 4.545326771336657 and b is -5.685186656136006\n",
      "Iteration 160, the loss is 5.22491697985101, parameters k is 4.545446345158191 and b is -5.685882104033299\n",
      "Iteration 161, the loss is 5.224894230560207, parameters k is 4.545565096898539 and b is -5.686577663990298\n",
      "Iteration 162, the loss is 5.224870821352853, parameters k is 4.5456830937151524 and b is -5.687273325449925\n",
      "Iteration 163, the loss is 5.224846806372866, parameters k is 4.545800397261626 and b is -5.687969078720336\n",
      "Iteration 164, the loss is 5.224822235326792, parameters k is 4.545917064138763 and b is -5.68866491490401\n",
      "Iteration 165, the loss is 5.224797153847494, parameters k is 4.546033146308676 and b is -5.689360825832652\n",
      "Iteration 166, the loss is 5.22477160382805, parameters k is 4.546148691474949 and b is -5.69005680400743\n",
      "Iteration 167, the loss is 5.224745623728159, parameters k is 4.546263743431642 and b is -5.690752842544109\n",
      "Iteration 168, the loss is 5.224719248855594, parameters k is 4.546378342383696 and b is -5.691448935122682\n"
     ]
    },
    {
     "name": "stdout",
     "output_type": "stream",
     "text": [
      "Iteration 169, the loss is 5.224692511624483, parameters k is 4.546492525241078 and b is -5.692145075941127\n",
      "Iteration 170, the loss is 5.224665441792477, parameters k is 4.546606325888817 and b is -5.692841259672959\n",
      "Iteration 171, the loss is 5.224638066678442, parameters k is 4.546719775434914 and b is -5.6935374814282556\n",
      "Iteration 172, the loss is 5.224610411362321, parameters k is 4.546832902437931 and b is -5.694233736717879\n",
      "Iteration 173, the loss is 5.224582498868664, parameters k is 4.54694573311593 and b is -5.69493002142063\n",
      "Iteration 174, the loss is 5.224554350335044, parameters k is 4.5470582915382876 and b is -5.695626331753093\n",
      "Iteration 175, the loss is 5.224525985166694, parameters k is 4.547170599801788 and b is -5.696322664241955\n",
      "Iteration 176, the loss is 5.224497421178532, parameters k is 4.547282678192289 and b is -5.697019015698588\n",
      "Iteration 177, the loss is 5.224468674725412, parameters k is 4.547394545333134 and b is -5.697715383195723\n",
      "Iteration 178, the loss is 5.224439760821885, parameters k is 4.547506218321402 and b is -5.698411764046023\n",
      "Iteration 179, the loss is 5.224410693251943, parameters k is 4.547617712852993 and b is -5.699108155782427\n",
      "Iteration 180, the loss is 5.224381484669938, parameters k is 4.547729043337463 and b is -5.6998045561400925\n",
      "Iteration 181, the loss is 5.224352146693145, parameters k is 4.54784022300344 and b is -5.700500963039825\n",
      "Iteration 182, the loss is 5.224322689986728, parameters k is 4.5479512639954125 and b is -5.701197374572861\n",
      "Iteration 183, the loss is 5.224293124341794, parameters k is 4.548062177462579 and b is -5.701893788986905\n",
      "Iteration 184, the loss is 5.224263458747047, parameters k is 4.548172973640412 and b is -5.7025902046733\n",
      "Iteration 185, the loss is 5.2242337014545015, parameters k is 4.548283661925547 and b is -5.703286620155262\n",
      "Iteration 186, the loss is 5.224203860039857, parameters k is 4.5483942509445265 and b is -5.703983034077065\n",
      "Iteration 187, the loss is 5.224173941458, parameters k is 4.548504748616914 and b is -5.704679445194127\n",
      "Iteration 188, the loss is 5.224143952093802, parameters k is 4.548615162213232 and b is -5.7053758523638995\n",
      "Iteration 189, the loss is 5.224113897808864, parameters k is 4.548725498408157 and b is -5.7060722545375\n",
      "Iteration 190, the loss is 5.2240837839844, parameters k is 4.5488357633293495 and b is -5.706768650752044\n",
      "Iteration 191, the loss is 5.2240536155606145, parameters k is 4.548945962602286 and b is -5.707465040123589\n",
      "Iteration 192, the loss is 5.224023397072823, parameters k is 4.549056101391413 and b is -5.708161421840671\n",
      "Iteration 193, the loss is 5.223993132684687, parameters k is 4.549166184437933 and b is -5.708857795158362\n",
      "Iteration 194, the loss is 5.223962826218584, parameters k is 4.549276216094491 and b is -5.709554159392817\n",
      "Iteration 195, the loss is 5.223932481183655, parameters k is 4.549386200357016 and b is -5.710250513916268\n",
      "Iteration 196, the loss is 5.223902100801461, parameters k is 4.549496140893958 and b is -5.710946858152429\n",
      "Iteration 197, the loss is 5.223871688029515, parameters k is 4.549606041073129 and b is -5.711643191572276\n",
      "Iteration 198, the loss is 5.223841245582961, parameters k is 4.549715903986333 and b is -5.712339513690173\n",
      "Iteration 199, the loss is 5.22381077595443, parameters k is 4.549825732471996 and b is -5.713035824060319\n"
     ]
    }
   ],
   "source": [
    "#参数初始化\n",
    "k = random.random() * 200 - 100  # -100 100\n",
    "b = random.random() * 200 - 100  # -100 100\n",
    "learning_rate = 1e-3\n",
    "iteration_num = 200 \n",
    "losses = []\n",
    "for i in range(iteration_num):\n",
    "    price_use_current_parameters = [price(r, k, b) for r in X_rm]  # \\hat{y}\n",
    "    #计算loss\n",
    "    current_loss = loss(y, price_use_current_parameters)\n",
    "    losses.append(current_loss)\n",
    "    print(\"Iteration {}, the loss is {}, parameters k is {} and b is {}\".format(i,current_loss,k,b))\n",
    "    #更新梯度\n",
    "    k_gradient = partial_derivative_k(X_rm, y, price_use_current_parameters)\n",
    "    b_gradient = partial_derivative_b(y, price_use_current_parameters)\n",
    "    k = k + (-1 * k_gradient) * learning_rate\n",
    "    b = b + (-1 * b_gradient) * learning_rate\n",
    "best_k = k\n",
    "best_b = b"
   ]
  },
  {
   "cell_type": "code",
   "execution_count": 132,
   "metadata": {},
   "outputs": [
    {
     "data": {
      "text/plain": [
       "[<matplotlib.lines.Line2D at 0x26c2ecb2dd8>]"
      ]
     },
     "execution_count": 132,
     "metadata": {},
     "output_type": "execute_result"
    },
    {
     "data": {
      "image/png": "[encoded data removed]",
      "text/plain": [
       "<Figure size 432x288 with 1 Axes>"
      ]
     },
     "metadata": {
      "needs_background": "light"
     },
     "output_type": "display_data"
    }
   ],
   "source": [
    "plt.plot(list(range(iteration_num)),losses)"
   ]
  },
  {
   "cell_type": "code",
   "execution_count": 133,
   "metadata": {},
   "outputs": [
    {
     "data": {
      "text/plain": [
       "<matplotlib.collections.PathCollection at 0x26c2ed21860>"
      ]
     },
     "execution_count": 133,
     "metadata": {},
     "output_type": "execute_result"
    },
    {
     "data": {
      "image/png": "[encoded data removed]",
      "text/plain": [
       "<Figure size 432x288 with 1 Axes>"
      ]
     },
     "metadata": {
      "needs_background": "light"
     },
     "output_type": "display_data"
    }
   ],
   "source": [
    "price_use_best_parameters = [price(r, best_k, best_b) for r in X_rm]\n",
    "\n",
    "plt.scatter(X_rm,y)\n",
    "plt.scatter(X_rm,price_use_current_parameters)"
   ]
  },
  {
   "cell_type": "markdown",
   "metadata": {},
   "source": [
    "<评阅点>\n",
    "+ 是否将Loss改成了“绝对值”(3')\n",
    "+ 是否完成了偏导的重新定义(5')\n",
    "+ 新的模型Loss是否能够收敛 (11’)"
   ]
  },
  {
   "cell_type": "markdown",
   "metadata": {},
   "source": []
  }
 ],
 "metadata": {
  "kernelspec": {
   "display_name": "Python 3",
   "language": "python",
   "name": "python3"
  },
  "language_info": {
   "codemirror_mode": {
    "name": "ipython",
    "version": 3
   },
   "file_extension": ".py",
   "mimetype": "text/x-python",
   "name": "python",
   "nbconvert_exporter": "python",
   "pygments_lexer": "ipython3",
   "version": "3.6.7"
  }
 },
 "nbformat": 4,
 "nbformat_minor": 2
}
