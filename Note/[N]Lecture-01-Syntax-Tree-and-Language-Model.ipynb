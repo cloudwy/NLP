{
 "cells": [
  {
   "cell_type": "markdown",
   "metadata": {},
   "source": [
    "## Lesson-01"
   ]
  },
  {
   "cell_type": "markdown",
   "metadata": {},
   "source": [
    "<font color = purple size=4 face=\"黑体\">如果给定一个语法，我们怎么生成一个语法呢?</font>\n"
   ]
  },
  {
   "cell_type": "markdown",
   "metadata": {},
   "source": [
    "最简单的例子："
   ]
  },
  {
   "cell_type": "code",
   "execution_count": 1,
   "metadata": {},
   "outputs": [],
   "source": [
    "import random"
   ]
  },
  {
   "cell_type": "code",
   "execution_count": 2,
   "metadata": {},
   "outputs": [],
   "source": [
    "two_number = \"\"\"\n",
    "2_num => num num\n",
    "num => 0 | 1 | 2 | 3 | 4\n",
    "\"\"\""
   ]
  },
  {
   "cell_type": "code",
   "execution_count": 9,
   "metadata": {},
   "outputs": [],
   "source": [
    "def two_num():\n",
    "    return num() + num()\n",
    "\n",
    "def num(): \n",
    "    #返回['0', '1', '2', '3', '4']中的任意一个数\n",
    "    return random.choice(\"0 | 1 | 2 | 3 | 4\".split('|')) "
   ]
  },
  {
   "cell_type": "code",
   "execution_count": 10,
   "metadata": {},
   "outputs": [
    {
     "data": {
      "text/plain": [
       "' 3 '"
      ]
     },
     "execution_count": 10,
     "metadata": {},
     "output_type": "execute_result"
    }
   ],
   "source": [
    "num()"
   ]
  },
  {
   "cell_type": "code",
   "execution_count": 11,
   "metadata": {},
   "outputs": [
    {
     "data": {
      "text/plain": [
       "' 3  4'"
      ]
     },
     "execution_count": 11,
     "metadata": {},
     "output_type": "execute_result"
    }
   ],
   "source": [
    "two_num()"
   ]
  },
  {
   "cell_type": "code",
   "execution_count": 27,
   "metadata": {},
   "outputs": [],
   "source": [
    "#two_number改为numbers\n",
    "two_number = \"\"\"\n",
    "#numbers => num numbers | num\n",
    "#通常将numbers写成num*，表示一个或多个\n",
    "num* => num num* | num\n",
    "num => 0 | 1 | 2 | 3 | 4\n",
    "\"\"\"\n",
    "def two_num():\n",
    "    return num() + num()\n",
    "\n",
    "def num(): \n",
    "    #返回['0', '1', '2', '3', '4']中的任意一个数\n",
    "    return random.choice(\"0 | 1 | 2 | 3 | 4\".split('|'))\n",
    "\n",
    "def numbers():\n",
    "    if random.random()<0.5:\n",
    "        return num()\n",
    "    else:\n",
    "        return num() + numbers()"
   ]
  },
  {
   "cell_type": "code",
   "execution_count": 23,
   "metadata": {},
   "outputs": [
    {
     "data": {
      "text/plain": [
       "' 3 '"
      ]
     },
     "execution_count": 23,
     "metadata": {},
     "output_type": "execute_result"
    }
   ],
   "source": [
    "numbers()"
   ]
  },
  {
   "cell_type": "code",
   "execution_count": 28,
   "metadata": {},
   "outputs": [
    {
     "name": "stdout",
     "output_type": "stream",
     "text": [
      " 2 \n",
      "0  1 \n",
      "0 \n",
      " 2  3  2 0 0  4\n",
      " 2 \n",
      " 3  1 0 \n",
      "0  1 \n",
      " 1  3 \n",
      " 2 \n",
      "0  1 0 0 \n"
     ]
    }
   ],
   "source": [
    "for i in range(10):\n",
    "    print(numbers())"
   ]
  },
  {
   "cell_type": "markdown",
   "metadata": {},
   "source": [
    "<font color = purple size=4 face=\"黑体\">1.语法可以通过最简单的函数来实现。<br> 2.我们可以通过递归，来实现更复杂或“无限”长的文字</font>"
   ]
  },
  {
   "cell_type": "markdown",
   "metadata": {},
   "source": [
    "升级一点的:"
   ]
  },
  {
   "cell_type": "code",
   "execution_count": 41,
   "metadata": {},
   "outputs": [],
   "source": [
    "%matplotlib inline\n",
    "simple_grammar = \"\"\"\n",
    "sentence => noun_phrase verb_phrase\n",
    "noun_phrase => Article Adj* noun \n",
    "Adj* => null | Adj Adj*\n",
    "verb_phrase => verb noun_phrase\n",
    "Article =>  一个 | 这个\n",
    "noun =>   女人 |  篮球 | 桌子 | 小猫\n",
    "verb => 看着   |  坐在 |  听着 | 看见\n",
    "Adj =>  蓝色的 | 好看的 | 小小的\n",
    "\"\"\""
   ]
  },
  {
   "cell_type": "code",
   "execution_count": 18,
   "metadata": {},
   "outputs": [],
   "source": [
    "import random"
   ]
  },
  {
   "cell_type": "code",
   "execution_count": 19,
   "metadata": {},
   "outputs": [],
   "source": [
    "def adj():  \n",
    "    return random.choice('蓝色的 | 好看的 | 小小的'.split('|')).split()[0]\n",
    "def adj_star():\n",
    "    #为什么如果不用if-else的random，我们需要用lambda\n",
    "    #A:adj()只包含返回一个形容词的情况，adj_star()包含所有情况，零个|一个|多个\n",
    "    return random.choice([lambda : '', lambda : adj() + adj_star()])()"
   ]
  },
  {
   "cell_type": "code",
   "execution_count": 20,
   "metadata": {},
   "outputs": [],
   "source": [
    "def adj_star():\n",
    "    return random.choice([lambda : '', lambda : adj() + adj_star()])()"
   ]
  },
  {
   "cell_type": "code",
   "execution_count": 21,
   "metadata": {},
   "outputs": [
    {
     "data": {
      "text/plain": [
       "''"
      ]
     },
     "execution_count": 21,
     "metadata": {},
     "output_type": "execute_result"
    }
   ],
   "source": [
    "adj_star()"
   ]
  },
  {
   "cell_type": "markdown",
   "metadata": {},
   "source": [
    "## But the question is ? "
   ]
  },
  {
   "cell_type": "markdown",
   "metadata": {},
   "source": [
    "如果我们更换了语法，会发现所有写过的程序，都要重新写。:( "
   ]
  },
  {
   "cell_type": "code",
   "execution_count": 29,
   "metadata": {},
   "outputs": [],
   "source": [
    "two_number = \"\"\"\n",
    "two => num num\n",
    "num => 0 | 1 | 2 | 3 | 4\n",
    "\"\"\""
   ]
  },
  {
   "cell_type": "code",
   "execution_count": 30,
   "metadata": {},
   "outputs": [],
   "source": [
    "two_number_add = \"\"\"\n",
    "two => num + num\n",
    "num => 0 | 1 | 2 | 3 | 4\n",
    "\"\"\""
   ]
  },
  {
   "cell_type": "code",
   "execution_count": 31,
   "metadata": {},
   "outputs": [],
   "source": [
    "two_number_op =\"\"\"\n",
    "two => num + num | num - num\n",
    "num => 0 | 1 | 2 | 3 | 4\n",
    "\"\"\""
   ]
  },
  {
   "cell_type": "code",
   "execution_count": 32,
   "metadata": {},
   "outputs": [],
   "source": [
    "two_number_op2 =\"\"\"\n",
    "two => num op num\n",
    "op => + | - | * | /\n",
    "num => 0 | 1 | 2 | 3 | 4\n",
    "\"\"\""
   ]
  },
  {
   "cell_type": "code",
   "execution_count": 33,
   "metadata": {},
   "outputs": [],
   "source": [
    "number_ops = \"\"\"\n",
    "expression => expression num_op | num_op\n",
    "num_op => num op num\n",
    "op => + | - | * | /\n",
    "num => 0 | 1 | 2 | 3 | 4\n",
    "\"\"\""
   ]
  },
  {
   "cell_type": "markdown",
   "metadata": {},
   "source": [
    "<font size=4>**语法不同，如何生成句子？**</font>"
   ]
  },
  {
   "cell_type": "markdown",
   "metadata": {},
   "source": [
    "**Step1：将语法转换成字典格式**"
   ]
  },
  {
   "cell_type": "code",
   "execution_count": 29,
   "metadata": {},
   "outputs": [
    {
     "data": {
      "text/plain": [
       "{'two': ['num + num'], 'num': ['1', '2', '3', '4', '5', '6']}"
      ]
     },
     "execution_count": 29,
     "metadata": {},
     "output_type": "execute_result"
    }
   ],
   "source": [
    "{\n",
    "    'two':[['num + num'],['num-num']],\n",
    "    'num':['1','2','3','4','5','6']\n",
    "} \n",
    "#num is a key(expand)\n",
    "#+ is not a key(output)"
   ]
  },
  {
   "cell_type": "code",
   "execution_count": 57,
   "metadata": {},
   "outputs": [],
   "source": [
    "#课上代码，一步步详解版\n",
    "def generate_grammar(grammar_str:str,target,split='=>'):\n",
    "    grammar={}\n",
    "    \n",
    "    for line in grammar_str.split('\\n'):\n",
    "        if not line:continue #空行就不处理\n",
    "            \n",
    "        expression, formula = line.split(split)\n",
    "        \n",
    "        formulas = formula.split('|')\n",
    "        \n",
    "        formulas =[f.split() for f in formulas] #split后的()不能忘\n",
    "        \n",
    "        grammar[expression.strip()] = formulas\n",
    "        \n",
    "        #print(expression,':',formulas)\n",
    "        \n",
    "    return grammar"
   ]
  },
  {
   "cell_type": "code",
   "execution_count": 11,
   "metadata": {},
   "outputs": [],
   "source": [
    "\"\"\"\n",
    "#上段代码的简单版，来自准备代码\n",
    "def create_grammar(grammar_str, split='=>', line_split='\\n'):\n",
    "    grammar = {}\n",
    "    for line in grammar_str.split(line_split):\n",
    "        if not line.strip(): continue\n",
    "        exp, stmt = line.split(split)\n",
    "        grammar[exp.strip()] = [s.split() for s in stmt.split('|')]\n",
    "    return grammar\n",
    "\"\"\""
   ]
  },
  {
   "cell_type": "code",
   "execution_count": 52,
   "metadata": {},
   "outputs": [
    {
     "name": "stdout",
     "output_type": "stream",
     "text": [
      "two  : [' num + num']\n",
      "num  : [' 0 ', ' 1 ', ' 2 ', ' 3 ', ' 4']\n"
     ]
    }
   ],
   "source": [
    "generate_grammar(two_number_add,target='two')"
   ]
  },
  {
   "cell_type": "code",
   "execution_count": 68,
   "metadata": {},
   "outputs": [
    {
     "name": "stdout",
     "output_type": "stream",
     "text": [
      "two  : [['num', '+', 'num'], ['num', '-', 'num']]\n",
      "num  : [['0'], ['1'], ['2'], ['3'], ['4']]\n"
     ]
    }
   ],
   "source": [
    "generate_grammar(two_number_op,target='two')"
   ]
  },
  {
   "cell_type": "code",
   "execution_count": 35,
   "metadata": {},
   "outputs": [
    {
     "name": "stdout",
     "output_type": "stream",
     "text": [
      "two  : [['num', '+', 'num'], ['num', '-', 'num']]\n",
      "num  : [['0'], ['1'], ['2'], ['3'], ['4']]\n"
     ]
    }
   ],
   "source": [
    "generated_grammar = generate_grammar(two_number_op,target='two')"
   ]
  },
  {
   "cell_type": "code",
   "execution_count": 36,
   "metadata": {},
   "outputs": [
    {
     "data": {
      "text/plain": [
       "{'two': [['num', '+', 'num'], ['num', '-', 'num']],\n",
       " 'num': [['0'], ['1'], ['2'], ['3'], ['4']]}"
      ]
     },
     "execution_count": 36,
     "metadata": {},
     "output_type": "execute_result"
    }
   ],
   "source": [
    "generated_grammar"
   ]
  },
  {
   "cell_type": "code",
   "execution_count": 44,
   "metadata": {},
   "outputs": [
    {
     "name": "stdout",
     "output_type": "stream",
     "text": [
      "sentence  : [['noun_phrase', 'verb_phrase']]\n",
      "noun_phrase  : [['Article', 'Adj*', 'noun']]\n",
      "Adj*  : [['null'], ['Adj', 'Adj*']]\n",
      "verb_phrase  : [['verb', 'noun_phrase']]\n",
      "Article  : [['一个'], ['这个']]\n",
      "noun  : [['女人'], ['篮球'], ['桌子'], ['小猫']]\n",
      "verb  : [['看着'], ['坐在'], ['听着'], ['看见']]\n",
      "Adj  : [['蓝色的'], ['好看的'], ['小小的']]\n"
     ]
    }
   ],
   "source": [
    "generated_grammar1 = generate_grammar(simple_grammar,target='sentence')"
   ]
  },
  {
   "cell_type": "code",
   "execution_count": 43,
   "metadata": {},
   "outputs": [
    {
     "data": {
      "text/plain": [
       "{'sentence': [['noun_phrase', 'verb_phrase']],\n",
       " 'noun_phrase': [['Article', 'Adj*', 'noun']],\n",
       " 'Adj*': [['null'], ['Adj', 'Adj*']],\n",
       " 'verb_phrase': [['verb', 'noun_phrase']],\n",
       " 'Article': [['一个'], ['这个']],\n",
       " 'noun': [['女人'], ['篮球'], ['桌子'], ['小猫']],\n",
       " 'verb': [['看着'], ['坐在'], ['听着'], ['看见']],\n",
       " 'Adj': [['蓝色的'], ['好看的'], ['小小的']]}"
      ]
     },
     "execution_count": 43,
     "metadata": {},
     "output_type": "execute_result"
    }
   ],
   "source": [
    "generated_grammar1"
   ]
  },
  {
   "cell_type": "markdown",
   "metadata": {},
   "source": [
    "**Step2：输入为“字典格式”，如何生成一个句子？**"
   ]
  },
  {
   "cell_type": "code",
   "execution_count": 48,
   "metadata": {},
   "outputs": [],
   "source": [
    "choice = random.choice\n",
    "\n",
    "def generate_by_grammar(grammar:dict, target:str):\n",
    "    if target not in grammar:return target\n",
    "    # the abouve line is to test if target is a key\n",
    "    expr = choice(grammar[target])\n",
    "    expaned = [generate_by_grammar(grammar,t) for t in expr]\n",
    "    return ''.join([e if e != '/n' else '\\n' for e in expaned if e != 'null'])"
   ]
  },
  {
   "cell_type": "code",
   "execution_count": 22,
   "metadata": {},
   "outputs": [],
   "source": [
    "\"\"\"\n",
    "#来自准备代码\n",
    "choice = random.choice\n",
    "\n",
    "def generate(gram, target):\n",
    "    if target not in gram: return target # means target is a terminal expression\n",
    "    \n",
    "    expaned = [generate(gram, t) for t in choice(gram[target])]\n",
    "    return ''.join([e if e != '/n' else '\\n' for e in expaned if e != 'null'])\n",
    "\"\"\""
   ]
  },
  {
   "cell_type": "code",
   "execution_count": 50,
   "metadata": {},
   "outputs": [
    {
     "data": {
      "text/plain": [
       "'4-2'"
      ]
     },
     "execution_count": 50,
     "metadata": {},
     "output_type": "execute_result"
    }
   ],
   "source": [
    "generate_by_grammar(generated_grammar,'two')"
   ]
  },
  {
   "cell_type": "code",
   "execution_count": 49,
   "metadata": {},
   "outputs": [
    {
     "data": {
      "text/plain": [
       "'一个篮球听着一个桌子'"
      ]
     },
     "execution_count": 49,
     "metadata": {},
     "output_type": "execute_result"
    }
   ],
   "source": [
    "generate_by_grammar(generated_grammar1,'sentence')"
   ]
  },
  {
   "cell_type": "markdown",
   "metadata": {},
   "source": [
    "**Step3：编写generate_by_str直接调用以上两个函数**"
   ]
  },
  {
   "cell_type": "code",
   "execution_count": 58,
   "metadata": {},
   "outputs": [],
   "source": [
    "def generate_by_str(grammar_str,target,split='=>'):\n",
    "    grammar = generate_grammar(grammar_str,target,split)\n",
    "    return generate_by_grammar(grammar,target)"
   ]
  },
  {
   "cell_type": "code",
   "execution_count": 59,
   "metadata": {},
   "outputs": [
    {
     "data": {
      "text/plain": [
       "'1+4'"
      ]
     },
     "execution_count": 59,
     "metadata": {},
     "output_type": "execute_result"
    }
   ],
   "source": [
    "generate_by_str(two_number_op,target='two')"
   ]
  },
  {
   "cell_type": "code",
   "execution_count": 60,
   "metadata": {},
   "outputs": [
    {
     "data": {
      "text/plain": [
       "'这个蓝色的小猫听着这个蓝色的桌子'"
      ]
     },
     "execution_count": 60,
     "metadata": {},
     "output_type": "execute_result"
    }
   ],
   "source": [
    "generate_by_str(simple_grammar,target='sentence')"
   ]
  },
  {
   "cell_type": "markdown",
   "metadata": {},
   "source": [
    "**总结一下：**"
   ]
  },
  {
   "cell_type": "code",
   "execution_count": 61,
   "metadata": {},
   "outputs": [],
   "source": [
    "def generate_grammar(grammar_str:str,target,split='=>'):\n",
    "    grammar={}\n",
    "    \n",
    "    for line in grammar_str.split('\\n'):\n",
    "        if not line:continue\n",
    "        expr, stmt = line.split(split)\n",
    "        grammar[expr.strip()] = [s.split() for s in stmt.split('|')]    \n",
    "    return grammar\n",
    "\n",
    "choice_a_expr = random.choice\n",
    "def generate_by_grammar(grammar:dict, target:str):\n",
    "    if target not in grammar:return target\n",
    "    expr = choice(grammar[target])\n",
    "    expaned = [generate_by_grammar(grammar,t) for t in expr]\n",
    "    return ''.join([e if e != '/n' else '\\n' for e in expaned if e != 'null'])\n",
    "\n",
    "def generate_by_str(grammar_str,split,target):\n",
    "    grammar = generate_grammar(grammar_str,target,split)\n",
    "    return generate_by_grammar(grammar,target)"
   ]
  },
  {
   "cell_type": "code",
   "execution_count": 62,
   "metadata": {},
   "outputs": [
    {
     "data": {
      "text/plain": [
       "'4+1'"
      ]
     },
     "execution_count": 62,
     "metadata": {},
     "output_type": "execute_result"
    }
   ],
   "source": [
    "generate_by_str(two_number_op,split='=>',target = 'two')"
   ]
  },
  {
   "cell_type": "code",
   "execution_count": 63,
   "metadata": {},
   "outputs": [
    {
     "data": {
      "text/plain": [
       "'4-24-31*3'"
      ]
     },
     "execution_count": 63,
     "metadata": {},
     "output_type": "execute_result"
    }
   ],
   "source": [
    "generate_by_str(number_ops,split='=>',target = 'expression')"
   ]
  },
  {
   "cell_type": "markdown",
   "metadata": {},
   "source": [
    "<font color = purple size=4 face=\"黑体\">我们发现，式子变长了。<br>\n",
    "优点：输入改变，程序不需要重新写</font>"
   ]
  },
  {
   "cell_type": "markdown",
   "metadata": {},
   "source": [
    "<font color = purple size=4 face=\"黑体\">Eliza (MIT的人工智能实验室推出的第一个商用产品)<br>规则引擎</font>"
   ]
  },
  {
   "cell_type": "code",
   "execution_count": 105,
   "metadata": {},
   "outputs": [],
   "source": [
    "#在西部世界里，一个”人类“的语言可以定义为：\n",
    "\n",
    "human = \"\"\"\n",
    "human = 自己 寻找 活动\n",
    "自己 = 我 | 俺 | 我们 \n",
    "寻找 = 找找 | 想找点 \n",
    "活动 = 乐子 | 玩的\n",
    "\"\"\"\n",
    "\n",
    "\n",
    "#一个“接待员”的语言可以定义为\n",
    "\n",
    "host = \"\"\"\n",
    "host = 寒暄 报数 询问 业务相关 结尾 \n",
    "报数 = 我是 数字 号 ,\n",
    "数字 = 单个数字 | 数字 单个数字 \n",
    "单个数字 = 1 | 2 | 3 | 4 | 5 | 6 | 7 | 8 | 9 \n",
    "寒暄 = 称谓 打招呼 | 打招呼\n",
    "称谓 = 人称 ,\n",
    "人称 = 先生 | 女士 | 小朋友\n",
    "打招呼 = 你好 | 您好 \n",
    "询问 = 请问你要 | 您需要\n",
    "业务相关 = 玩玩 具体业务\n",
    "玩玩 = null\n",
    "具体业务 = 喝酒 | 打牌 | 打猎 | 赌博\n",
    "结尾 = 吗？\n",
    "\"\"\""
   ]
  },
  {
   "cell_type": "markdown",
   "metadata": {},
   "source": [
    "希望能够生成最合理的一句话？ "
   ]
  },
  {
   "cell_type": "markdown",
   "metadata": {},
   "source": [
    "## Data Driven"
   ]
  },
  {
   "cell_type": "markdown",
   "metadata": {},
   "source": [
    "<font color = purple size=4 face=\"黑体\">Compare: Procedure Driven<br>->识别任何物体都要根据特征重新写程序</font>"
   ]
  },
  {
   "cell_type": "markdown",
   "metadata": {},
   "source": [
    "<font color = purple size=4 face=\"黑体\">Machine Learning: Based on Statistical Data Driven Way</font>"
   ]
  },
  {
   "cell_type": "markdown",
   "metadata": {},
   "source": [
    "我们的目标是，希望能做一个程序，然后，当输入的数据变化的时候，我们的程序不用重写。Generalization."
   ]
  },
  {
   "cell_type": "markdown",
   "metadata": {},
   "source": [
    "AI? 如何能自动化解决问题，我们找到一个方法之后，输入变了，我们的这个方法，不用变。"
   ]
  },
  {
   "cell_type": "markdown",
   "metadata": {},
   "source": [
    "**例子：西部世界**"
   ]
  },
  {
   "cell_type": "code",
   "execution_count": 176,
   "metadata": {},
   "outputs": [],
   "source": [
    "#在西部世界里，一个”人类“的语言可以定义为：\n",
    "\n",
    "human = \"\"\"\n",
    "human = 自己 寻找 活动\n",
    "自己 = 我 | 俺 | 我们 \n",
    "寻找 = 找找 | 想找点 \n",
    "活动 = 乐子 | 玩的\n",
    "\"\"\"\n",
    "\n",
    "#一个“接待员”的语言可以定义为\n",
    "\n",
    "host = \"\"\"\n",
    "host = 寒暄 报数 询问 业务相关 结尾 \n",
    "报数 = 我是 数字 号 ,\n",
    "数字 = 单个数字 | 数字 单个数字 \n",
    "单个数字 = 1 | 2 | 3 | 4 | 5 | 6 | 7 | 8 | 9 \n",
    "寒暄 = 称谓 打招呼 | 打招呼\n",
    "称谓 = 人称 ,\n",
    "人称 = 先生 | 女士 | 小朋友\n",
    "打招呼 = 你好 | 您好 \n",
    "询问 = 请问你要 | 您需要\n",
    "业务相关 = 玩玩 具体业务\n",
    "玩玩 = null\n",
    "具体业务 = 喝酒 | 打牌 | 打猎 | 赌博\n",
    "结尾 = 吗？\n",
    "\"\"\""
   ]
  },
  {
   "cell_type": "code",
   "execution_count": 164,
   "metadata": {},
   "outputs": [
    {
     "name": "stdout",
     "output_type": "stream",
     "text": [
      "小朋友,您好我是8号,您需要null赌博吗？\n",
      "您好我是66号,您需要null赌博吗？\n",
      "先生,你好我是2号,您需要null打牌吗？\n",
      "女士,您好我是4号,请问你要null赌博吗？\n",
      "先生,您好我是3号,您需要null喝酒吗？\n",
      "女士,你好我是5号,您需要null赌博吗？\n",
      "女士,您好我是58号,请问你要null打猎吗？\n",
      "您好我是25号,请问你要null赌博吗？\n",
      "你好我是65359号,请问你要null喝酒吗？\n",
      "小朋友,你好我是3号,您需要null赌博吗？\n"
     ]
    }
   ],
   "source": [
    "for i in range(10):\n",
    "    print(generate_by_str(host,split='=', target='host'))"
   ]
  },
  {
   "cell_type": "code",
   "execution_count": 106,
   "metadata": {},
   "outputs": [
    {
     "name": "stdout",
     "output_type": "stream",
     "text": [
      "我们找找玩的\n",
      "我找找乐子\n",
      "我想找点乐子\n",
      "我找找乐子\n",
      "俺想找点玩的\n",
      "我们找找乐子\n",
      "我找找乐子\n",
      "我找找乐子\n",
      "俺找找玩的\n",
      "我想找点玩的\n"
     ]
    }
   ],
   "source": [
    "for i in range(10):\n",
    "    print(generate_by_str(human,split='=', target='human'))"
   ]
  },
  {
   "cell_type": "markdown",
   "metadata": {},
   "source": [
    "**例子：假如既然**"
   ]
  },
  {
   "cell_type": "code",
   "execution_count": 64,
   "metadata": {},
   "outputs": [],
   "source": [
    "假如既然 = \"\"\"\n",
    "句子 = if someone state , then do something\n",
    "if = 既然 | 如果 | 假设\n",
    "someone = one 和 someone | one\n",
    "one = 小红 | 小蓝 | 小绿 | 白白\n",
    "state = 饿了 | 醒了 | 醉了 | 癫狂了\n",
    "then = 那么 | 就 | 可以\n",
    "do = 去\n",
    "something = 吃饭 | 玩耍 | 浪\n",
    "\"\"\""
   ]
  },
  {
   "cell_type": "code",
   "execution_count": 177,
   "metadata": {},
   "outputs": [
    {
     "name": "stdout",
     "output_type": "stream",
     "text": [
      "假设小红癫狂了,那么去吃饭\n",
      "假设小红和小红和小蓝醒了,就去玩耍\n",
      "既然白白和白白和小绿和小绿饿了,那么去浪\n",
      "既然小红醉了,那么去玩耍\n",
      "既然小红饿了,就去浪\n",
      "既然小绿和小红醒了,那么去吃饭\n",
      "既然白白和白白和白白饿了,那么去浪\n",
      "既然小红癫狂了,那么去吃饭\n",
      "假设小蓝饿了,就去玩耍\n",
      "既然小红和小蓝醉了,可以去浪\n",
      "既然小蓝和小红醒了,可以去玩耍\n",
      "假设小绿醒了,就去吃饭\n",
      "既然小蓝和白白癫狂了,就去浪\n",
      "如果小红饿了,就去玩耍\n",
      "既然小绿饿了,可以去浪\n",
      "既然白白和白白和小红醉了,就去吃饭\n",
      "如果小绿和小红醒了,可以去吃饭\n",
      "既然小红和小蓝醉了,那么去吃饭\n",
      "假设小红醒了,可以去浪\n",
      "既然白白癫狂了,就去玩耍\n"
     ]
    }
   ],
   "source": [
    "for i in range(20):\n",
    "    print(generate_by_str(假如既然, split='=',target='句子'))"
   ]
  },
  {
   "cell_type": "markdown",
   "metadata": {},
   "source": [
    "<font color = purple size=4 face=\"黑体\">以上“假如既然”的例子说明输入不同，也可以用简单的方法解决问题 </font>"
   ]
  },
  {
   "cell_type": "markdown",
   "metadata": {},
   "source": [
    "**例子：电脑写程序**"
   ]
  },
  {
   "cell_type": "code",
   "execution_count": 66,
   "metadata": {},
   "outputs": [],
   "source": [
    "simpel_programming = '''\n",
    "programming => if_stmt | assign | while_loop\n",
    "while_loop => while ( cond ) { change_line stmt change_line }\n",
    "if_stmt => if ( cond )  { change_line stmt change_line } | if ( cond )  { change_line stmt change_line } else { change_line stmt change_line } \n",
    "change_line => /N\n",
    "cond => var op var\n",
    "op => | == | < | >= | <= \n",
    "stmt => assign | if_stmt\n",
    "assign => var = var\n",
    "var =>  var _ num | words \n",
    "words => words _ word | word \n",
    "word => name | info |  student | lib | database \n",
    "nums => nums num | num\n",
    "num => 1 | 2 | 3 | 4 | 5 | 6 | 7 | 8 | 9 | 0\n",
    "'''"
   ]
  },
  {
   "cell_type": "code",
   "execution_count": 79,
   "metadata": {},
   "outputs": [],
   "source": [
    "def create_grammar(grammar_str, split='=>', line_split='\\n'):\n",
    "    grammar = {}\n",
    "    for line in grammar_str.split(line_split):\n",
    "        if not line.strip(): continue\n",
    "        exp, stmt = line.split(split)\n",
    "        grammar[exp.strip()] = [s.split() for s in stmt.split('|')]\n",
    "    return grammar"
   ]
  },
  {
   "cell_type": "code",
   "execution_count": 80,
   "metadata": {},
   "outputs": [],
   "source": [
    "choice = random.choice\n",
    "\n",
    "def generate(gram, target):\n",
    "    if target not in gram: return target # means target is a terminal expression\n",
    "    expaned = [generate(gram, t) for t in choice(gram[target])]\n",
    "    return ''.join([e if e != '/n' else '\\n' for e in expaned if e != 'null'])"
   ]
  },
  {
   "cell_type": "code",
   "execution_count": 81,
   "metadata": {},
   "outputs": [
    {
     "name": "stdout",
     "output_type": "stream",
     "text": [
      "while(database<database_8){/Ninfo_info_5=name_name_database_name_2/N}\n"
     ]
    }
   ],
   "source": [
    "print(generate(gram=create_grammar(simpel_programming, split='=>'), target='programming'))"
   ]
  },
  {
   "cell_type": "code",
   "execution_count": 82,
   "metadata": {},
   "outputs": [],
   "source": [
    "def pretty_print(line):\n",
    "    # utility tool function\n",
    "    lines = line.split('/N')\n",
    "    \n",
    "    code_lines = []\n",
    "    \n",
    "    for i, sen in enumerate(lines):\n",
    "        if i < len(lines) / 2: \n",
    "            #print()\n",
    "            code_lines.append(i * \"  \" + sen)\n",
    "        else:\n",
    "            code_lines.append((len(lines) - i) * \" \" + sen)\n",
    "    \n",
    "    return code_lines"
   ]
  },
  {
   "cell_type": "code",
   "execution_count": 83,
   "metadata": {},
   "outputs": [],
   "source": [
    "generated_programming = []\n",
    "\n",
    "for i in range(20):\n",
    "    generated_programming += pretty_print(generate(gram=create_grammar(simpel_programming, split='=>'), target='programming'))"
   ]
  },
  {
   "cell_type": "code",
   "execution_count": 84,
   "metadata": {},
   "outputs": [
    {
     "name": "stdout",
     "output_type": "stream",
     "text": [
      "if(infoname_5_0_9_5){\n",
      "  if(name_8_5_3_2==student){\n",
      "    info_9=info_name\n",
      "      }else{\n",
      "        if(name<=name_database_lib){\n",
      "          if(name_libname_0_9){\n",
      "            if(info_3_1<lib_database_info_1_6){\n",
      "              name_student_6_5_7_6=name_lib_9\n",
      "       }else{\n",
      "      student_0_1_6=lib\n",
      "     }\n",
      "    }\n",
      "   }\n",
      "  }\n",
      " }\n",
      "while(database_8<info_lib_4){\n",
      "  if(database_1_0<student_info){\n",
      "    if(student_databasestudent){\n",
      "      if(lib_database==database_9){\n",
      "        if(studentdatabase_name_lib){\n",
      "          if(student_database_info_info_3_8<=database_9_7_3_5){\n",
      "            if(lib_4_8_1_9_8_4_6_0_0==name_lib){\n",
      "              if(info_student<name){\n",
      "                name=database_1\n",
      "                  }\n",
      "                    }\n",
      "                      }\n",
      "                        }else{\n",
      "                          if(info_name_4_9_4name_name){\n",
      "                            if(database_3<name_lib_name_info_9){\n",
      "                              student_4=database_1\n",
      "                                }\n",
      "                                  }else{\n",
      "                                    if(name_lib<info){\n",
      "                                      if(student_7<=lib_database_student){\n",
      "                                        if(student>=lib){\n",
      "                                          info_name_name=name_info\n",
      "                                            }\n",
      "                                              }else{\n",
      "                                                if(student<student_name_student){\n",
      "                                                  if(database_database_info_student_1>=name_7_6_5_4){\n",
      "                                                    database_name_9_6=database\n",
      "                                                      }else{\n",
      "                                                        database=student\n",
      "                                                          }\n",
      "                             }\n",
      "                            }\n",
      "                           }else{\n",
      "                          if(lib_info_database>=student_2_9){\n",
      "                         if(database==student){\n",
      "                        if(info_student_info_1==name_3){\n",
      "                       student_2_3_3_4=student\n",
      "                      }\n",
      "                     }else{\n",
      "                    if(info_lib==student_0_7){\n",
      "                   if(student_0<info_database_lib_name){\n",
      "                  student=lib_2\n",
      "                 }else{\n",
      "                student_6_2_7=database_lib_name_student_info\n",
      "               }\n",
      "              }else{\n",
      "             database_lib_database_0=student\n",
      "            }\n",
      "           }\n",
      "          }\n",
      "         }\n",
      "        }\n",
      "       }\n",
      "      }else{\n",
      "     database_student_info_9=student_lib_1_7_3_4_7_8\n",
      "    }\n",
      "   }\n",
      "  }\n",
      " }\n",
      "while(name_infoinfo_name_database){\n",
      "  lib_student_lib_info_database_database=database_database_database_student\n",
      " }\n",
      "while(info_5>=student_2){\n",
      "  info_7=student_info\n",
      " }\n",
      "if(database_info_student_name==lib){\n",
      "  info_lib_info_lib_name_database_student_6_3=name_1_6\n",
      "    }else{\n",
      "  database_info_4=database_database\n",
      " }\n",
      "if(student_6<info){\n",
      "  lib=student\n",
      " }\n",
      "name=lib\n",
      "if(info>=name_database_database_lib_database_database){\n",
      "  student_lib=student_9\n",
      " }\n",
      "if(name_student<name_info_student_info){\n",
      "  if(name_student_student_1_2==name){\n",
      "    name_name_info_3=database\n",
      "      }\n",
      "        }else{\n",
      "          if(lib_name_1_6_6>=info){\n",
      "            if(name_info_database>=database){\n",
      "              lib_name_1_5_5=database_database_8_2_8\n",
      "                }\n",
      "                  }else{\n",
      "                    if(studentlib_lib){\n",
      "                      if(name_info_name_1_5>=database){\n",
      "                        if(name_student_student_student_3_5_5_0_6<=info_student_info_database_database){\n",
      "                          if(student<lib_2_3){\n",
      "                            if(info==info_name_4){\n",
      "                              lib_name_9=info_database_info_info_8\n",
      "                                }else{\n",
      "                                  info_info_name_name_1_2=database_name_student\n",
      "                                    }\n",
      "                                      }else{\n",
      "                                        if(lib_info_databasestudent){\n",
      "                                          student_0=info_6_2\n",
      "                                            }\n",
      "                                              }\n",
      "                                                }\n",
      "                                                  }else{\n",
      "                         if(info<database){\n",
      "                        if(student<=info){\n",
      "                       student_7_3_0_1=name_5_2_8_7\n",
      "                      }\n",
      "                     }else{\n",
      "                    if(info_student_lib_name_database_1_0_2_3==student_database_name){\n",
      "                   if(name_namename_3_8_8){\n",
      "                  if(name_8_4_0_1_0_0_6<name_4){\n",
      "                 if(name_2>=lib_info_info_student_0){\n",
      "                lib_database_student=name_1\n",
      "               }\n",
      "              }else{\n",
      "             info=student_student_7\n",
      "            }\n",
      "           }\n",
      "          }else{\n",
      "         name_6_0=database\n",
      "        }\n",
      "       }\n",
      "      }\n",
      "     }else{\n",
      "    student_student_1=lib\n",
      "   }\n",
      "  }\n",
      " }\n",
      "info_lib_name=info_info\n",
      "if(name<=database_lib_9_7_0_2){\n",
      "  name=name_database\n",
      " }\n",
      "if(lib>=info_info_lib){\n",
      "  if(database==lib_info){\n",
      "    if(student_3_6==student){\n",
      "      if(databaselib){\n",
      "        if(student_8_1lib){\n",
      "          info_database_lib_lib_name_database_lib_lib_name_name_4=name\n",
      "            }else{\n",
      "              database=name_2\n",
      "                }\n",
      "                  }\n",
      "                    }else{\n",
      "                      if(info_0>=student_info){\n",
      "                        database_0=info_name_info_6\n",
      "                          }else{\n",
      "                            if(lib_database<=info){\n",
      "                              if(database_info<=name_1){\n",
      "                                if(database_8<=name_3){\n",
      "                                  info_4=database\n",
      "                                    }else{\n",
      "                                      if(lib<name){\n",
      "                                        if(name_8==database){\n",
      "                                          name_name=name_name_name\n",
      "                                            }else{\n",
      "                                              info_info_3=student_info\n",
      "                                                }\n",
      "                                                  }else{\n",
      "                                                    if(info_0<=name){\n",
      "                                                      if(name<lib_name_info_database_name_student){\n",
      "                                                        if(info_lib<info_info_info_2){\n",
      "                                                          info_0_6=database_name\n",
      "                                                            }\n",
      "                                                              }else{\n",
      "                                                                if(database_database_0<database_4){\n",
      "                                                                  if(lib_lib_database_name_4_4_3_4<=name){\n",
      "                                                                    if(info_info_student_8database_6_3_3_8){\n",
      "                                                                      if(student_database_lib_name_9>=name_name_student){\n",
      "                                                                        if(database<lib_name_student_5){\n",
      "                                                                          if(name<=info_9){\n",
      "                                                                            if(info_0==database_info_3){\n",
      "                                                                              if(info_3_5_6student_name_info_7_5){\n",
      "                                                                                if(info_7_4_7_3<name_lib){\n",
      "                                                                                  if(info>=info_database_student_database){\n",
      "                                                                                    if(name_database_3>=student_3_8){\n",
      "                                                                                      if(info_lib_student_7_0name){\n",
      "                                                                                        if(lib_database_student_namestudent_info_8_6){\n",
      "                                                                                          student_info_student_info_lib_lib_info_name_student_info_5_3=student_database_4_3\n",
      "                                                                                            }\n",
      "                                                                                              }else{\n",
      "                                                                                                database_lib_database=info_3\n",
      "                                                                                                  }\n",
      "                                                                                                    }else{\n",
      "                                                                                                      if(database_database<=database_student_name_5){\n",
      "                                                                                                        if(database<name){\n",
      "                                                                                                          if(lib_name_lib>=student){\n",
      "                                                                                                            name=info_name_database_3_0_3_0\n",
      "                                                                                                              }\n",
      "                                                                                                                }\n",
      "                                                                                                                  }\n",
      "                                                                                                                    }\n",
      "                                                                                                                      }else{\n",
      "                                                                                                                        if(name_databaselib_5_6_4){\n",
      "                                                                                                                          info_database_info_info_database_name_2=student\n",
      "                                                                                                                            }\n",
      "                                                                                                                              }\n",
      "                                                                                                                                }else{\n",
      "                                                                                                                                  if(name_4_6_2<=lib_7){\n",
      "                                                                                                                                    info_0_9=student\n",
      "                                                                                                                                      }\n",
      "                                                                   }\n",
      "                                                                  }else{\n",
      "                                                                 if(lib_lib_name_database<name_5_8_5_3){\n",
      "                                                                if(database>=database){\n",
      "                                                               student=lib_database\n",
      "                                                              }else{\n",
      "                                                             lib=name_info_info_4\n",
      "                                                            }\n",
      "                                                           }else{\n",
      "                                                          info_lib=lib_9_2_3\n",
      "                                                         }\n",
      "                                                        }\n",
      "                                                       }else{\n",
      "                                                      info=info_info\n",
      "                                                     }\n",
      "                                                    }\n",
      "                                                   }\n",
      "                                                  }\n",
      "                                                 }else{\n",
      "                                                if(name_database<=student_6){\n",
      "                                               if(database_lib>=name_info){\n",
      "                                              if(database_9<lib){\n",
      "                                             info_info_lib=name_lib_6_4\n",
      "                                            }\n",
      "                                           }else{\n",
      "                                          if(student_name_9_6>=database_database_database){\n",
      "                                         student_lib_3_4_2_6_9=name_5\n",
      "                                        }else{\n",
      "                                       info_name_info_0_0=name\n",
      "                                      }\n",
      "                                     }\n",
      "                                    }else{\n",
      "                                   if(student<=database_0_7_0_7){\n",
      "                                  name=lib_lib\n",
      "                                 }else{\n",
      "                                lib_student_1=student_lib_lib_lib_1_9_8_7_1_2\n",
      "                               }\n",
      "                              }\n",
      "                             }\n",
      "                            }else{\n",
      "                           database_lib_info_name_database_lib_2_4=info_3_4_2_5_9\n",
      "                          }\n",
      "                         }else{\n",
      "                        student=lib_student_1\n",
      "                       }\n",
      "                      }\n",
      "                     }\n",
      "                    }\n",
      "                   }\n",
      "                  }else{\n",
      "                 if(lib_student_lib>=name_database_info_name_student){\n",
      "                if(lib_3_0_9name){\n",
      "               info_student_5_5_6_4=lib_6_5\n",
      "              }else{\n",
      "             if(name_student_database_student_database_name_9lib_info_4_2){\n",
      "            info=database_database_name\n",
      "           }\n",
      "          }\n",
      "         }\n",
      "        }\n",
      "       }\n",
      "      }\n",
      "     }\n",
      "    }else{\n",
      "   student_name_lib=lib_9_5_0\n",
      "  }\n",
      " }\n",
      "if(student_student_6>=info_0_3_5){\n",
      "  if(info_lib_1==info_database_5_1_9){\n",
      "    lib_student=student_student_database\n",
      "      }else{\n",
      "        lib_lib=student_name\n",
      "    }\n",
      "   }else{\n",
      "  student_name_student_name_student_2_6=lib_3\n",
      " }\n",
      "while(database_name<name_7_9_3_3_4_0_9_1_7_9_0){\n",
      "  if(info_1_9_2_1name_name_info_lib_database){\n",
      "    if(name_database_5>=database){\n",
      "      if(student_student_lib_database_name_lib_7_7_5student_name_student_student_lib_name){\n",
      "        lib=info_name_info_1\n",
      "          }else{\n",
      "            if(info_info_student<name_8_6){\n",
      "              if(info<=database_student_student){\n",
      "                database=lib_lib_info_name_lib_6\n",
      "        }\n",
      "       }\n",
      "      }\n",
      "     }\n",
      "    }else{\n",
      "   lib_database_lib_1_7=name_name_lib_info_info_9_0_1\n",
      "  }\n",
      " }\n",
      "while(info_lib_lib_lib_student_6_6<info){\n",
      "  if(student<=lib_database_5){\n",
      "    lib_7=student_info_1_6\n",
      "  }\n",
      " }\n",
      "while(lib_8_9_4_4<=info){\n",
      "  name_name_5_9=name_0_0_5\n",
      " }\n",
      "if(info_student_lib_name_name<=name_info_3_8_7_7_1_6){\n",
      "  if(student_9_9_9<=lib_database){\n",
      "    lib_info_6_6_4=name\n",
      "      }else{\n",
      "   database_name_4=info\n",
      "  }\n",
      " }\n",
      "database_9=database_database\n",
      "if(student_name_9_0_4_5==info_database_3){\n",
      "  if(name<database_2_8_8){\n",
      "    info=name_info_9\n",
      "      }else{\n",
      "   student_info=student_2\n",
      "  }\n",
      " }\n",
      "if(lib_6<name_9_1){\n",
      "  if(database==database){\n",
      "    database_name=student_info\n",
      "  }\n",
      " }\n"
     ]
    }
   ],
   "source": [
    "for line in generated_programming:\n",
    "    print(line)"
   ]
  },
  {
   "cell_type": "markdown",
   "metadata": {},
   "source": [
    "# Language Model"
   ]
  },
  {
   "cell_type": "markdown",
   "metadata": {},
   "source": [
    "<font color = purple size=4 face=\"黑体\"> 1.条件概率<br>2.独立概率</font>"
   ]
  },
  {
   "cell_type": "markdown",
   "metadata": {},
   "source": [
    "<font color = purple size=4 face=\"黑体\"> **1.条件概率?**<br>假设你365天，迟到30次<br>P(迟到)=30/365<br>假如一年中60次拉肚子，其中20次迟到了<br>P(迟到|拉肚子)=20/60 = P(迟到&拉肚子)/P(拉肚子)=P(20/365)/(60/365)=20/60 <br>P(迟到 | 伊利诺伊发生车祸)= P(你迟到) = P(你迟到&伊利诺伊发生车祸)/P(伊利诺伊发生车祸)<br>P(你迟到&伊利诺伊发生车祸)=P(你迟到)*P(伊利诺伊发生车祸)<br>P(你迟到|肚子痛&伊利诺伊发生车祸)=P(你迟到|肚子痛)</font>"
   ]
  },
  {
   "cell_type": "markdown",
   "metadata": {},
   "source": [
    "<font color = purple size=4 face=\"黑体\">  P(其实就和随机森林原理一样)<br>= P(其实&就和&随机森林&原理&一样)<br>= P(其实|就和&随机森林&原理&一样) \\* P(就和&随机森林&原理&一样)<br>#语言学家对句法做了简化，假设每个词语只与后面一个词语有关<br>= P(其实|就和) \\* P(就和|随机森林&原理&一样) \\* P(随机森林&原理&一样)<br>= \\...<br>= P(其实|就和) \\* P(就和|随机森林) \\* P(随机森林|原理) \\* P(原理|一样) \\* P(一样)</font>"
   ]
  },
  {
   "cell_type": "markdown",
   "metadata": {},
   "source": [
    "<font color = purple size=4 face=\"黑体\">$$P(其实|就和) = \\frac{\\#其实就和}{\\#就和}   = \\frac{w_1w_2}{w_2}$$</font>"
   ]
  },
  {
   "cell_type": "markdown",
   "metadata": {},
   "source": [
    "<font color = purple size=4 face=\"黑体\">$$P(sentence) = P(w_1w_2w_3w_4)=\\prod_{i=0}^{n}\\frac{\\#W_iW_{i+1}}{\\#W_{i+1}}*P(w_{n})$$</font>"
   ]
  },
  {
   "cell_type": "markdown",
   "metadata": {},
   "source": [
    "$$ language\\_model(String) = Probability(String) \\in (0, 1) $$"
   ]
  },
  {
   "cell_type": "markdown",
   "metadata": {},
   "source": [
    "$$ Pro(w_1 w_2 w_3 w_4) = Pr(w_1 | w_2 w_3 w_ 4) * P(w2 | w_3 w_4) * Pr(w_3 | w_4) * Pr(w_4)$$ "
   ]
  },
  {
   "cell_type": "markdown",
   "metadata": {},
   "source": [
    "$$ Pro(w_1 w_2 w_3 w_4) \\sim Pr(w_1 | w_2 ) * P(w2 | w_3 ) * Pr(w_3 | w_4) * Pr(w_4)$$ "
   ]
  },
  {
   "cell_type": "markdown",
   "metadata": {},
   "source": [
    "how to get $ Pr(w1 | w2 w3 w4) $ ?"
   ]
  },
  {
   "cell_type": "markdown",
   "metadata": {},
   "source": [
    "<font color = purple size=4 face=\"黑体\"> **Tips: UnicodeDecodeError怎么办?**<br>\n",
    "python chardet可能出错<br>\n",
    "搜索python encoding -> Standards encoding</font>"
   ]
  },
  {
   "cell_type": "markdown",
   "metadata": {},
   "source": [
    "**Basics：random**"
   ]
  },
  {
   "cell_type": "code",
   "execution_count": 3,
   "metadata": {},
   "outputs": [],
   "source": [
    "import random"
   ]
  },
  {
   "cell_type": "code",
   "execution_count": 4,
   "metadata": {},
   "outputs": [
    {
     "data": {
      "text/plain": [
       "16"
      ]
     },
     "execution_count": 4,
     "metadata": {},
     "output_type": "execute_result"
    }
   ],
   "source": [
    "random.choice(range(100))"
   ]
  },
  {
   "cell_type": "markdown",
   "metadata": {},
   "source": [
    "**Step1：下载数据**"
   ]
  },
  {
   "cell_type": "code",
   "execution_count": 2,
   "metadata": {},
   "outputs": [],
   "source": [
    "import pandas as pd"
   ]
  },
  {
   "cell_type": "code",
   "execution_count": 1,
   "metadata": {},
   "outputs": [],
   "source": [
    "filename = '/Users/wy/Desktop/NLP/Lesson/Dataset/sqlResult_1558435.csv'"
   ]
  },
  {
   "cell_type": "code",
   "execution_count": 3,
   "metadata": {},
   "outputs": [],
   "source": [
    "content = pd.read_csv(filename, encoding='gb18030')"
   ]
  },
  {
   "cell_type": "code",
   "execution_count": 4,
   "metadata": {},
   "outputs": [
    {
     "data": {
      "text/html": [
       "<div>\n",
       "<style scoped>\n",
       "    .dataframe tbody tr th:only-of-type {\n",
       "        vertical-align: middle;\n",
       "    }\n",
       "\n",
       "    .dataframe tbody tr th {\n",
       "        vertical-align: top;\n",
       "    }\n",
       "\n",
       "    .dataframe thead th {\n",
       "        text-align: right;\n",
       "    }\n",
       "</style>\n",
       "<table border=\"1\" class=\"dataframe\">\n",
       "  <thead>\n",
       "    <tr style=\"text-align: right;\">\n",
       "      <th></th>\n",
       "      <th>id</th>\n",
       "      <th>author</th>\n",
       "      <th>source</th>\n",
       "      <th>content</th>\n",
       "      <th>feature</th>\n",
       "      <th>title</th>\n",
       "      <th>url</th>\n",
       "    </tr>\n",
       "  </thead>\n",
       "  <tbody>\n",
       "    <tr>\n",
       "      <th>0</th>\n",
       "      <td>89617</td>\n",
       "      <td>NaN</td>\n",
       "      <td>快科技@http://www.kkj.cn/</td>\n",
       "      <td>此外，自本周（6月12日）起，除小米手机6等15款机型外，其余机型已暂停更新发布（含开发版/...</td>\n",
       "      <td>{\"type\":\"科技\",\"site\":\"cnbeta\",\"commentNum\":\"37\"...</td>\n",
       "      <td>小米MIUI 9首批机型曝光：共计15款</td>\n",
       "      <td>http://www.cnbeta.com/articles/tech/623597.htm</td>\n",
       "    </tr>\n",
       "    <tr>\n",
       "      <th>1</th>\n",
       "      <td>89616</td>\n",
       "      <td>NaN</td>\n",
       "      <td>快科技@http://www.kkj.cn/</td>\n",
       "      <td>骁龙835作为唯一通过Windows 10桌面平台认证的ARM处理器，高通强调，不会因为只考...</td>\n",
       "      <td>{\"type\":\"科技\",\"site\":\"cnbeta\",\"commentNum\":\"15\"...</td>\n",
       "      <td>骁龙835在Windows 10上的性能表现有望改善</td>\n",
       "      <td>http://www.cnbeta.com/articles/tech/623599.htm</td>\n",
       "    </tr>\n",
       "    <tr>\n",
       "      <th>2</th>\n",
       "      <td>89615</td>\n",
       "      <td>NaN</td>\n",
       "      <td>快科技@http://www.kkj.cn/</td>\n",
       "      <td>此前的一加3T搭载的是3400mAh电池，DashCharge快充规格为5V/4A。\\r\\n...</td>\n",
       "      <td>{\"type\":\"科技\",\"site\":\"cnbeta\",\"commentNum\":\"18\"...</td>\n",
       "      <td>一加手机5细节曝光：3300mAh、充半小时用1天</td>\n",
       "      <td>http://www.cnbeta.com/articles/tech/623601.htm</td>\n",
       "    </tr>\n",
       "    <tr>\n",
       "      <th>3</th>\n",
       "      <td>89614</td>\n",
       "      <td>NaN</td>\n",
       "      <td>新华社</td>\n",
       "      <td>这是6月18日在葡萄牙中部大佩德罗冈地区拍摄的被森林大火烧毁的汽车。新华社记者张立云摄\\r\\n</td>\n",
       "      <td>{\"type\":\"国际新闻\",\"site\":\"环球\",\"commentNum\":\"0\",\"j...</td>\n",
       "      <td>葡森林火灾造成至少62人死亡 政府宣布进入紧急状态（组图）</td>\n",
       "      <td>http://world.huanqiu.com/hot/2017-06/10866126....</td>\n",
       "    </tr>\n",
       "    <tr>\n",
       "      <th>4</th>\n",
       "      <td>89613</td>\n",
       "      <td>胡淑丽_MN7479</td>\n",
       "      <td>深圳大件事</td>\n",
       "      <td>（原标题：44岁女子跑深圳约会网友被拒，暴雨中裸身奔走……）\\r\\n@深圳交警微博称：昨日清...</td>\n",
       "      <td>{\"type\":\"新闻\",\"site\":\"网易热门\",\"commentNum\":\"978\",...</td>\n",
       "      <td>44岁女子约网友被拒暴雨中裸奔 交警为其披衣相随</td>\n",
       "      <td>http://news.163.com/17/0618/00/CN617P3Q0001875...</td>\n",
       "    </tr>\n",
       "  </tbody>\n",
       "</table>\n",
       "</div>"
      ],
      "text/plain": [
       "      id      author                  source  \\\n",
       "0  89617         NaN  快科技@http://www.kkj.cn/   \n",
       "1  89616         NaN  快科技@http://www.kkj.cn/   \n",
       "2  89615         NaN  快科技@http://www.kkj.cn/   \n",
       "3  89614         NaN                     新华社   \n",
       "4  89613  胡淑丽_MN7479                   深圳大件事   \n",
       "\n",
       "                                             content  \\\n",
       "0  此外，自本周（6月12日）起，除小米手机6等15款机型外，其余机型已暂停更新发布（含开发版/...   \n",
       "1  骁龙835作为唯一通过Windows 10桌面平台认证的ARM处理器，高通强调，不会因为只考...   \n",
       "2  此前的一加3T搭载的是3400mAh电池，DashCharge快充规格为5V/4A。\\r\\n...   \n",
       "3    这是6月18日在葡萄牙中部大佩德罗冈地区拍摄的被森林大火烧毁的汽车。新华社记者张立云摄\\r\\n   \n",
       "4  （原标题：44岁女子跑深圳约会网友被拒，暴雨中裸身奔走……）\\r\\n@深圳交警微博称：昨日清...   \n",
       "\n",
       "                                             feature  \\\n",
       "0  {\"type\":\"科技\",\"site\":\"cnbeta\",\"commentNum\":\"37\"...   \n",
       "1  {\"type\":\"科技\",\"site\":\"cnbeta\",\"commentNum\":\"15\"...   \n",
       "2  {\"type\":\"科技\",\"site\":\"cnbeta\",\"commentNum\":\"18\"...   \n",
       "3  {\"type\":\"国际新闻\",\"site\":\"环球\",\"commentNum\":\"0\",\"j...   \n",
       "4  {\"type\":\"新闻\",\"site\":\"网易热门\",\"commentNum\":\"978\",...   \n",
       "\n",
       "                           title  \\\n",
       "0           小米MIUI 9首批机型曝光：共计15款   \n",
       "1     骁龙835在Windows 10上的性能表现有望改善   \n",
       "2      一加手机5细节曝光：3300mAh、充半小时用1天   \n",
       "3  葡森林火灾造成至少62人死亡 政府宣布进入紧急状态（组图）   \n",
       "4       44岁女子约网友被拒暴雨中裸奔 交警为其披衣相随   \n",
       "\n",
       "                                                 url  \n",
       "0     http://www.cnbeta.com/articles/tech/623597.htm  \n",
       "1     http://www.cnbeta.com/articles/tech/623599.htm  \n",
       "2     http://www.cnbeta.com/articles/tech/623601.htm  \n",
       "3  http://world.huanqiu.com/hot/2017-06/10866126....  \n",
       "4  http://news.163.com/17/0618/00/CN617P3Q0001875...  "
      ]
     },
     "execution_count": 4,
     "metadata": {},
     "output_type": "execute_result"
    }
   ],
   "source": [
    "content.head()"
   ]
  },
  {
   "cell_type": "code",
   "execution_count": 6,
   "metadata": {},
   "outputs": [],
   "source": [
    "articles = content['content'].tolist()"
   ]
  },
  {
   "cell_type": "code",
   "execution_count": 10,
   "metadata": {},
   "outputs": [
    {
     "data": {
      "text/plain": [
       "89611"
      ]
     },
     "execution_count": 10,
     "metadata": {},
     "output_type": "execute_result"
    }
   ],
   "source": [
    "len(articles)"
   ]
  },
  {
   "cell_type": "code",
   "execution_count": 11,
   "metadata": {},
   "outputs": [
    {
     "data": {
      "text/plain": [
       "'此外，自本周（6月12日）起，除小米手机6等15款机型外，其余机型已暂停更新发布（含开发版/体验版内测，稳定版暂不受影响），以确保工程师可以集中全部精力进行系统优化工作。有人猜测这也是将精力主要用到MIUI 9的研发之中。\\r\\nMIUI 8去年5月发布，距今已有一年有余，也是时候更新换代了。\\r\\n当然，关于MIUI 9的确切信息，我们还是等待官方消息。\\r\\n'"
      ]
     },
     "execution_count": 11,
     "metadata": {},
     "output_type": "execute_result"
    }
   ],
   "source": [
    "articles[0]"
   ]
  },
  {
   "cell_type": "markdown",
   "metadata": {},
   "source": [
    "**Step2:清洗文本**"
   ]
  },
  {
   "cell_type": "markdown",
   "metadata": {},
   "source": [
    "<font color = purple size=4 face=\"黑体\">  想把某些东西去掉，比如\\r\\n，需要正则表达式。正则表达式根据特定的规则获取想要的东西</font>"
   ]
  },
  {
   "cell_type": "code",
   "execution_count": 10,
   "metadata": {},
   "outputs": [],
   "source": [
    "import re #正则表达式"
   ]
  },
  {
   "cell_type": "code",
   "execution_count": 11,
   "metadata": {},
   "outputs": [],
   "source": [
    "def token(string):\n",
    "    # we will learn the regular expression next course.\n",
    "    return re.findall('\\w+', string) #\\w指所有的words"
   ]
  },
  {
   "cell_type": "code",
   "execution_count": 95,
   "metadata": {},
   "outputs": [
    {
     "data": {
      "text/plain": [
       "['新华社德国杜塞尔多夫６月６日电题',\n",
       " '乒乓女球迷',\n",
       " 'n',\n",
       " '新华社记者王子江',\n",
       " '张寒',\n",
       " 'n',\n",
       " '熊老师离开上海前',\n",
       " '特意花一千多元买了一只张继科代言的球拍',\n",
       " '准备在世界锦标赛期间他赢了比赛后',\n",
       " '能在球拍上签个名',\n",
       " '但没想到张继科在３２强赛中',\n",
       " '输给了韩国的李尚洙',\n",
       " 'n',\n",
       " '拍子算是白拿过来了',\n",
       " '熊老师摇头',\n",
       " '就算是信仰充值了',\n",
       " 'n',\n",
       " '信仰充值',\n",
       " '是乒乓球粉丝圈非常流行的词汇',\n",
       " '简单来说',\n",
       " '就是为自己喜欢的明星或球队花钱',\n",
       " 'n',\n",
       " '熊老师',\n",
       " '是这位２２岁的成都姑娘的',\n",
       " '艺名',\n",
       " '艺名',\n",
       " '这一称呼也是她们自己形容的',\n",
       " '熊老师的真实身份是上海一所名牌大学会计专业的大四学生',\n",
       " '其他同学正在抓紧毕业找工作',\n",
       " '她一个人溜到德国观看世乒赛',\n",
       " '尽管带着张继科的球拍',\n",
       " '但熊老师并不是张的铁粉',\n",
       " '她并不喜欢张继科输了比赛之后',\n",
       " '一堆',\n",
       " '科迷',\n",
       " '在赛场外抱头痛哭的场景',\n",
       " '而显得比较理智',\n",
       " '但是因为',\n",
       " '科迷',\n",
       " '数量众多',\n",
       " '让她这种散户',\n",
       " '也有些说不出的羡慕',\n",
       " 'n',\n",
       " '他们竟然连续两天买断了一面看台上所有的门票',\n",
       " '为的是挂起带有张继科名字的旗子',\n",
       " '两天就要花４',\n",
       " '５万人民币',\n",
       " '熊老师直喊过分',\n",
       " 'n',\n",
       " '熊老师与其他１０名中国队女球迷挤在一套三居室里',\n",
       " '厨房的柜子里塞了很多方便面',\n",
       " '至少三个人挤在一个房间里',\n",
       " '条件的确差了点',\n",
       " '但住宿费平摊下来每天只有大约２００元人民币',\n",
       " '这样让大家心里平衡了很多',\n",
       " 'n',\n",
       " '房间里的所有人都是在网上认识的',\n",
       " '大家也并不全知道对方真实的姓名和身份',\n",
       " '我们都用艺名',\n",
       " '来自广州的茶茶说',\n",
       " '茶茶已经工作了几年',\n",
       " '这次也是利用假期出来的',\n",
       " 'n',\n",
       " '所有人都是提前大约半年从国际乒联的官网上买了比赛的通票',\n",
       " '可以观看全程所有的比赛',\n",
       " '票价大约两千块人民币',\n",
       " '５月底６月初并不是旅游旺季',\n",
       " '机票也不是太贵',\n",
       " '这让她们都很庆幸',\n",
       " 'n',\n",
       " '里面最幸运的应该是井井',\n",
       " '她这次来的身份是一家时尚媒体的记者',\n",
       " '她申请到了记者证',\n",
       " '每天背着一个大相机在场地里边拍照边看球',\n",
       " '她提前大约一个星期就来到了德国',\n",
       " '比赛开始前她去附近几个城市玩了玩',\n",
       " '这一趟世乒赛之旅非常充实',\n",
       " 'n',\n",
       " '十几个人中最不像球迷的是一位来自香港的女大学生',\n",
       " '看上去文静内向',\n",
       " '其他人都叫她香港妹',\n",
       " '香港妹与熊老师一样',\n",
       " '都是学的会计专业',\n",
       " '她告诉父母这次出来是到德国看朋友',\n",
       " '住宿和球票的花费都是平时做家教挣的',\n",
       " '父母支援了机票钱',\n",
       " '从香港到杜塞尔多夫往返只有三千多元人民币',\n",
       " '让其他内地球迷非常羡慕',\n",
       " 'n',\n",
       " '香港妹以前并不懂乒乓球',\n",
       " '去年里约奥运会时',\n",
       " '一家人边吃饭边看电视',\n",
       " '正好电视直播乒乓球比赛',\n",
       " '从此她就成了中国队的球迷',\n",
       " 'n',\n",
       " '香港妹更让人羡慕的还是来德国不用签证',\n",
       " '不过熊老师也欣慰地说',\n",
       " '这次有了德国的签证',\n",
       " '以后去日本看比赛签证就容易多了',\n",
       " 'n',\n",
       " '这些女孩子大部分都是第一次出国',\n",
       " '以前都是在国内看比赛',\n",
       " '熊老师自称这几年甚至到过一些非常奇葩的赛场',\n",
       " '去年一个比赛在东北某城市举行',\n",
       " '由于赛场过于偏僻',\n",
       " '她在手机上点了外卖',\n",
       " '最后却被强制退单',\n",
       " '她饿着肚子看完了比赛',\n",
       " 'n',\n",
       " '女球迷们每天早出晚归',\n",
       " '看完比赛回来有时候近半夜',\n",
       " '回来之后还要互相交流当天的看球感想',\n",
       " '十几个女孩子叽叽喳喳',\n",
       " '吵得楼上一个德国老太太下来敲门',\n",
       " '让她们保持安静',\n",
       " '但她们聊着聊着仍然不自觉嗓门就大起来',\n",
       " 'n',\n",
       " '世乒赛闭幕那天晚上',\n",
       " '她们在餐馆里吃了顿散伙饭',\n",
       " '中国队拿了４个冠军',\n",
       " '但每个人的心情不一样',\n",
       " '因为她们支持的偶像并不完全相同',\n",
       " '好几人支持刘诗雯',\n",
       " '但她在女单半决赛就输了',\n",
       " '小伙伴们一起丧了很久',\n",
       " '井井在朋友圈里说',\n",
       " 'n',\n",
       " '告别的那天',\n",
       " '大家不约而同在朋友圈里晒了聚餐的照片',\n",
       " '伤感地告别',\n",
       " 'n',\n",
       " '走了',\n",
       " '杜塞尔多夫',\n",
       " '井井说',\n",
       " 'n',\n",
       " '在这呆了一个星期',\n",
       " '要走了还是有点不舍得',\n",
       " '都还没好好看看这个城市',\n",
       " '再见啦',\n",
       " '杜塞',\n",
       " '茶茶说',\n",
       " 'n',\n",
       " '熊老师最后一条朋友圈发的是丁宁和刘诗雯赢得女双冠军的照片',\n",
       " 'n',\n",
       " '懂事之前',\n",
       " '情动以后',\n",
       " '长不过一天',\n",
       " '留不住',\n",
       " '算不出',\n",
       " '流年',\n",
       " '她写道',\n",
       " '完',\n",
       " 'n']"
      ]
     },
     "execution_count": 95,
     "metadata": {},
     "output_type": "execute_result"
    }
   ],
   "source": [
    "token(articles[-1])"
   ]
  },
  {
   "cell_type": "code",
   "execution_count": 14,
   "metadata": {},
   "outputs": [
    {
     "name": "stdout",
     "output_type": "stream",
     "text": [
      "此外，自本周（6月12日）起，除小米手机6等15款机型外，其余机型已暂停更新发布（含开发版/体验版内测，稳定版暂不受影响），以确保工程师可以集中全部精力进行系统优化工作。有人猜测这也是将精力主要用到MIUI 9的研发之中。\r\n",
      "MIUI 8去年5月发布，距今已有一年有余，也是时候更新换代了。\r\n",
      "当然，关于MIUI 9的确切信息，我们还是等待官方消息。\r\n",
      "\n",
      "['此外', '自本周', '6月12日', '起', '除小米手机6等15款机型外', '其余机型已暂停更新发布', '含开发版', '体验版内测', '稳定版暂不受影响', '以确保工程师可以集中全部精力进行系统优化工作', '有人猜测这也是将精力主要用到MIUI', '9的研发之中', 'MIUI', '8去年5月发布', '距今已有一年有余', '也是时候更新换代了', '当然', '关于MIUI', '9的确切信息', '我们还是等待官方消息']\n"
     ]
    }
   ],
   "source": [
    "print(str(articles[0]))\n",
    "print(token(str(articles[0])))"
   ]
  },
  {
   "cell_type": "code",
   "execution_count": 13,
   "metadata": {},
   "outputs": [],
   "source": [
    "#清洗所有articles\n",
    "articles_clean = [''.join(token(str(a)))for a in articles]"
   ]
  },
  {
   "cell_type": "code",
   "execution_count": 22,
   "metadata": {},
   "outputs": [
    {
     "data": {
      "text/plain": [
       "89611"
      ]
     },
     "execution_count": 22,
     "metadata": {},
     "output_type": "execute_result"
    }
   ],
   "source": [
    "len(articles_clean)"
   ]
  },
  {
   "cell_type": "markdown",
   "metadata": {},
   "source": [
    "<font color = purple size=4 face=\"黑体\">Tips:AI的问题中，65%都是在做数据预处理，假如做了很久的预处理，养成习惯把重要的信息及时保存至硬盘里。</font>"
   ]
  },
  {
   "cell_type": "code",
   "execution_count": 24,
   "metadata": {},
   "outputs": [],
   "source": [
    "'''\n",
    "#save to disk\n",
    "with open('article_9k.txt', 'w') as f:\n",
    "    for a in articles_clean:\n",
    "        f.write(a + '\\n')\n",
    "'''"
   ]
  },
  {
   "cell_type": "code",
   "execution_count": 25,
   "metadata": {},
   "outputs": [
    {
     "name": "stdout",
     "output_type": "stream",
     "text": [
      " Volume in drive C is Windows\n",
      " Volume Serial Number is 7C14-352E\n",
      "\n",
      " Directory of C:\\Users\\wy\\1.NPL\n",
      "\n",
      "01/17/2020  12:46 PM    <DIR>          .\n",
      "01/17/2020  12:46 PM    <DIR>          ..\n",
      "01/17/2020  11:30 AM    <DIR>          .ipynb_checkpoints\n",
      "01/17/2020  12:48 PM        64,368,892 article_9k.txt\n",
      "01/17/2020  09:28 AM           283,246 article_9k_cut.txt\n",
      "01/17/2020  12:46 PM            97,215 [M]Lecture-01-Syntax-Tree-and-Language-Model.ipynb\n",
      "               3 File(s)     64,749,353 bytes\n",
      "               3 Dir(s)  39,384,612,864 bytes free\n"
     ]
    }
   ],
   "source": [
    "#!ls命令报错\n",
    "#solution:https://blog.csdn.net/weixin_43760295/article/details/93620024\n",
    "#!ls\n",
    "!dir"
   ]
  },
  {
   "cell_type": "markdown",
   "metadata": {},
   "source": [
    "**Basics: jieba和Counter**"
   ]
  },
  {
   "cell_type": "code",
   "execution_count": 7,
   "metadata": {},
   "outputs": [],
   "source": [
    "import jieba #用来做汉语分词"
   ]
  },
  {
   "cell_type": "code",
   "execution_count": 16,
   "metadata": {},
   "outputs": [
    {
     "name": "stderr",
     "output_type": "stream",
     "text": [
      "Building prefix dict from the default dictionary ...\n",
      "Loading model from cache C:\\Users\\wy\\AppData\\Local\\Temp\\jieba.cache\n",
      "Loading model cost 1.087 seconds.\n",
      "Prefix dict has been built successfully.\n"
     ]
    },
    {
     "data": {
      "text/plain": [
       "['这个', '是', '用来', '做', '汉语言', '分词', '的']"
      ]
     },
     "execution_count": 16,
     "metadata": {},
     "output_type": "execute_result"
    }
   ],
   "source": [
    "#jieba.cut是一个generator\n",
    "list(jieba.cut('这个是用来做汉语言分词的'))"
   ]
  },
  {
   "cell_type": "code",
   "execution_count": 17,
   "metadata": {},
   "outputs": [],
   "source": [
    "from collections import Counter"
   ]
  },
  {
   "cell_type": "code",
   "execution_count": 18,
   "metadata": {},
   "outputs": [],
   "source": [
    "with_jieba_cut = Counter(jieba.cut(articles[110])) #计算"
   ]
  },
  {
   "cell_type": "code",
   "execution_count": 19,
   "metadata": {
    "scrolled": false
   },
   "outputs": [
    {
     "data": {
      "text/plain": [
       "[('，', 88),\n",
       " ('的', 73),\n",
       " ('。', 39),\n",
       " ('\\r\\n', 27),\n",
       " ('了', 20),\n",
       " ('们', 18),\n",
       " ('工作队', 16),\n",
       " ('村民', 15),\n",
       " ('收割', 14),\n",
       " ('、', 12)]"
      ]
     },
     "execution_count": 19,
     "metadata": {},
     "output_type": "execute_result"
    }
   ],
   "source": [
    "with_jieba_cut.most_common()[:10]"
   ]
  },
  {
   "cell_type": "code",
   "execution_count": 20,
   "metadata": {},
   "outputs": [
    {
     "data": {
      "text/plain": [
       "'在外国名著麦田里的守望者中作者想要守护麦田里如自己内心一般纯真的孩子们而驻村干部们也在这个炎热的夏天里撸袖子上阵真正做起了村民们的麦田守望者三夏时节不等人你看到了吗不停翻涌起伏仿若铺陈至天边的金黄麦浪中那若隐若现的人影是自治区新闻出版广电局驻和田市肖尔巴格乡合尼村工作队的队员与工作队组织的青年志愿者在这个炎热的夏季他们深入田间地头帮助村民们收割小麦扛起收麦机麦田中的每个人都显得兴致勃勃一天下来就近22亩小麦收割完毕志愿者麦麦提亚森擦去满脸的汗水高兴地告诉驻村队员我们青年志愿者应该多做贡献为村里的脱贫致富出把力工作队带着我们为村里的老人服务看到那些像我爷爷奶奶一样的老人赞许感谢的目光我体会到了帮助他人的快乐自治区新闻出版广电局驻村工作队孙敏艾力依布拉音麦收时节我们在一起6月中旬的和田墨玉麦田金黄静待收割6月14日15日两天自治区高级人民法院驻和田地区墨玉县吐外特乡罕勒克艾日克村工作队与48名村民志愿者一道帮助村里29户有需要的村民进行小麦收割工作田间地头罕勒克艾日克村志愿队的红旗迎风飘扬格外醒目10余台割麦机一起轰鸣男人们在用机器收割小麦的同时几名妇女也加入到志愿队构成了一道美丽的麦收风景休息空闲工作队员和村民们坐在树荫下田埂上互相问好聊天语言交流有困难就用手势动作比划着聊天有趣地交流方式不时引来阵阵欢笑大家在一同享受丰收和喜悦也一同增进着彼此的情感和友谊自治区高级人民法院驻村工作队周春梅艾地艾木阿不拉细看稻菽千重浪6月15日自治区煤田灭火工程局的干部职工们再一次跋涉1000多公里来到了叶城县萨依巴格乡阿亚格欧尔达贝格村见到了自己的亲戚现场处处都透出掩盖不住的喜悦一声声亲切的谢谢一个个结实的拥抱都透露出浓浓的亲情没坐一会儿在嘘寒问暖中大家了解到在麦收的关键时刻部分村民家中却存在收割难的问题小麦成熟期短收获的时间集中天气的变化对小麦最终产量的影响极大如果不能及时收割会有不小损失的于是大家几乎立刻就决定要帮助亲戚们收割麦子在茂密的麦地里干部们每人手持一把镰刀一字排开挽起衣袖卷起裤腿挥舞着镰刀进行着无声的竞赛骄阳似火汗如雨下但这都挡不住大家的热情随着此起彼伏的镰刀割倒麦子的刷刷声响不一会一束束沉甸甸的麦穗就被整齐地堆放了起来当看到自己亲手收割的金黄色麦穗被一簇簇地打成捆运送到晒场每个人的脸上都露出了灿烂的笑容自治区煤田灭火工程局驻村工作队马浩南这是一个收获多多的季节6月13日清晨6时许和田地区民丰县若雅乡特开墩村的麦田里已经传来马达轰鸣声原来是自治区质监局驻村工作队趁着天气尚且凉爽开始了麦田的收割工作忙碌间隙志愿者队伍搬来清凉的水村民们拎来鲜甜的西瓜抹一把汗水吃一牙西瓜甜蜜的汁水似乎流进了每一个人的心里说起割麦子对于生活在这片土地上的村民来说是再平常不过的事但是对于工作队队员们来说却是陌生的自治区质监局驻民丰县若克雅乡博斯坦村工作队队员们一开始觉得十几个人一起收割二亩地应该会挺快的结果却一点不简单镰刀拿到自己手里割起来考验才真正的开始大家弓着腰弯着腿亦步亦趋手上挥舞着镰刀时刻注意不要让镰刀割到自己脚下还要留心不要把套种的玉米苗踩伤不一会儿就已经汗流浃背了抬头看看身边的村民早就远远地割到前面去了只有今年已经56岁的工作队队长李树刚有割麦经验多少给队员们挽回了些面子赶不上村民们割麦子的速度更不要说搞定收割机这台大家伙了现代化的机械收割能成倍提升小麦的收割速度李树刚说不过能有这样的体验拉近和村民的距离也是很难得的体验自治区质监局驻村工作队王辉马君刚我们是麦田的守护者为了应对麦收新疆银监局驻和田县塔瓦库勒乡也先巴扎村工作队一早就从经济支援和人力支援两方面做好了准备一方面工作队帮村里购入了5台小麦收割机另一边还组织村干部青年团员等组成了6支近百人的收割先锋突击队帮助村民们抢收麦子看着及时归仓的麦子村民们喜得合不拢嘴纷纷摘下自家杏树上的杏子送给工作队金黄的麦穗温暖了村民们的心香甜的杏子温暖了工作队员的心麦子加杏子拉近了村民和队员们的心新疆银监局驻村工作队王继发免责声明本文仅代表作者个人观点与环球网无关其原创性以及文中陈述文字和内容未经本站证实对本文以及其中全部或者部分内容文字的真实性完整性及时性本站不作任何保证或承诺请读者仅作参考并请自行核实相关内容'"
      ]
     },
     "execution_count": 20,
     "metadata": {},
     "output_type": "execute_result"
    }
   ],
   "source": [
    "''.join(token(articles[110]))"
   ]
  },
  {
   "cell_type": "markdown",
   "metadata": {},
   "source": [
    "**Step3:文本切词**"
   ]
  },
  {
   "cell_type": "code",
   "execution_count": 96,
   "metadata": {},
   "outputs": [],
   "source": [
    "import jieba"
   ]
  },
  {
   "cell_type": "code",
   "execution_count": 97,
   "metadata": {},
   "outputs": [],
   "source": [
    "#def cut(string): return list(jieba.cut(string))\n",
    "def cut(string): return jieba.cut(string)"
   ]
  },
  {
   "cell_type": "code",
   "execution_count": 29,
   "metadata": {},
   "outputs": [
    {
     "data": {
      "text/plain": [
       "\"\\n#方法一：TOKEN为generator\\nTOKEN = cut(open('article_9k.txt').read()) #TOKEN is a generator\\n\""
      ]
     },
     "execution_count": 29,
     "metadata": {},
     "output_type": "execute_result"
    }
   ],
   "source": [
    "'''\n",
    "#方法一：TOKEN为generator\n",
    "TOKEN = cut(open('article_9k.txt').read()) #TOKEN is a generator\n",
    "'''"
   ]
  },
  {
   "cell_type": "code",
   "execution_count": 99,
   "metadata": {},
   "outputs": [
    {
     "name": "stdout",
     "output_type": "stream",
     "text": [
      "0\n",
      "10000\n",
      "20000\n",
      "30000\n",
      "40000\n",
      "50000\n",
      "60000\n",
      "70000\n",
      "80000\n"
     ]
    }
   ],
   "source": [
    "#'''\n",
    "#方法二：预习材料里\n",
    "TOKEN = []\n",
    "for i, line in enumerate((open('article_9k.txt'))):\n",
    "    if i % 10000 == 0: print(i)\n",
    "    \n",
    "    # replace 10000 with a big number(200000) when you do your homework. \n",
    "    \n",
    "    if i > 500000: break    \n",
    "    TOKEN += cut(line)\n",
    "#'''"
   ]
  },
  {
   "cell_type": "code",
   "execution_count": null,
   "metadata": {},
   "outputs": [],
   "source": [
    "'''\n",
    "#方法二的课上代码，为加快速度采取的采样方法\n",
    "All_Token = cut(open('article_9k.txt').read())\n",
    "TOKEN=[]\n",
    "for i, t  in enumerate(All_Token):\n",
    "    if i > 500000: break\n",
    "    if i % 10000 == 0:print(i)\n",
    "    TOKEN.append(t)\n",
    "'''"
   ]
  },
  {
   "cell_type": "code",
   "execution_count": 94,
   "metadata": {},
   "outputs": [
    {
     "data": {
      "text/plain": [
       "500001"
      ]
     },
     "execution_count": 94,
     "metadata": {},
     "output_type": "execute_result"
    }
   ],
   "source": [
    "len(TOKEN)"
   ]
  },
  {
   "cell_type": "code",
   "execution_count": 32,
   "metadata": {},
   "outputs": [
    {
     "data": {
      "text/plain": [
       "200001"
      ]
     },
     "execution_count": 32,
     "metadata": {},
     "output_type": "execute_result"
    }
   ],
   "source": [
    "len(TOKEN)"
   ]
  },
  {
   "cell_type": "code",
   "execution_count": 33,
   "metadata": {},
   "outputs": [
    {
     "data": {
      "text/plain": [
       "list"
      ]
     },
     "execution_count": 33,
     "metadata": {},
     "output_type": "execute_result"
    }
   ],
   "source": [
    "type(TOKEN)"
   ]
  },
  {
   "cell_type": "code",
   "execution_count": 34,
   "metadata": {},
   "outputs": [
    {
     "data": {
      "text/plain": [
       "\"\\n#save TOKEN to disk\\nwith open('article_9k_cut.txt','w') as f:\\n    for a in TOKEN:\\n        f.write(a+'\\n')\\n\""
      ]
     },
     "execution_count": 34,
     "metadata": {},
     "output_type": "execute_result"
    }
   ],
   "source": [
    "\"\"\"\n",
    "#save TOKEN to disk\n",
    "with open('article_9k_cut.txt','w') as f:\n",
    "    for a in TOKEN:\n",
    "        f.write(a+'\\n')\n",
    "\"\"\"   "
   ]
  },
  {
   "cell_type": "markdown",
   "metadata": {},
   "source": [
    "**Basics: reduce**"
   ]
  },
  {
   "cell_type": "code",
   "execution_count": 35,
   "metadata": {},
   "outputs": [],
   "source": [
    "from functools import reduce"
   ]
  },
  {
   "cell_type": "code",
   "execution_count": 36,
   "metadata": {},
   "outputs": [],
   "source": [
    "from operator import add, mul"
   ]
  },
  {
   "cell_type": "code",
   "execution_count": 37,
   "metadata": {},
   "outputs": [
    {
     "data": {
      "text/plain": [
       "23"
      ]
     },
     "execution_count": 37,
     "metadata": {},
     "output_type": "execute_result"
    }
   ],
   "source": [
    "reduce(add, [1, 2, 3, 4, 5, 8])"
   ]
  },
  {
   "cell_type": "code",
   "execution_count": 38,
   "metadata": {},
   "outputs": [
    {
     "data": {
      "text/plain": [
       "[1, 2, 3, 3, 43, 5]"
      ]
     },
     "execution_count": 38,
     "metadata": {},
     "output_type": "execute_result"
    }
   ],
   "source": [
    "[1, 2, 3] + [3, 43, 5]"
   ]
  },
  {
   "cell_type": "code",
   "execution_count": 39,
   "metadata": {},
   "outputs": [],
   "source": [
    "from collections import Counter"
   ]
  },
  {
   "cell_type": "code",
   "execution_count": 40,
   "metadata": {},
   "outputs": [],
   "source": [
    "words_count = Counter(TOKEN)"
   ]
  },
  {
   "cell_type": "code",
   "execution_count": 81,
   "metadata": {},
   "outputs": [
    {
     "data": {
      "text/plain": [
       "0"
      ]
     },
     "execution_count": 81,
     "metadata": {},
     "output_type": "execute_result"
    }
   ],
   "source": [
    "words_count['一杯']"
   ]
  },
  {
   "cell_type": "code",
   "execution_count": 41,
   "metadata": {},
   "outputs": [
    {
     "data": {
      "text/plain": [
       "28898"
      ]
     },
     "execution_count": 41,
     "metadata": {},
     "output_type": "execute_result"
    }
   ],
   "source": [
    "len(words_count)"
   ]
  },
  {
   "cell_type": "code",
   "execution_count": 42,
   "metadata": {},
   "outputs": [
    {
     "data": {
      "text/plain": [
       "[('的', 11043),\n",
       " ('在', 2863),\n",
       " ('了', 2546),\n",
       " ('是', 1854),\n",
       " ('和', 1584),\n",
       " ('也', 1043),\n",
       " ('有', 930),\n",
       " ('月', 763),\n",
       " ('他', 762),\n",
       " ('将', 736)]"
      ]
     },
     "execution_count": 42,
     "metadata": {},
     "output_type": "execute_result"
    }
   ],
   "source": [
    "words_count.most_common(10)"
   ]
  },
  {
   "cell_type": "markdown",
   "metadata": {},
   "source": [
    "**画图：单词出现频率**"
   ]
  },
  {
   "cell_type": "code",
   "execution_count": 43,
   "metadata": {},
   "outputs": [],
   "source": [
    "frequiences = [f for w, f in words_count.most_common(100)]"
   ]
  },
  {
   "cell_type": "code",
   "execution_count": 44,
   "metadata": {},
   "outputs": [],
   "source": [
    "x = [i for i in range(100)]"
   ]
  },
  {
   "cell_type": "code",
   "execution_count": 45,
   "metadata": {},
   "outputs": [],
   "source": [
    "%matplotlib inline"
   ]
  },
  {
   "cell_type": "code",
   "execution_count": 46,
   "metadata": {},
   "outputs": [],
   "source": [
    "import matplotlib.pyplot as plt"
   ]
  },
  {
   "cell_type": "code",
   "execution_count": 47,
   "metadata": {},
   "outputs": [
    {
     "data": {
      "text/plain": [
       "[<matplotlib.lines.Line2D at 0x27338cc5908>]"
      ]
     },
     "execution_count": 47,
     "metadata": {},
     "output_type": "execute_result"
    },
    {
     "data": {
      "image/png": "[encoded data removed]",
      "text/plain": [
       "<Figure size 432x288 with 1 Axes>"
      ]
     },
     "metadata": {
      "needs_background": "light"
     },
     "output_type": "display_data"
    }
   ],
   "source": [
    "plt.plot(x, frequiences)"
   ]
  },
  {
   "cell_type": "markdown",
   "metadata": {},
   "source": [
    "<font color = purple size=4 face=\"黑体\">NLP比较重要的规律：在很大的一个文集中，第二个单词的出现频率是第一个单词的出现频率的1/2，第n个单词的出现频率是第1个单词的出现频率的1/n  </font>"
   ]
  },
  {
   "cell_type": "code",
   "execution_count": 48,
   "metadata": {},
   "outputs": [],
   "source": [
    "import numpy as np"
   ]
  },
  {
   "cell_type": "code",
   "execution_count": 49,
   "metadata": {},
   "outputs": [
    {
     "data": {
      "text/plain": [
       "[<matplotlib.lines.Line2D at 0x27338d5ad68>]"
      ]
     },
     "execution_count": 49,
     "metadata": {},
     "output_type": "execute_result"
    },
    {
     "data": {
      "image/png": "[encoded data removed]",
      "text/plain": [
       "<Figure size 432x288 with 1 Axes>"
      ]
     },
     "metadata": {
      "needs_background": "light"
     },
     "output_type": "display_data"
    }
   ],
   "source": [
    "plt.plot(x, np.log(frequiences))"
   ]
  },
  {
   "cell_type": "markdown",
   "metadata": {},
   "source": [
    "**Step4：Language Model**"
   ]
  },
  {
   "cell_type": "markdown",
   "metadata": {},
   "source": [
    "<font color = purple size=4 face=\"黑体\">$$P(sentence) = P(w_1w_2w_3w_4)=\\prod_{i=0}^{n}\\frac{\\#W_iW_{i+1}}{\\#W_{i+1}}*P(w_{n})$$</font>"
   ]
  },
  {
   "cell_type": "code",
   "execution_count": 100,
   "metadata": {},
   "outputs": [],
   "source": [
    "#P(w_n) = words_count[]/len(token)\n",
    "def prob_1(word):\n",
    "    return words_count[word] / len(TOKEN)"
   ]
  },
  {
   "cell_type": "code",
   "execution_count": 51,
   "metadata": {},
   "outputs": [
    {
     "data": {
      "text/plain": [
       "452"
      ]
     },
     "execution_count": 51,
     "metadata": {},
     "output_type": "execute_result"
    }
   ],
   "source": [
    "#calculate #w_{i+1}\n",
    "words_count['我们'] #P(w_n) = words_count[]/len(token)"
   ]
  },
  {
   "cell_type": "code",
   "execution_count": 52,
   "metadata": {},
   "outputs": [
    {
     "data": {
      "text/plain": [
       "0.0022599887000565"
      ]
     },
     "execution_count": 52,
     "metadata": {},
     "output_type": "execute_result"
    }
   ],
   "source": [
    "prob_1('我们')"
   ]
  },
  {
   "cell_type": "raw",
   "metadata": {},
   "source": [
    "如何计算#W_{i}#W_{i+1}?<br>\n",
    "step1:把连续两个词join -> TOKEN_2_GRAM<br>\n",
    "step2:计算已连接的两个词的出现频率 -> words_count_2<br>\n",
    "step3:出现频率/长度(words_count) -> prob_2 (若没出现过设置出现频率为1)"
   ]
  },
  {
   "cell_type": "code",
   "execution_count": 54,
   "metadata": {},
   "outputs": [],
   "source": [
    "TOKEN = [str(t) for t in TOKEN]"
   ]
  },
  {
   "cell_type": "code",
   "execution_count": 55,
   "metadata": {},
   "outputs": [],
   "source": [
    "#连接相邻的两个词\n",
    "TOKEN_2_GRAM = [''.join(TOKEN[i:i+2]) for i in range(len(TOKEN[:-2]))]"
   ]
  },
  {
   "cell_type": "code",
   "execution_count": 56,
   "metadata": {},
   "outputs": [
    {
     "data": {
      "text/plain": [
       "['提倡参赛者', '参赛者胆有', '胆有多', '多大', '大就', '就露', '露多少', '多少照片', '照片中', '中有人']"
      ]
     },
     "execution_count": 56,
     "metadata": {},
     "output_type": "execute_result"
    }
   ],
   "source": [
    "TOKEN_2_GRAM[-10:]"
   ]
  },
  {
   "cell_type": "code",
   "execution_count": 57,
   "metadata": {},
   "outputs": [],
   "source": [
    "#计算相邻两个词的频率\n",
    "words_count_2 = Counter(TOKEN_2_GRAM)"
   ]
  },
  {
   "cell_type": "code",
   "execution_count": 90,
   "metadata": {},
   "outputs": [],
   "source": [
    "#原代码\n",
    "#def prob_1(word): return words_count[word] / len(TOKEN)\n",
    "#更改了一下，考虑words_count=0的情况\n",
    "def prob_1(word):\n",
    "    if words_count[word] == 0:\n",
    "        return 1/len(TOKEN)\n",
    "    else:\n",
    "        return words_count[word] / len(TOKEN)"
   ]
  },
  {
   "cell_type": "code",
   "execution_count": 91,
   "metadata": {
    "scrolled": true
   },
   "outputs": [
    {
     "data": {
      "text/plain": [
       "4.9999750001249995e-06"
      ]
     },
     "execution_count": 91,
     "metadata": {},
     "output_type": "execute_result"
    }
   ],
   "source": [
    "prob_1('一杯')"
   ]
  },
  {
   "cell_type": "code",
   "execution_count": 92,
   "metadata": {},
   "outputs": [],
   "source": [
    "def prob_2(word1, word2):\n",
    "    if word1 + word2 in words_count_2: \n",
    "        return words_count_2[word1+word2] / words_count[word2]\n",
    "    else:\n",
    "        return 1 / len(words_count) #out of vacabulary problem"
   ]
  },
  {
   "cell_type": "code",
   "execution_count": 93,
   "metadata": {},
   "outputs": [
    {
     "data": {
      "text/plain": [
       "3.4604470897639976e-05"
      ]
     },
     "execution_count": 93,
     "metadata": {},
     "output_type": "execute_result"
    }
   ],
   "source": [
    "prob_2('在', '吃饭')"
   ]
  },
  {
   "cell_type": "code",
   "execution_count": 94,
   "metadata": {},
   "outputs": [
    {
     "data": {
      "text/plain": [
       "3.4604470897639976e-05"
      ]
     },
     "execution_count": 94,
     "metadata": {},
     "output_type": "execute_result"
    }
   ],
   "source": [
    "prob_2('去', '吃饭')"
   ]
  },
  {
   "cell_type": "code",
   "execution_count": 98,
   "metadata": {},
   "outputs": [],
   "source": [
    "#计算 P(sentence)\n",
    "def get_probablity(sentence):\n",
    "    words = list(cut(sentence))\n",
    "    print(words)\n",
    "    sentence_pro = 1\n",
    "    \n",
    "    for i, word in enumerate(words[:-1]):\n",
    "        next_ = words[i+1]\n",
    "        \n",
    "        probability = prob_2(word, next_)\n",
    "    \n",
    "        sentence_pro *= probability\n",
    "        \n",
    "        #print(sentence_pro)\n",
    "        \n",
    "    sentence_pro *= prob_1(words[-1]) \n",
    "    #print(sentence_pro)\n",
    "    return sentence_pro"
   ]
  },
  {
   "cell_type": "code",
   "execution_count": 99,
   "metadata": {},
   "outputs": [
    {
     "name": "stdout",
     "output_type": "stream",
     "text": [
      "['小明', '今天', '抽奖', '抽到', '一台', '苹果', '手机']\n"
     ]
    },
    {
     "data": {
      "text/plain": [
       "4.962024392448898e-28"
      ]
     },
     "execution_count": 99,
     "metadata": {},
     "output_type": "execute_result"
    }
   ],
   "source": [
    "get_probablity('小明今天抽奖抽到一台苹果手机')"
   ]
  },
  {
   "cell_type": "code",
   "execution_count": 100,
   "metadata": {},
   "outputs": [
    {
     "name": "stdout",
     "output_type": "stream",
     "text": [
      "['小明', '今天', '抽奖', '抽到', '一架', '波音', '飞机']\n"
     ]
    },
    {
     "data": {
      "text/plain": [
       "2.8331857732509803e-31"
      ]
     },
     "execution_count": 100,
     "metadata": {},
     "output_type": "execute_result"
    }
   ],
   "source": [
    "get_probablity('小明今天抽奖抽到一架波音飞机')"
   ]
  },
  {
   "cell_type": "code",
   "execution_count": 101,
   "metadata": {},
   "outputs": [
    {
     "name": "stdout",
     "output_type": "stream",
     "text": [
      "['洋葱', '奶昔', '来', '一杯']\n"
     ]
    },
    {
     "data": {
      "text/plain": [
       "2.0718794013227872e-19"
      ]
     },
     "execution_count": 101,
     "metadata": {},
     "output_type": "execute_result"
    }
   ],
   "source": [
    "get_probablity('洋葱奶昔来一杯')"
   ]
  },
  {
   "cell_type": "code",
   "execution_count": 102,
   "metadata": {},
   "outputs": [
    {
     "name": "stdout",
     "output_type": "stream",
     "text": [
      "['养乐多', '绿来', '一杯']\n"
     ]
    },
    {
     "data": {
      "text/plain": [
       "5.9873170939425905e-15"
      ]
     },
     "execution_count": 102,
     "metadata": {},
     "output_type": "execute_result"
    }
   ],
   "source": [
    "get_probablity('养乐多绿来一杯')"
   ]
  },
  {
   "cell_type": "code",
   "execution_count": 107,
   "metadata": {},
   "outputs": [
    {
     "name": "stdout",
     "output_type": "stream",
     "text": [
      "['您好', '我', '是', '9651', '号', ',', '请问', '你', '要', 'null', '赌博', '吗', '？']\n",
      "sentence: 您好我是9651号,请问你要null赌博吗？ with Prb: 3.8274478565798973e-53\n",
      "['你好', '我', '是', '68', '号', ',', '请问', '你', '要', 'null', '赌博', '吗', '？']\n",
      "sentence: 你好我是68号,请问你要null赌博吗？ with Prb: 8.582553156148427e-55\n",
      "['先生', ',', '您好', '我', '是', '5', '号', ',', '请问', '你', '要', 'null', '喝酒', '吗', '？']\n",
      "sentence: 先生,您好我是5号,请问你要null喝酒吗？ with Prb: 2.32436104650601e-56\n",
      "['先生', ',', '您好', '我', '是', '2', '号', ',', '您', '需要', 'null', '赌博', '吗', '？']\n",
      "sentence: 先生,您好我是2号,您需要null赌博吗？ with Prb: 1.6355663805733857e-54\n",
      "['女士', ',', '您好', '我', '是', '6', '号', ',', '请问', '你', '要', 'null', '打牌', '吗', '？']\n",
      "sentence: 女士,您好我是6号,请问你要null打牌吗？ with Prb: 8.155073558053755e-57\n",
      "['您好', '我', '是', '424', '号', ',', '您', '需要', 'null', '赌博', '吗', '？']\n",
      "sentence: 您好我是424号,您需要null赌博吗？ with Prb: 5.626348349172448e-51\n",
      "['先生', ',', '您好', '我', '是', '5', '号', ',', '请问', '你', '要', 'null', '打牌', '吗', '？']\n",
      "sentence: 先生,您好我是5号,请问你要null打牌吗？ with Prb: 2.32436104650601e-56\n",
      "['小朋友', ',', '您好', '我', '是', '1', '号', ',', '请问', '你', '要', 'null', '赌博', '吗', '？']\n",
      "sentence: 小朋友,您好我是1号,请问你要null赌博吗？ with Prb: 4.7369404165592777e-57\n",
      "['您好', '我', '是', '17433543', '号', ',', '请问', '你', '要', 'null', '打猎', '吗', '？']\n",
      "sentence: 您好我是17433543号,请问你要null打猎吗？ with Prb: 3.8274478565798973e-53\n",
      "['你好', '我', '是', '3', '号', ',', '您', '需要', 'null', '喝酒', '吗', '？']\n",
      "sentence: 你好我是3号,您需要null喝酒吗？ with Prb: 3.5919938229199474e-50\n"
     ]
    }
   ],
   "source": [
    "#host的例子\n",
    "for sen in [generate_by_str(host, target='host',split='=') for i in range(10)]:\n",
    "    print('sentence: {} with Prb: {}'.format(sen, get_probablity(sen)))"
   ]
  },
  {
   "cell_type": "code",
   "execution_count": 108,
   "metadata": {},
   "outputs": [
    {
     "name": "stdout",
     "output_type": "stream",
     "text": [
      "['今天', '晚上', '请', '你', '吃', '大餐', '，', '我们', '一起', '吃', '日料']\n",
      "['明天', '晚上', '请', '你', '吃', '大餐', '，', '我们', '一起', '吃', '苹果']\n",
      "明天晚上请你吃大餐，我们一起吃苹果 is more possible\n",
      "---- 今天晚上请你吃大餐，我们一起吃日料 with probility 7.411677517444064e-48\n",
      "---- 明天晚上请你吃大餐，我们一起吃苹果 with probility 2.223503255233219e-46\n",
      "['真', '事', '一只', '好看', '的', '小猫']\n",
      "['真是', '一只', '好看', '的', '小猫']\n",
      "真是一只好看的小猫 is more possible\n",
      "---- 真事一只好看的小猫 with probility 3.752385042692723e-23\n",
      "---- 真是一只好看的小猫 with probility 1.0843642296373433e-18\n",
      "['今晚', '我', '去', '吃火锅']\n",
      "['今晚', '火锅', '去', '吃', '我']\n",
      "今晚我去吃火锅 is more possible\n",
      "---- 今晚我去吃火锅 with probility 2.897088916423834e-16\n",
      "---- 今晚火锅去吃我 with probility 2.071879401322787e-19\n",
      "['洋葱', '奶昔', '来', '一杯']\n",
      "['养乐多', '绿来', '一杯']\n",
      "养乐多绿来一杯 is more possible\n",
      "---- 洋葱奶昔来一杯 with probility 2.0718794013227872e-19\n",
      "---- 养乐多绿来一杯 with probility 5.9873170939425905e-15\n"
     ]
    }
   ],
   "source": [
    "need_compared = [\n",
    "    \"今天晚上请你吃大餐，我们一起吃日料 明天晚上请你吃大餐，我们一起吃苹果\",\n",
    "    \"真事一只好看的小猫 真是一只好看的小猫\",\n",
    "    \"今晚我去吃火锅 今晚火锅去吃我\",\n",
    "    \"洋葱奶昔来一杯 养乐多绿来一杯\"\n",
    "]\n",
    "\n",
    "for s in need_compared:\n",
    "    s1, s2 = s.split()\n",
    "    p1, p2 = get_probablity(s1), get_probablity(s2)\n",
    "    \n",
    "    better = s1 if p1 > p2 else s2\n",
    "    \n",
    "    print('{} is more possible'.format(better))\n",
    "    print('-'*4 + ' {} with probility {}'.format(s1, p1))\n",
    "    print('-'*4 + ' {} with probility {}'.format(s2, p2))"
   ]
  },
  {
   "cell_type": "markdown",
   "metadata": {},
   "source": [
    "<font color = purple size=4 face=\"黑体\">2-Gram模型的原理和代码实现。<br> More data, better result   </font>"
   ]
  }
 ],
 "metadata": {
  "kernelspec": {
   "display_name": "Python 3",
   "language": "python",
   "name": "python3"
  },
  "language_info": {
   "codemirror_mode": {
    "name": "ipython",
    "version": 3
   },
   "file_extension": ".py",
   "mimetype": "text/x-python",
   "name": "python",
   "nbconvert_exporter": "python",
   "pygments_lexer": "ipython3",
   "version": "3.6.7"
  }
 },
 "nbformat": 4,
 "nbformat_minor": 2
}
