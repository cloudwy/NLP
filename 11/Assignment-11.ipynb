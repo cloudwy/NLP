{
 "cells": [
  {
   "cell_type": "markdown",
   "metadata": {},
   "source": [
    "# 1. Cut Rod Problem"
   ]
  },
  {
   "cell_type": "code",
   "execution_count": 1,
   "metadata": {},
   "outputs": [],
   "source": [
    "from functools import wraps\n",
    "from collections import defaultdict  "
   ]
  },
  {
   "cell_type": "code",
   "execution_count": 2,
   "metadata": {},
   "outputs": [],
   "source": [
    "original_price = [1, 5, 8, 9, 10, 17, 17, 20, 24, 30]\n",
    "price = defaultdict(int)\n",
    "for i,p in enumerate(original_price):\n",
    "    price[i+1] = p"
   ]
  },
  {
   "cell_type": "code",
   "execution_count": 3,
   "metadata": {},
   "outputs": [],
   "source": [
    "def memo(f):\n",
    "    memo.already_computed={}\n",
    "    @wraps(f)\n",
    "    def _wrap(arg):\n",
    "        if arg in memo.already_computed:\n",
    "            result = memo.already_computed[arg]\n",
    "        else:\n",
    "            result = f(arg)\n",
    "            memo.already_computed[arg] = result\n",
    "        return result\n",
    "    return _wrap"
   ]
  },
  {
   "cell_type": "code",
   "execution_count": 4,
   "metadata": {},
   "outputs": [],
   "source": [
    "solution={}\n",
    "@memo\n",
    "def r_op(n):\n",
    "    \"\"\"\n",
    "    Args: n is the iron length\n",
    "    Return: the max revenue \n",
    "    \"\"\"\n",
    "    max_price,max_split = max(\n",
    "            [(price[n],0)] + [(r_op(i) + r_op(n-i), i) for i in range(1,n)],key=lambda x:x[0]\n",
    "    )\n",
    "    solution[n] = (n-max_split,max_split)\n",
    "    return max_price"
   ]
  },
  {
   "cell_type": "code",
   "execution_count": 5,
   "metadata": {},
   "outputs": [],
   "source": [
    "def parse_solution(n):\n",
    "    left_split, right_split = solution[n]\n",
    "    if right_split == 0: return [left_split]\n",
    "    return parse_solution(left_split) + parse_solution(right_split)"
   ]
  },
  {
   "cell_type": "code",
   "execution_count": 6,
   "metadata": {},
   "outputs": [
    {
     "data": {
      "text/plain": [
       "60"
      ]
     },
     "execution_count": 6,
     "metadata": {},
     "output_type": "execute_result"
    }
   ],
   "source": [
    "r_op(20)"
   ]
  },
  {
   "cell_type": "code",
   "execution_count": 7,
   "metadata": {},
   "outputs": [
    {
     "data": {
      "text/plain": [
       "{1: (1, 0),\n",
       " 2: (2, 0),\n",
       " 3: (3, 0),\n",
       " 4: (2, 2),\n",
       " 5: (3, 2),\n",
       " 6: (6, 0),\n",
       " 7: (6, 1),\n",
       " 8: (6, 2),\n",
       " 9: (6, 3),\n",
       " 10: (10, 0),\n",
       " 11: (10, 1),\n",
       " 12: (10, 2),\n",
       " 13: (10, 3),\n",
       " 14: (12, 2),\n",
       " 15: (13, 2),\n",
       " 16: (10, 6),\n",
       " 17: (16, 1),\n",
       " 18: (16, 2),\n",
       " 19: (16, 3),\n",
       " 20: (10, 10)}"
      ]
     },
     "execution_count": 7,
     "metadata": {},
     "output_type": "execute_result"
    }
   ],
   "source": [
    "solution"
   ]
  },
  {
   "cell_type": "code",
   "execution_count": 8,
   "metadata": {},
   "outputs": [
    {
     "data": {
      "text/plain": [
       "[10, 6, 1]"
      ]
     },
     "execution_count": 8,
     "metadata": {},
     "output_type": "execute_result"
    }
   ],
   "source": [
    "parse_solution(17)"
   ]
  },
  {
   "cell_type": "markdown",
   "metadata": {},
   "source": [
    "# 2. Edit Distance"
   ]
  },
  {
   "cell_type": "code",
   "execution_count": 9,
   "metadata": {},
   "outputs": [],
   "source": [
    "from functools import lru_cache"
   ]
  },
  {
   "cell_type": "code",
   "execution_count": 10,
   "metadata": {},
   "outputs": [],
   "source": [
    "solution = {}\n",
    "@lru_cache(maxsize=2**10) #max_size为缓存结果的个数，避免内存爆炸\n",
    "def edit_distance(string1, string2):\n",
    "    \n",
    "    if len(string1) == 0: return len(string2) #s1='',s2='word',删掉s2里的字母\n",
    "    if len(string2) == 0: return len(string1) #s1='word',s2='',插入s1里的字母\n",
    "    \n",
    "    tail_s1 = string1[-1]  #s1='word', tail_s1='d' -> 'wor'+'d'\n",
    "    tail_s2 = string2[-1]  #s2='work', tail_s2='k' -> 'wor'+'k'\n",
    "    \n",
    "    candidates = [\n",
    "        (edit_distance(string1[:-1], string2) + 1, 'DEL {}'.format(tail_s1)),  #edit_distance('wor','work')  \n",
    "        # string 1 delete tail\n",
    "        (edit_distance(string1, string2[:-1]) + 1, 'ADD {}'.format(tail_s2)), #edit_distance('word','wor')\n",
    "        # string 1 add tail of string2\n",
    "    ]\n",
    "    \n",
    "    #替换操作\n",
    "    if tail_s1 == tail_s2:\n",
    "        both_forward = (edit_distance(string1[:-1], string2[:-1]) + 0, '')\n",
    "    else:\n",
    "        both_forward = (edit_distance(string1[:-1], string2[:-1]) + 1, 'SUB {} => {}'.format(tail_s1, tail_s2))\n",
    "\n",
    "    candidates.append(both_forward) #candidates = [d(DEL),d(INSERT),d(SUB,NOSUB)]\n",
    "    \n",
    "    min_distance, operation = min(candidates, key=lambda x: x[0]) #x[0]指根据distance排序\n",
    "    \n",
    "    solution[(string1, string2)] = operation \n",
    "    \n",
    "    return min_distance"
   ]
  },
  {
   "cell_type": "markdown",
   "metadata": {},
   "source": [
    "### Todo: Parse Solution is our homework"
   ]
  },
  {
   "cell_type": "code",
   "execution_count": 11,
   "metadata": {},
   "outputs": [],
   "source": [
    "def delete_tail(string1,string2):\n",
    "    if string1[-1] != string2[-1]: return string1,string2\n",
    "    if string1 == string2: return string1,string2\n",
    "    else: return delete_tail(string1[:-1],string2[:-1])"
   ]
  },
  {
   "cell_type": "code",
   "execution_count": 12,
   "metadata": {},
   "outputs": [
    {
     "data": {
      "text/plain": [
       "('ABC', 'ABC')"
      ]
     },
     "execution_count": 12,
     "metadata": {},
     "output_type": "execute_result"
    }
   ],
   "source": [
    "delete_tail('ABC','ABC')"
   ]
  },
  {
   "cell_type": "code",
   "execution_count": 13,
   "metadata": {},
   "outputs": [],
   "source": [
    "def parse_solution_string(string1,string2,solution):\n",
    "    if string1[-1] == string2[-1]: \n",
    "        string1,string2 = delete_tail(string1,string2)\n",
    "    if string1 == string2 : return []\n",
    "    else:\n",
    "        s = solution[(string1,string2)]\n",
    "        if s != '':\n",
    "            op = s.split(\" \")\n",
    "            if op[0] == 'ADD':\n",
    "                return [s] + parse_solution_string(string1+string2[-1],string2,solution)\n",
    "            elif op[0] == 'DEL':\n",
    "                return [s] + parse_solution_string(string1[:-1],string2,solution)\n",
    "            elif op[0] == 'SUB':\n",
    "                return [s] + parse_solution_string(string1[:-1]+string2[-1],string2,solution)"
   ]
  },
  {
   "cell_type": "code",
   "execution_count": 14,
   "metadata": {},
   "outputs": [
    {
     "data": {
      "text/plain": [
       "['DEL G', 'SUB C => F', 'SUB D => C']"
      ]
     },
     "execution_count": 14,
     "metadata": {},
     "output_type": "execute_result"
    }
   ],
   "source": [
    "edit_distance('ABCDECG','ABCCEF')\n",
    "parse_solution_string('ABCDECG','ABCCEF',solution)"
   ]
  },
  {
   "cell_type": "markdown",
   "metadata": {},
   "source": [
    "# 3.Pinyin Auto Correction Problem"
   ]
  },
  {
   "cell_type": "code",
   "execution_count": 15,
   "metadata": {},
   "outputs": [],
   "source": [
    "import pinyin\n",
    "import re\n",
    "from collections import Counter,defaultdict"
   ]
  },
  {
   "cell_type": "code",
   "execution_count": 16,
   "metadata": {},
   "outputs": [],
   "source": [
    "chinese_dataset='article_9k.txt'\n",
    "CHINESE_CHARATERS = open(chinese_dataset).read()"
   ]
  },
  {
   "cell_type": "code",
   "execution_count": 17,
   "metadata": {},
   "outputs": [],
   "source": [
    "def chinese_to_pinyin(character):\n",
    "    \"Convert Chinese characters to Pinyin\"\n",
    "    return pinyin.get(character,format='strip',delimiter=' ')\n",
    "\n",
    "def tokens(text):\n",
    "    \"List all the pinyin characters, remove numbers\"\n",
    "    return re.findall('[a-z]+',text.lower())"
   ]
  },
  {
   "cell_type": "code",
   "execution_count": 85,
   "metadata": {},
   "outputs": [],
   "source": [
    "CHINESE_CHARATERS_COPYS = chinese_to_pinyin(CHINESE_CHARATERS)\n",
    "PINYIN_TOKEN = tokens(CHINESE_CHARATERS_COPYS)\n",
    "PINYIN_COUNT = Counter(PINYIN_TOKEN)"
   ]
  },
  {
   "cell_type": "code",
   "execution_count": 19,
   "metadata": {},
   "outputs": [],
   "source": [
    "def correct(word):\n",
    "    'Find the most possible pinyin based on edit distance'\n",
    "    # Prefer edit distance 0, then 1, then 2; otherwist default to word itself\n",
    "    candidates = (known(edits0(word)) or #known语料库里的拼音集合\n",
    "                  known(edits1(word)) or\n",
    "                  known(edits2(word)) or\n",
    "                  [word]) \n",
    "    return max(candidates,key=PINYIN_COUNT.get) \n",
    "\n",
    "def known(words):\n",
    "    'Return the pinyin in our data'\n",
    "    return {w for w in words if w in PINYIN_COUNT}\n",
    "\n",
    "def edits0(word): #编辑距离为0 = 原词\n",
    "    'Return all strings that are zero edits away from word (i.e., just word itself).'\n",
    "    return {word}\n",
    "\n",
    "def edits2(word): #编辑距离为2 = 编辑距离1的词上再加一个编辑距离\n",
    "    'Return all strings that are two edits away from this pinyin.'\n",
    "    return {e2 for e1 in edits1(word) for e2 in edits1(e1)}"
   ]
  },
  {
   "cell_type": "code",
   "execution_count": 20,
   "metadata": {},
   "outputs": [],
   "source": [
    "alphabet = 'abcdefghijklmnopqrstuvwxyz'\n",
    "\n",
    "def splits(word): #一个词的所有可能拆解方式\n",
    "    'Return a list of all possible (first, rest) pairs that comprise pinyin.'\n",
    "    return [(word[:i], word[i:]) for i in range(len(word)+1)]\n",
    "\n",
    "def edits1(word):\n",
    "    'Return all strings that are one edit away from this pinyin.'\n",
    "    pairs = splits(word)\n",
    "    deletes = [a+b[1:] for (a,b) in pairs if b] #删除[inyin,pnyin,piyin,pinin,pinyn,pinyi]\n",
    "    transposes = [a+b[1]+b[0]+b[2:] for (a,b) in pairs if len(b) > 1] #翻转[ipnyin,]\n",
    "    replaces = [a+c+b[1:] for (a,b) in pairs for c in alphabet if b] #代替\n",
    "    inserts = [a+c+b for (a,b) in pairs for c in alphabet] #插入\n",
    "    return set(deletes + transposes + replaces + inserts)"
   ]
  },
  {
   "cell_type": "code",
   "execution_count": 21,
   "metadata": {},
   "outputs": [],
   "source": [
    "def correct_sentences_pinyin(text_pinyin):\n",
    "    return ' '.join(map(correct, text_pinyin.split()))"
   ]
  },
  {
   "cell_type": "code",
   "execution_count": 22,
   "metadata": {},
   "outputs": [
    {
     "data": {
      "text/plain": [
       "'zhe shi yi ge ce shi'"
      ]
     },
     "execution_count": 22,
     "metadata": {},
     "output_type": "execute_result"
    }
   ],
   "source": [
    "correct_sentences_pinyin('zhe sih yi ge ce sho')"
   ]
  },
  {
   "cell_type": "code",
   "execution_count": 23,
   "metadata": {},
   "outputs": [
    {
     "data": {
      "text/plain": [
       "'wo xiang shang qing hua da xue'"
      ]
     },
     "execution_count": 23,
     "metadata": {},
     "output_type": "execute_result"
    }
   ],
   "source": [
    "correct_sentences_pinyin('wo xiang shagn qinng hua da xue')"
   ]
  },
  {
   "cell_type": "code",
   "execution_count": 24,
   "metadata": {},
   "outputs": [
    {
     "data": {
      "text/plain": [
       "'zhe jiang gong ye da xue'"
      ]
     },
     "execution_count": 24,
     "metadata": {},
     "output_type": "execute_result"
    }
   ],
   "source": [
    "correct_sentences_pinyin('zhe jiang gogn ye da xue')"
   ]
  },
  {
   "cell_type": "markdown",
   "metadata": {},
   "source": [
    "### 思考题：如何在不带空格的时候完成自动修整？--> 如何完成拼音的自动分割？（提示：使用第一节课提到的语言模型!）"
   ]
  },
  {
   "cell_type": "code",
   "execution_count": 25,
   "metadata": {},
   "outputs": [],
   "source": [
    "import numpy as np\n",
    "import pinyin\n",
    "import re\n",
    "from collections import Counter,defaultdict\n",
    "from functools import lru_cache"
   ]
  },
  {
   "cell_type": "code",
   "execution_count": 67,
   "metadata": {},
   "outputs": [],
   "source": [
    "def get_prob1(word):\n",
    "    if word in PINYIN_TOKEN:\n",
    "        return PINYIN_COUNT[word]/len(PINYIN_TOKEN)\n",
    "    else:\n",
    "        return 1/len(PINYIN_TOKEN)"
   ]
  },
  {
   "cell_type": "code",
   "execution_count": 107,
   "metadata": {},
   "outputs": [],
   "source": [
    "solution={}\n",
    "@lru_cache(maxsize=2**10)\n",
    "def r_pinyin(words):\n",
    "    \"\"\"\n",
    "    Args: n is the iron length\n",
    "    Return: the max revenue \n",
    "    \"\"\"\n",
    "    if len(words) == 1: solution[words] = 0\n",
    "    max_prob, max_split = max(\n",
    "        [(get_prob1(words), 0)] + [(r_pinyin(words[:i])*r_pinyin(words[i:]), i) for i in range(1, len(words))], key=lambda x: x[0]\n",
    "    )\n",
    "    solution[words] = max_split\n",
    "    return max_prob"
   ]
  },
  {
   "cell_type": "code",
   "execution_count": 94,
   "metadata": {},
   "outputs": [],
   "source": [
    "def parse(words):\n",
    "    max_prob = r_pinyin(words)\n",
    "    i = solution[words]\n",
    "    if i == 0: return [words]\n",
    "    left,right = words[:i],words[i:]\n",
    "    return parse(left) + parse(right)"
   ]
  },
  {
   "cell_type": "markdown",
   "metadata": {},
   "source": [
    "Test："
   ]
  },
  {
   "cell_type": "markdown",
   "metadata": {},
   "source": [
    "[1] words1 = 'pinyin'"
   ]
  },
  {
   "cell_type": "code",
   "execution_count": 104,
   "metadata": {},
   "outputs": [
    {
     "data": {
      "text/plain": [
       "6.7808865436114305e-06"
      ]
     },
     "execution_count": 104,
     "metadata": {},
     "output_type": "execute_result"
    }
   ],
   "source": [
    "words1 = 'pinyin'\n",
    "r_pinyin(words1)"
   ]
  },
  {
   "cell_type": "code",
   "execution_count": 105,
   "metadata": {},
   "outputs": [
    {
     "data": {
      "text/plain": [
       "{'p': 0,\n",
       " 'i': 0,\n",
       " 'n': 0,\n",
       " 'y': 0,\n",
       " 'in': 1,\n",
       " 'yi': 0,\n",
       " 'yin': 0,\n",
       " 'ny': 1,\n",
       " 'nyi': 1,\n",
       " 'nyin': 1,\n",
       " 'iny': 0,\n",
       " 'inyi': 1,\n",
       " 'inyin': 1,\n",
       " 'pi': 0,\n",
       " 'pin': 0,\n",
       " 'piny': 3,\n",
       " 'pinyi': 3,\n",
       " 'pinyin': 3}"
      ]
     },
     "execution_count": 105,
     "metadata": {},
     "output_type": "execute_result"
    }
   ],
   "source": [
    "solution"
   ]
  },
  {
   "cell_type": "code",
   "execution_count": 106,
   "metadata": {},
   "outputs": [
    {
     "data": {
      "text/plain": [
       "['pin', 'yin']"
      ]
     },
     "execution_count": 106,
     "metadata": {},
     "output_type": "execute_result"
    }
   ],
   "source": [
    "parse(words1)"
   ]
  },
  {
   "cell_type": "markdown",
   "metadata": {},
   "source": [
    "[2] words2 = 'zheshiyigeceshi'"
   ]
  },
  {
   "cell_type": "code",
   "execution_count": 108,
   "metadata": {},
   "outputs": [
    {
     "data": {
      "text/plain": [
       "3.197567086316437e-08"
      ]
     },
     "execution_count": 108,
     "metadata": {},
     "output_type": "execute_result"
    }
   ],
   "source": [
    "words2 = 'zheshiyigeceshi'\n",
    "r_pinyin(words2)"
   ]
  },
  {
   "cell_type": "code",
   "execution_count": 109,
   "metadata": {},
   "outputs": [
    {
     "data": {
      "text/plain": [
       "{'z': 0,\n",
       " 'h': 0,\n",
       " 'e': 0,\n",
       " 's': 0,\n",
       " 'i': 0,\n",
       " 'y': 0,\n",
       " 'g': 0,\n",
       " 'c': 0,\n",
       " 'hi': 1,\n",
       " 'sh': 1,\n",
       " 'shi': 0,\n",
       " 'es': 1,\n",
       " 'esh': 0,\n",
       " 'eshi': 1,\n",
       " 'ce': 0,\n",
       " 'ces': 2,\n",
       " 'cesh': 0,\n",
       " 'ceshi': 2,\n",
       " 'ec': 1,\n",
       " 'ece': 1,\n",
       " 'eces': 0,\n",
       " 'ecesh': 0,\n",
       " 'eceshi': 1,\n",
       " 'ge': 0,\n",
       " 'gec': 2,\n",
       " 'gece': 2,\n",
       " 'geces': 0,\n",
       " 'gecesh': 0,\n",
       " 'geceshi': 2,\n",
       " 'ig': 1,\n",
       " 'ige': 1,\n",
       " 'igec': 0,\n",
       " 'igece': 0,\n",
       " 'igeces': 0,\n",
       " 'igecesh': 0,\n",
       " 'igeceshi': 0,\n",
       " 'yi': 0,\n",
       " 'yig': 2,\n",
       " 'yige': 2,\n",
       " 'yigec': 4,\n",
       " 'yigece': 4,\n",
       " 'yigeces': 0,\n",
       " 'yigecesh': 0,\n",
       " 'yigeceshi': 0,\n",
       " 'iy': 1,\n",
       " 'iyi': 1,\n",
       " 'iyig': 0,\n",
       " 'iyige': 1,\n",
       " 'iyigec': 0,\n",
       " 'iyigece': 0,\n",
       " 'iyigeces': 0,\n",
       " 'iyigecesh': 0,\n",
       " 'iyigeceshi': 0,\n",
       " 'hiy': 0,\n",
       " 'hiyi': 0,\n",
       " 'hiyig': 0,\n",
       " 'hiyige': 0,\n",
       " 'hiyigec': 0,\n",
       " 'hiyigece': 0,\n",
       " 'hiyigeces': 0,\n",
       " 'hiyigecesh': 0,\n",
       " 'hiyigeceshi': 0,\n",
       " 'shiy': 3,\n",
       " 'shiyi': 3,\n",
       " 'shiyig': 3,\n",
       " 'shiyige': 3,\n",
       " 'shiyigec': 0,\n",
       " 'shiyigece': 0,\n",
       " 'shiyigeces': 0,\n",
       " 'shiyigecesh': 0,\n",
       " 'shiyigeceshi': 0,\n",
       " 'eshiy': 0,\n",
       " 'eshiyi': 1,\n",
       " 'eshiyig': 0,\n",
       " 'eshiyige': 0,\n",
       " 'eshiyigec': 0,\n",
       " 'eshiyigece': 0,\n",
       " 'eshiyigeces': 0,\n",
       " 'eshiyigecesh': 0,\n",
       " 'eshiyigeceshi': 0,\n",
       " 'he': 0,\n",
       " 'hes': 2,\n",
       " 'hesh': 0,\n",
       " 'heshi': 2,\n",
       " 'heshiy': 0,\n",
       " 'heshiyi': 2,\n",
       " 'heshiyig': 0,\n",
       " 'heshiyige': 2,\n",
       " 'heshiyigec': 0,\n",
       " 'heshiyigece': 0,\n",
       " 'heshiyigeces': 0,\n",
       " 'heshiyigecesh': 0,\n",
       " 'heshiyigeceshi': 0,\n",
       " 'zh': 0,\n",
       " 'zhe': 0,\n",
       " 'zhes': 3,\n",
       " 'zhesh': 0,\n",
       " 'zheshi': 3,\n",
       " 'zheshiy': 0,\n",
       " 'zheshiyi': 3,\n",
       " 'zheshiyig': 0,\n",
       " 'zheshiyige': 0,\n",
       " 'zheshiyigec': 0,\n",
       " 'zheshiyigece': 0,\n",
       " 'zheshiyigeces': 0,\n",
       " 'zheshiyigecesh': 0,\n",
       " 'zheshiyigeceshi': 0}"
      ]
     },
     "execution_count": 109,
     "metadata": {},
     "output_type": "execute_result"
    }
   ],
   "source": [
    "solution"
   ]
  },
  {
   "cell_type": "code",
   "execution_count": 110,
   "metadata": {},
   "outputs": [
    {
     "data": {
      "text/plain": [
       "['zheshiyigeceshi']"
      ]
     },
     "execution_count": 110,
     "metadata": {},
     "output_type": "execute_result"
    }
   ],
   "source": [
    "parse(words2)"
   ]
  },
  {
   "cell_type": "markdown",
   "metadata": {},
   "source": [
    "<font color='red'>第二个长句错误...</font>"
   ]
  },
  {
   "cell_type": "code",
   "execution_count": null,
   "metadata": {},
   "outputs": [],
   "source": []
  }
 ],
 "metadata": {
  "kernelspec": {
   "display_name": "Python 3",
   "language": "python",
   "name": "python3"
  },
  "language_info": {
   "codemirror_mode": {
    "name": "ipython",
    "version": 3
   },
   "file_extension": ".py",
   "mimetype": "text/x-python",
   "name": "python",
   "nbconvert_exporter": "python",
   "pygments_lexer": "ipython3",
   "version": "3.6.7"
  }
 },
 "nbformat": 4,
 "nbformat_minor": 2
}
