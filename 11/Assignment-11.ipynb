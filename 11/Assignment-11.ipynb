{
 "cells": [
  {
   "cell_type": "markdown",
   "metadata": {},
   "source": [
    "# 1. Cut Rod Problem"
   ]
  },
  {
   "cell_type": "code",
   "execution_count": 1,
   "metadata": {},
   "outputs": [],
   "source": [
    "from functools import wraps\n",
    "from collections import defaultdict  "
   ]
  },
  {
   "cell_type": "code",
   "execution_count": 2,
   "metadata": {},
   "outputs": [],
   "source": [
    "original_price = [1, 5, 8, 9, 10, 17, 17, 20, 24, 30]\n",
    "price = defaultdict(int)\n",
    "for i,p in enumerate(original_price):\n",
    "    price[i+1] = p"
   ]
  },
  {
   "cell_type": "code",
   "execution_count": 3,
   "metadata": {},
   "outputs": [],
   "source": [
    "def memo(f):\n",
    "    memo.already_computed={}\n",
    "    @wraps(f)\n",
    "    def _wrap(arg):\n",
    "        if arg in memo.already_computed:\n",
    "            result = memo.already_computed[arg]\n",
    "        else:\n",
    "            result = f(arg)\n",
    "            memo.already_computed[arg] = result\n",
    "        return result\n",
    "    return _wrap"
   ]
  },
  {
   "cell_type": "code",
   "execution_count": 4,
   "metadata": {},
   "outputs": [],
   "source": [
    "solution={}\n",
    "@memo\n",
    "def r_op(n):\n",
    "    \"\"\"\n",
    "    Args: n is the iron length\n",
    "    Return: the max revenue \n",
    "    \"\"\"\n",
    "    max_price,max_split = max(\n",
    "            [(price[n],0)] + [(r_op(i) + r_op(n-i), i) for i in range(1,n)],key=lambda x:x[0]\n",
    "    )\n",
    "    solution[n] = (n-max_split,max_split)\n",
    "    return max_price"
   ]
  },
  {
   "cell_type": "code",
   "execution_count": 5,
   "metadata": {},
   "outputs": [],
   "source": [
    "def parse_solution(n):\n",
    "    left_split, right_split = solution[n]\n",
    "    if right_split == 0: return [left_split]\n",
    "    return parse_solution(left_split) + parse_solution(right_split)"
   ]
  },
  {
   "cell_type": "code",
   "execution_count": 6,
   "metadata": {},
   "outputs": [
    {
     "data": {
      "text/plain": [
       "60"
      ]
     },
     "execution_count": 6,
     "metadata": {},
     "output_type": "execute_result"
    }
   ],
   "source": [
    "r_op(20)"
   ]
  },
  {
   "cell_type": "code",
   "execution_count": 7,
   "metadata": {},
   "outputs": [
    {
     "data": {
      "text/plain": [
       "{1: (1, 0),\n",
       " 2: (2, 0),\n",
       " 3: (3, 0),\n",
       " 4: (2, 2),\n",
       " 5: (3, 2),\n",
       " 6: (6, 0),\n",
       " 7: (6, 1),\n",
       " 8: (6, 2),\n",
       " 9: (6, 3),\n",
       " 10: (10, 0),\n",
       " 11: (10, 1),\n",
       " 12: (10, 2),\n",
       " 13: (10, 3),\n",
       " 14: (12, 2),\n",
       " 15: (13, 2),\n",
       " 16: (10, 6),\n",
       " 17: (16, 1),\n",
       " 18: (16, 2),\n",
       " 19: (16, 3),\n",
       " 20: (10, 10)}"
      ]
     },
     "execution_count": 7,
     "metadata": {},
     "output_type": "execute_result"
    }
   ],
   "source": [
    "solution"
   ]
  },
  {
   "cell_type": "code",
   "execution_count": 8,
   "metadata": {},
   "outputs": [
    {
     "data": {
      "text/plain": [
       "[10, 6, 1]"
      ]
     },
     "execution_count": 8,
     "metadata": {},
     "output_type": "execute_result"
    }
   ],
   "source": [
    "parse_solution(17)"
   ]
  },
  {
   "cell_type": "markdown",
   "metadata": {},
   "source": [
    "# 2. Edit Distance"
   ]
  },
  {
   "cell_type": "code",
   "execution_count": 9,
   "metadata": {},
   "outputs": [],
   "source": [
    "from functools import lru_cache"
   ]
  },
  {
   "cell_type": "code",
   "execution_count": 10,
   "metadata": {},
   "outputs": [],
   "source": [
    "solution = {}\n",
    "@lru_cache(maxsize=2**10) #max_size为缓存结果的个数，避免内存爆炸\n",
    "def edit_distance(string1, string2):\n",
    "    \n",
    "    if len(string1) == 0: return len(string2) #s1='',s2='word',删掉s2里的字母\n",
    "    if len(string2) == 0: return len(string1) #s1='word',s2='',插入s1里的字母\n",
    "    \n",
    "    tail_s1 = string1[-1]  #s1='word', tail_s1='d' -> 'wor'+'d'\n",
    "    tail_s2 = string2[-1]  #s2='work', tail_s2='k' -> 'wor'+'k'\n",
    "    \n",
    "    candidates = [\n",
    "        (edit_distance(string1[:-1], string2) + 1, 'DEL {}'.format(tail_s1)),  #edit_distance('wor','work')  \n",
    "        # string 1 delete tail\n",
    "        (edit_distance(string1, string2[:-1]) + 1, 'ADD {}'.format(tail_s2)), #edit_distance('word','wor')\n",
    "        # string 1 add tail of string2\n",
    "    ]\n",
    "    \n",
    "    #替换操作\n",
    "    if tail_s1 == tail_s2:\n",
    "        both_forward = (edit_distance(string1[:-1], string2[:-1]) + 0, '')\n",
    "    else:\n",
    "        both_forward = (edit_distance(string1[:-1], string2[:-1]) + 1, 'SUB {} => {}'.format(tail_s1, tail_s2))\n",
    "\n",
    "    candidates.append(both_forward) #candidates = [d(DEL),d(INSERT),d(SUB,NOSUB)]\n",
    "    \n",
    "    min_distance, operation = min(candidates, key=lambda x: x[0]) #x[0]指根据distance排序\n",
    "    \n",
    "    solution[(string1, string2)] = operation \n",
    "    \n",
    "    return min_distance"
   ]
  },
  {
   "cell_type": "markdown",
   "metadata": {},
   "source": [
    "### Todo: Parse Solution is our homework"
   ]
  },
  {
   "cell_type": "code",
   "execution_count": 11,
   "metadata": {},
   "outputs": [],
   "source": [
    "def delete_tail(string1,string2):\n",
    "    if string1[-1] != string2[-1]: return string1,string2\n",
    "    if string1 == string2: return string1,string2\n",
    "    else: return delete_tail(string1[:-1],string2[:-1])"
   ]
  },
  {
   "cell_type": "code",
   "execution_count": 12,
   "metadata": {},
   "outputs": [
    {
     "data": {
      "text/plain": [
       "('ABC', 'ABC')"
      ]
     },
     "execution_count": 12,
     "metadata": {},
     "output_type": "execute_result"
    }
   ],
   "source": [
    "delete_tail('ABC','ABC')"
   ]
  },
  {
   "cell_type": "code",
   "execution_count": 13,
   "metadata": {},
   "outputs": [],
   "source": [
    "def parse_solution_string(string1,string2,solution):\n",
    "    if string1[-1] == string2[-1]: \n",
    "        string1,string2 = delete_tail(string1,string2)\n",
    "    if string1 == string2 : return []\n",
    "    else:\n",
    "        s = solution[(string1,string2)]\n",
    "        if s != '':\n",
    "            op = s.split(\" \")\n",
    "            if op[0] == 'ADD':\n",
    "                return [s] + parse_solution_string(string1+string2[-1],string2,solution)\n",
    "            elif op[0] == 'DEL':\n",
    "                return [s] + parse_solution_string(string1[:-1],string2,solution)\n",
    "            elif op[0] == 'SUB':\n",
    "                return [s] + parse_solution_string(string1[:-1]+string2[-1],string2,solution)"
   ]
  },
  {
   "cell_type": "code",
   "execution_count": 14,
   "metadata": {},
   "outputs": [
    {
     "data": {
      "text/plain": [
       "['DEL G', 'SUB C => F', 'SUB D => C']"
      ]
     },
     "execution_count": 14,
     "metadata": {},
     "output_type": "execute_result"
    }
   ],
   "source": [
    "edit_distance('ABCDECG','ABCCEF')\n",
    "parse_solution_string('ABCDECG','ABCCEF',solution)"
   ]
  },
  {
   "cell_type": "markdown",
   "metadata": {},
   "source": [
    "# 3.Pinyin Auto Correction Problem"
   ]
  },
  {
   "cell_type": "code",
   "execution_count": 15,
   "metadata": {},
   "outputs": [],
   "source": [
    "import pinyin\n",
    "import re\n",
    "from collections import Counter,defaultdict"
   ]
  },
  {
   "cell_type": "code",
   "execution_count": 16,
   "metadata": {},
   "outputs": [],
   "source": [
    "chinese_dataset='article_9k.txt'\n",
    "CHINESE_CHARATERS = open(chinese_dataset).read()"
   ]
  },
  {
   "cell_type": "code",
   "execution_count": 17,
   "metadata": {},
   "outputs": [],
   "source": [
    "def chinese_to_pinyin(character):\n",
    "    \"Convert Chinese characters to Pinyin\"\n",
    "    return pinyin.get(character,format='strip',delimiter=' ')\n",
    "\n",
    "def tokens(text):\n",
    "    \"List all the pinyin characters, remove numbers\"\n",
    "    return re.findall('[a-z]+',text.lower())"
   ]
  },
  {
   "cell_type": "code",
   "execution_count": 85,
   "metadata": {},
   "outputs": [],
   "source": [
    "CHINESE_CHARATERS_COPYS = chinese_to_pinyin(CHINESE_CHARATERS)\n",
    "PINYIN_TOKEN = tokens(CHINESE_CHARATERS_COPYS)\n",
    "PINYIN_COUNT = Counter(PINYIN_TOKEN)"
   ]
  },
  {
   "cell_type": "code",
   "execution_count": 19,
   "metadata": {},
   "outputs": [],
   "source": [
    "def correct(word):\n",
    "    'Find the most possible pinyin based on edit distance'\n",
    "    # Prefer edit distance 0, then 1, then 2; otherwist default to word itself\n",
    "    candidates = (known(edits0(word)) or #known语料库里的拼音集合\n",
    "                  known(edits1(word)) or\n",
    "                  known(edits2(word)) or\n",
    "                  [word]) \n",
    "    return max(candidates,key=PINYIN_COUNT.get) \n",
    "\n",
    "def known(words):\n",
    "    'Return the pinyin in our data'\n",
    "    return {w for w in words if w in PINYIN_COUNT}\n",
    "\n",
    "def edits0(word): #编辑距离为0 = 原词\n",
    "    'Return all strings that are zero edits away from word (i.e., just word itself).'\n",
    "    return {word}\n",
    "\n",
    "def edits2(word): #编辑距离为2 = 编辑距离1的词上再加一个编辑距离\n",
    "    'Return all strings that are two edits away from this pinyin.'\n",
    "    return {e2 for e1 in edits1(word) for e2 in edits1(e1)}"
   ]
  },
  {
   "cell_type": "code",
   "execution_count": 20,
   "metadata": {},
   "outputs": [],
   "source": [
    "alphabet = 'abcdefghijklmnopqrstuvwxyz'\n",
    "\n",
    "def splits(word): #一个词的所有可能拆解方式\n",
    "    'Return a list of all possible (first, rest) pairs that comprise pinyin.'\n",
    "    return [(word[:i], word[i:]) for i in range(len(word)+1)]\n",
    "\n",
    "def edits1(word):\n",
    "    'Return all strings that are one edit away from this pinyin.'\n",
    "    pairs = splits(word)\n",
    "    deletes = [a+b[1:] for (a,b) in pairs if b] #删除[inyin,pnyin,piyin,pinin,pinyn,pinyi]\n",
    "    transposes = [a+b[1]+b[0]+b[2:] for (a,b) in pairs if len(b) > 1] #翻转[ipnyin,]\n",
    "    replaces = [a+c+b[1:] for (a,b) in pairs for c in alphabet if b] #代替\n",
    "    inserts = [a+c+b for (a,b) in pairs for c in alphabet] #插入\n",
    "    return set(deletes + transposes + replaces + inserts)"
   ]
  },
  {
   "cell_type": "code",
   "execution_count": 21,
   "metadata": {},
   "outputs": [],
   "source": [
    "def correct_sentences_pinyin(text_pinyin):\n",
    "    return ' '.join(map(correct, text_pinyin.split()))"
   ]
  },
  {
   "cell_type": "code",
   "execution_count": 22,
   "metadata": {},
   "outputs": [
    {
     "data": {
      "text/plain": [
       "'zhe shi yi ge ce shi'"
      ]
     },
     "execution_count": 22,
     "metadata": {},
     "output_type": "execute_result"
    }
   ],
   "source": [
    "correct_sentences_pinyin('zhe sih yi ge ce sho')"
   ]
  },
  {
   "cell_type": "code",
   "execution_count": 23,
   "metadata": {},
   "outputs": [
    {
     "data": {
      "text/plain": [
       "'wo xiang shang qing hua da xue'"
      ]
     },
     "execution_count": 23,
     "metadata": {},
     "output_type": "execute_result"
    }
   ],
   "source": [
    "correct_sentences_pinyin('wo xiang shagn qinng hua da xue')"
   ]
  },
  {
   "cell_type": "code",
   "execution_count": 24,
   "metadata": {},
   "outputs": [
    {
     "data": {
      "text/plain": [
       "'zhe jiang gong ye da xue'"
      ]
     },
     "execution_count": 24,
     "metadata": {},
     "output_type": "execute_result"
    }
   ],
   "source": [
    "correct_sentences_pinyin('zhe jiang gogn ye da xue')"
   ]
  },
  {
   "cell_type": "markdown",
   "metadata": {},
   "source": [
    "### 思考题：如何在不带空格的时候完成自动修整？--> 如何完成拼音的自动分割？（提示：使用第一节课提到的语言模型!）"
   ]
  },
  {
   "cell_type": "code",
   "execution_count": 25,
   "metadata": {},
   "outputs": [],
   "source": [
    "import numpy as np\n",
    "import pinyin\n",
    "import re\n",
    "from collections import Counter,defaultdict\n",
    "from functools import lru_cache"
   ]
  },
  {
   "cell_type": "code",
   "execution_count": 119,
   "metadata": {},
   "outputs": [],
   "source": [
    "def get_prob1(word):\n",
    "    if word in PINYIN_TOKEN:\n",
    "        return PINYIN_COUNT[word]/len(PINYIN_TOKEN)\n",
    "    else:\n",
    "        return 0"
   ]
  },
  {
   "cell_type": "code",
   "execution_count": 120,
   "metadata": {},
   "outputs": [],
   "source": [
    "solution={}\n",
    "@lru_cache(maxsize=2**10)\n",
    "def r_pinyin(words):\n",
    "    \"\"\"\n",
    "    Args: n is the iron length\n",
    "    Return: the max revenue \n",
    "    \"\"\"\n",
    "    if len(words) == 1: solution[words] = 0\n",
    "    max_prob, max_split = max(\n",
    "        [(get_prob1(words), 0)] + [((r_pinyin(words[:i])*r_pinyin(words[i:])), i) for i in range(1, len(words))], key=lambda x: x[0]\n",
    "    )\n",
    "    solution[words] = max_split\n",
    "    return max_prob"
   ]
  },
  {
   "cell_type": "code",
   "execution_count": 121,
   "metadata": {},
   "outputs": [],
   "source": [
    "def parse(words):\n",
    "    max_prob = r_pinyin(words)\n",
    "    i = solution[words]\n",
    "    if i == 0: return [words]\n",
    "    left,right = words[:i],words[i:]\n",
    "    return parse(left) + parse(right)"
   ]
  },
  {
   "cell_type": "markdown",
   "metadata": {},
   "source": [
    "Test："
   ]
  },
  {
   "cell_type": "markdown",
   "metadata": {},
   "source": [
    "[1] words1 = 'pinyin'"
   ]
  },
  {
   "cell_type": "code",
   "execution_count": 122,
   "metadata": {},
   "outputs": [
    {
     "data": {
      "text/plain": [
       "6.7808865436114305e-06"
      ]
     },
     "execution_count": 122,
     "metadata": {},
     "output_type": "execute_result"
    }
   ],
   "source": [
    "words1 = 'pinyin'\n",
    "r_pinyin(words1)"
   ]
  },
  {
   "cell_type": "code",
   "execution_count": 123,
   "metadata": {},
   "outputs": [
    {
     "data": {
      "text/plain": [
       "{'p': 0,\n",
       " 'i': 0,\n",
       " 'n': 0,\n",
       " 'y': 0,\n",
       " 'in': 1,\n",
       " 'yi': 0,\n",
       " 'yin': 0,\n",
       " 'ny': 1,\n",
       " 'nyi': 1,\n",
       " 'nyin': 1,\n",
       " 'iny': 1,\n",
       " 'inyi': 1,\n",
       " 'inyin': 1,\n",
       " 'pi': 0,\n",
       " 'pin': 0,\n",
       " 'piny': 3,\n",
       " 'pinyi': 3,\n",
       " 'pinyin': 3}"
      ]
     },
     "execution_count": 123,
     "metadata": {},
     "output_type": "execute_result"
    }
   ],
   "source": [
    "solution"
   ]
  },
  {
   "cell_type": "code",
   "execution_count": 124,
   "metadata": {},
   "outputs": [
    {
     "data": {
      "text/plain": [
       "['pin', 'yin']"
      ]
     },
     "execution_count": 124,
     "metadata": {},
     "output_type": "execute_result"
    }
   ],
   "source": [
    "parse(words1)"
   ]
  },
  {
   "cell_type": "markdown",
   "metadata": {},
   "source": [
    "[2] words2 = 'zheshiyigeceshi'"
   ]
  },
  {
   "cell_type": "code",
   "execution_count": 125,
   "metadata": {},
   "outputs": [
    {
     "data": {
      "text/plain": [
       "6.570359835839265e-13"
      ]
     },
     "execution_count": 125,
     "metadata": {},
     "output_type": "execute_result"
    }
   ],
   "source": [
    "words2 = 'zheshiyigeceshi'\n",
    "r_pinyin(words2)"
   ]
  },
  {
   "cell_type": "code",
   "execution_count": 126,
   "metadata": {},
   "outputs": [
    {
     "data": {
      "text/plain": [
       "{'p': 0,\n",
       " 'i': 0,\n",
       " 'n': 0,\n",
       " 'y': 0,\n",
       " 'in': 1,\n",
       " 'yi': 0,\n",
       " 'yin': 0,\n",
       " 'ny': 1,\n",
       " 'nyi': 1,\n",
       " 'nyin': 1,\n",
       " 'iny': 1,\n",
       " 'inyi': 1,\n",
       " 'inyin': 1,\n",
       " 'pi': 0,\n",
       " 'pin': 0,\n",
       " 'piny': 3,\n",
       " 'pinyi': 3,\n",
       " 'pinyin': 3,\n",
       " 'z': 0,\n",
       " 'h': 0,\n",
       " 'e': 0,\n",
       " 's': 0,\n",
       " 'g': 0,\n",
       " 'c': 0,\n",
       " 'hi': 1,\n",
       " 'sh': 1,\n",
       " 'shi': 0,\n",
       " 'es': 1,\n",
       " 'esh': 1,\n",
       " 'eshi': 1,\n",
       " 'ce': 0,\n",
       " 'ces': 2,\n",
       " 'cesh': 2,\n",
       " 'ceshi': 2,\n",
       " 'ec': 1,\n",
       " 'ece': 1,\n",
       " 'eces': 1,\n",
       " 'ecesh': 1,\n",
       " 'eceshi': 1,\n",
       " 'ge': 0,\n",
       " 'gec': 2,\n",
       " 'gece': 2,\n",
       " 'geces': 2,\n",
       " 'gecesh': 2,\n",
       " 'geceshi': 2,\n",
       " 'ig': 1,\n",
       " 'ige': 1,\n",
       " 'igec': 1,\n",
       " 'igece': 1,\n",
       " 'igeces': 1,\n",
       " 'igecesh': 1,\n",
       " 'igeceshi': 1,\n",
       " 'yig': 2,\n",
       " 'yige': 2,\n",
       " 'yigec': 4,\n",
       " 'yigece': 4,\n",
       " 'yigeces': 6,\n",
       " 'yigecesh': 7,\n",
       " 'yigeceshi': 6,\n",
       " 'iy': 1,\n",
       " 'iyi': 1,\n",
       " 'iyig': 1,\n",
       " 'iyige': 1,\n",
       " 'iyigec': 1,\n",
       " 'iyigece': 1,\n",
       " 'iyigeces': 1,\n",
       " 'iyigecesh': 1,\n",
       " 'iyigeceshi': 1,\n",
       " 'hiy': 1,\n",
       " 'hiyi': 2,\n",
       " 'hiyig': 1,\n",
       " 'hiyige': 1,\n",
       " 'hiyigec': 1,\n",
       " 'hiyigece': 1,\n",
       " 'hiyigeces': 2,\n",
       " 'hiyigecesh': 1,\n",
       " 'hiyigeceshi': 8,\n",
       " 'shiy': 3,\n",
       " 'shiyi': 3,\n",
       " 'shiyig': 3,\n",
       " 'shiyige': 3,\n",
       " 'shiyigec': 3,\n",
       " 'shiyigece': 3,\n",
       " 'shiyigeces': 3,\n",
       " 'shiyigecesh': 3,\n",
       " 'shiyigeceshi': 3,\n",
       " 'eshiy': 1,\n",
       " 'eshiyi': 1,\n",
       " 'eshiyig': 1,\n",
       " 'eshiyige': 1,\n",
       " 'eshiyigec': 1,\n",
       " 'eshiyigece': 1,\n",
       " 'eshiyigeces': 1,\n",
       " 'eshiyigecesh': 1,\n",
       " 'eshiyigeceshi': 1,\n",
       " 'he': 0,\n",
       " 'hes': 2,\n",
       " 'hesh': 3,\n",
       " 'heshi': 2,\n",
       " 'heshiy': 2,\n",
       " 'heshiyi': 2,\n",
       " 'heshiyig': 2,\n",
       " 'heshiyige': 2,\n",
       " 'heshiyigec': 2,\n",
       " 'heshiyigece': 2,\n",
       " 'heshiyigeces': 11,\n",
       " 'heshiyigecesh': 2,\n",
       " 'heshiyigeceshi': 11,\n",
       " 'zh': 1,\n",
       " 'zhe': 0,\n",
       " 'zhes': 3,\n",
       " 'zhesh': 3,\n",
       " 'zheshi': 3,\n",
       " 'zheshiy': 3,\n",
       " 'zheshiyi': 3,\n",
       " 'zheshiyig': 3,\n",
       " 'zheshiyige': 6,\n",
       " 'zheshiyigec': 3,\n",
       " 'zheshiyigece': 3,\n",
       " 'zheshiyigeces': 6,\n",
       " 'zheshiyigecesh': 3,\n",
       " 'zheshiyigeceshi': 3}"
      ]
     },
     "execution_count": 126,
     "metadata": {},
     "output_type": "execute_result"
    }
   ],
   "source": [
    "solution"
   ]
  },
  {
   "cell_type": "code",
   "execution_count": 127,
   "metadata": {},
   "outputs": [
    {
     "data": {
      "text/plain": [
       "['zhe', 'shi', 'yi', 'ge', 'ce', 'shi']"
      ]
     },
     "execution_count": 127,
     "metadata": {},
     "output_type": "execute_result"
    }
   ],
   "source": [
    "parse(words2)"
   ]
  },
  {
   "cell_type": "markdown",
   "metadata": {},
   "source": [
    "[3] words3 = 'woxiangshangqinghuadaxue'"
   ]
  },
  {
   "cell_type": "code",
   "execution_count": 128,
   "metadata": {},
   "outputs": [
    {
     "data": {
      "text/plain": [
       "5.114632668805757e-17"
      ]
     },
     "execution_count": 128,
     "metadata": {},
     "output_type": "execute_result"
    }
   ],
   "source": [
    "words3 = 'woxiangshangqinghuadaxue'\n",
    "r_pinyin(words3)"
   ]
  },
  {
   "cell_type": "code",
   "execution_count": 129,
   "metadata": {},
   "outputs": [
    {
     "data": {
      "text/plain": [
       "{'p': 0,\n",
       " 'i': 0,\n",
       " 'n': 0,\n",
       " 'y': 0,\n",
       " 'in': 1,\n",
       " 'yi': 0,\n",
       " 'yin': 0,\n",
       " 'ny': 1,\n",
       " 'nyi': 1,\n",
       " 'nyin': 1,\n",
       " 'iny': 1,\n",
       " 'inyi': 1,\n",
       " 'inyin': 1,\n",
       " 'pi': 0,\n",
       " 'pin': 0,\n",
       " 'piny': 3,\n",
       " 'pinyi': 3,\n",
       " 'pinyin': 3,\n",
       " 'z': 0,\n",
       " 'h': 0,\n",
       " 'e': 0,\n",
       " 's': 0,\n",
       " 'g': 0,\n",
       " 'c': 0,\n",
       " 'hi': 1,\n",
       " 'sh': 1,\n",
       " 'shi': 0,\n",
       " 'es': 1,\n",
       " 'esh': 1,\n",
       " 'eshi': 1,\n",
       " 'ce': 0,\n",
       " 'ces': 2,\n",
       " 'cesh': 2,\n",
       " 'ceshi': 2,\n",
       " 'ec': 1,\n",
       " 'ece': 1,\n",
       " 'eces': 1,\n",
       " 'ecesh': 1,\n",
       " 'eceshi': 1,\n",
       " 'ge': 0,\n",
       " 'gec': 2,\n",
       " 'gece': 2,\n",
       " 'geces': 2,\n",
       " 'gecesh': 2,\n",
       " 'geceshi': 2,\n",
       " 'ig': 1,\n",
       " 'ige': 1,\n",
       " 'igec': 1,\n",
       " 'igece': 1,\n",
       " 'igeces': 1,\n",
       " 'igecesh': 1,\n",
       " 'igeceshi': 1,\n",
       " 'yig': 2,\n",
       " 'yige': 2,\n",
       " 'yigec': 4,\n",
       " 'yigece': 4,\n",
       " 'yigeces': 6,\n",
       " 'yigecesh': 7,\n",
       " 'yigeceshi': 6,\n",
       " 'iy': 1,\n",
       " 'iyi': 1,\n",
       " 'iyig': 1,\n",
       " 'iyige': 1,\n",
       " 'iyigec': 1,\n",
       " 'iyigece': 1,\n",
       " 'iyigeces': 1,\n",
       " 'iyigecesh': 1,\n",
       " 'iyigeceshi': 1,\n",
       " 'hiy': 1,\n",
       " 'hiyi': 2,\n",
       " 'hiyig': 1,\n",
       " 'hiyige': 1,\n",
       " 'hiyigec': 1,\n",
       " 'hiyigece': 1,\n",
       " 'hiyigeces': 2,\n",
       " 'hiyigecesh': 1,\n",
       " 'hiyigeceshi': 8,\n",
       " 'shiy': 3,\n",
       " 'shiyi': 3,\n",
       " 'shiyig': 3,\n",
       " 'shiyige': 3,\n",
       " 'shiyigec': 3,\n",
       " 'shiyigece': 3,\n",
       " 'shiyigeces': 3,\n",
       " 'shiyigecesh': 3,\n",
       " 'shiyigeceshi': 3,\n",
       " 'eshiy': 1,\n",
       " 'eshiyi': 1,\n",
       " 'eshiyig': 1,\n",
       " 'eshiyige': 1,\n",
       " 'eshiyigec': 1,\n",
       " 'eshiyigece': 1,\n",
       " 'eshiyigeces': 1,\n",
       " 'eshiyigecesh': 1,\n",
       " 'eshiyigeceshi': 1,\n",
       " 'he': 0,\n",
       " 'hes': 2,\n",
       " 'hesh': 3,\n",
       " 'heshi': 2,\n",
       " 'heshiy': 2,\n",
       " 'heshiyi': 2,\n",
       " 'heshiyig': 2,\n",
       " 'heshiyige': 2,\n",
       " 'heshiyigec': 2,\n",
       " 'heshiyigece': 2,\n",
       " 'heshiyigeces': 11,\n",
       " 'heshiyigecesh': 2,\n",
       " 'heshiyigeceshi': 11,\n",
       " 'zh': 1,\n",
       " 'zhe': 0,\n",
       " 'zhes': 3,\n",
       " 'zhesh': 3,\n",
       " 'zheshi': 3,\n",
       " 'zheshiy': 3,\n",
       " 'zheshiyi': 3,\n",
       " 'zheshiyig': 3,\n",
       " 'zheshiyige': 6,\n",
       " 'zheshiyigec': 3,\n",
       " 'zheshiyigece': 3,\n",
       " 'zheshiyigeces': 6,\n",
       " 'zheshiyigecesh': 3,\n",
       " 'zheshiyigeceshi': 3,\n",
       " 'w': 0,\n",
       " 'o': 0,\n",
       " 'x': 0,\n",
       " 'a': 0,\n",
       " 'q': 0,\n",
       " 'u': 0,\n",
       " 'd': 0,\n",
       " 'ue': 1,\n",
       " 'xu': 0,\n",
       " 'xue': 0,\n",
       " 'ax': 1,\n",
       " 'axu': 1,\n",
       " 'axue': 1,\n",
       " 'da': 0,\n",
       " 'dax': 2,\n",
       " 'daxu': 2,\n",
       " 'daxue': 2,\n",
       " 'ad': 1,\n",
       " 'ada': 1,\n",
       " 'adax': 1,\n",
       " 'adaxu': 1,\n",
       " 'adaxue': 1,\n",
       " 'ua': 1,\n",
       " 'uad': 1,\n",
       " 'uada': 2,\n",
       " 'uadax': 1,\n",
       " 'uadaxu': 2,\n",
       " 'uadaxue': 1,\n",
       " 'hu': 0,\n",
       " 'hua': 0,\n",
       " 'huad': 3,\n",
       " 'huada': 3,\n",
       " 'huadax': 5,\n",
       " 'huadaxu': 5,\n",
       " 'huadaxue': 3,\n",
       " 'gh': 1,\n",
       " 'ghu': 1,\n",
       " 'ghua': 1,\n",
       " 'ghuad': 1,\n",
       " 'ghuada': 1,\n",
       " 'ghuadax': 1,\n",
       " 'ghuadaxu': 1,\n",
       " 'ghuadaxue': 1,\n",
       " 'ng': 1,\n",
       " 'ngh': 1,\n",
       " 'nghu': 1,\n",
       " 'nghua': 1,\n",
       " 'nghuad': 1,\n",
       " 'nghuada': 1,\n",
       " 'nghuadax': 1,\n",
       " 'nghuadaxu': 1,\n",
       " 'nghuadaxue': 1,\n",
       " 'ing': 1,\n",
       " 'ingh': 1,\n",
       " 'inghu': 1,\n",
       " 'inghua': 1,\n",
       " 'inghuad': 1,\n",
       " 'inghuada': 1,\n",
       " 'inghuadax': 1,\n",
       " 'inghuadaxu': 1,\n",
       " 'inghuadaxue': 6,\n",
       " 'qi': 0,\n",
       " 'qin': 0,\n",
       " 'qing': 0,\n",
       " 'qingh': 4,\n",
       " 'qinghu': 4,\n",
       " 'qinghua': 4,\n",
       " 'qinghuad': 4,\n",
       " 'qinghuada': 4,\n",
       " 'qinghuadax': 4,\n",
       " 'qinghuadaxu': 4,\n",
       " 'qinghuadaxue': 4,\n",
       " 'gq': 1,\n",
       " 'gqi': 1,\n",
       " 'gqin': 1,\n",
       " 'gqing': 1,\n",
       " 'gqingh': 1,\n",
       " 'gqinghu': 1,\n",
       " 'gqinghua': 1,\n",
       " 'gqinghuad': 1,\n",
       " 'gqinghuada': 1,\n",
       " 'gqinghuadax': 1,\n",
       " 'gqinghuadaxu': 1,\n",
       " 'gqinghuadaxue': 1,\n",
       " 'ngq': 1,\n",
       " 'ngqi': 1,\n",
       " 'ngqin': 1,\n",
       " 'ngqing': 1,\n",
       " 'ngqingh': 2,\n",
       " 'ngqinghu': 1,\n",
       " 'ngqinghua': 2,\n",
       " 'ngqinghuad': 1,\n",
       " 'ngqinghuada': 1,\n",
       " 'ngqinghuadax': 1,\n",
       " 'ngqinghuadaxu': 2,\n",
       " 'ngqinghuadaxue': 1,\n",
       " 'an': 0,\n",
       " 'ang': 0,\n",
       " 'angq': 3,\n",
       " 'angqi': 3,\n",
       " 'angqin': 3,\n",
       " 'angqing': 3,\n",
       " 'angqingh': 3,\n",
       " 'angqinghu': 3,\n",
       " 'angqinghua': 3,\n",
       " 'angqinghuad': 3,\n",
       " 'angqinghuada': 3,\n",
       " 'angqinghuadax': 3,\n",
       " 'angqinghuadaxu': 3,\n",
       " 'angqinghuadaxue': 3,\n",
       " 'ha': 0,\n",
       " 'han': 0,\n",
       " 'hang': 0,\n",
       " 'hangq': 4,\n",
       " 'hangqi': 4,\n",
       " 'hangqin': 4,\n",
       " 'hangqing': 4,\n",
       " 'hangqingh': 4,\n",
       " 'hangqinghu': 4,\n",
       " 'hangqinghua': 8,\n",
       " 'hangqinghuad': 4,\n",
       " 'hangqinghuada': 4,\n",
       " 'hangqinghuadax': 4,\n",
       " 'hangqinghuadaxu': 4,\n",
       " 'hangqinghuadaxue': 4,\n",
       " 'sha': 0,\n",
       " 'shan': 0,\n",
       " 'shang': 0,\n",
       " 'shangq': 5,\n",
       " 'shangqi': 5,\n",
       " 'shangqin': 5,\n",
       " 'shangqing': 5,\n",
       " 'shangqingh': 5,\n",
       " 'shangqinghu': 5,\n",
       " 'shangqinghua': 5,\n",
       " 'shangqinghuad': 5,\n",
       " 'shangqinghuada': 5,\n",
       " 'shangqinghuadax': 5,\n",
       " 'shangqinghuadaxu': 5,\n",
       " 'shangqinghuadaxue': 5,\n",
       " 'gs': 1,\n",
       " 'gsh': 1,\n",
       " 'gsha': 1,\n",
       " 'gshan': 1,\n",
       " 'gshang': 1,\n",
       " 'gshangq': 1,\n",
       " 'gshangqi': 1,\n",
       " 'gshangqin': 1,\n",
       " 'gshangqing': 1,\n",
       " 'gshangqingh': 6,\n",
       " 'gshangqinghu': 6,\n",
       " 'gshangqinghua': 1,\n",
       " 'gshangqinghuad': 1,\n",
       " 'gshangqinghuada': 6,\n",
       " 'gshangqinghuadax': 1,\n",
       " 'gshangqinghuadaxu': 1,\n",
       " 'gshangqinghuadaxue': 6,\n",
       " 'ngs': 1,\n",
       " 'ngsh': 1,\n",
       " 'ngsha': 2,\n",
       " 'ngshan': 1,\n",
       " 'ngshang': 1,\n",
       " 'ngshangq': 1,\n",
       " 'ngshangqi': 7,\n",
       " 'ngshangqin': 1,\n",
       " 'ngshangqing': 1,\n",
       " 'ngshangqingh': 1,\n",
       " 'ngshangqinghu': 1,\n",
       " 'ngshangqinghua': 1,\n",
       " 'ngshangqinghuad': 7,\n",
       " 'ngshangqinghuada': 1,\n",
       " 'ngshangqinghuadax': 1,\n",
       " 'ngshangqinghuadaxu': 1,\n",
       " 'ngshangqinghuadaxue': 1,\n",
       " 'angs': 3,\n",
       " 'angsh': 3,\n",
       " 'angsha': 3,\n",
       " 'angshan': 3,\n",
       " 'angshang': 3,\n",
       " 'angshangq': 3,\n",
       " 'angshangqi': 3,\n",
       " 'angshangqin': 3,\n",
       " 'angshangqing': 3,\n",
       " 'angshangqingh': 3,\n",
       " 'angshangqinghu': 3,\n",
       " 'angshangqinghua': 12,\n",
       " 'angshangqinghuad': 3,\n",
       " 'angshangqinghuada': 12,\n",
       " 'angshangqinghuadax': 17,\n",
       " 'angshangqinghuadaxu': 3,\n",
       " 'angshangqinghuadaxue': 3,\n",
       " 'ia': 1,\n",
       " 'ian': 1,\n",
       " 'iang': 1,\n",
       " 'iangs': 1,\n",
       " 'iangsh': 1,\n",
       " 'iangsha': 4,\n",
       " 'iangshan': 1,\n",
       " 'iangshang': 1,\n",
       " 'iangshangq': 1,\n",
       " 'iangshangqi': 1,\n",
       " 'iangshangqin': 1,\n",
       " 'iangshangqing': 1,\n",
       " 'iangshangqingh': 1,\n",
       " 'iangshangqinghu': 13,\n",
       " 'iangshangqinghua': 1,\n",
       " 'iangshangqinghuad': 13,\n",
       " 'iangshangqinghuada': 1,\n",
       " 'iangshangqinghuadax': 1,\n",
       " 'iangshangqinghuadaxu': 1,\n",
       " 'iangshangqinghuadaxue': 13,\n",
       " 'xi': 0,\n",
       " 'xia': 0,\n",
       " 'xian': 0,\n",
       " 'xiang': 0,\n",
       " 'xiangs': 5,\n",
       " 'xiangsh': 5,\n",
       " 'xiangsha': 5,\n",
       " 'xiangshan': 5,\n",
       " 'xiangshang': 5,\n",
       " 'xiangshangq': 5,\n",
       " 'xiangshangqi': 5,\n",
       " 'xiangshangqin': 5,\n",
       " 'xiangshangqing': 5,\n",
       " 'xiangshangqingh': 5,\n",
       " 'xiangshangqinghu': 5,\n",
       " 'xiangshangqinghua': 10,\n",
       " 'xiangshangqinghuad': 10,\n",
       " 'xiangshangqinghuada': 5,\n",
       " 'xiangshangqinghuadax': 5,\n",
       " 'xiangshangqinghuadaxu': 5,\n",
       " 'xiangshangqinghuadaxue': 5,\n",
       " 'ox': 1,\n",
       " 'oxi': 1,\n",
       " 'oxia': 1,\n",
       " 'oxian': 1,\n",
       " 'oxiang': 1,\n",
       " 'oxiangs': 1,\n",
       " 'oxiangsh': 1,\n",
       " 'oxiangsha': 6,\n",
       " 'oxiangshan': 1,\n",
       " 'oxiangshang': 1,\n",
       " 'oxiangshangq': 1,\n",
       " 'oxiangshangqi': 1,\n",
       " 'oxiangshangqin': 11,\n",
       " 'oxiangshangqing': 1,\n",
       " 'oxiangshangqingh': 11,\n",
       " 'oxiangshangqinghu': 1,\n",
       " 'oxiangshangqinghua': 1,\n",
       " 'oxiangshangqinghuad': 1,\n",
       " 'oxiangshangqinghuada': 11,\n",
       " 'oxiangshangqinghuadax': 1,\n",
       " 'oxiangshangqinghuadaxu': 1,\n",
       " 'oxiangshangqinghuadaxue': 11,\n",
       " 'wo': 0,\n",
       " 'wox': 2,\n",
       " 'woxi': 2,\n",
       " 'woxia': 2,\n",
       " 'woxian': 2,\n",
       " 'woxiang': 2,\n",
       " 'woxiangs': 2,\n",
       " 'woxiangsh': 2,\n",
       " 'woxiangsha': 7,\n",
       " 'woxiangshan': 2,\n",
       " 'woxiangshang': 2,\n",
       " 'woxiangshangq': 2,\n",
       " 'woxiangshangqi': 7,\n",
       " 'woxiangshangqin': 2,\n",
       " 'woxiangshangqing': 2,\n",
       " 'woxiangshangqingh': 2,\n",
       " 'woxiangshangqinghu': 2,\n",
       " 'woxiangshangqinghua': 2,\n",
       " 'woxiangshangqinghuad': 2,\n",
       " 'woxiangshangqinghuada': 16,\n",
       " 'woxiangshangqinghuadax': 2,\n",
       " 'woxiangshangqinghuadaxu': 2,\n",
       " 'woxiangshangqinghuadaxue': 19}"
      ]
     },
     "execution_count": 129,
     "metadata": {},
     "output_type": "execute_result"
    }
   ],
   "source": [
    "solution"
   ]
  },
  {
   "cell_type": "code",
   "execution_count": 130,
   "metadata": {},
   "outputs": [
    {
     "data": {
      "text/plain": [
       "['wo', 'xiang', 'shang', 'qing', 'hua', 'da', 'xue']"
      ]
     },
     "execution_count": 130,
     "metadata": {},
     "output_type": "execute_result"
    }
   ],
   "source": [
    "parse(words3)"
   ]
  },
  {
   "cell_type": "markdown",
   "metadata": {},
   "source": [
    "截止目前，没有错误的语句可以分割"
   ]
  },
  {
   "cell_type": "markdown",
   "metadata": {},
   "source": [
    "[4] words4 = 'zhesihyigecesho'"
   ]
  },
  {
   "cell_type": "code",
   "execution_count": 131,
   "metadata": {},
   "outputs": [
    {
     "data": {
      "text/plain": [
       "5.114632668805757e-17"
      ]
     },
     "execution_count": 131,
     "metadata": {},
     "output_type": "execute_result"
    }
   ],
   "source": [
    "words4 = 'zhesihyigecesho'\n",
    "r_pinyin(words3)"
   ]
  },
  {
   "cell_type": "code",
   "execution_count": 132,
   "metadata": {},
   "outputs": [
    {
     "data": {
      "text/plain": [
       "{'p': 0,\n",
       " 'i': 0,\n",
       " 'n': 0,\n",
       " 'y': 0,\n",
       " 'in': 1,\n",
       " 'yi': 0,\n",
       " 'yin': 0,\n",
       " 'ny': 1,\n",
       " 'nyi': 1,\n",
       " 'nyin': 1,\n",
       " 'iny': 1,\n",
       " 'inyi': 1,\n",
       " 'inyin': 1,\n",
       " 'pi': 0,\n",
       " 'pin': 0,\n",
       " 'piny': 3,\n",
       " 'pinyi': 3,\n",
       " 'pinyin': 3,\n",
       " 'z': 0,\n",
       " 'h': 0,\n",
       " 'e': 0,\n",
       " 's': 0,\n",
       " 'g': 0,\n",
       " 'c': 0,\n",
       " 'hi': 1,\n",
       " 'sh': 1,\n",
       " 'shi': 0,\n",
       " 'es': 1,\n",
       " 'esh': 1,\n",
       " 'eshi': 1,\n",
       " 'ce': 0,\n",
       " 'ces': 2,\n",
       " 'cesh': 2,\n",
       " 'ceshi': 2,\n",
       " 'ec': 1,\n",
       " 'ece': 1,\n",
       " 'eces': 1,\n",
       " 'ecesh': 1,\n",
       " 'eceshi': 1,\n",
       " 'ge': 0,\n",
       " 'gec': 2,\n",
       " 'gece': 2,\n",
       " 'geces': 2,\n",
       " 'gecesh': 2,\n",
       " 'geceshi': 2,\n",
       " 'ig': 1,\n",
       " 'ige': 1,\n",
       " 'igec': 1,\n",
       " 'igece': 1,\n",
       " 'igeces': 1,\n",
       " 'igecesh': 1,\n",
       " 'igeceshi': 1,\n",
       " 'yig': 2,\n",
       " 'yige': 2,\n",
       " 'yigec': 4,\n",
       " 'yigece': 4,\n",
       " 'yigeces': 6,\n",
       " 'yigecesh': 7,\n",
       " 'yigeceshi': 6,\n",
       " 'iy': 1,\n",
       " 'iyi': 1,\n",
       " 'iyig': 1,\n",
       " 'iyige': 1,\n",
       " 'iyigec': 1,\n",
       " 'iyigece': 1,\n",
       " 'iyigeces': 1,\n",
       " 'iyigecesh': 1,\n",
       " 'iyigeceshi': 1,\n",
       " 'hiy': 1,\n",
       " 'hiyi': 2,\n",
       " 'hiyig': 1,\n",
       " 'hiyige': 1,\n",
       " 'hiyigec': 1,\n",
       " 'hiyigece': 1,\n",
       " 'hiyigeces': 2,\n",
       " 'hiyigecesh': 1,\n",
       " 'hiyigeceshi': 8,\n",
       " 'shiy': 3,\n",
       " 'shiyi': 3,\n",
       " 'shiyig': 3,\n",
       " 'shiyige': 3,\n",
       " 'shiyigec': 3,\n",
       " 'shiyigece': 3,\n",
       " 'shiyigeces': 3,\n",
       " 'shiyigecesh': 3,\n",
       " 'shiyigeceshi': 3,\n",
       " 'eshiy': 1,\n",
       " 'eshiyi': 1,\n",
       " 'eshiyig': 1,\n",
       " 'eshiyige': 1,\n",
       " 'eshiyigec': 1,\n",
       " 'eshiyigece': 1,\n",
       " 'eshiyigeces': 1,\n",
       " 'eshiyigecesh': 1,\n",
       " 'eshiyigeceshi': 1,\n",
       " 'he': 0,\n",
       " 'hes': 2,\n",
       " 'hesh': 3,\n",
       " 'heshi': 2,\n",
       " 'heshiy': 2,\n",
       " 'heshiyi': 2,\n",
       " 'heshiyig': 2,\n",
       " 'heshiyige': 2,\n",
       " 'heshiyigec': 2,\n",
       " 'heshiyigece': 2,\n",
       " 'heshiyigeces': 11,\n",
       " 'heshiyigecesh': 2,\n",
       " 'heshiyigeceshi': 11,\n",
       " 'zh': 1,\n",
       " 'zhe': 0,\n",
       " 'zhes': 3,\n",
       " 'zhesh': 3,\n",
       " 'zheshi': 3,\n",
       " 'zheshiy': 3,\n",
       " 'zheshiyi': 3,\n",
       " 'zheshiyig': 3,\n",
       " 'zheshiyige': 6,\n",
       " 'zheshiyigec': 3,\n",
       " 'zheshiyigece': 3,\n",
       " 'zheshiyigeces': 6,\n",
       " 'zheshiyigecesh': 3,\n",
       " 'zheshiyigeceshi': 3,\n",
       " 'w': 0,\n",
       " 'o': 0,\n",
       " 'x': 0,\n",
       " 'a': 0,\n",
       " 'q': 0,\n",
       " 'u': 0,\n",
       " 'd': 0,\n",
       " 'ue': 1,\n",
       " 'xu': 0,\n",
       " 'xue': 0,\n",
       " 'ax': 1,\n",
       " 'axu': 1,\n",
       " 'axue': 1,\n",
       " 'da': 0,\n",
       " 'dax': 2,\n",
       " 'daxu': 2,\n",
       " 'daxue': 2,\n",
       " 'ad': 1,\n",
       " 'ada': 1,\n",
       " 'adax': 1,\n",
       " 'adaxu': 1,\n",
       " 'adaxue': 1,\n",
       " 'ua': 1,\n",
       " 'uad': 1,\n",
       " 'uada': 2,\n",
       " 'uadax': 1,\n",
       " 'uadaxu': 2,\n",
       " 'uadaxue': 1,\n",
       " 'hu': 0,\n",
       " 'hua': 0,\n",
       " 'huad': 3,\n",
       " 'huada': 3,\n",
       " 'huadax': 5,\n",
       " 'huadaxu': 5,\n",
       " 'huadaxue': 3,\n",
       " 'gh': 1,\n",
       " 'ghu': 1,\n",
       " 'ghua': 1,\n",
       " 'ghuad': 1,\n",
       " 'ghuada': 1,\n",
       " 'ghuadax': 1,\n",
       " 'ghuadaxu': 1,\n",
       " 'ghuadaxue': 1,\n",
       " 'ng': 1,\n",
       " 'ngh': 1,\n",
       " 'nghu': 1,\n",
       " 'nghua': 1,\n",
       " 'nghuad': 1,\n",
       " 'nghuada': 1,\n",
       " 'nghuadax': 1,\n",
       " 'nghuadaxu': 1,\n",
       " 'nghuadaxue': 1,\n",
       " 'ing': 1,\n",
       " 'ingh': 1,\n",
       " 'inghu': 1,\n",
       " 'inghua': 1,\n",
       " 'inghuad': 1,\n",
       " 'inghuada': 1,\n",
       " 'inghuadax': 1,\n",
       " 'inghuadaxu': 1,\n",
       " 'inghuadaxue': 6,\n",
       " 'qi': 0,\n",
       " 'qin': 0,\n",
       " 'qing': 0,\n",
       " 'qingh': 4,\n",
       " 'qinghu': 4,\n",
       " 'qinghua': 4,\n",
       " 'qinghuad': 4,\n",
       " 'qinghuada': 4,\n",
       " 'qinghuadax': 4,\n",
       " 'qinghuadaxu': 4,\n",
       " 'qinghuadaxue': 4,\n",
       " 'gq': 1,\n",
       " 'gqi': 1,\n",
       " 'gqin': 1,\n",
       " 'gqing': 1,\n",
       " 'gqingh': 1,\n",
       " 'gqinghu': 1,\n",
       " 'gqinghua': 1,\n",
       " 'gqinghuad': 1,\n",
       " 'gqinghuada': 1,\n",
       " 'gqinghuadax': 1,\n",
       " 'gqinghuadaxu': 1,\n",
       " 'gqinghuadaxue': 1,\n",
       " 'ngq': 1,\n",
       " 'ngqi': 1,\n",
       " 'ngqin': 1,\n",
       " 'ngqing': 1,\n",
       " 'ngqingh': 2,\n",
       " 'ngqinghu': 1,\n",
       " 'ngqinghua': 2,\n",
       " 'ngqinghuad': 1,\n",
       " 'ngqinghuada': 1,\n",
       " 'ngqinghuadax': 1,\n",
       " 'ngqinghuadaxu': 2,\n",
       " 'ngqinghuadaxue': 1,\n",
       " 'an': 0,\n",
       " 'ang': 0,\n",
       " 'angq': 3,\n",
       " 'angqi': 3,\n",
       " 'angqin': 3,\n",
       " 'angqing': 3,\n",
       " 'angqingh': 3,\n",
       " 'angqinghu': 3,\n",
       " 'angqinghua': 3,\n",
       " 'angqinghuad': 3,\n",
       " 'angqinghuada': 3,\n",
       " 'angqinghuadax': 3,\n",
       " 'angqinghuadaxu': 3,\n",
       " 'angqinghuadaxue': 3,\n",
       " 'ha': 0,\n",
       " 'han': 0,\n",
       " 'hang': 0,\n",
       " 'hangq': 4,\n",
       " 'hangqi': 4,\n",
       " 'hangqin': 4,\n",
       " 'hangqing': 4,\n",
       " 'hangqingh': 4,\n",
       " 'hangqinghu': 4,\n",
       " 'hangqinghua': 8,\n",
       " 'hangqinghuad': 4,\n",
       " 'hangqinghuada': 4,\n",
       " 'hangqinghuadax': 4,\n",
       " 'hangqinghuadaxu': 4,\n",
       " 'hangqinghuadaxue': 4,\n",
       " 'sha': 0,\n",
       " 'shan': 0,\n",
       " 'shang': 0,\n",
       " 'shangq': 5,\n",
       " 'shangqi': 5,\n",
       " 'shangqin': 5,\n",
       " 'shangqing': 5,\n",
       " 'shangqingh': 5,\n",
       " 'shangqinghu': 5,\n",
       " 'shangqinghua': 5,\n",
       " 'shangqinghuad': 5,\n",
       " 'shangqinghuada': 5,\n",
       " 'shangqinghuadax': 5,\n",
       " 'shangqinghuadaxu': 5,\n",
       " 'shangqinghuadaxue': 5,\n",
       " 'gs': 1,\n",
       " 'gsh': 1,\n",
       " 'gsha': 1,\n",
       " 'gshan': 1,\n",
       " 'gshang': 1,\n",
       " 'gshangq': 1,\n",
       " 'gshangqi': 1,\n",
       " 'gshangqin': 1,\n",
       " 'gshangqing': 1,\n",
       " 'gshangqingh': 6,\n",
       " 'gshangqinghu': 6,\n",
       " 'gshangqinghua': 1,\n",
       " 'gshangqinghuad': 1,\n",
       " 'gshangqinghuada': 6,\n",
       " 'gshangqinghuadax': 1,\n",
       " 'gshangqinghuadaxu': 1,\n",
       " 'gshangqinghuadaxue': 6,\n",
       " 'ngs': 1,\n",
       " 'ngsh': 1,\n",
       " 'ngsha': 2,\n",
       " 'ngshan': 1,\n",
       " 'ngshang': 1,\n",
       " 'ngshangq': 1,\n",
       " 'ngshangqi': 7,\n",
       " 'ngshangqin': 1,\n",
       " 'ngshangqing': 1,\n",
       " 'ngshangqingh': 1,\n",
       " 'ngshangqinghu': 1,\n",
       " 'ngshangqinghua': 1,\n",
       " 'ngshangqinghuad': 7,\n",
       " 'ngshangqinghuada': 1,\n",
       " 'ngshangqinghuadax': 1,\n",
       " 'ngshangqinghuadaxu': 1,\n",
       " 'ngshangqinghuadaxue': 1,\n",
       " 'angs': 3,\n",
       " 'angsh': 3,\n",
       " 'angsha': 3,\n",
       " 'angshan': 3,\n",
       " 'angshang': 3,\n",
       " 'angshangq': 3,\n",
       " 'angshangqi': 3,\n",
       " 'angshangqin': 3,\n",
       " 'angshangqing': 3,\n",
       " 'angshangqingh': 3,\n",
       " 'angshangqinghu': 3,\n",
       " 'angshangqinghua': 12,\n",
       " 'angshangqinghuad': 3,\n",
       " 'angshangqinghuada': 12,\n",
       " 'angshangqinghuadax': 17,\n",
       " 'angshangqinghuadaxu': 3,\n",
       " 'angshangqinghuadaxue': 3,\n",
       " 'ia': 1,\n",
       " 'ian': 1,\n",
       " 'iang': 1,\n",
       " 'iangs': 1,\n",
       " 'iangsh': 1,\n",
       " 'iangsha': 4,\n",
       " 'iangshan': 1,\n",
       " 'iangshang': 1,\n",
       " 'iangshangq': 1,\n",
       " 'iangshangqi': 1,\n",
       " 'iangshangqin': 1,\n",
       " 'iangshangqing': 1,\n",
       " 'iangshangqingh': 1,\n",
       " 'iangshangqinghu': 13,\n",
       " 'iangshangqinghua': 1,\n",
       " 'iangshangqinghuad': 13,\n",
       " 'iangshangqinghuada': 1,\n",
       " 'iangshangqinghuadax': 1,\n",
       " 'iangshangqinghuadaxu': 1,\n",
       " 'iangshangqinghuadaxue': 13,\n",
       " 'xi': 0,\n",
       " 'xia': 0,\n",
       " 'xian': 0,\n",
       " 'xiang': 0,\n",
       " 'xiangs': 5,\n",
       " 'xiangsh': 5,\n",
       " 'xiangsha': 5,\n",
       " 'xiangshan': 5,\n",
       " 'xiangshang': 5,\n",
       " 'xiangshangq': 5,\n",
       " 'xiangshangqi': 5,\n",
       " 'xiangshangqin': 5,\n",
       " 'xiangshangqing': 5,\n",
       " 'xiangshangqingh': 5,\n",
       " 'xiangshangqinghu': 5,\n",
       " 'xiangshangqinghua': 10,\n",
       " 'xiangshangqinghuad': 10,\n",
       " 'xiangshangqinghuada': 5,\n",
       " 'xiangshangqinghuadax': 5,\n",
       " 'xiangshangqinghuadaxu': 5,\n",
       " 'xiangshangqinghuadaxue': 5,\n",
       " 'ox': 1,\n",
       " 'oxi': 1,\n",
       " 'oxia': 1,\n",
       " 'oxian': 1,\n",
       " 'oxiang': 1,\n",
       " 'oxiangs': 1,\n",
       " 'oxiangsh': 1,\n",
       " 'oxiangsha': 6,\n",
       " 'oxiangshan': 1,\n",
       " 'oxiangshang': 1,\n",
       " 'oxiangshangq': 1,\n",
       " 'oxiangshangqi': 1,\n",
       " 'oxiangshangqin': 11,\n",
       " 'oxiangshangqing': 1,\n",
       " 'oxiangshangqingh': 11,\n",
       " 'oxiangshangqinghu': 1,\n",
       " 'oxiangshangqinghua': 1,\n",
       " 'oxiangshangqinghuad': 1,\n",
       " 'oxiangshangqinghuada': 11,\n",
       " 'oxiangshangqinghuadax': 1,\n",
       " 'oxiangshangqinghuadaxu': 1,\n",
       " 'oxiangshangqinghuadaxue': 11,\n",
       " 'wo': 0,\n",
       " 'wox': 2,\n",
       " 'woxi': 2,\n",
       " 'woxia': 2,\n",
       " 'woxian': 2,\n",
       " 'woxiang': 2,\n",
       " 'woxiangs': 2,\n",
       " 'woxiangsh': 2,\n",
       " 'woxiangsha': 7,\n",
       " 'woxiangshan': 2,\n",
       " 'woxiangshang': 2,\n",
       " 'woxiangshangq': 2,\n",
       " 'woxiangshangqi': 7,\n",
       " 'woxiangshangqin': 2,\n",
       " 'woxiangshangqing': 2,\n",
       " 'woxiangshangqingh': 2,\n",
       " 'woxiangshangqinghu': 2,\n",
       " 'woxiangshangqinghua': 2,\n",
       " 'woxiangshangqinghuad': 2,\n",
       " 'woxiangshangqinghuada': 16,\n",
       " 'woxiangshangqinghuadax': 2,\n",
       " 'woxiangshangqinghuadaxu': 2,\n",
       " 'woxiangshangqinghuadaxue': 19}"
      ]
     },
     "execution_count": 132,
     "metadata": {},
     "output_type": "execute_result"
    }
   ],
   "source": [
    "solution"
   ]
  },
  {
   "cell_type": "code",
   "execution_count": 133,
   "metadata": {},
   "outputs": [
    {
     "data": {
      "text/plain": [
       "['zhe', 'si', 'h', 'yi', 'ge', 'ce', 's', 'h', 'o']"
      ]
     },
     "execution_count": 133,
     "metadata": {},
     "output_type": "execute_result"
    }
   ],
   "source": [
    "parse(words4)"
   ]
  },
  {
   "cell_type": "markdown",
   "metadata": {},
   "source": [
    "<font color='red'>无法对错误单词进行分割，需结合自动纠错方法</font>"
   ]
  },
  {
   "cell_type": "code",
   "execution_count": null,
   "metadata": {},
   "outputs": [],
   "source": []
  }
 ],
 "metadata": {
  "kernelspec": {
   "display_name": "Python 3",
   "language": "python",
   "name": "python3"
  },
  "language_info": {
   "codemirror_mode": {
    "name": "ipython",
    "version": 3
   },
   "file_extension": ".py",
   "mimetype": "text/x-python",
   "name": "python",
   "nbconvert_exporter": "python",
   "pygments_lexer": "ipython3",
   "version": "3.6.7"
  }
 },
 "nbformat": 4,
 "nbformat_minor": 2
}
