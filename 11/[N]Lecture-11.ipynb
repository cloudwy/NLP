{
 "cells": [
  {
   "cell_type": "code",
   "execution_count": 2,
   "metadata": {},
   "outputs": [],
   "source": [
    "#钢材长度对应价格，1m=1,2m=5,3m=8,...,10m=30\n",
    "original_price = [1, 5, 8, 9, 10, 17, 17, 20, 24, 30]"
   ]
  },
  {
   "cell_type": "code",
   "execution_count": 3,
   "metadata": {},
   "outputs": [],
   "source": [
    "#普通dict，当key不在dict中时会报错，而defaultdict不会，会返回0\n",
    "from collections import defaultdict  "
   ]
  },
  {
   "cell_type": "code",
   "execution_count": 4,
   "metadata": {},
   "outputs": [],
   "source": [
    "price = defaultdict(int)"
   ]
  },
  {
   "cell_type": "code",
   "execution_count": 5,
   "metadata": {},
   "outputs": [],
   "source": [
    "for i,p in enumerate(original_price):\n",
    "    price[i+1] = p"
   ]
  },
  {
   "cell_type": "code",
   "execution_count": 6,
   "metadata": {},
   "outputs": [
    {
     "data": {
      "text/plain": [
       "30"
      ]
     },
     "execution_count": 6,
     "metadata": {},
     "output_type": "execute_result"
    }
   ],
   "source": [
    "price[10]"
   ]
  },
  {
   "cell_type": "markdown",
   "metadata": {},
   "source": [
    "## Get the max splitting by enumerate"
   ]
  },
  {
   "cell_type": "code",
   "execution_count": 7,
   "metadata": {},
   "outputs": [
    {
     "data": {
      "text/plain": [
       "defaultdict(int,\n",
       "            {1: 1,\n",
       "             2: 5,\n",
       "             3: 8,\n",
       "             4: 9,\n",
       "             5: 10,\n",
       "             6: 17,\n",
       "             7: 17,\n",
       "             8: 20,\n",
       "             9: 24,\n",
       "             10: 30})"
      ]
     },
     "execution_count": 7,
     "metadata": {},
     "output_type": "execute_result"
    }
   ],
   "source": [
    "price"
   ]
  },
  {
   "cell_type": "markdown",
   "metadata": {},
   "source": [
    "求一个10m刚才如何切？  \n",
    "max(price[10], r[1]+r[9], r[2]+r[8], ... , r[9]+r[1])\n",
    "\n",
    "如果r[1]+r[9]\n",
    "r[1] ==> return max(price[1],[])  --> price[1]  \n",
    "r[9] ==> return max(price[9],[r(1)+r(8), r(2)+r(7),...])\n",
    "r[8] ==> ...\n",
    "\n",
    "递归问题需要确定目标结果，比如在该函数中目标结果就是确定r(n)的最佳价格  \n",
    "\n",
    "两个\"+\"的不同含义:  \n",
    "· 第一个list + list,比如[1,2]+[3,4]将两个list拼接，返回[1,2,3,4]   \n",
    "· 第二个r(i)+r(n-i)，相当于数值相加"
   ]
  },
  {
   "cell_type": "code",
   "execution_count": 8,
   "metadata": {},
   "outputs": [],
   "source": [
    "def r(n):\n",
    "    return max([price[n]] + [r(i) + r(n-i) for i in range(1,n)])"
   ]
  },
  {
   "cell_type": "code",
   "execution_count": 9,
   "metadata": {},
   "outputs": [
    {
     "data": {
      "text/plain": [
       "30"
      ]
     },
     "execution_count": 9,
     "metadata": {},
     "output_type": "execute_result"
    }
   ],
   "source": [
    "r(10)"
   ]
  },
  {
   "cell_type": "code",
   "execution_count": 10,
   "metadata": {},
   "outputs": [
    {
     "data": {
      "text/plain": [
       "43"
      ]
     },
     "execution_count": 10,
     "metadata": {},
     "output_type": "execute_result"
    }
   ],
   "source": [
    "r(15)"
   ]
  },
  {
   "cell_type": "markdown",
   "metadata": {},
   "source": [
    "为什么算r(15)这么慢？  \n",
    "很多重复的运算...\n",
    "比如 r(10) -> r(1)+r(9),r(2)+r(8),... -> r(9)=r(1)+r(8)  \n",
    "每次都要算r(8),而不是第一次算完后直接调出来"
   ]
  },
  {
   "cell_type": "code",
   "execution_count": 11,
   "metadata": {},
   "outputs": [],
   "source": [
    "import time"
   ]
  },
  {
   "cell_type": "markdown",
   "metadata": {},
   "source": [
    "### 递归问题"
   ]
  },
  {
   "cell_type": "markdown",
   "metadata": {},
   "source": [
    "斐波拉契数列：  \n",
    "1 1 2 3 5..."
   ]
  },
  {
   "cell_type": "code",
   "execution_count": 12,
   "metadata": {},
   "outputs": [],
   "source": [
    "def fibonacci(n):\n",
    "    if n  <= 2:\n",
    "        return 1\n",
    "    else:\n",
    "        return fibonacci(n-1) + fibonacci(n-2)"
   ]
  },
  {
   "cell_type": "code",
   "execution_count": 13,
   "metadata": {},
   "outputs": [
    {
     "name": "stdout",
     "output_type": "stream",
     "text": [
      "5702887\n",
      "3.7840969562530518\n"
     ]
    }
   ],
   "source": [
    "start = time.time()\n",
    "print(fibonacci(34))\n",
    "end = time.time()\n",
    "print(end-start)"
   ]
  },
  {
   "cell_type": "code",
   "execution_count": 14,
   "metadata": {},
   "outputs": [],
   "source": [
    "mem = defaultdict() #用于存储之前已经算过的\n",
    "def fibonacci_op(n):\n",
    "    if n in mem:  #如果在men中，直接调出来使用\n",
    "        return mem[n]\n",
    "    else:  #如果不在\n",
    "        if n <= 2:  \n",
    "            mem[n] = 1\n",
    "            return n\n",
    "        else:\n",
    "            result = fibonacci_op(n-1) + fibonacci_op(n-2)\n",
    "            mem[n] = result\n",
    "            return result"
   ]
  },
  {
   "cell_type": "code",
   "execution_count": 15,
   "metadata": {},
   "outputs": [
    {
     "name": "stdout",
     "output_type": "stream",
     "text": [
      "14662949395604\n",
      "0.0\n"
     ]
    }
   ],
   "source": [
    "start = time.time()\n",
    "print(fibonacci_op(64))\n",
    "end = time.time()\n",
    "print(end-start)"
   ]
  },
  {
   "cell_type": "markdown",
   "metadata": {},
   "source": [
    "# Analysis: How to optimize"
   ]
  },
  {
   "cell_type": "markdown",
   "metadata": {},
   "source": [
    "## A Simpler Problem"
   ]
  },
  {
   "cell_type": "markdown",
   "metadata": {},
   "source": [
    "### Decorator"
   ]
  },
  {
   "cell_type": "code",
   "execution_count": 16,
   "metadata": {},
   "outputs": [],
   "source": [
    "def f1(func):\n",
    "    def wrapper():\n",
    "        print('Started')\n",
    "        func()\n",
    "        print('Ended')\n",
    "    return wrapper"
   ]
  },
  {
   "cell_type": "code",
   "execution_count": 17,
   "metadata": {},
   "outputs": [],
   "source": [
    "def f():\n",
    "    print('HELLO')"
   ]
  },
  {
   "cell_type": "code",
   "execution_count": 18,
   "metadata": {},
   "outputs": [
    {
     "name": "stdout",
     "output_type": "stream",
     "text": [
      "Started\n",
      "HELLO\n",
      "Ended\n"
     ]
    }
   ],
   "source": [
    "f1(f)()"
   ]
  },
  {
   "cell_type": "markdown",
   "metadata": {},
   "source": [
    "如何利用装饰器简化上述函数？"
   ]
  },
  {
   "cell_type": "code",
   "execution_count": 19,
   "metadata": {},
   "outputs": [],
   "source": [
    "@f1\n",
    "def f():\n",
    "    print('HELLO')"
   ]
  },
  {
   "cell_type": "code",
   "execution_count": 20,
   "metadata": {},
   "outputs": [
    {
     "name": "stdout",
     "output_type": "stream",
     "text": [
      "Started\n",
      "HELLO\n",
      "Ended\n"
     ]
    }
   ],
   "source": [
    "f()"
   ]
  },
  {
   "cell_type": "markdown",
   "metadata": {},
   "source": [
    "=> f1(f)()等价于加了装饰器的f()"
   ]
  },
  {
   "cell_type": "code",
   "execution_count": 21,
   "metadata": {},
   "outputs": [],
   "source": [
    "def f1(func):\n",
    "    def wrapper(*args,**kwargs):\n",
    "        print('Started')\n",
    "        func(*args,**kwargs)\n",
    "        print('Ended')\n",
    "    return wrapper"
   ]
  },
  {
   "cell_type": "code",
   "execution_count": 22,
   "metadata": {},
   "outputs": [],
   "source": [
    "@f1\n",
    "def f(a):\n",
    "    print(a)"
   ]
  },
  {
   "cell_type": "code",
   "execution_count": 23,
   "metadata": {},
   "outputs": [
    {
     "name": "stdout",
     "output_type": "stream",
     "text": [
      "Started\n",
      "Hello,world\n",
      "Ended\n"
     ]
    }
   ],
   "source": [
    "f('Hello,world')"
   ]
  },
  {
   "cell_type": "markdown",
   "metadata": {},
   "source": [
    "函数参数：  \n",
    "\\*args为可变参数  \n",
    "\\*\\*kwargs为关键字(key words)参数"
   ]
  },
  {
   "cell_type": "code",
   "execution_count": 24,
   "metadata": {},
   "outputs": [],
   "source": [
    "def k(*args,**kwargs):\n",
    "    print(args)  #args以tuple形式\n",
    "    print(kwargs)  #kwargs以dict形式"
   ]
  },
  {
   "cell_type": "code",
   "execution_count": 25,
   "metadata": {},
   "outputs": [
    {
     "name": "stdout",
     "output_type": "stream",
     "text": [
      "(4, 5, 6, 7)\n",
      "{'b': 7}\n"
     ]
    }
   ],
   "source": [
    "k(4,5,6,7,b=7)"
   ]
  },
  {
   "cell_type": "code",
   "execution_count": 26,
   "metadata": {},
   "outputs": [],
   "source": [
    "def get_time(func):\n",
    "    def wrapper(*args):\n",
    "        start = time.time()\n",
    "        func(*args)\n",
    "        end = time.time()\n",
    "        print('used time : {}'.format(end-start))\n",
    "    return wrapper"
   ]
  },
  {
   "cell_type": "code",
   "execution_count": 27,
   "metadata": {},
   "outputs": [],
   "source": [
    "@get_time\n",
    "def f(a):\n",
    "    print(a)"
   ]
  },
  {
   "cell_type": "code",
   "execution_count": 28,
   "metadata": {},
   "outputs": [
    {
     "name": "stdout",
     "output_type": "stream",
     "text": [
      "Hello\n",
      "used time : 0.0\n"
     ]
    }
   ],
   "source": [
    "f('Hello')"
   ]
  },
  {
   "cell_type": "code",
   "execution_count": 29,
   "metadata": {},
   "outputs": [
    {
     "name": "stdout",
     "output_type": "stream",
     "text": [
      "wrapper\n"
     ]
    }
   ],
   "source": [
    "print(f.__name__)"
   ]
  },
  {
   "cell_type": "markdown",
   "metadata": {},
   "source": [
    "#### @wrap(view_func)  \n",
    "消除装饰器对原函数造成的影响  \n",
    "inference： https://blog.csdn.net/weixin_40576010/article/details/88639686"
   ]
  },
  {
   "cell_type": "code",
   "execution_count": 30,
   "metadata": {},
   "outputs": [
    {
     "name": "stdout",
     "output_type": "stream",
     "text": [
      "__name__:  wrapper\n",
      "__doc__:   this is wrapper __doc__\n"
     ]
    }
   ],
   "source": [
    "def decorator(func):\n",
    "    \"\"\"this is decorator __doc__\"\"\"\n",
    "    def wrapper(*args, **kwargs):\n",
    "        \"\"\"this is wrapper __doc__\"\"\"\n",
    "        print(\"this is wrapper method\")\n",
    "        return func(*args, **kwargs)\n",
    "    return wrapper\n",
    "\n",
    "@decorator\n",
    "def test():\n",
    "    \"\"\"this is test __doc__\"\"\"\n",
    "    print(\"this is test method\")\n",
    "\n",
    "print(\"__name__: \", test.__name__)  \n",
    "print(\"__doc__:  \", test.__doc__)"
   ]
  },
  {
   "cell_type": "markdown",
   "metadata": {},
   "source": [
    "test = decorator(test)  \n",
    "返回wrapper函数，即让test指向了wrapper方法，实际调用了wrapper.\\_\\_name\\_\\_,导致查找该方法时本应返回“test”，而返回了装饰器的内置函数。"
   ]
  },
  {
   "cell_type": "code",
   "execution_count": 31,
   "metadata": {},
   "outputs": [
    {
     "name": "stdout",
     "output_type": "stream",
     "text": [
      "__name__:  test\n",
      "__doc__:   this is test __doc__\n"
     ]
    }
   ],
   "source": [
    "from functools import wraps\n",
    "def decorator(func):\n",
    "    \"\"\"this is decorator __doc__\"\"\"\n",
    "    @wraps(func)\n",
    "    def wrapper(*args, **kwargs):\n",
    "        \"\"\"this is wrapper __doc__\"\"\"\n",
    "        print(\"this is wrapper method\")\n",
    "        return func(*args, **kwargs)\n",
    "    return wrapper\n",
    "\n",
    "@decorator\n",
    "def test():\n",
    "    \"\"\"this is test __doc__\"\"\"\n",
    "    print(\"this is test method\")\n",
    "\n",
    "print(\"__name__: \", test.__name__)  \n",
    "print(\"__doc__:  \", test.__doc__)"
   ]
  },
  {
   "cell_type": "markdown",
   "metadata": {},
   "source": [
    "加入@wraps后，返回了该方法的名字，而不是内置函数。"
   ]
  },
  {
   "cell_type": "markdown",
   "metadata": {},
   "source": [
    "下面看如何利用装饰器解决我们的切钢材问题..."
   ]
  },
  {
   "cell_type": "code",
   "execution_count": 32,
   "metadata": {},
   "outputs": [],
   "source": [
    "from functools import wraps"
   ]
  },
  {
   "cell_type": "code",
   "execution_count": 33,
   "metadata": {},
   "outputs": [],
   "source": [
    "def memo(f):\n",
    "    memo.already_computed = {}  #存储已经计算过的\n",
    "    @wraps(f) \n",
    "    def _wrap(arg):\n",
    "        if arg in memo.already_computed:\n",
    "            result = memo.already_computed[arg]\n",
    "        else:\n",
    "            result = f(arg)\n",
    "            memo.already_computed[arg] = result\n",
    "        return result\n",
    "    return _wrap"
   ]
  },
  {
   "cell_type": "markdown",
   "metadata": {},
   "source": [
    "# We use this method to solve Cut Rod probelm¶"
   ]
  },
  {
   "cell_type": "code",
   "execution_count": 34,
   "metadata": {},
   "outputs": [],
   "source": [
    "solution = {}"
   ]
  },
  {
   "cell_type": "code",
   "execution_count": 35,
   "metadata": {},
   "outputs": [],
   "source": [
    "@memo\n",
    "def r_op(n):\n",
    "    \"\"\"\n",
    "    Args: n is the iron length\n",
    "    Return: the max revenue \n",
    "    \"\"\"\n",
    "    max_price, max_split = max(\n",
    "        [(price[n], 0)] + [(r_op(i) + r_op(n-i), i) for i in range(1, n)], key=lambda x: x[0]\n",
    "    )\n",
    "\n",
    "    solution[n] = (n - max_split, max_split)  #记录最佳切的方法\n",
    "    \n",
    "    return max_price"
   ]
  },
  {
   "cell_type": "code",
   "execution_count": 36,
   "metadata": {},
   "outputs": [
    {
     "name": "stdout",
     "output_type": "stream",
     "text": [
      "0.0\n"
     ]
    }
   ],
   "source": [
    "s=time.time()\n",
    "r_op(20)  #大大缩短了计算时间\n",
    "e=time.time()\n",
    "print(e-s)"
   ]
  },
  {
   "cell_type": "code",
   "execution_count": 37,
   "metadata": {},
   "outputs": [
    {
     "data": {
      "text/plain": [
       "defaultdict(int,\n",
       "            {1: 1,\n",
       "             2: 5,\n",
       "             3: 8,\n",
       "             4: 9,\n",
       "             5: 10,\n",
       "             6: 17,\n",
       "             7: 17,\n",
       "             8: 20,\n",
       "             9: 24,\n",
       "             10: 30,\n",
       "             15: 0,\n",
       "             14: 0,\n",
       "             13: 0,\n",
       "             12: 0,\n",
       "             11: 0,\n",
       "             20: 0,\n",
       "             19: 0,\n",
       "             18: 0,\n",
       "             17: 0,\n",
       "             16: 0})"
      ]
     },
     "execution_count": 37,
     "metadata": {},
     "output_type": "execute_result"
    }
   ],
   "source": [
    "price"
   ]
  },
  {
   "cell_type": "code",
   "execution_count": 38,
   "metadata": {},
   "outputs": [
    {
     "data": {
      "text/plain": [
       "{1: (1, 0),\n",
       " 2: (2, 0),\n",
       " 3: (3, 0),\n",
       " 4: (2, 2),\n",
       " 5: (3, 2),\n",
       " 6: (6, 0),\n",
       " 7: (6, 1),\n",
       " 8: (6, 2),\n",
       " 9: (6, 3),\n",
       " 10: (10, 0),\n",
       " 11: (10, 1),\n",
       " 12: (10, 2),\n",
       " 13: (10, 3),\n",
       " 14: (12, 2),\n",
       " 15: (13, 2),\n",
       " 16: (10, 6),\n",
       " 17: (16, 1),\n",
       " 18: (16, 2),\n",
       " 19: (16, 3),\n",
       " 20: (10, 10)}"
      ]
     },
     "execution_count": 38,
     "metadata": {},
     "output_type": "execute_result"
    }
   ],
   "source": [
    "solution"
   ]
  },
  {
   "cell_type": "markdown",
   "metadata": {},
   "source": [
    "# How do we parse solution?¶"
   ]
  },
  {
   "cell_type": "code",
   "execution_count": 39,
   "metadata": {},
   "outputs": [],
   "source": [
    "def parse_solution(n):\n",
    "    left_split, right_split = solution[n]\n",
    "    \n",
    "    if right_split == 0: return [left_split]\n",
    "    \n",
    "    return parse_solution(left_split) + parse_solution(right_split)"
   ]
  },
  {
   "cell_type": "code",
   "execution_count": 41,
   "metadata": {},
   "outputs": [
    {
     "data": {
      "text/plain": [
       "48"
      ]
     },
     "execution_count": 41,
     "metadata": {},
     "output_type": "execute_result"
    }
   ],
   "source": [
    "r(17)"
   ]
  },
  {
   "cell_type": "code",
   "execution_count": 42,
   "metadata": {},
   "outputs": [
    {
     "data": {
      "text/plain": [
       "[10, 6, 1]"
      ]
     },
     "execution_count": 42,
     "metadata": {},
     "output_type": "execute_result"
    }
   ],
   "source": [
    "parse_solution(17)"
   ]
  },
  {
   "cell_type": "markdown",
   "metadata": {},
   "source": [
    "# Edit Distance"
   ]
  },
  {
   "cell_type": "markdown",
   "metadata": {},
   "source": [
    "## 介绍functools.lru_cache"
   ]
  },
  {
   "cell_type": "markdown",
   "metadata": {},
   "source": [
    "https://blog.csdn.net/wzqnls/article/details/78506022\n",
    "functools.lru_cache的作用主要是用来做缓存，他能把相对耗时的函数结果进行保存，避免传入相同的参数重复计算。同时，缓存并不会无限增长，不用的缓存会被释放。"
   ]
  },
  {
   "cell_type": "code",
   "execution_count": 45,
   "metadata": {},
   "outputs": [
    {
     "name": "stdout",
     "output_type": "stream",
     "text": [
      "[0.00000060] fibonacci(0) -> 0\n",
      "[0.00000090] fibonacci(1) -> 1\n",
      "[0.00041010] fibonacci(2) -> 1\n",
      "[0.00000080] fibonacci(1) -> 1\n",
      "[0.00000070] fibonacci(0) -> 0\n",
      "[0.00000060] fibonacci(1) -> 1\n",
      "[0.00006190] fibonacci(2) -> 1\n",
      "[0.00012450] fibonacci(3) -> 2\n",
      "[0.00062200] fibonacci(4) -> 3\n",
      "[0.00000060] fibonacci(1) -> 1\n",
      "[0.00000060] fibonacci(0) -> 0\n",
      "[0.00000050] fibonacci(1) -> 1\n",
      "[0.00005310] fibonacci(2) -> 1\n",
      "[0.00010570] fibonacci(3) -> 2\n",
      "[0.00000060] fibonacci(0) -> 0\n",
      "[0.00000060] fibonacci(1) -> 1\n",
      "[0.00005780] fibonacci(2) -> 1\n",
      "[0.00000050] fibonacci(1) -> 1\n",
      "[0.00000050] fibonacci(0) -> 0\n",
      "[0.00000060] fibonacci(1) -> 1\n",
      "[0.00005370] fibonacci(2) -> 1\n",
      "[0.00010550] fibonacci(3) -> 2\n",
      "[0.00021520] fibonacci(4) -> 3\n",
      "[0.00037330] fibonacci(5) -> 5\n",
      "[0.00105080] fibonacci(6) -> 8\n",
      "8\n"
     ]
    }
   ],
   "source": [
    "from clockdeco import clock\n",
    "import functools\n",
    "\n",
    "@clock\n",
    "def fibonacci(n):\n",
    "    if n < 2:\n",
    "        return n\n",
    "    return fibonacci(n-2) + fibonacci(n-1)\n",
    "\n",
    "if __name__=='__main__':\n",
    "    print(fibonacci(6))"
   ]
  },
  {
   "cell_type": "code",
   "execution_count": 46,
   "metadata": {},
   "outputs": [
    {
     "name": "stdout",
     "output_type": "stream",
     "text": [
      "[0.00000090] fibonacci(0) -> 0\n",
      "[0.00000120] fibonacci(1) -> 1\n",
      "[0.00032880] fibonacci(2) -> 1\n",
      "[0.00000170] fibonacci(3) -> 2\n",
      "[0.00040090] fibonacci(4) -> 3\n",
      "[0.00000160] fibonacci(5) -> 5\n",
      "[0.00047080] fibonacci(6) -> 8\n",
      "8\n"
     ]
    }
   ],
   "source": [
    "from clockdeco import clock\n",
    "\n",
    "@functools.lru_cache()\n",
    "@clock\n",
    "def fibonacci(n):\n",
    "    if n < 2:\n",
    "        return n\n",
    "    return fibonacci(n-2) + fibonacci(n-1)\n",
    "\n",
    "if __name__=='__main__':\n",
    "    print(fibonacci(6))"
   ]
  },
  {
   "cell_type": "markdown",
   "metadata": {},
   "source": [
    "第一段代码中没有加@functools.lru_cache()，有很多重复的计算"
   ]
  },
  {
   "cell_type": "markdown",
   "metadata": {},
   "source": [
    "## 动态编辑问题"
   ]
  },
  {
   "cell_type": "code",
   "execution_count": 47,
   "metadata": {},
   "outputs": [],
   "source": [
    "solution = {}"
   ]
  },
  {
   "cell_type": "code",
   "execution_count": 48,
   "metadata": {},
   "outputs": [],
   "source": [
    "from functools import lru_cache"
   ]
  },
  {
   "cell_type": "code",
   "execution_count": 49,
   "metadata": {},
   "outputs": [],
   "source": [
    "@lru_cache(maxsize=2**10) #max_size为缓存结果的个数，避免内存爆炸\n",
    "def edit_distance(string1, string2):\n",
    "    \n",
    "    if len(string1) == 0: return len(string2) #s1='',s2='word',删掉s2里的字母\n",
    "    if len(string2) == 0: return len(string1) #s1='word',s2='',插入s1里的字母\n",
    "    \n",
    "    tail_s1 = string1[-1]  #s1='word', tail_s1='d' -> 'wor'+'d'\n",
    "    tail_s2 = string2[-1]  #s2='work', tail_s2='k' -> 'wor'+'k'\n",
    "    \n",
    "    candidates = [\n",
    "        (edit_distance(string1[:-1], string2) + 1, 'DEL {}'.format(tail_s1)),  #edit_distance('wor','work')  \n",
    "        # string 1 delete tail\n",
    "        (edit_distance(string1, string2[:-1]) + 1, 'ADD {}'.format(tail_s2)), #edit_distance('word','wor')\n",
    "        # string 1 add tail of string2\n",
    "    ]\n",
    "    \n",
    "    #替换操作\n",
    "    if tail_s1 == tail_s2:\n",
    "        both_forward = (edit_distance(string1[:-1], string2[:-1]) + 0, '')\n",
    "    else:\n",
    "        both_forward = (edit_distance(string1[:-1], string2[:-1]) + 1, 'SUB {} => {}'.format(tail_s1, tail_s2))\n",
    "\n",
    "    candidates.append(both_forward) #candidates = [d(DEL),d(INSERT),d(SUB,NOSUB)]\n",
    "    \n",
    "    min_distance, operation = min(candidates, key=lambda x: x[0]) #x[0]指根据distance排序\n",
    "    \n",
    "    solution[(string1, string2)] = operation \n",
    "    \n",
    "    return min_distance"
   ]
  },
  {
   "cell_type": "code",
   "execution_count": 50,
   "metadata": {},
   "outputs": [
    {
     "data": {
      "text/plain": [
       "3"
      ]
     },
     "execution_count": 50,
     "metadata": {},
     "output_type": "execute_result"
    }
   ],
   "source": [
    "edit_distance('ABCDECG','ABCCEF')"
   ]
  },
  {
   "cell_type": "code",
   "execution_count": 51,
   "metadata": {},
   "outputs": [
    {
     "data": {
      "text/plain": [
       "{('A', 'A'): '',\n",
       " ('A', 'AB'): 'ADD B',\n",
       " ('A', 'ABC'): 'ADD C',\n",
       " ('A', 'ABCC'): 'ADD C',\n",
       " ('A', 'ABCCE'): 'ADD E',\n",
       " ('A', 'ABCCEF'): 'ADD F',\n",
       " ('AB', 'A'): 'DEL B',\n",
       " ('AB', 'AB'): '',\n",
       " ('AB', 'ABC'): 'ADD C',\n",
       " ('AB', 'ABCC'): 'ADD C',\n",
       " ('AB', 'ABCCE'): 'ADD E',\n",
       " ('AB', 'ABCCEF'): 'ADD F',\n",
       " ('ABC', 'A'): 'DEL C',\n",
       " ('ABC', 'AB'): 'DEL C',\n",
       " ('ABC', 'ABC'): '',\n",
       " ('ABC', 'ABCC'): 'ADD C',\n",
       " ('ABC', 'ABCCE'): 'ADD E',\n",
       " ('ABC', 'ABCCEF'): 'ADD F',\n",
       " ('ABCD', 'A'): 'DEL D',\n",
       " ('ABCD', 'AB'): 'DEL D',\n",
       " ('ABCD', 'ABC'): 'DEL D',\n",
       " ('ABCD', 'ABCC'): 'SUB D => C',\n",
       " ('ABCD', 'ABCCE'): 'ADD E',\n",
       " ('ABCD', 'ABCCEF'): 'ADD F',\n",
       " ('ABCDE', 'A'): 'DEL E',\n",
       " ('ABCDE', 'AB'): 'DEL E',\n",
       " ('ABCDE', 'ABC'): 'DEL E',\n",
       " ('ABCDE', 'ABCC'): 'DEL E',\n",
       " ('ABCDE', 'ABCCE'): '',\n",
       " ('ABCDE', 'ABCCEF'): 'ADD F',\n",
       " ('ABCDEC', 'A'): 'DEL C',\n",
       " ('ABCDEC', 'AB'): 'DEL C',\n",
       " ('ABCDEC', 'ABC'): 'DEL C',\n",
       " ('ABCDEC', 'ABCC'): '',\n",
       " ('ABCDEC', 'ABCCE'): 'DEL C',\n",
       " ('ABCDEC', 'ABCCEF'): 'SUB C => F',\n",
       " ('ABCDECG', 'A'): 'DEL G',\n",
       " ('ABCDECG', 'AB'): 'DEL G',\n",
       " ('ABCDECG', 'ABC'): 'DEL G',\n",
       " ('ABCDECG', 'ABCC'): 'DEL G',\n",
       " ('ABCDECG', 'ABCCE'): 'DEL G',\n",
       " ('ABCDECG', 'ABCCEF'): 'DEL G'}"
      ]
     },
     "execution_count": 51,
     "metadata": {},
     "output_type": "execute_result"
    }
   ],
   "source": [
    "solution"
   ]
  },
  {
   "cell_type": "markdown",
   "metadata": {},
   "source": [
    "## Todo: Parse Solution is our homework"
   ]
  },
  {
   "cell_type": "markdown",
   "metadata": {},
   "source": [
    "# Problem Case 3: Pinyin Auto Correction Problem"
   ]
  },
  {
   "cell_type": "code",
   "execution_count": 52,
   "metadata": {},
   "outputs": [],
   "source": [
    "chinese_dataset = 'article_9k.txt'"
   ]
  },
  {
   "cell_type": "code",
   "execution_count": 53,
   "metadata": {},
   "outputs": [],
   "source": [
    "CHINESE_CHARATERS = open( chinese_dataset).read()"
   ]
  },
  {
   "cell_type": "code",
   "execution_count": 54,
   "metadata": {},
   "outputs": [
    {
     "data": {
      "text/plain": [
       "'此外自本周6月12日起除小米手机6等15款机型外其余机型已暂停更新发布含开发版体'"
      ]
     },
     "execution_count": 54,
     "metadata": {},
     "output_type": "execute_result"
    }
   ],
   "source": [
    "CHINESE_CHARATERS[:40]"
   ]
  },
  {
   "cell_type": "code",
   "execution_count": 57,
   "metadata": {},
   "outputs": [],
   "source": [
    "import pinyin"
   ]
  },
  {
   "cell_type": "code",
   "execution_count": 58,
   "metadata": {},
   "outputs": [
    {
     "data": {
      "text/plain": [
       "'ni hao ， zhong guo'"
      ]
     },
     "execution_count": 58,
     "metadata": {},
     "output_type": "execute_result"
    }
   ],
   "source": [
    "pinyin.get('你好，中国',format='strip',delimiter=' ')"
   ]
  },
  {
   "cell_type": "code",
   "execution_count": 59,
   "metadata": {},
   "outputs": [],
   "source": [
    "#汉字变成拼音\n",
    "def chinese_to_pinyin(character):\n",
    "    return pinyin.get(character, format='strip', delimiter=' ')"
   ]
  },
  {
   "cell_type": "code",
   "execution_count": 60,
   "metadata": {},
   "outputs": [],
   "source": [
    "CHINESE_CHARATERS_COPYS = chinese_to_pinyin(CHINESE_CHARATERS)"
   ]
  },
  {
   "cell_type": "code",
   "execution_count": 61,
   "metadata": {},
   "outputs": [
    {
     "data": {
      "text/plain": [
       "'ci wai zi ben zhou 6 yue 1 2 ri qi chu xiao mi shou ji 6 deng 1 5 kuan ji xing wai qi yu ji xing yi '"
      ]
     },
     "execution_count": 61,
     "metadata": {},
     "output_type": "execute_result"
    }
   ],
   "source": [
    "CHINESE_CHARATERS_COPYS[:100]"
   ]
  },
  {
   "cell_type": "code",
   "execution_count": 62,
   "metadata": {},
   "outputs": [
    {
     "data": {
      "text/plain": [
       "129433034"
      ]
     },
     "execution_count": 62,
     "metadata": {},
     "output_type": "execute_result"
    }
   ],
   "source": [
    "len(CHINESE_CHARATERS_COPYS)"
   ]
  },
  {
   "cell_type": "code",
   "execution_count": 64,
   "metadata": {},
   "outputs": [],
   "source": [
    "import re"
   ]
  },
  {
   "cell_type": "code",
   "execution_count": 65,
   "metadata": {},
   "outputs": [],
   "source": [
    "#只提取拼音，不需要数字\n",
    "def tokens(text):\n",
    "    \"List all the pinyin characters\"\n",
    "    return re.findall('[a-z]+',text.lower())"
   ]
  },
  {
   "cell_type": "code",
   "execution_count": 66,
   "metadata": {},
   "outputs": [
    {
     "data": {
      "text/plain": [
       "['ci',\n",
       " 'wai',\n",
       " 'zi',\n",
       " 'ben',\n",
       " 'zhou',\n",
       " 'yue',\n",
       " 'ri',\n",
       " 'qi',\n",
       " 'chu',\n",
       " 'xiao',\n",
       " 'mi',\n",
       " 'shou',\n",
       " 'ji',\n",
       " 'deng',\n",
       " 'kuan',\n",
       " 'ji',\n",
       " 'xing',\n",
       " 'wai',\n",
       " 'qi',\n",
       " 'yu',\n",
       " 'ji',\n",
       " 'xing',\n",
       " 'yi']"
      ]
     },
     "execution_count": 66,
     "metadata": {},
     "output_type": "execute_result"
    }
   ],
   "source": [
    "tokens(CHINESE_CHARATERS_COPYS[:100])"
   ]
  },
  {
   "cell_type": "code",
   "execution_count": 67,
   "metadata": {},
   "outputs": [],
   "source": [
    "from collections import Counter, defaultdict"
   ]
  },
  {
   "cell_type": "code",
   "execution_count": 68,
   "metadata": {},
   "outputs": [],
   "source": [
    "#频率次数越多，正确性越高\n",
    "PINYIN_COUNT = Counter(tokens(CHINESE_CHARATERS_COPYS))"
   ]
  },
  {
   "cell_type": "code",
   "execution_count": 69,
   "metadata": {},
   "outputs": [],
   "source": [
    "#默认错误拼音的编辑距离最多是2，更多的话无法识别\n",
    "def correct(word):\n",
    "    'Find the most possible pinyin based on edit distance'\n",
    "    # Prefer edit distance 0, then 1, then 2; otherwist default to word itself\n",
    "    candidates = (known(edits0(word)) or #known语料库里的拼音集合\n",
    "                  known(edits1(word)) or\n",
    "                  known(edits2(word)) or\n",
    "                  [word]) #超过编辑距离为2，无法识别就返回自己\n",
    "    return max(candidates,key=PINYIN_COUNT.get) #返回语料库里出现最多次的拼音"
   ]
  },
  {
   "cell_type": "code",
   "execution_count": 70,
   "metadata": {},
   "outputs": [],
   "source": [
    "def known(words):\n",
    "    'Return the pinyin in our data'\n",
    "    return {w for w in words if w in PINYIN_COUNT}\n",
    "\n",
    "def edits0(word): #编辑距离为0 = 原词\n",
    "    'Return all strings that are zero edits away from word (i.e., just word itself).'\n",
    "    return {word}\n",
    "\n",
    "def edits2(word): #编辑距离为2 = 编辑距离1的词上再加一个编辑距离\n",
    "    'Return all strings that are two edits away from this pinyin.'\n",
    "    return {e2 for e1 in edits1(word) for e2 in edits1(e1)}"
   ]
  },
  {
   "cell_type": "code",
   "execution_count": 71,
   "metadata": {},
   "outputs": [],
   "source": [
    "alphabet = 'abcdefghijklmnopqrstuvwxyz'\n",
    "\n",
    "def splits(word): #一个词的所有可能拆解方式\n",
    "    'Return a list of all possible (first, rest) pairs that comprise pinyin.'\n",
    "    return [(word[:i], word[i:])\n",
    "           for i in range(len(word)+1)]\n",
    "\n",
    "def edits1(word):\n",
    "    'Return all strings that are one edit away from this pinyin.'\n",
    "    pairs = splits(word)\n",
    "    deletes = [a+b[1:] for (a,b) in pairs if b] #删除[inyin,pnyin,piyin,pinin,pinyn,pinyi]\n",
    "    transposes = [a+b[1]+b[0]+b[2:] for (a,b) in pairs if len(b) > 1] #翻转[ipnyin,]\n",
    "    replaces = [a+c+b[1:] for (a,b) in pairs for c in alphabet if b] #代替\n",
    "    inserts = [a+c+b for (a,b) in pairs for c in alphabet] #插入\n",
    "    return set(deletes + transposes + replaces + inserts)"
   ]
  },
  {
   "cell_type": "code",
   "execution_count": 72,
   "metadata": {},
   "outputs": [
    {
     "data": {
      "text/plain": [
       "[('', 'pinyin'),\n",
       " ('p', 'inyin'),\n",
       " ('pi', 'nyin'),\n",
       " ('pin', 'yin'),\n",
       " ('piny', 'in'),\n",
       " ('pinyi', 'n'),\n",
       " ('pinyin', '')]"
      ]
     },
     "execution_count": 72,
     "metadata": {},
     "output_type": "execute_result"
    }
   ],
   "source": [
    "splits('pinyin')"
   ]
  },
  {
   "cell_type": "code",
   "execution_count": 73,
   "metadata": {},
   "outputs": [
    {
     "name": "stdout",
     "output_type": "stream",
     "text": [
      "{'pinyin'}\n"
     ]
    }
   ],
   "source": [
    "print(edits0('pinyin'))"
   ]
  },
  {
   "cell_type": "code",
   "execution_count": 74,
   "metadata": {},
   "outputs": [
    {
     "name": "stdout",
     "output_type": "stream",
     "text": [
      "{'pinyina', 'peinyin', 'oinyin', 'pinypin', 'ainyin', 'mpinyin', 'pinuin', 'pninyin', 'rpinyin', 'pianyin', 'pinyip', 'pzinyin', 'pinyqn', 'pinyrn', 'ponyin', 'pminyin', 'sinyin', 'upinyin', 'pinyxn', 'vpinyin', 'pjinyin', 'pinykin', 'pinyinh', 'apinyin', 'dpinyin', 'pinycin', 'pinyinr', 'pinyinx', 'pifnyin', 'zpinyin', 'winyin', 'pinyino', 'puinyin', 'psnyin', 'pinyit', 'pinyian', 'pinyinm', 'pinyrin', 'pinpyin', 'pynyin', 'pintyin', 'pinyuin', 'pinyikn', 'prnyin', 'pimyin', 'pjnyin', 'pinyis', 'pibnyin', 'pilnyin', 'pinyid', 'piynyin', 'ptinyin', 'pinyi', 'penyin', 'pinytin', 'pinyxin', 'pinyiwn', 'pinyine', 'pinhin', 'pinyqin', 'pinytn', 'pinxyin', 'ninyin', 'piwnyin', 'ypinyin', 'yinyin', 'poinyin', 'pincyin', 'pinyimn', 'pinybn', 'pinyein', 'pinyun', 'pinyipn', 'pinying', 'minyin', 'pinydin', 'pinyiun', 'kpinyin', 'pipnyin', 'pinhyin', 'pniyin', 'piwyin', 'pinlyin', 'pinygn', 'qpinyin', 'pinyins', 'lpinyin', 'pinzyin', 'pinyiq', 'pinuyin', 'pinysin', 'zinyin', 'pinyitn', 'pipyin', 'pinwin', 'pinyif', 'pinyjn', 'pijyin', 'panyin', 'pisyin', 'pnnyin', 'pinyiny', 'pinpin', 'pinqyin', 'finyin', 'picyin', 'pinrin', 'pfinyin', 'pinyind', 'prinyin', 'pinyinf', 'piniin', 'pinsin', 'pinyini', 'pidyin', 'epinyin', 'pinkyin', 'piyyin', 'pinyln', 'pinxin', 'pinyon', 'pinyizn', 'pinyni', 'pinyhin', 'pinjyin', 'pinwyin', 'pinyih', 'pwnyin', 'pcnyin', 'pvnyin', 'pinyiy', 'pinain', 'pinywn', 'pinyir', 'uinyin', 'piknyin', 'pivnyin', 'pknyin', 'pinyii', 'pioyin', 'pinyia', 'pinykn', 'pinyinv', 'pixyin', 'pwinyin', 'pinyan', 'vinyin', 'pixnyin', 'pinyen', 'pinyicn', 'xinyin', 'iinyin', 'ptnyin', 'pignyin', 'rinyin', 'ppinyin', 'pijnyin', 'pinmin', 'pinypn', 'pvinyin', 'pionyin', 'pinynin', 'pilyin', 'plnyin', 'pinyinq', 'pdinyin', 'pinyhn', 'pinyix', 'pizyin', 'hpinyin', 'pinryin', 'pgnyin', 'pbinyin', 'pinyisn', 'pivyin', 'pinydn', 'pnyin', 'pinyik', 'pinyjin', 'pqnyin', 'pinoin', 'pinyfn', 'pinzin', 'tpinyin', 'pinyiv', 'pinysn', 'pkinyin', 'pibyin', 'pinyij', 'pinynn', 'pinyfin', 'pinyiln', 'pinyinn', 'pinyvn', 'phnyin', 'pinyihn', 'pxinyin', 'pinyinj', 'pindyin', 'ppnyin', 'pinyig', 'pinyiu', 'pinkin', 'pineyin', 'pinyinp', 'pinyion', 'pihyin', 'fpinyin', 'pinylin', 'pinyil', 'hinyin', 'pinyiw', 'pinyiz', 'pznyin', 'binyin', 'pinyivn', 'pinyink', 'pinjin', 'pihnyin', 'piniyin', 'pinin', 'pigyin', 'piznyin', 'pienyin', 'pinyinb', 'pxnyin', 'pinyoin', 'jpinyin', 'pinyyin', 'pinyzin', 'pinyinc', 'pinyie', 'picnyin', 'pdnyin', 'piyin', 'linyin', 'pidnyin', 'pitnyin', 'piayin', 'pinvyin', 'pingyin', 'npinyin', 'opinyin', 'pinyirn', 'einyin', 'pmnyin', 'pindin', 'pinvin', 'qinyin', 'xpinyin', 'pinfyin', 'pinsyin', 'pbnyin', 'pinyiyn', 'pinymn', 'inyin', 'pcinyin', 'piinyin', 'pqinyin', 'pinnin', 'pinayin', 'pinyixn', 'pginyin', 'pincin', 'pinbyin', 'pinyin', 'pinyn', 'pinyiin', 'pinfin', 'pinqin', 'pieyin', 'phinyin', 'pinein', 'ipnyin', 'pinyidn', 'pinycn', 'pinlin', 'piniyn', 'dinyin', 'pinygin', 'pinyien', 'pinbin', 'jinyin', 'pinyinu', 'pinoyin', 'pinyim', 'pimnyin', 'psinyin', 'kinyin', 'pirnyin', 'pinyibn', 'pifyin', 'piqnyin', 'piryin', 'pinyign', 'punyin', 'pityin', 'piuyin', 'pintin', 'painyin', 'piynin', 'pinymin', 'pinyifn', 'pinyain', 'pinyinl', 'pinyib', 'pinyzn', 'cinyin', 'pinyyn', 'tinyin', 'wpinyin', 'pinnyin', 'pinywin', 'pyinyin', 'pinyint', 'pinyinz', 'bpinyin', 'pinyvin', 'piqyin', 'pisnyin', 'pikyin', 'pinyiqn', 'pfnyin', 'pinyio', 'piiyin', 'pinyic', 'pinybin', 'gpinyin', 'ipinyin', 'ginyin', 'spinyin', 'pingin', 'plinyin', 'piunyin', 'pinyijn', 'pinyinw', 'pinmyin', 'cpinyin'}\n"
     ]
    }
   ],
   "source": [
    "print(edits1('pinyin'))"
   ]
  },
  {
   "cell_type": "markdown",
   "metadata": {},
   "source": [
    "# Test"
   ]
  },
  {
   "cell_type": "code",
   "execution_count": 75,
   "metadata": {},
   "outputs": [
    {
     "data": {
      "text/plain": [
       "'yin'"
      ]
     },
     "execution_count": 75,
     "metadata": {},
     "output_type": "execute_result"
    }
   ],
   "source": [
    "correct('yin')"
   ]
  },
  {
   "cell_type": "code",
   "execution_count": 76,
   "metadata": {},
   "outputs": [
    {
     "data": {
      "text/plain": [
       "'ying'"
      ]
     },
     "execution_count": 76,
     "metadata": {},
     "output_type": "execute_result"
    }
   ],
   "source": [
    "correct('yign')"
   ]
  },
  {
   "cell_type": "code",
   "execution_count": 77,
   "metadata": {},
   "outputs": [
    {
     "data": {
      "text/plain": [
       "'ying'"
      ]
     },
     "execution_count": 77,
     "metadata": {},
     "output_type": "execute_result"
    }
   ],
   "source": [
    "correct('yinn')"
   ]
  },
  {
   "cell_type": "code",
   "execution_count": 78,
   "metadata": {},
   "outputs": [],
   "source": [
    "def correct_sequence_pinyin(text_pinyin):\n",
    "    return ' '.join(map(correct, text_pinyin.split()))"
   ]
  },
  {
   "cell_type": "code",
   "execution_count": 79,
   "metadata": {},
   "outputs": [
    {
     "data": {
      "text/plain": [
       "'zhe shi yi ge ce shi'"
      ]
     },
     "execution_count": 79,
     "metadata": {},
     "output_type": "execute_result"
    }
   ],
   "source": [
    "correct_sequence_pinyin('zhe sih yi ge ce sho')"
   ]
  },
  {
   "cell_type": "code",
   "execution_count": 80,
   "metadata": {},
   "outputs": [
    {
     "data": {
      "text/plain": [
       "'wo xiang shang qing hua da xue'"
      ]
     },
     "execution_count": 80,
     "metadata": {},
     "output_type": "execute_result"
    }
   ],
   "source": [
    "correct_sequence_pinyin('wo xiang shagn qinng hua da xue')"
   ]
  },
  {
   "cell_type": "markdown",
   "metadata": {},
   "source": [
    "# 思考题-homework？    \n",
    "#### 如何在不带空格的时候完成自动修整？--> 如何完成拼音的自动分割？   \n",
    "###### 提示：使用第一节课提到的语言模型!"
   ]
  },
  {
   "cell_type": "markdown",
   "metadata": {},
   "source": [
    "woyaoshangqinghua\n",
    "w yaoshangqinghua\n",
    "wo yaoshangqinghua\n",
    "woyao shangqinghua\n",
    "\n",
    "-> DP"
   ]
  }
 ],
 "metadata": {
  "kernelspec": {
   "display_name": "Python 3",
   "language": "python",
   "name": "python3"
  },
  "language_info": {
   "codemirror_mode": {
    "name": "ipython",
    "version": 3
   },
   "file_extension": ".py",
   "mimetype": "text/x-python",
   "name": "python",
   "nbconvert_exporter": "python",
   "pygments_lexer": "ipython3",
   "version": "3.6.7"
  }
 },
 "nbformat": 4,
 "nbformat_minor": 2
}
