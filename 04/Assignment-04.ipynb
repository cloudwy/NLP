{
 "cells": [
  {
   "cell_type": "markdown",
   "metadata": {},
   "source": [
    "# Assignment 4"
   ]
  },
  {
   "cell_type": "markdown",
   "metadata": {},
   "source": [
    "### 1. 复习上课内容以及复现课程代码"
   ]
  },
  {
   "cell_type": "markdown",
   "metadata": {},
   "source": [
    "在本部分，你需要复习上课内容和课程代码后，自己复现课程代码。"
   ]
  },
  {
   "cell_type": "markdown",
   "metadata": {},
   "source": [
    "### 2. 回答一下理论题目"
   ]
  },
  {
   "cell_type": "markdown",
   "metadata": {},
   "source": [
    "#### 1. What does a neuron compute?"
   ]
  },
  {
   "cell_type": "markdown",
   "metadata": {},
   "source": [
    "A neuron computes a linear function (z = Wx + b) followed by an activation function."
   ]
  },
  {
   "cell_type": "markdown",
   "metadata": {},
   "source": [
    "####  2. Why we use non-linear activation funcitons in neural networks?"
   ]
  },
  {
   "cell_type": "markdown",
   "metadata": {},
   "source": [
    "When use linear activation functions, several hidden layers are equal to only one hidden layer."
   ]
  },
  {
   "cell_type": "markdown",
   "metadata": {},
   "source": [
    "#### 3. What is the 'Logistic Loss' ?"
   ]
  },
  {
   "cell_type": "markdown",
   "metadata": {},
   "source": [
    "**Cross-entropy:** <br>\n",
    "p(x) and q(x) are probability distribution<br>\n",
    "$H(p,q) = -\\sum_{x} p(x)logq(x)$\n",
    "\n",
    "**Logistic Loss:**<br>\n",
    "$H(p,q) = -\\sum_{x} p(x)logq(x) = -ylog\\hat{y}-(1-y)log(1-\\hat{y})$\n",
    "\n",
    "**Logistic Loss is a special case (binary classification) of Cross-entropy.**"
   ]
  },
  {
   "cell_type": "markdown",
   "metadata": {},
   "source": [
    "#### 4. Assume that you are building a binary classifier for detecting if an image containing cats, which activation functions would you recommen using for the output layer ?\n",
    "\n",
    "A. ReLU    \n",
    "B. Leaky ReLU    \n",
    "C. sigmoid    \n",
    "D. tanh  "
   ]
  },
  {
   "cell_type": "markdown",
   "metadata": {},
   "source": [
    "选C ： 输出为0~1之间的值，表示含有猫的概率"
   ]
  },
  {
   "cell_type": "markdown",
   "metadata": {},
   "source": [
    "#### 5. Why we don't use zero initialization for all parameters ?"
   ]
  },
  {
   "cell_type": "markdown",
   "metadata": {},
   "source": [
    "With forward propagation and backpropagation the output of all neurons is the same, which leads to the function of all neurons is the same and the gradient is not transferred."
   ]
  },
  {
   "cell_type": "markdown",
   "metadata": {},
   "source": [
    "#### 6. Can you implement the softmax function using python ? "
   ]
  },
  {
   "cell_type": "markdown",
   "metadata": {},
   "source": [
    "$$S_{i} = \\frac{e^{V_{i}}}{\\sum_{j} e^{V_{j}}}$$"
   ]
  },
  {
   "cell_type": "markdown",
   "metadata": {},
   "source": [
    "<font color='red'>softmax 最好每一项减去最大值，防止出现数值上溢，并且可以尝试使用numpy完成<font>"
   ]
  },
  {
   "cell_type": "markdown",
   "metadata": {},
   "source": [
    "**证明softmax(x)=softmax(x+c),其中c为常数**<br>\n",
    "\\begin{align}\n",
    "(softmax(x+c))_i &= \\frac{exp(x_i+C)}{\\sum_{j=1}^{dim(x)} exp(x_{j}+c)}\\\\ &= \\frac{exp(x_{i})exp(c)}{\\sum_{j=1}^{dim(x)}exp(x_j+c)}\\\\ &=\\frac{exp(x_{i})exp(c)}{exp(c)\\sum_{j=1}^{dim(x)}exp(x_{i})} \\\\&=\\frac{exp(x_{i})}{\\sum_{j=1}^{dim(x)}exp(x_{i})} = softmax(x)\n",
    "\\end{align}"
   ]
  },
  {
   "cell_type": "code",
   "execution_count": 46,
   "metadata": {},
   "outputs": [],
   "source": [
    "\"\"\"\n",
    "import math\n",
    "def softmax(x):\n",
    "    x_exp = [math.exp(i) for i in x]\n",
    "    print(x_exp)\n",
    "    sum_x_exp = sum(x_exp)\n",
    "    print(sum_x_exp)\n",
    "    result = [round(i/sum_x_exp,3) for i in x_exp]\n",
    "    return result\n",
    "\"\"\""
   ]
  },
  {
   "cell_type": "code",
   "execution_count": 47,
   "metadata": {},
   "outputs": [],
   "source": [
    "x = [1.0, 2.0, 3.0, 4.0, 1.0, 2.0, 3.0]"
   ]
  },
  {
   "cell_type": "code",
   "execution_count": 48,
   "metadata": {},
   "outputs": [
    {
     "name": "stdout",
     "output_type": "stream",
     "text": [
      "[2.718281828459045, 7.38905609893065, 20.085536923187668, 54.598150033144236, 2.718281828459045, 7.38905609893065, 20.085536923187668]\n",
      "114.98389973429897\n"
     ]
    },
    {
     "data": {
      "text/plain": [
       "[0.024, 0.064, 0.175, 0.475, 0.024, 0.064, 0.175]"
      ]
     },
     "execution_count": 48,
     "metadata": {},
     "output_type": "execute_result"
    }
   ],
   "source": [
    "softmax(x)"
   ]
  },
  {
   "cell_type": "code",
   "execution_count": 1,
   "metadata": {},
   "outputs": [],
   "source": [
    "import numpy as np\n",
    "def softmax(x):\n",
    "    \"\"\"\n",
    "    x - N维向量\n",
    "    \"\"\"\n",
    "    x_max = np.max(x)\n",
    "    x=x-x_max\n",
    "    return np.exp(x)/np.sum(np.exp(x))\n"
   ]
  },
  {
   "cell_type": "code",
   "execution_count": 2,
   "metadata": {},
   "outputs": [
    {
     "data": {
      "text/plain": [
       "array([0.02364054, 0.06426166, 0.1746813 , 0.474833  , 0.02364054,\n",
       "       0.06426166, 0.1746813 ])"
      ]
     },
     "execution_count": 2,
     "metadata": {},
     "output_type": "execute_result"
    }
   ],
   "source": [
    "x = [1.0, 2.0, 3.0, 4.0, 1.0, 2.0, 3.0]\n",
    "softmax(x)"
   ]
  },
  {
   "cell_type": "markdown",
   "metadata": {},
   "source": [
    "### 3.实践题"
   ]
  },
  {
   "cell_type": "markdown",
   "metadata": {},
   "source": [
    "#### In this practical part, you will build a simple digits recognizer to check if the digit in the image is larger than 5. This assignmnet will guide you step by step to finish your first small project in this course ."
   ]
  },
  {
   "cell_type": "markdown",
   "metadata": {},
   "source": [
    "#### 1 - Packages  \n",
    "sklearn is a famous package for machine learning.   \n",
    "matplotlib is a common package for vasualization."
   ]
  },
  {
   "cell_type": "code",
   "execution_count": 3,
   "metadata": {},
   "outputs": [],
   "source": [
    "from sklearn import datasets\n",
    "import matplotlib.pyplot as plt\n",
    "from sklearn.model_selection import train_test_split\n",
    "import math"
   ]
  },
  {
   "cell_type": "markdown",
   "metadata": {},
   "source": [
    "#### 2 - Overview of the dataset  \n",
    "    - a training set has m_train images labeled as 0 if the digit < 5 or 1 if the digit >= 5\n",
    "    - a test set contains m_test images labels as if the digit < 5 or 1 if the digit >= 5\n",
    "    - eah image if of shape (num_px, num_px ). Thus, each image is square(height=num_px and  width = num_px)"
   ]
  },
  {
   "cell_type": "code",
   "execution_count": 4,
   "metadata": {},
   "outputs": [],
   "source": [
    "# Loading the data \n",
    "digits = datasets.load_digits()"
   ]
  },
  {
   "cell_type": "code",
   "execution_count": 5,
   "metadata": {},
   "outputs": [
    {
     "data": {
      "image/png": "[encoded data removed]",
      "text/plain": [
       "<Figure size 432x288 with 10 Axes>"
      ]
     },
     "metadata": {},
     "output_type": "display_data"
    }
   ],
   "source": [
    "# Vilizating the data\n",
    "for i in range(1,11):\n",
    "    plt.subplot(2,5,i)\n",
    "    plt.imshow(digits.data[i-1].reshape([8,8]),cmap=plt.cm.gray_r)\n",
    "    plt.text(3,10,str(digits.target[i-1]))\n",
    "    plt.xticks([])\n",
    "    plt.yticks([])\n",
    "plt.show()"
   ]
  },
  {
   "cell_type": "code",
   "execution_count": 6,
   "metadata": {},
   "outputs": [],
   "source": [
    "# Split the data into training set and test set \n",
    "X_train, X_test, y_train, y_test = train_test_split(digits.data, digits.target, test_size=0.25)"
   ]
  },
  {
   "cell_type": "code",
   "execution_count": 7,
   "metadata": {},
   "outputs": [],
   "source": [
    "# reformulate the label. \n",
    "# If the digit is smaller than 5, the label is 0.\n",
    "# If the digit is larger than 5, the label is 1.\n",
    "\n",
    "y_train[y_train < 5 ] = 0\n",
    "y_train[y_train >= 5] = 1\n",
    "y_test[y_test < 5] = 0\n",
    "y_test[y_test >= 5] = 1"
   ]
  },
  {
   "cell_type": "code",
   "execution_count": 8,
   "metadata": {},
   "outputs": [
    {
     "name": "stdout",
     "output_type": "stream",
     "text": [
      "(1347, 64)\n",
      "(450, 64)\n",
      "(1347,)\n",
      "(450,)\n"
     ]
    }
   ],
   "source": [
    "print(X_train.shape)\n",
    "print(X_test.shape)\n",
    "print(y_train.shape)\n",
    "print(y_test.shape)"
   ]
  },
  {
   "cell_type": "markdown",
   "metadata": {},
   "source": [
    "#### 3- Architecture of the neural network"
   ]
  },
  {
   "cell_type": "markdown",
   "metadata": {},
   "source": [
    "![title](./networks.png)"
   ]
  },
  {
   "cell_type": "code",
   "execution_count": 9,
   "metadata": {},
   "outputs": [
    {
     "name": "stderr",
     "output_type": "stream",
     "text": [
      "'pwd' is not recognized as an internal or external command,\n",
      "operable program or batch file.\n"
     ]
    }
   ],
   "source": [
    "!pwd"
   ]
  },
  {
   "cell_type": "markdown",
   "metadata": {},
   "source": [
    "##### Mathematical expression of the algorithm:"
   ]
  },
  {
   "cell_type": "markdown",
   "metadata": {},
   "source": [
    "For one example $x^{(i)}$:   \n",
    " $$ z^{(i)} = w^T * x^{(i)} +b $$   \n",
    " $$ y^{(i)} = a^{(i)} = sigmoid(z^{(i)})$$   \n",
    " $$L(a^{(i)},y^{(i)}) = -y^{(i)} log(a^{(i)})-(1-y^{(i)})log(1-a^{(i)})$$"
   ]
  },
  {
   "cell_type": "markdown",
   "metadata": {},
   "source": [
    "The total cost over all training examples:\n",
    "$$ J = \\frac{1}{m}\\sum_{i=1}^{m}L(a^{(i)},y^{(i)}) $$"
   ]
  },
  {
   "cell_type": "markdown",
   "metadata": {},
   "source": [
    "#### 4 - Building the algorithm"
   ]
  },
  {
   "cell_type": "markdown",
   "metadata": {},
   "source": [
    "##### 4.1- Activation function    \n",
    "###### Exercise:\n",
    "Finish the sigmoid funciton "
   ]
  },
  {
   "cell_type": "code",
   "execution_count": 10,
   "metadata": {},
   "outputs": [],
   "source": [
    "import numpy as np\n",
    "def sigmoid(z):\n",
    "    '''\n",
    "    Compute the sigmoid of z\n",
    "    Arguments: z -- a scalar or numpy array of any size.\n",
    "    \n",
    "    Return:\n",
    "    s -- sigmoid(z)\n",
    "    '''\n",
    "    s = 1./(1+np.exp(-z))\n",
    "    \n",
    "    return s"
   ]
  },
  {
   "cell_type": "code",
   "execution_count": 11,
   "metadata": {},
   "outputs": [
    {
     "name": "stdout",
     "output_type": "stream",
     "text": [
      "sigmoid([0,2]) = [0.5        0.88079708]\n"
     ]
    }
   ],
   "source": [
    "# Test your code \n",
    "# The result should be [0.5 0.88079708]\n",
    "print(\"sigmoid([0,2]) = \" + str(sigmoid(np.array([0,2]))))"
   ]
  },
  {
   "cell_type": "markdown",
   "metadata": {},
   "source": [
    "##### 4.1-Initializaing parameters\n",
    "###### Exercise:\n",
    "Finishe the initialize_parameters function below"
   ]
  },
  {
   "cell_type": "code",
   "execution_count": 12,
   "metadata": {},
   "outputs": [],
   "source": [
    "# Random innitialize the parameters\n",
    "\n",
    "def initialize_parameters(dim):\n",
    "    '''\n",
    "    Argument: dim -- size of the w vector\n",
    "    \n",
    "    Returns:\n",
    "    w -- initialized vector of shape (dim,1)\n",
    "    b -- initializaed scalar\n",
    "    '''\n",
    "    \n",
    "    w = np.random.randn(dim,1)\n",
    "    b = 0.\n",
    "    \n",
    "    assert(w.shape == (dim,1))\n",
    "    assert(isinstance(b,float) or isinstance(b,int))\n",
    "    \n",
    "    return w,b"
   ]
  },
  {
   "cell_type": "code",
   "execution_count": 13,
   "metadata": {},
   "outputs": [
    {
     "data": {
      "text/plain": [
       "(array([[ 0.63695566],\n",
       "        [-0.02179306],\n",
       "        [ 1.81843365],\n",
       "        [-0.86700536],\n",
       "        [-1.32608209],\n",
       "        [ 0.26052548],\n",
       "        [ 0.07694112],\n",
       "        [-0.266356  ],\n",
       "        [ 1.50709787],\n",
       "        [-0.58811229],\n",
       "        [-2.18303696],\n",
       "        [ 1.40116222],\n",
       "        [ 0.70322374],\n",
       "        [ 0.31911037]]), 0.0)"
      ]
     },
     "execution_count": 13,
     "metadata": {},
     "output_type": "execute_result"
    }
   ],
   "source": [
    "initialize_parameters(14)"
   ]
  },
  {
   "cell_type": "markdown",
   "metadata": {},
   "source": [
    "#### 4.3-Forward and backward propagation"
   ]
  },
  {
   "cell_type": "markdown",
   "metadata": {},
   "source": [
    "###### Some mathematical expressions\n",
    "Forward Propagation:   \n",
    ". X    \n",
    ". A = $\\sigma(w^T*X+b) = (a^{(1)},a^{(2)},...,a^{(m)}$   \n",
    ". J = $-\\frac{1}{m} \\sum_{i=1}^{m}y^{(i)}log(a^{(i)})+(1-y^{(i)})log(1-a^{(i)})$       "
   ]
  },
  {
   "cell_type": "markdown",
   "metadata": {},
   "source": [
    "Some derivative: \n",
    "$$\\frac{\\partial{J}}{\\partial{w}} = \\frac{1}{m}X*(A-Y)^T$$   \n",
    "$$\\frac{\\partial{J}}{\\partial{b}} = \\frac{1}{m}\\sum_{i=1}^m(a^{(i)}-y^{(i)}) $$"
   ]
  },
  {
   "cell_type": "markdown",
   "metadata": {},
   "source": [
    "###### Exercise:\n",
    "Finish the function below:"
   ]
  },
  {
   "cell_type": "code",
   "execution_count": 14,
   "metadata": {},
   "outputs": [],
   "source": [
    "def propagate(w,b,X,Y):\n",
    "    '''\n",
    "    Implement the cost function and its gradient for the propagation\n",
    "    \n",
    "    Arguments:\n",
    "    w - weights\n",
    "    b - bias\n",
    "    X - data\n",
    "    Y - ground truth\n",
    "    '''\n",
    "    #print('w:',w)\n",
    "    m = X.shape[0] #样本数量\n",
    "    A = sigmoid(np.dot(X,w)+b)\n",
    "    #print('A.shape:',A.shape)\n",
    "    #cost = -np.sum(Y*np.log(A)+(1-Y)*np.log(1-A))/m #按公式这样写，但cost会出现nan的情况\n",
    "    #Reference:https://blog.csdn.net/pan5431333/article/details/77606581\n",
    "    cost = -np.sum(Y*np.log(A+ pow(10.0, -9))+(1-Y)*np.log(1-A+ pow(10.0, -9)))/m\n",
    "    #print('cost',cost)\n",
    "    dw = (1/m)*np.dot(X.T,A-Y) #(64,1)\n",
    "    #print('dw.shape:',dw.shape)\n",
    "    #print('dw:',dw)\n",
    "    db = np.mean(A-Y)\n",
    "    #print('db:',db)\n",
    "    \n",
    "    assert(dw.shape == w.shape)\n",
    "    assert(db.dtype == float)\n",
    "    cost = np.squeeze(cost)\n",
    "    assert(cost.shape == ())\n",
    "    \n",
    "    grads = {'dw':dw,\n",
    "             'db':db}\n",
    "    return grads, cost"
   ]
  },
  {
   "cell_type": "markdown",
   "metadata": {},
   "source": [
    "##### 4.4 -Optimization"
   ]
  },
  {
   "cell_type": "markdown",
   "metadata": {},
   "source": [
    "###### Exercise:\n",
    "Minimizing the cost function using gradient descent.   \n",
    "$$\\theta = \\theta - \\alpha*d\\theta$$ where $\\alpha$ is the learning rate."
   ]
  },
  {
   "cell_type": "code",
   "execution_count": 15,
   "metadata": {},
   "outputs": [],
   "source": [
    "def optimize(w, b, X, Y, num_iterations, learning_rate, print_cost=False):\n",
    "    '''\n",
    "    This function optimize w and b by running a gradient descen algorithm\n",
    "    \n",
    "    Arguments:\n",
    "    w - weights\n",
    "    b - bias\n",
    "    X - data\n",
    "    Y - ground truth\n",
    "    num_iterations -- number of iterations of the optimization loop\n",
    "    learning_rate -- learning rate of the gradient descent update rule\n",
    "    print_cost -- True to print the loss every 100 steps\n",
    "    \n",
    "    Returns:\n",
    "    params - dictionary containing the weights w and bias b\n",
    "    grads -- dictionary containing the gradients of the weights and bias with respect to the cost function\n",
    "    costs -- list of all the costs computed during the optimization, this will be used to plot the learning curve.\n",
    "    \n",
    "    '''\n",
    "    \n",
    "    costs = []\n",
    "    \n",
    "    for i in range(num_iterations):\n",
    "        \n",
    "        grads, cost = propagate(w,b,X,Y)\n",
    "        \n",
    "        dw = grads['dw']\n",
    "        db = grads['db']\n",
    "        \n",
    "        w = w-learning_rate*dw\n",
    "        b = b-learning_rate*db\n",
    "        \n",
    "        if i % 100 == 0:\n",
    "            costs.append(cost)\n",
    "        if print_cost and i % 100 == 0:\n",
    "            print (\"Cost after iteration %i: %f\" %(i, cost))\n",
    "    \n",
    "    params = {\"w\":w,\n",
    "              \"b\":b}\n",
    "    \n",
    "    grads = {\"dw\":dw,\n",
    "             \"db\":db}\n",
    "    \n",
    "    return params, grads, costs"
   ]
  },
  {
   "cell_type": "markdown",
   "metadata": {},
   "source": [
    "###### Exercise\n",
    "The previous function will output the learned w and b. We are able to use w and b to predict the labels for a dataset X. Implement the predict() function.    \n",
    "Two steps to finish this task:   \n",
    "1. Calculate $\\hat{Y} = A = \\sigma(w^T*X+b)$   \n",
    "2. Convert the entries of a into 0 (if activation <= 0.5) or 1 (if activation > 0.5), stores the predictions in a vector Y_prediction. If you wish, you can use an if/else statement in a for loop (though there is also a way to vectorize this)."
   ]
  },
  {
   "cell_type": "code",
   "execution_count": 39,
   "metadata": {},
   "outputs": [],
   "source": [
    "def predict(w, b, X):\n",
    "    '''\n",
    "    Predict whether the label is 0 or 1 using learned logistic regression parameters (w, b)\n",
    "    \n",
    "    Arguments:\n",
    "    w -- weights\n",
    "    b -- bias \n",
    "    X -- data \n",
    "    \n",
    "    Returns:\n",
    "    Y_prediction -- a numpy array (vector) containing all predictions (0/1) for the examples in X\n",
    "    '''\n",
    "    m = X.shape[0]\n",
    "    Y_prediction = np.zeros((1,m))\n",
    "    w = w.reshape(X.shape[1],1)\n",
    "    \n",
    "    A = sigmoid(np.dot(X,w)+b)\n",
    "    \"\"\"\n",
    "    for i in range(Y_prediction.shape[1]):\n",
    "        if A[i] >= 0.5:\n",
    "            Y_prediction[0][i] = 1\n",
    "        else:\n",
    "            Y_prediction[0][i] = 0\n",
    "    \"\"\"\n",
    "    #对模型输出的概率值使用阈值转换成0和1可以使用 numpy.where完成，不需要使用循环\n",
    "    Y_prediction = np.where(A>=0.5,1,0)\n",
    "    Y_prediction = np.array([int(x) for x in Y_prediction]).reshape(1,m)\n",
    "    assert(Y_prediction.shape == (1,m))\n",
    "    \n",
    "    return Y_prediction"
   ]
  },
  {
   "cell_type": "markdown",
   "metadata": {},
   "source": [
    "##### 5- Merge all functions into a model"
   ]
  },
  {
   "cell_type": "markdown",
   "metadata": {},
   "source": [
    "Congratulations !! You have finished all the necessary components for constructing a model. Now, Let's take the challenge to merge all the implemented function into one model."
   ]
  },
  {
   "cell_type": "code",
   "execution_count": 40,
   "metadata": {},
   "outputs": [],
   "source": [
    "from sklearn.utils import shuffle,resample\n",
    "def model(X_train, Y_train, X_test, Y_test, num_iterations, learning_rate,print_cost=True):\n",
    "    \"\"\"\n",
    "    Build the logistic regression model by calling all the functions you have implemented.\n",
    "    Arguments:\n",
    "    X_train - training set\n",
    "    Y_train - training label\n",
    "    X_test - test set\n",
    "    Y_test - test label\n",
    "    num_iteration - hyperparameter representing the number of iterations to optimize the parameters\n",
    "    learning_rate -- hyperparameter representing the learning rate used in the update rule of optimize()\n",
    "    print_cost -- Set to true to print the cost every 100 iterations\n",
    "    \n",
    "    Returns:\n",
    "    d - dictionary should contain following information w,b,training_accuracy, test_accuracy,cost\n",
    "    eg: d = {\"w\":w,\n",
    "             \"b\":b,\n",
    "             \"training_accuracy\": traing_accuracy,\n",
    "             \"test_accuracy\":test_accuracy,\n",
    "             \"cost\":cost}\n",
    "    \"\"\"\n",
    "    #数据预处理\n",
    "    Y_train = Y_train.reshape(-1,1) #size(m,1)\n",
    "    Y_test = Y_test.reshape(-1,1)\n",
    "    #参数初始化\n",
    "    row,col = X_train.shape\n",
    "    w,b = initialize_parameters(col)\n",
    "    #训练\n",
    "    params, grads, costs = optimize(w, b, X_train, Y_train, num_iterations, learning_rate, print_cost)\n",
    "    #train_accuracy\n",
    "    Y_train_predict = predict(params['w'], params['b'], X_train)\n",
    "    n = sum(Y_train_predict.T==Y_train)\n",
    "    train_acc = float(n/Y_train.shape[0])\n",
    "    #test_accuracy\n",
    "    Y_test_predict = predict(params['w'], params['b'], X_test)\n",
    "    n = sum(Y_test_predict.T==Y_test)\n",
    "    test_acc = float(n/Y_test.shape[0])\n",
    "    print(\"train_acc={:.4f},test_accuracy={:.4f}\".format(train_acc,test_acc))\n",
    "    return costs,learning_rate,num_iterations,train_acc,test_acc"
   ]
  },
  {
   "cell_type": "code",
   "execution_count": 42,
   "metadata": {},
   "outputs": [
    {
     "name": "stdout",
     "output_type": "stream",
     "text": [
      "Cost after iteration 0: 9.898539\n",
      "Cost after iteration 100: 9.083080\n",
      "Cost after iteration 200: 8.714157\n",
      "Cost after iteration 300: 8.127734\n",
      "Cost after iteration 400: 7.415513\n",
      "Cost after iteration 500: 6.608767\n",
      "Cost after iteration 600: 5.775854\n",
      "Cost after iteration 700: 5.052444\n",
      "Cost after iteration 800: 4.443813\n",
      "Cost after iteration 900: 3.961836\n",
      "Cost after iteration 1000: 3.575825\n",
      "Cost after iteration 1100: 3.253992\n",
      "Cost after iteration 1200: 2.972603\n",
      "Cost after iteration 1300: 2.732279\n",
      "Cost after iteration 1400: 2.530979\n",
      "Cost after iteration 1500: 2.365129\n",
      "Cost after iteration 1600: 2.228953\n",
      "Cost after iteration 1700: 2.115123\n",
      "Cost after iteration 1800: 2.016986\n",
      "Cost after iteration 1900: 1.930773\n",
      "Cost after iteration 2000: 1.853873\n",
      "Cost after iteration 2100: 1.783976\n",
      "Cost after iteration 2200: 1.719562\n",
      "Cost after iteration 2300: 1.659655\n",
      "Cost after iteration 2400: 1.603685\n",
      "Cost after iteration 2500: 1.551250\n",
      "Cost after iteration 2600: 1.501933\n",
      "Cost after iteration 2700: 1.455461\n",
      "Cost after iteration 2800: 1.411712\n",
      "Cost after iteration 2900: 1.370602\n",
      "Cost after iteration 3000: 1.332032\n",
      "Cost after iteration 3100: 1.295870\n",
      "Cost after iteration 3200: 1.261966\n",
      "Cost after iteration 3300: 1.230155\n",
      "Cost after iteration 3400: 1.200260\n",
      "Cost after iteration 3500: 1.172100\n",
      "Cost after iteration 3600: 1.145508\n",
      "Cost after iteration 3700: 1.120354\n",
      "Cost after iteration 3800: 1.096551\n",
      "Cost after iteration 3900: 1.074048\n",
      "Cost after iteration 4000: 1.052800\n",
      "Cost after iteration 4100: 1.032746\n",
      "Cost after iteration 4200: 1.013795\n",
      "Cost after iteration 4300: 0.995847\n",
      "Cost after iteration 4400: 0.978807\n",
      "Cost after iteration 4500: 0.962594\n",
      "Cost after iteration 4600: 0.947144\n",
      "Cost after iteration 4700: 0.932406\n",
      "Cost after iteration 4800: 0.918341\n",
      "Cost after iteration 4900: 0.904917\n",
      "train_acc=0.8478,test_accuracy=0.8289\n"
     ]
    },
    {
     "data": {
      "text/plain": [
       "([9.898538917537515,\n",
       "  9.083080258895281,\n",
       "  8.71415711976331,\n",
       "  8.127734276783258,\n",
       "  7.415513382625394,\n",
       "  6.608767117889004,\n",
       "  5.775853601668438,\n",
       "  5.052443658553529,\n",
       "  4.443812665723129,\n",
       "  3.9618355422653924,\n",
       "  3.5758251350445747,\n",
       "  3.2539919599122498,\n",
       "  2.9726028758148932,\n",
       "  2.7322790606453635,\n",
       "  2.530978659308201,\n",
       "  2.365129370515609,\n",
       "  2.228953431740102,\n",
       "  2.11512341555809,\n",
       "  2.0169858077898577,\n",
       "  1.9307734264953964,\n",
       "  1.8538726353161619,\n",
       "  1.7839761026198397,\n",
       "  1.7195623391568757,\n",
       "  1.6596546077635093,\n",
       "  1.603684762501641,\n",
       "  1.551250492701706,\n",
       "  1.5019328805221692,\n",
       "  1.4554612566122773,\n",
       "  1.4117116773283251,\n",
       "  1.370602172132826,\n",
       "  1.3320318073042265,\n",
       "  1.2958704300780108,\n",
       "  1.261966142162849,\n",
       "  1.2301546501127258,\n",
       "  1.2002597995372672,\n",
       "  1.1720997018409294,\n",
       "  1.1455079074510257,\n",
       "  1.1203541163706061,\n",
       "  1.09655144699153,\n",
       "  1.0740476450188816,\n",
       "  1.0527998548508852,\n",
       "  1.032745609842055,\n",
       "  1.0137951969875207,\n",
       "  0.9958473585798064,\n",
       "  0.9788070521054633,\n",
       "  0.9625939583398095,\n",
       "  0.9471437342908251,\n",
       "  0.9324059999451022,\n",
       "  0.9183411630673,\n",
       "  0.9049167972624833],\n",
       " 0.001,\n",
       " 5000,\n",
       " 0.8478099480326652,\n",
       " 0.8288888888888889)"
      ]
     },
     "execution_count": 42,
     "metadata": {},
     "output_type": "execute_result"
    }
   ],
   "source": [
    "model(X_train, y_train, X_test, y_test, num_iterations=5000, learning_rate=0.001,print_cost=True)"
   ]
  },
  {
   "cell_type": "markdown",
   "metadata": {},
   "source": [
    "### 4.选做题"
   ]
  },
  {
   "cell_type": "markdown",
   "metadata": {},
   "source": [
    "Congratulations on building your first logistic regression model. It is your time to analyze it further."
   ]
  },
  {
   "cell_type": "markdown",
   "metadata": {},
   "source": [
    "##### 4.1 Observe the effect of learning rate on the leraning process.   \n",
    "Hits: plot the learning curve with different learning rate"
   ]
  },
  {
   "cell_type": "code",
   "execution_count": 46,
   "metadata": {},
   "outputs": [
    {
     "name": "stdout",
     "output_type": "stream",
     "text": [
      "train_acc=0.7305,test_accuracy=0.7222\n",
      "train_acc=0.8753,test_accuracy=0.8333\n",
      "train_acc=0.9131,test_accuracy=0.8911\n"
     ]
    },
    {
     "data": {
      "image/png": "[encoded data removed]",
      "text/plain": [
       "<Figure size 432x288 with 1 Axes>"
      ]
     },
     "metadata": {
      "needs_background": "light"
     },
     "output_type": "display_data"
    }
   ],
   "source": [
    "import matplotlib.pyplot as plt\n",
    "costs1,Lr1,_,_,_ = model(X_train, y_train, X_test, y_test, num_iterations=10000, learning_rate=0.0001,print_cost=False)\n",
    "plt.plot(range(len(costs1)),costs1,color='g',label=\"Lr=\"+str(Lr1))\n",
    "costs2,Lr2,_,_,_ = model(X_train, y_train, X_test, y_test, num_iterations=10000, learning_rate=0.001,print_cost=False)\n",
    "plt.plot(range(len(costs2)),costs2,color='b',label=\"Lr=\"+str(Lr2))\n",
    "costs3,Lr3,_,_,_ = model(X_train, y_train, X_test, y_test, num_iterations=10000, learning_rate=0.01,print_cost=False)\n",
    "plt.plot(range(len(costs3)),costs3,color='r',label=\"Lr=\"+str(Lr3))\n",
    "plt.legend(loc='upper right')\n",
    "plt.show()"
   ]
  },
  {
   "cell_type": "markdown",
   "metadata": {},
   "source": [
    "##### 4.2 Observe the effect of iteration_num on the test accuracy."
   ]
  },
  {
   "cell_type": "code",
   "execution_count": 47,
   "metadata": {},
   "outputs": [
    {
     "name": "stdout",
     "output_type": "stream",
     "text": [
      "train_acc=0.4514,test_accuracy=0.4489\n",
      "train_acc=0.5909,test_accuracy=0.5444\n",
      "train_acc=0.5531,test_accuracy=0.5644\n",
      "train_acc=0.6437,test_accuracy=0.6044\n",
      "train_acc=0.6399,test_accuracy=0.6022\n",
      "train_acc=0.5531,test_accuracy=0.5733\n",
      "train_acc=0.7253,test_accuracy=0.7400\n",
      "train_acc=0.5754,test_accuracy=0.5778\n",
      "train_acc=0.6043,test_accuracy=0.6156\n",
      "train_acc=0.7298,test_accuracy=0.7022\n",
      "train_acc=0.6637,test_accuracy=0.6800\n",
      "train_acc=0.7164,test_accuracy=0.7000\n",
      "train_acc=0.7157,test_accuracy=0.7111\n",
      "train_acc=0.7290,test_accuracy=0.7267\n",
      "train_acc=0.7610,test_accuracy=0.7222\n",
      "train_acc=0.7602,test_accuracy=0.7444\n",
      "train_acc=0.7765,test_accuracy=0.7578\n",
      "train_acc=0.7929,test_accuracy=0.7867\n",
      "train_acc=0.7416,test_accuracy=0.7311\n",
      "train_acc=0.7958,test_accuracy=0.7711\n",
      "train_acc=0.7520,test_accuracy=0.7644\n",
      "train_acc=0.7676,test_accuracy=0.7444\n",
      "train_acc=0.7765,test_accuracy=0.7578\n",
      "train_acc=0.7773,test_accuracy=0.7733\n",
      "train_acc=0.8122,test_accuracy=0.8000\n",
      "train_acc=0.7847,test_accuracy=0.7933\n",
      "train_acc=0.8203,test_accuracy=0.8111\n",
      "train_acc=0.8137,test_accuracy=0.8044\n",
      "train_acc=0.8189,test_accuracy=0.8022\n",
      "train_acc=0.8270,test_accuracy=0.8022\n",
      "train_acc=0.8040,test_accuracy=0.7978\n",
      "train_acc=0.8040,test_accuracy=0.7933\n",
      "train_acc=0.7958,test_accuracy=0.7978\n",
      "train_acc=0.8263,test_accuracy=0.8067\n",
      "train_acc=0.8241,test_accuracy=0.8044\n",
      "train_acc=0.7832,test_accuracy=0.7644\n",
      "train_acc=0.8315,test_accuracy=0.8289\n",
      "train_acc=0.8241,test_accuracy=0.8178\n",
      "train_acc=0.8270,test_accuracy=0.8200\n",
      "train_acc=0.8166,test_accuracy=0.7911\n",
      "train_acc=0.8471,test_accuracy=0.8289\n",
      "train_acc=0.8322,test_accuracy=0.8200\n",
      "train_acc=0.8218,test_accuracy=0.8267\n",
      "train_acc=0.8649,test_accuracy=0.8356\n",
      "train_acc=0.8382,test_accuracy=0.8222\n",
      "train_acc=0.8285,test_accuracy=0.7956\n",
      "train_acc=0.8367,test_accuracy=0.8133\n",
      "train_acc=0.8359,test_accuracy=0.8356\n",
      "train_acc=0.8441,test_accuracy=0.8422\n",
      "train_acc=0.8731,test_accuracy=0.8578\n",
      "train_acc=0.8560,test_accuracy=0.8178\n",
      "train_acc=0.8567,test_accuracy=0.8267\n",
      "train_acc=0.8708,test_accuracy=0.8511\n",
      "train_acc=0.8731,test_accuracy=0.8444\n",
      "train_acc=0.8359,test_accuracy=0.8133\n",
      "train_acc=0.8612,test_accuracy=0.8356\n",
      "train_acc=0.8575,test_accuracy=0.8600\n",
      "train_acc=0.8627,test_accuracy=0.8489\n",
      "train_acc=0.8367,test_accuracy=0.8267\n",
      "train_acc=0.8530,test_accuracy=0.8467\n",
      "train_acc=0.8471,test_accuracy=0.8356\n",
      "train_acc=0.8322,test_accuracy=0.8000\n",
      "train_acc=0.8775,test_accuracy=0.8667\n",
      "train_acc=0.8575,test_accuracy=0.8467\n",
      "train_acc=0.8530,test_accuracy=0.8511\n",
      "train_acc=0.8589,test_accuracy=0.8378\n",
      "train_acc=0.8508,test_accuracy=0.8622\n",
      "train_acc=0.8508,test_accuracy=0.8467\n",
      "train_acc=0.8649,test_accuracy=0.8511\n",
      "train_acc=0.8619,test_accuracy=0.8222\n",
      "train_acc=0.8753,test_accuracy=0.8311\n",
      "train_acc=0.8612,test_accuracy=0.8422\n",
      "train_acc=0.8782,test_accuracy=0.8111\n",
      "train_acc=0.8649,test_accuracy=0.8533\n",
      "train_acc=0.8656,test_accuracy=0.8556\n",
      "train_acc=0.8523,test_accuracy=0.8000\n",
      "train_acc=0.8701,test_accuracy=0.8489\n",
      "train_acc=0.8575,test_accuracy=0.8311\n",
      "train_acc=0.8775,test_accuracy=0.8444\n",
      "train_acc=0.8812,test_accuracy=0.8689\n",
      "train_acc=0.8612,test_accuracy=0.8244\n",
      "train_acc=0.8434,test_accuracy=0.8311\n",
      "train_acc=0.8693,test_accuracy=0.8644\n",
      "train_acc=0.8768,test_accuracy=0.8644\n",
      "train_acc=0.8686,test_accuracy=0.8267\n",
      "train_acc=0.8671,test_accuracy=0.8622\n",
      "train_acc=0.8641,test_accuracy=0.8533\n",
      "train_acc=0.8753,test_accuracy=0.8511\n",
      "train_acc=0.8641,test_accuracy=0.8511\n",
      "train_acc=0.8708,test_accuracy=0.8667\n",
      "train_acc=0.8768,test_accuracy=0.8578\n",
      "train_acc=0.8708,test_accuracy=0.8356\n",
      "train_acc=0.8641,test_accuracy=0.8511\n",
      "train_acc=0.8731,test_accuracy=0.8511\n",
      "train_acc=0.8671,test_accuracy=0.8511\n",
      "train_acc=0.8664,test_accuracy=0.8444\n",
      "train_acc=0.8679,test_accuracy=0.8556\n",
      "train_acc=0.8738,test_accuracy=0.8378\n",
      "train_acc=0.8679,test_accuracy=0.8622\n",
      "train_acc=0.8894,test_accuracy=0.8778\n"
     ]
    }
   ],
   "source": [
    "iters=[]\n",
    "train_accs=[]\n",
    "test_accs=[]\n",
    "for i in range(1,10001):\n",
    "    if i%100 == 0:\n",
    "        _,_,iter,train_acc,test_acc = model(X_train, y_train, X_test, y_test, num_iterations=i, learning_rate=0.001,print_cost=False)\n",
    "        iters.append(iter)\n",
    "        train_accs.append(train_acc)\n",
    "        test_accs.append(test_acc)"
   ]
  },
  {
   "cell_type": "code",
   "execution_count": 48,
   "metadata": {},
   "outputs": [
    {
     "data": {
      "text/plain": [
       "[<matplotlib.lines.Line2D at 0x124ea56ec88>]"
      ]
     },
     "execution_count": 48,
     "metadata": {},
     "output_type": "execute_result"
    },
    {
     "data": {
      "image/png": "[encoded data removed]",
      "text/plain": [
       "<Figure size 432x288 with 1 Axes>"
      ]
     },
     "metadata": {
      "needs_background": "light"
     },
     "output_type": "display_data"
    }
   ],
   "source": [
    "import matplotlib.pyplot as plt\n",
    "plt.plot(range(len(test_accs)),test_accs,color='g',label=\"Lr=\"+str(Lr1))"
   ]
  },
  {
   "cell_type": "markdown",
   "metadata": {},
   "source": [
    "# Challenge ! ! !\n",
    "\n",
    "The original data have images labeled 0,1,2,3,4,5,6,7,8,9. In our logistic model, we only detect if the digit in the image is larger or smaller than 5. Now, Let's go for a more challenging problem. Try to use softmax function to build a model to recognize which digit (0,1,2,3,4,5,6,7,8,9) is in the image."
   ]
  },
  {
   "cell_type": "markdown",
   "metadata": {},
   "source": [
    "<font color='purple'>**直接利用MLPClassifier搭建model**"
   ]
  },
  {
   "cell_type": "markdown",
   "metadata": {},
   "source": [
    "**Step1:Load data**"
   ]
  },
  {
   "cell_type": "code",
   "execution_count": 157,
   "metadata": {},
   "outputs": [],
   "source": [
    "from sklearn import datasets\n",
    "import matplotlib.pyplot as plt\n",
    "from sklearn.model_selection import train_test_split"
   ]
  },
  {
   "cell_type": "code",
   "execution_count": 158,
   "metadata": {},
   "outputs": [],
   "source": [
    "digits = datasets.load_digits()\n",
    "X_train, X_test, y_train, y_test = train_test_split(digits.data, digits.target, test_size=0.25)"
   ]
  },
  {
   "cell_type": "code",
   "execution_count": 159,
   "metadata": {},
   "outputs": [
    {
     "name": "stdout",
     "output_type": "stream",
     "text": [
      "(1347, 64)\n"
     ]
    }
   ],
   "source": [
    "print(X_train.shape)"
   ]
  },
  {
   "cell_type": "code",
   "execution_count": 160,
   "metadata": {},
   "outputs": [
    {
     "name": "stdout",
     "output_type": "stream",
     "text": [
      "(1347,)\n"
     ]
    }
   ],
   "source": [
    "print(y_train.shape)"
   ]
  },
  {
   "cell_type": "markdown",
   "metadata": {},
   "source": [
    "**Step2:Design a Model**"
   ]
  },
  {
   "cell_type": "markdown",
   "metadata": {},
   "source": [
    "MLP参数：<br>\n",
    "https://blog.csdn.net/Mrzhang0419/article/details/79519994 中文\n"
   ]
  },
  {
   "cell_type": "code",
   "execution_count": 161,
   "metadata": {},
   "outputs": [],
   "source": [
    "from sklearn.neural_network import MLPClassifier"
   ]
  },
  {
   "cell_type": "code",
   "execution_count": 162,
   "metadata": {},
   "outputs": [],
   "source": [
    "mlp = MLPClassifier(hidden_layer_sizes=(50,50),activation='relu',alpha=1e-4,solver='sgd',random_state=1,verbose=True)"
   ]
  },
  {
   "cell_type": "markdown",
   "metadata": {},
   "source": [
    "**Step3:Training the Model**"
   ]
  },
  {
   "cell_type": "code",
   "execution_count": 163,
   "metadata": {},
   "outputs": [
    {
     "name": "stdout",
     "output_type": "stream",
     "text": [
      "Iteration 1, loss = 6.21076833\n",
      "Iteration 2, loss = 2.46443285\n",
      "Iteration 3, loss = 1.69394416\n",
      "Iteration 4, loss = 1.30788175\n",
      "Iteration 5, loss = 1.05166964\n",
      "Iteration 6, loss = 0.86288801\n",
      "Iteration 7, loss = 0.72723618\n",
      "Iteration 8, loss = 0.62607120\n",
      "Iteration 9, loss = 0.54986028\n",
      "Iteration 10, loss = 0.48639324\n",
      "Iteration 11, loss = 0.43564168\n",
      "Iteration 12, loss = 0.39202217\n",
      "Iteration 13, loss = 0.35750066\n",
      "Iteration 14, loss = 0.32762891\n",
      "Iteration 15, loss = 0.30205140\n",
      "Iteration 16, loss = 0.28010271\n",
      "Iteration 17, loss = 0.26063958\n",
      "Iteration 18, loss = 0.24445187\n",
      "Iteration 19, loss = 0.22961754\n",
      "Iteration 20, loss = 0.21715324\n",
      "Iteration 21, loss = 0.20595775\n",
      "Iteration 22, loss = 0.19473211\n",
      "Iteration 23, loss = 0.18574755\n",
      "Iteration 24, loss = 0.17738243\n",
      "Iteration 25, loss = 0.17013057\n",
      "Iteration 26, loss = 0.16397285\n",
      "Iteration 27, loss = 0.15775600\n",
      "Iteration 28, loss = 0.15138216\n",
      "Iteration 29, loss = 0.14577517\n",
      "Iteration 30, loss = 0.14066062\n",
      "Iteration 31, loss = 0.13717291\n",
      "Iteration 32, loss = 0.13152538\n",
      "Iteration 33, loss = 0.12854075\n",
      "Iteration 34, loss = 0.12284390\n",
      "Iteration 35, loss = 0.12015462\n",
      "Iteration 36, loss = 0.11566741\n",
      "Iteration 37, loss = 0.11325658\n",
      "Iteration 38, loss = 0.10987617\n",
      "Iteration 39, loss = 0.10685963\n",
      "Iteration 40, loss = 0.10447179\n",
      "Iteration 41, loss = 0.10188907\n",
      "Iteration 42, loss = 0.09940170\n",
      "Iteration 43, loss = 0.09698569\n",
      "Iteration 44, loss = 0.09500003\n",
      "Iteration 45, loss = 0.09347924\n",
      "Iteration 46, loss = 0.09107019\n",
      "Iteration 47, loss = 0.08877698\n",
      "Iteration 48, loss = 0.08770155\n",
      "Iteration 49, loss = 0.08556132\n",
      "Iteration 50, loss = 0.08364968\n",
      "Iteration 51, loss = 0.08242389\n",
      "Iteration 52, loss = 0.08050480\n",
      "Iteration 53, loss = 0.07942367\n",
      "Iteration 54, loss = 0.07764490\n",
      "Iteration 55, loss = 0.07619659\n",
      "Iteration 56, loss = 0.07487357\n",
      "Iteration 57, loss = 0.07368467\n",
      "Iteration 58, loss = 0.07227965\n",
      "Iteration 59, loss = 0.07099791\n",
      "Iteration 60, loss = 0.07006351\n",
      "Iteration 61, loss = 0.06894211\n",
      "Iteration 62, loss = 0.06767691\n",
      "Iteration 63, loss = 0.06651616\n",
      "Iteration 64, loss = 0.06538552\n",
      "Iteration 65, loss = 0.06461620\n",
      "Iteration 66, loss = 0.06349112\n",
      "Iteration 67, loss = 0.06270249\n",
      "Iteration 68, loss = 0.06160916\n",
      "Iteration 69, loss = 0.06087156\n",
      "Iteration 70, loss = 0.06013962\n",
      "Iteration 71, loss = 0.05870679\n",
      "Iteration 72, loss = 0.05816069\n",
      "Iteration 73, loss = 0.05728582\n",
      "Iteration 74, loss = 0.05672702\n",
      "Iteration 75, loss = 0.05581025\n",
      "Iteration 76, loss = 0.05492739\n",
      "Iteration 77, loss = 0.05409464\n",
      "Iteration 78, loss = 0.05336508\n",
      "Iteration 79, loss = 0.05280797\n",
      "Iteration 80, loss = 0.05194908\n",
      "Iteration 81, loss = 0.05117290\n",
      "Iteration 82, loss = 0.05064999\n",
      "Iteration 83, loss = 0.05039791\n",
      "Iteration 84, loss = 0.04949931\n",
      "Iteration 85, loss = 0.04869314\n",
      "Iteration 86, loss = 0.04834851\n",
      "Iteration 87, loss = 0.04771938\n",
      "Iteration 88, loss = 0.04720885\n",
      "Iteration 89, loss = 0.04630565\n",
      "Iteration 90, loss = 0.04593231\n",
      "Iteration 91, loss = 0.04517926\n",
      "Iteration 92, loss = 0.04480323\n",
      "Iteration 93, loss = 0.04428322\n",
      "Iteration 94, loss = 0.04374184\n",
      "Iteration 95, loss = 0.04326850\n",
      "Iteration 96, loss = 0.04276868\n",
      "Iteration 97, loss = 0.04209885\n",
      "Iteration 98, loss = 0.04163646\n",
      "Iteration 99, loss = 0.04104804\n",
      "Iteration 100, loss = 0.04081523\n",
      "Iteration 101, loss = 0.04052368\n",
      "Iteration 102, loss = 0.03987965\n",
      "Iteration 103, loss = 0.03935235\n",
      "Iteration 104, loss = 0.03911331\n",
      "Iteration 105, loss = 0.03864479\n",
      "Iteration 106, loss = 0.03813286\n",
      "Iteration 107, loss = 0.03780147\n",
      "Iteration 108, loss = 0.03733719\n",
      "Iteration 109, loss = 0.03683646\n",
      "Iteration 110, loss = 0.03655554\n",
      "Iteration 111, loss = 0.03602501\n",
      "Iteration 112, loss = 0.03567626\n",
      "Iteration 113, loss = 0.03567104\n",
      "Iteration 114, loss = 0.03502613\n",
      "Iteration 115, loss = 0.03497566\n",
      "Iteration 116, loss = 0.03433507\n",
      "Iteration 117, loss = 0.03423654\n",
      "Iteration 118, loss = 0.03362923\n",
      "Iteration 119, loss = 0.03338120\n",
      "Iteration 120, loss = 0.03291175\n",
      "Iteration 121, loss = 0.03276204\n",
      "Iteration 122, loss = 0.03232771\n",
      "Iteration 123, loss = 0.03216300\n",
      "Iteration 124, loss = 0.03185060\n",
      "Iteration 125, loss = 0.03157111\n",
      "Iteration 126, loss = 0.03128102\n",
      "Iteration 127, loss = 0.03093041\n",
      "Iteration 128, loss = 0.03058066\n",
      "Iteration 129, loss = 0.03064624\n",
      "Iteration 130, loss = 0.03020859\n",
      "Iteration 131, loss = 0.02993644\n",
      "Iteration 132, loss = 0.02941419\n",
      "Iteration 133, loss = 0.02924225\n",
      "Iteration 134, loss = 0.02896392\n",
      "Iteration 135, loss = 0.02873857\n",
      "Iteration 136, loss = 0.02844606\n",
      "Iteration 137, loss = 0.02849063\n",
      "Iteration 138, loss = 0.02802192\n",
      "Iteration 139, loss = 0.02783468\n",
      "Iteration 140, loss = 0.02760458\n",
      "Iteration 141, loss = 0.02720212\n",
      "Iteration 142, loss = 0.02710575\n",
      "Iteration 143, loss = 0.02677488\n",
      "Iteration 144, loss = 0.02661640\n",
      "Iteration 145, loss = 0.02634681\n",
      "Iteration 146, loss = 0.02617173\n",
      "Iteration 147, loss = 0.02581815\n",
      "Iteration 148, loss = 0.02567600\n",
      "Iteration 149, loss = 0.02564768\n",
      "Iteration 150, loss = 0.02524863\n",
      "Iteration 151, loss = 0.02503189\n",
      "Iteration 152, loss = 0.02485949\n",
      "Iteration 153, loss = 0.02471615\n",
      "Iteration 154, loss = 0.02444892\n",
      "Iteration 155, loss = 0.02419474\n",
      "Iteration 156, loss = 0.02398627\n",
      "Iteration 157, loss = 0.02388368\n",
      "Iteration 158, loss = 0.02365125\n",
      "Iteration 159, loss = 0.02350398\n",
      "Iteration 160, loss = 0.02322178\n",
      "Iteration 161, loss = 0.02314222\n",
      "Iteration 162, loss = 0.02304450\n",
      "Iteration 163, loss = 0.02278177\n",
      "Iteration 164, loss = 0.02260304\n",
      "Iteration 165, loss = 0.02235780\n",
      "Iteration 166, loss = 0.02224834\n",
      "Iteration 167, loss = 0.02205159\n",
      "Iteration 168, loss = 0.02191636\n",
      "Iteration 169, loss = 0.02167698\n",
      "Iteration 170, loss = 0.02157690\n",
      "Iteration 171, loss = 0.02138102\n",
      "Iteration 172, loss = 0.02126642\n",
      "Iteration 173, loss = 0.02110224\n",
      "Iteration 174, loss = 0.02107472\n",
      "Iteration 175, loss = 0.02078040\n",
      "Iteration 176, loss = 0.02068095\n",
      "Iteration 177, loss = 0.02050688\n",
      "Iteration 178, loss = 0.02040019\n",
      "Iteration 179, loss = 0.02020832\n",
      "Iteration 180, loss = 0.02001357\n",
      "Iteration 181, loss = 0.01999812\n",
      "Iteration 182, loss = 0.01977175\n",
      "Iteration 183, loss = 0.01964484\n",
      "Iteration 184, loss = 0.01951904\n",
      "Iteration 185, loss = 0.01930744\n",
      "Iteration 186, loss = 0.01937188\n",
      "Iteration 187, loss = 0.01912520\n",
      "Iteration 188, loss = 0.01895366\n",
      "Iteration 189, loss = 0.01881781\n",
      "Iteration 190, loss = 0.01877681\n",
      "Iteration 191, loss = 0.01856573\n",
      "Iteration 192, loss = 0.01847550\n",
      "Iteration 193, loss = 0.01832359\n",
      "Iteration 194, loss = 0.01824599\n",
      "Iteration 195, loss = 0.01814766\n",
      "Iteration 196, loss = 0.01804002\n",
      "Iteration 197, loss = 0.01795425\n",
      "Iteration 198, loss = 0.01775262\n",
      "Iteration 199, loss = 0.01764440\n",
      "Iteration 200, loss = 0.01757399\n"
     ]
    },
    {
     "name": "stderr",
     "output_type": "stream",
     "text": [
      "d:\\program files\\python\\python36\\lib\\site-packages\\sklearn\\neural_network\\multilayer_perceptron.py:566: ConvergenceWarning: Stochastic Optimizer: Maximum iterations (200) reached and the optimization hasn't converged yet.\n",
      "  % self.max_iter, ConvergenceWarning)\n"
     ]
    },
    {
     "data": {
      "text/plain": [
       "MLPClassifier(activation='relu', alpha=0.0001, batch_size='auto', beta_1=0.9,\n",
       "              beta_2=0.999, early_stopping=False, epsilon=1e-08,\n",
       "              hidden_layer_sizes=(50, 50), learning_rate='constant',\n",
       "              learning_rate_init=0.001, max_iter=200, momentum=0.9,\n",
       "              n_iter_no_change=10, nesterovs_momentum=True, power_t=0.5,\n",
       "              random_state=1, shuffle=True, solver='sgd', tol=0.0001,\n",
       "              validation_fraction=0.1, verbose=True, warm_start=False)"
      ]
     },
     "execution_count": 163,
     "metadata": {},
     "output_type": "execute_result"
    }
   ],
   "source": [
    "mlp.fit(X_train,y_train)"
   ]
  },
  {
   "cell_type": "code",
   "execution_count": 164,
   "metadata": {},
   "outputs": [
    {
     "data": {
      "text/plain": [
       "'softmax'"
      ]
     },
     "execution_count": 164,
     "metadata": {},
     "output_type": "execute_result"
    }
   ],
   "source": [
    "mlp.out_activation_ #输出函数"
   ]
  },
  {
   "cell_type": "code",
   "execution_count": 165,
   "metadata": {},
   "outputs": [
    {
     "data": {
      "text/plain": [
       "[<matplotlib.lines.Line2D at 0x124f5c75d68>]"
      ]
     },
     "execution_count": 165,
     "metadata": {},
     "output_type": "execute_result"
    },
    {
     "data": {
      "image/png": "[encoded data removed]",
      "text/plain": [
       "<Figure size 432x288 with 1 Axes>"
      ]
     },
     "metadata": {
      "needs_background": "light"
     },
     "output_type": "display_data"
    }
   ],
   "source": [
    "losses = mlp.loss_curve_\n",
    "plt.plot(range(len(losses)),losses,color='g')"
   ]
  },
  {
   "cell_type": "markdown",
   "metadata": {},
   "source": [
    "**Step3:predict and calculate accuracy**"
   ]
  },
  {
   "cell_type": "code",
   "execution_count": 166,
   "metadata": {},
   "outputs": [],
   "source": [
    "def predict(model,x_train,y_train,x_test,y_test):\n",
    "    pred_train = model.predict(x_train)\n",
    "    acc_train = sum(pred_train==y_train)/len(y_train)\n",
    "    print(\"acc_train=\",acc_train)\n",
    "    pred_test = model.predict(x_test)\n",
    "    acc_test = sum(pred_test==y_test)/len(y_test)\n",
    "    print(\"acc_test=\",acc_test)\n",
    "    return acc_train,acc_test"
   ]
  },
  {
   "cell_type": "code",
   "execution_count": 167,
   "metadata": {},
   "outputs": [
    {
     "name": "stdout",
     "output_type": "stream",
     "text": [
      "acc_train= 0.9992576095025983\n",
      "acc_test= 0.9644444444444444\n"
     ]
    },
    {
     "data": {
      "text/plain": [
       "(0.9992576095025983, 0.9644444444444444)"
      ]
     },
     "execution_count": 167,
     "metadata": {},
     "output_type": "execute_result"
    }
   ],
   "source": [
    "predict(mlp,X_train,y_train,X_test,y_test)"
   ]
  },
  {
   "cell_type": "markdown",
   "metadata": {},
   "source": [
    "# Congratulations ! You have completed assigment 4. "
   ]
  },
  {
   "cell_type": "code",
   "execution_count": null,
   "metadata": {},
   "outputs": [],
   "source": []
  }
 ],
 "metadata": {
  "kernelspec": {
   "display_name": "Python 3",
   "language": "python",
   "name": "python3"
  },
  "language_info": {
   "codemirror_mode": {
    "name": "ipython",
    "version": 3
   },
   "file_extension": ".py",
   "mimetype": "text/x-python",
   "name": "python",
   "nbconvert_exporter": "python",
   "pygments_lexer": "ipython3",
   "version": "3.6.7"
  }
 },
 "nbformat": 4,
 "nbformat_minor": 2
}
