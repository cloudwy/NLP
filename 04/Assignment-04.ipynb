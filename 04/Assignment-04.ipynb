{
 "cells": [
  {
   "cell_type": "markdown",
   "metadata": {},
   "source": [
    "# Assignment 4"
   ]
  },
  {
   "cell_type": "markdown",
   "metadata": {},
   "source": [
    "### 1. 复习上课内容以及复现课程代码"
   ]
  },
  {
   "cell_type": "markdown",
   "metadata": {},
   "source": [
    "在本部分，你需要复习上课内容和课程代码后，自己复现课程代码。"
   ]
  },
  {
   "cell_type": "markdown",
   "metadata": {},
   "source": [
    "### 2. 回答一下理论题目"
   ]
  },
  {
   "cell_type": "markdown",
   "metadata": {},
   "source": [
    "#### 1. What does a neuron compute?"
   ]
  },
  {
   "cell_type": "markdown",
   "metadata": {},
   "source": [
    "A neuron computes a linear function (z = Wx + b) followed by an activation function."
   ]
  },
  {
   "cell_type": "markdown",
   "metadata": {},
   "source": [
    "####  2. Why we use non-linear activation funcitons in neural networks?"
   ]
  },
  {
   "cell_type": "markdown",
   "metadata": {},
   "source": [
    "When use linear activation functions, several hidden layers are equal to only one hidden layer."
   ]
  },
  {
   "cell_type": "markdown",
   "metadata": {},
   "source": [
    "#### 3. What is the 'Logistic Loss' ?"
   ]
  },
  {
   "cell_type": "markdown",
   "metadata": {},
   "source": [
    "**Cross-entropy:** <br>\n",
    "p(x) and q(x) are probability distribution<br>\n",
    "$H(p,q) = -\\sum_{x} p(x)logq(x)$\n",
    "\n",
    "**Logistic Loss:**<br>\n",
    "$H(p,q) = -\\sum_{x} p(x)logq(x) = -ylog\\hat{y}-(1-y)log(1-\\hat{y})$\n",
    "\n",
    "**Logistic Loss is a special case (binary classification) of Cross-entropy.**"
   ]
  },
  {
   "cell_type": "markdown",
   "metadata": {},
   "source": [
    "#### 4. Assume that you are building a binary classifier for detecting if an image containing cats, which activation functions would you recommen using for the output layer ?\n",
    "\n",
    "A. ReLU    \n",
    "B. Leaky ReLU    \n",
    "C. sigmoid    \n",
    "D. tanh  "
   ]
  },
  {
   "cell_type": "markdown",
   "metadata": {},
   "source": [
    "选C ： 输出为0~1之间的值，表示含有猫的概率"
   ]
  },
  {
   "cell_type": "markdown",
   "metadata": {},
   "source": [
    "#### 5. Why we don't use zero initialization for all parameters ?"
   ]
  },
  {
   "cell_type": "markdown",
   "metadata": {},
   "source": [
    "With forward propagation and backpropagation the output of all neurons is the same, which leads to the function of all neurons is the same and the gradient is not transferred."
   ]
  },
  {
   "cell_type": "markdown",
   "metadata": {},
   "source": [
    "#### 6. Can you implement the softmax function using python ? "
   ]
  },
  {
   "cell_type": "markdown",
   "metadata": {},
   "source": [
    "$$S_{i} = \\frac{e^{V_{i}}}{\\sum_{j} e^{V_{j}}}$$"
   ]
  },
  {
   "cell_type": "code",
   "execution_count": 46,
   "metadata": {},
   "outputs": [],
   "source": [
    "import math\n",
    "def softmax(x):\n",
    "    x_exp = [math.exp(i) for i in x]\n",
    "    print(x_exp)\n",
    "    sum_x_exp = sum(x_exp)\n",
    "    print(sum_x_exp)\n",
    "    result = [round(i/sum_x_exp,3) for i in x_exp]\n",
    "    return result"
   ]
  },
  {
   "cell_type": "code",
   "execution_count": 47,
   "metadata": {},
   "outputs": [],
   "source": [
    "x = [1.0, 2.0, 3.0, 4.0, 1.0, 2.0, 3.0]"
   ]
  },
  {
   "cell_type": "code",
   "execution_count": 48,
   "metadata": {},
   "outputs": [
    {
     "name": "stdout",
     "output_type": "stream",
     "text": [
      "[2.718281828459045, 7.38905609893065, 20.085536923187668, 54.598150033144236, 2.718281828459045, 7.38905609893065, 20.085536923187668]\n",
      "114.98389973429897\n"
     ]
    },
    {
     "data": {
      "text/plain": [
       "[0.024, 0.064, 0.175, 0.475, 0.024, 0.064, 0.175]"
      ]
     },
     "execution_count": 48,
     "metadata": {},
     "output_type": "execute_result"
    }
   ],
   "source": [
    "softmax(x)"
   ]
  },
  {
   "cell_type": "markdown",
   "metadata": {},
   "source": [
    "### 3.实践题"
   ]
  },
  {
   "cell_type": "markdown",
   "metadata": {},
   "source": [
    "#### In this practical part, you will build a simple digits recognizer to check if the digit in the image is larger than 5. This assignmnet will guide you step by step to finish your first small project in this course ."
   ]
  },
  {
   "cell_type": "markdown",
   "metadata": {},
   "source": [
    "#### 1 - Packages  \n",
    "sklearn is a famous package for machine learning.   \n",
    "matplotlib is a common package for vasualization."
   ]
  },
  {
   "cell_type": "code",
   "execution_count": 214,
   "metadata": {},
   "outputs": [],
   "source": [
    "from sklearn import datasets\n",
    "import matplotlib.pyplot as plt\n",
    "from sklearn.model_selection import train_test_split\n",
    "import math"
   ]
  },
  {
   "cell_type": "markdown",
   "metadata": {},
   "source": [
    "#### 2 - Overview of the dataset  \n",
    "    - a training set has m_train images labeled as 0 if the digit < 5 or 1 if the digit >= 5\n",
    "    - a test set contains m_test images labels as if the digit < 5 or 1 if the digit >= 5\n",
    "    - eah image if of shape (num_px, num_px ). Thus, each image is square(height=num_px and  width = num_px)"
   ]
  },
  {
   "cell_type": "code",
   "execution_count": 215,
   "metadata": {},
   "outputs": [],
   "source": [
    "# Loading the data \n",
    "digits = datasets.load_digits()"
   ]
  },
  {
   "cell_type": "code",
   "execution_count": 216,
   "metadata": {},
   "outputs": [
    {
     "data": {
      "image/png": "[encoded data removed]",
      "text/plain": [
       "<Figure size 432x288 with 10 Axes>"
      ]
     },
     "metadata": {},
     "output_type": "display_data"
    }
   ],
   "source": [
    "# Vilizating the data\n",
    "for i in range(1,11):\n",
    "    plt.subplot(2,5,i)\n",
    "    plt.imshow(digits.data[i-1].reshape([8,8]),cmap=plt.cm.gray_r)\n",
    "    plt.text(3,10,str(digits.target[i-1]))\n",
    "    plt.xticks([])\n",
    "    plt.yticks([])\n",
    "plt.show()"
   ]
  },
  {
   "cell_type": "code",
   "execution_count": 217,
   "metadata": {},
   "outputs": [],
   "source": [
    "# Split the data into training set and test set \n",
    "X_train, X_test, y_train, y_test = train_test_split(digits.data, digits.target, test_size=0.25)"
   ]
  },
  {
   "cell_type": "code",
   "execution_count": 218,
   "metadata": {},
   "outputs": [],
   "source": [
    "# reformulate the label. \n",
    "# If the digit is smaller than 5, the label is 0.\n",
    "# If the digit is larger than 5, the label is 1.\n",
    "\n",
    "y_train[y_train < 5 ] = 0\n",
    "y_train[y_train >= 5] = 1\n",
    "y_test[y_test < 5] = 0\n",
    "y_test[y_test >= 5] = 1"
   ]
  },
  {
   "cell_type": "code",
   "execution_count": 219,
   "metadata": {},
   "outputs": [
    {
     "name": "stdout",
     "output_type": "stream",
     "text": [
      "(1347, 64)\n",
      "(450, 64)\n",
      "(1347,)\n",
      "(450,)\n"
     ]
    }
   ],
   "source": [
    "print(X_train.shape)\n",
    "print(X_test.shape)\n",
    "print(y_train.shape)\n",
    "print(y_test.shape)"
   ]
  },
  {
   "cell_type": "markdown",
   "metadata": {},
   "source": [
    "#### 3- Architecture of the neural network"
   ]
  },
  {
   "cell_type": "markdown",
   "metadata": {},
   "source": [
    "![title](./networks.png)"
   ]
  },
  {
   "cell_type": "code",
   "execution_count": 220,
   "metadata": {},
   "outputs": [
    {
     "name": "stderr",
     "output_type": "stream",
     "text": [
      "'pwd' is not recognized as an internal or external command,\n",
      "operable program or batch file.\n"
     ]
    }
   ],
   "source": [
    "!pwd"
   ]
  },
  {
   "cell_type": "markdown",
   "metadata": {},
   "source": [
    "##### Mathematical expression of the algorithm:"
   ]
  },
  {
   "cell_type": "markdown",
   "metadata": {},
   "source": [
    "For one example $x^{(i)}$:   \n",
    " $$ z^{(i)} = w^T * x^{(i)} +b $$   \n",
    " $$ y^{(i)} = a^{(i)} = sigmoid(z^{(i)})$$   \n",
    " $$L(a^{(i)},y^{(i)}) = -y^{(i)} log(a^{(i)})-(1-y^{(i)})log(1-a^{(i)})$$"
   ]
  },
  {
   "cell_type": "markdown",
   "metadata": {},
   "source": [
    "The total cost over all training examples:\n",
    "$$ J = \\frac{1}{m}\\sum_{i=1}^{m}L(a^{(i)},y^{(i)}) $$"
   ]
  },
  {
   "cell_type": "markdown",
   "metadata": {},
   "source": [
    "#### 4 - Building the algorithm"
   ]
  },
  {
   "cell_type": "markdown",
   "metadata": {},
   "source": [
    "##### 4.1- Activation function    \n",
    "###### Exercise:\n",
    "Finish the sigmoid funciton "
   ]
  },
  {
   "cell_type": "code",
   "execution_count": 221,
   "metadata": {},
   "outputs": [],
   "source": [
    "import numpy as np\n",
    "def sigmoid(z):\n",
    "    '''\n",
    "    Compute the sigmoid of z\n",
    "    Arguments: z -- a scalar or numpy array of any size.\n",
    "    \n",
    "    Return:\n",
    "    s -- sigmoid(z)\n",
    "    '''\n",
    "    s = 1./(1+np.exp(-z))\n",
    "    \n",
    "    return s"
   ]
  },
  {
   "cell_type": "code",
   "execution_count": 222,
   "metadata": {},
   "outputs": [
    {
     "name": "stdout",
     "output_type": "stream",
     "text": [
      "sigmoid([0,2]) = [0.5        0.88079708]\n"
     ]
    }
   ],
   "source": [
    "# Test your code \n",
    "# The result should be [0.5 0.88079708]\n",
    "print(\"sigmoid([0,2]) = \" + str(sigmoid(np.array([0,2]))))"
   ]
  },
  {
   "cell_type": "markdown",
   "metadata": {},
   "source": [
    "##### 4.1-Initializaing parameters\n",
    "###### Exercise:\n",
    "Finishe the initialize_parameters function below"
   ]
  },
  {
   "cell_type": "code",
   "execution_count": 223,
   "metadata": {},
   "outputs": [],
   "source": [
    "# Random innitialize the parameters\n",
    "\n",
    "def initialize_parameters(dim):\n",
    "    '''\n",
    "    Argument: dim -- size of the w vector\n",
    "    \n",
    "    Returns:\n",
    "    w -- initialized vector of shape (dim,1)\n",
    "    b -- initializaed scalar\n",
    "    '''\n",
    "    \n",
    "    w = np.random.randn(dim,1)\n",
    "    b = 0.\n",
    "    \n",
    "    assert(w.shape == (dim,1))\n",
    "    assert(isinstance(b,float) or isinstance(b,int))\n",
    "    \n",
    "    return w,b"
   ]
  },
  {
   "cell_type": "code",
   "execution_count": 224,
   "metadata": {},
   "outputs": [
    {
     "data": {
      "text/plain": [
       "(array([[ 0.31873685],\n",
       "        [-1.47290965],\n",
       "        [-0.28227672],\n",
       "        [-1.10620458],\n",
       "        [-0.27616352],\n",
       "        [ 0.00853781],\n",
       "        [ 0.12830177],\n",
       "        [ 0.03033765],\n",
       "        [-1.15805378],\n",
       "        [ 0.72435258],\n",
       "        [-0.61613646],\n",
       "        [-0.51574545],\n",
       "        [ 0.65639938],\n",
       "        [-1.08425345]]), 0.0)"
      ]
     },
     "execution_count": 224,
     "metadata": {},
     "output_type": "execute_result"
    }
   ],
   "source": [
    "initialize_parameters(14)"
   ]
  },
  {
   "cell_type": "markdown",
   "metadata": {},
   "source": [
    "#### 4.3-Forward and backward propagation"
   ]
  },
  {
   "cell_type": "markdown",
   "metadata": {},
   "source": [
    "###### Some mathematical expressions\n",
    "Forward Propagation:   \n",
    ". X    \n",
    ". A = $\\sigma(w^T*X+b) = (a^{(1)},a^{(2)},...,a^{(m)}$   \n",
    ". J = $-\\frac{1}{m} \\sum_{i=1}^{m}y^{(i)}log(a^{(i)})+(1-y^{(i)})log(1-a^{(i)})$       "
   ]
  },
  {
   "cell_type": "markdown",
   "metadata": {},
   "source": [
    "Some derivative: \n",
    "$$\\frac{\\partial{J}}{\\partial{w}} = \\frac{1}{m}X*(A-Y)^T$$   \n",
    "$$\\frac{\\partial{J}}{\\partial{b}} = \\frac{1}{m}\\sum_{i=1}^m(a^{(i)}-y^{(i)}) $$"
   ]
  },
  {
   "cell_type": "markdown",
   "metadata": {},
   "source": [
    "###### Exercise:\n",
    "Finish the function below:"
   ]
  },
  {
   "cell_type": "code",
   "execution_count": 225,
   "metadata": {},
   "outputs": [],
   "source": [
    "def propagate(w,b,X,Y):\n",
    "    '''\n",
    "    Implement the cost function and its gradient for the propagation\n",
    "    \n",
    "    Arguments:\n",
    "    w - weights\n",
    "    b - bias\n",
    "    X - data\n",
    "    Y - ground truth\n",
    "    '''\n",
    "    #print('w:',w)\n",
    "    m = X.shape[0] #样本数量\n",
    "    A = sigmoid(np.dot(X,w)+b)\n",
    "    #print('A.shape:',A.shape)\n",
    "    #cost = -np.sum(Y*np.log(A)+(1-Y)*np.log(1-A))/m #按公式这样写，但cost会出现nan的情况\n",
    "    #Reference:https://blog.csdn.net/pan5431333/article/details/77606581\n",
    "    cost = -np.sum(Y*np.log(A+ pow(10.0, -9))+(1-Y)*np.log(1-A+ pow(10.0, -9)))/m\n",
    "    #print('cost',cost)\n",
    "    dw = (1/m)*np.dot(X.T,A-Y) #(64,1)\n",
    "    #print('dw.shape:',dw.shape)\n",
    "    #print('dw:',dw)\n",
    "    db = np.mean(A-Y)\n",
    "    #print('db:',db)\n",
    "    \n",
    "    assert(dw.shape == w.shape)\n",
    "    assert(db.dtype == float)\n",
    "    cost = np.squeeze(cost)\n",
    "    assert(cost.shape == ())\n",
    "    \n",
    "    grads = {'dw':dw,\n",
    "             'db':db}\n",
    "    return grads, cost"
   ]
  },
  {
   "cell_type": "markdown",
   "metadata": {},
   "source": [
    "##### 4.4 -Optimization"
   ]
  },
  {
   "cell_type": "markdown",
   "metadata": {},
   "source": [
    "###### Exercise:\n",
    "Minimizing the cost function using gradient descent.   \n",
    "$$\\theta = \\theta - \\alpha*d\\theta$$ where $\\alpha$ is the learning rate."
   ]
  },
  {
   "cell_type": "code",
   "execution_count": 255,
   "metadata": {},
   "outputs": [],
   "source": [
    "def optimize(w, b, X, Y, num_iterations, learning_rate, print_cost=False):\n",
    "    '''\n",
    "    This function optimize w and b by running a gradient descen algorithm\n",
    "    \n",
    "    Arguments:\n",
    "    w - weights\n",
    "    b - bias\n",
    "    X - data\n",
    "    Y - ground truth\n",
    "    num_iterations -- number of iterations of the optimization loop\n",
    "    learning_rate -- learning rate of the gradient descent update rule\n",
    "    print_cost -- True to print the loss every 100 steps\n",
    "    \n",
    "    Returns:\n",
    "    params - dictionary containing the weights w and bias b\n",
    "    grads -- dictionary containing the gradients of the weights and bias with respect to the cost function\n",
    "    costs -- list of all the costs computed during the optimization, this will be used to plot the learning curve.\n",
    "    \n",
    "    '''\n",
    "    \n",
    "    costs = []\n",
    "    \n",
    "    for i in range(num_iterations):\n",
    "        \n",
    "        grads, cost = propagate(w,b,X,Y)\n",
    "        \n",
    "        dw = grads['dw']\n",
    "        db = grads['db']\n",
    "        \n",
    "        w = w-learning_rate*dw\n",
    "        b = b-learning_rate*db\n",
    "        \n",
    "        if i % 100 == 0:\n",
    "            costs.append(cost)\n",
    "        if print_cost and i % 100 == 0:\n",
    "            print (\"Cost after iteration %i: %f\" %(i, cost))\n",
    "    \n",
    "    params = {\"w\":w,\n",
    "              \"b\":b}\n",
    "    \n",
    "    grads = {\"dw\":dw,\n",
    "             \"db\":db}\n",
    "    \n",
    "    return params, grads, costs"
   ]
  },
  {
   "cell_type": "markdown",
   "metadata": {},
   "source": [
    "###### Exercise\n",
    "The previous function will output the learned w and b. We are able to use w and b to predict the labels for a dataset X. Implement the predict() function.    \n",
    "Two steps to finish this task:   \n",
    "1. Calculate $\\hat{Y} = A = \\sigma(w^T*X+b)$   \n",
    "2. Convert the entries of a into 0 (if activation <= 0.5) or 1 (if activation > 0.5), stores the predictions in a vector Y_prediction. If you wish, you can use an if/else statement in a for loop (though there is also a way to vectorize this)."
   ]
  },
  {
   "cell_type": "code",
   "execution_count": 256,
   "metadata": {},
   "outputs": [],
   "source": [
    "def predict(w, b, X):\n",
    "    '''\n",
    "    Predict whether the label is 0 or 1 using learned logistic regression parameters (w, b)\n",
    "    \n",
    "    Arguments:\n",
    "    w -- weights\n",
    "    b -- bias \n",
    "    X -- data \n",
    "    \n",
    "    Returns:\n",
    "    Y_prediction -- a numpy array (vector) containing all predictions (0/1) for the examples in X\n",
    "    '''\n",
    "    m = X.shape[0]\n",
    "    Y_prediction = np.zeros((1,m))\n",
    "    w = w.reshape(X.shape[1],1)\n",
    "    \n",
    "    A = sigmoid(np.dot(X,w)+b)\n",
    "    \n",
    "    for i in range(Y_prediction.shape[1]):\n",
    "        if A[i] >= 0.5:\n",
    "            Y_prediction[0][i] = 1\n",
    "        else:\n",
    "            Y_prediction[0][i] = 0\n",
    "    \n",
    "    assert(Y_prediction.shape == (1,m))\n",
    "    \n",
    "    return Y_prediction"
   ]
  },
  {
   "cell_type": "markdown",
   "metadata": {},
   "source": [
    "##### 5- Merge all functions into a model"
   ]
  },
  {
   "cell_type": "markdown",
   "metadata": {},
   "source": [
    "Congratulations !! You have finished all the necessary components for constructing a model. Now, Let's take the challenge to merge all the implemented function into one model."
   ]
  },
  {
   "cell_type": "code",
   "execution_count": 262,
   "metadata": {},
   "outputs": [],
   "source": [
    "from sklearn.utils import shuffle,resample\n",
    "def model(X_train, Y_train, X_test, Y_test, num_iterations, learning_rate,print_cost=True):\n",
    "    \"\"\"\n",
    "    Build the logistic regression model by calling all the functions you have implemented.\n",
    "    Arguments:\n",
    "    X_train - training set\n",
    "    Y_train - training label\n",
    "    X_test - test set\n",
    "    Y_test - test label\n",
    "    num_iteration - hyperparameter representing the number of iterations to optimize the parameters\n",
    "    learning_rate -- hyperparameter representing the learning rate used in the update rule of optimize()\n",
    "    print_cost -- Set to true to print the cost every 100 iterations\n",
    "    \n",
    "    Returns:\n",
    "    d - dictionary should contain following information w,b,training_accuracy, test_accuracy,cost\n",
    "    eg: d = {\"w\":w,\n",
    "             \"b\":b,\n",
    "             \"training_accuracy\": traing_accuracy,\n",
    "             \"test_accuracy\":test_accuracy,\n",
    "             \"cost\":cost}\n",
    "    \"\"\"\n",
    "    Y_train = Y_train.reshape(-1,1) #size(m,1)\n",
    "    Y_test = Y_test.reshape(-1,1)\n",
    "    #参数初始化\n",
    "    row,col = X_train.shape\n",
    "    w,b = initialize_parameters(col)\n",
    "    #训练\n",
    "    params, grads, costs = optimize(w, b, X_train, Y_train, num_iterations, learning_rate, print_cost)\n",
    "\n",
    "    #train_accuracy\n",
    "    Y_train_predict = predict(params['w'], params['b'], X_train)\n",
    "    n = sum(Y_train_predict.T==Y_train)\n",
    "    train_acc = float(n/Y_train.shape[0])\n",
    "    #test_accuracy\n",
    "    Y_test_predict = predict(params['w'], params['b'], X_test)\n",
    "    n = sum(Y_test_predict.T==Y_test)\n",
    "    test_acc = float(n/Y_test.shape[0])\n",
    "    print(\"train_acc={:.4f},test_accuracy={:.4f}\".format(train_acc,test_acc))\n",
    "    return costs,learning_rate,num_iterations,train_acc,test_acc"
   ]
  },
  {
   "cell_type": "code",
   "execution_count": 258,
   "metadata": {},
   "outputs": [
    {
     "name": "stdout",
     "output_type": "stream",
     "text": [
      "Cost after iteration 0: 9.486774\n",
      "Cost after iteration 100: 8.573658\n",
      "Cost after iteration 200: 7.807466\n",
      "Cost after iteration 300: 7.124495\n",
      "Cost after iteration 400: 6.443561\n",
      "Cost after iteration 500: 5.764305\n",
      "Cost after iteration 600: 5.160420\n",
      "Cost after iteration 700: 4.677553\n",
      "Cost after iteration 800: 4.278555\n",
      "Cost after iteration 900: 3.932381\n",
      "Cost after iteration 1000: 3.622247\n",
      "Cost after iteration 1100: 3.347342\n",
      "Cost after iteration 1200: 3.111026\n",
      "Cost after iteration 1300: 2.904445\n",
      "Cost after iteration 1400: 2.721394\n",
      "Cost after iteration 1500: 2.558687\n",
      "Cost after iteration 1600: 2.413952\n",
      "Cost after iteration 1700: 2.285857\n",
      "Cost after iteration 1800: 2.172630\n",
      "Cost after iteration 1900: 2.071802\n",
      "Cost after iteration 2000: 1.980806\n",
      "Cost after iteration 2100: 1.897831\n",
      "Cost after iteration 2200: 1.821805\n",
      "Cost after iteration 2300: 1.752017\n",
      "Cost after iteration 2400: 1.687817\n",
      "Cost after iteration 2500: 1.628492\n",
      "Cost after iteration 2600: 1.573294\n",
      "Cost after iteration 2700: 1.521599\n",
      "Cost after iteration 2800: 1.473052\n",
      "Cost after iteration 2900: 1.427496\n",
      "Cost after iteration 3000: 1.384818\n",
      "Cost after iteration 3100: 1.344884\n",
      "Cost after iteration 3200: 1.307524\n",
      "Cost after iteration 3300: 1.272528\n",
      "Cost after iteration 3400: 1.239684\n",
      "Cost after iteration 3500: 1.208819\n",
      "Cost after iteration 3600: 1.179804\n",
      "Cost after iteration 3700: 1.152525\n",
      "Cost after iteration 3800: 1.126855\n",
      "Cost after iteration 3900: 1.102671\n",
      "Cost after iteration 4000: 1.079870\n",
      "Cost after iteration 4100: 1.058359\n",
      "Cost after iteration 4200: 1.038046\n",
      "Cost after iteration 4300: 1.018833\n",
      "Cost after iteration 4400: 1.000614\n",
      "Cost after iteration 4500: 0.983286\n",
      "Cost after iteration 4600: 0.966756\n",
      "Cost after iteration 4700: 0.950943\n",
      "Cost after iteration 4800: 0.935784\n",
      "Cost after iteration 4900: 0.921225\n",
      "train_accuracy=0.8552\n",
      "test_accuracy=0.8111\n"
     ]
    },
    {
     "data": {
      "text/plain": [
       "([9.486773912187488,\n",
       "  8.573658148758556,\n",
       "  7.8074661843182085,\n",
       "  7.124494604993355,\n",
       "  6.443560946607626,\n",
       "  5.764304877551379,\n",
       "  5.160420232462529,\n",
       "  4.677552987154399,\n",
       "  4.27855543330785,\n",
       "  3.932381288714137,\n",
       "  3.622246612207781,\n",
       "  3.3473415454393107,\n",
       "  3.111025859073355,\n",
       "  2.9044453044916096,\n",
       "  2.7213940592796035,\n",
       "  2.5586873549766986,\n",
       "  2.4139524783544832,\n",
       "  2.2858574446030815,\n",
       "  2.172630158575763,\n",
       "  2.0718022523621666,\n",
       "  1.9808064605409115,\n",
       "  1.8978312717225803,\n",
       "  1.8218050514269484,\n",
       "  1.7520174866253735,\n",
       "  1.687817418874265,\n",
       "  1.6284918364650878,\n",
       "  1.5732944886113986,\n",
       "  1.5215990606882501,\n",
       "  1.4730516267321867,\n",
       "  1.427496068083787,\n",
       "  1.3848179218096068,\n",
       "  1.3448841187628586,\n",
       "  1.3075235894826178,\n",
       "  1.2725276679817559,\n",
       "  1.2396836587927806,\n",
       "  1.2088185173111257,\n",
       "  1.1798044702571509,\n",
       "  1.1525253489577463,\n",
       "  1.1268551447213047,\n",
       "  1.10267145111561,\n",
       "  1.0798698289882647,\n",
       "  1.0583586093777138,\n",
       "  1.038046011078805,\n",
       "  1.0188328152449142,\n",
       "  1.0006140087850504,\n",
       "  0.9832862594432368,\n",
       "  0.966755839950716,\n",
       "  0.950943230602674,\n",
       "  0.9357837371956335,\n",
       "  0.9212253790439526],\n",
       " 0.001,\n",
       " 5000,\n",
       " 0.8552338530066815,\n",
       " 0.8111111111111111)"
      ]
     },
     "execution_count": 258,
     "metadata": {},
     "output_type": "execute_result"
    }
   ],
   "source": [
    "model(X_train, y_train, X_test, y_test, num_iterations=5000, learning_rate=0.001,print_cost=True)"
   ]
  },
  {
   "cell_type": "markdown",
   "metadata": {},
   "source": [
    "### 4.选做题"
   ]
  },
  {
   "cell_type": "markdown",
   "metadata": {},
   "source": [
    "Congratulations on building your first logistic regression model. It is your time to analyze it further."
   ]
  },
  {
   "cell_type": "markdown",
   "metadata": {},
   "source": [
    "##### 4.1 Observe the effect of learning rate on the leraning process.   \n",
    "Hits: plot the learning curve with different learning rate"
   ]
  },
  {
   "cell_type": "code",
   "execution_count": 259,
   "metadata": {},
   "outputs": [
    {
     "name": "stdout",
     "output_type": "stream",
     "text": [
      "train_accuracy=0.7179\n",
      "test_accuracy=0.7156\n",
      "train_accuracy=0.8671\n",
      "test_accuracy=0.8133\n",
      "train_accuracy=0.9094\n",
      "test_accuracy=0.8711\n"
     ]
    },
    {
     "data": {
      "image/png": "[encoded data removed]",
      "text/plain": [
       "<Figure size 432x288 with 1 Axes>"
      ]
     },
     "metadata": {
      "needs_background": "light"
     },
     "output_type": "display_data"
    }
   ],
   "source": [
    "import matplotlib.pyplot as plt\n",
    "costs1,Lr1,_,_,_ = model(X_train, y_train, X_test, y_test, num_iterations=10000, learning_rate=0.0001,print_cost=False)\n",
    "plt.plot(range(len(costs1)),costs1,color='g',label=\"Lr=\"+str(Lr1))\n",
    "costs2,Lr2,_,_,_ = model(X_train, y_train, X_test, y_test, num_iterations=10000, learning_rate=0.001,print_cost=False)\n",
    "plt.plot(range(len(costs2)),costs2,color='b',label=\"Lr=\"+str(Lr2))\n",
    "costs3,Lr3,_,_,_ = model(X_train, y_train, X_test, y_test, num_iterations=10000, learning_rate=0.01,print_cost=False)\n",
    "plt.plot(range(len(costs3)),costs3,color='r',label=\"Lr=\"+str(Lr3))\n",
    "plt.legend(loc='upper right')\n",
    "plt.show()"
   ]
  },
  {
   "cell_type": "markdown",
   "metadata": {},
   "source": [
    "##### 4.2 Observe the effect of iteration_num on the test accuracy."
   ]
  },
  {
   "cell_type": "code",
   "execution_count": 265,
   "metadata": {},
   "outputs": [
    {
     "name": "stdout",
     "output_type": "stream",
     "text": [
      "train_acc=0.4915,test_accuracy=0.5178\n",
      "train_acc=0.5264,test_accuracy=0.5444\n",
      "train_acc=0.5338,test_accuracy=0.4844\n",
      "train_acc=0.5568,test_accuracy=0.5400\n",
      "train_acc=0.5761,test_accuracy=0.6000\n",
      "train_acc=0.7283,test_accuracy=0.7022\n",
      "train_acc=0.6993,test_accuracy=0.7044\n",
      "train_acc=0.6088,test_accuracy=0.6178\n",
      "train_acc=0.6355,test_accuracy=0.5911\n",
      "train_acc=0.7906,test_accuracy=0.7289\n",
      "train_acc=0.7498,test_accuracy=0.7200\n",
      "train_acc=0.6422,test_accuracy=0.6289\n",
      "train_acc=0.7476,test_accuracy=0.7333\n",
      "train_acc=0.8233,test_accuracy=0.7978\n",
      "train_acc=0.7216,test_accuracy=0.6933\n",
      "train_acc=0.7409,test_accuracy=0.7200\n",
      "train_acc=0.7365,test_accuracy=0.7244\n",
      "train_acc=0.7817,test_accuracy=0.7556\n",
      "train_acc=0.7610,test_accuracy=0.7178\n",
      "train_acc=0.7869,test_accuracy=0.7578\n",
      "train_acc=0.7773,test_accuracy=0.7400\n",
      "train_acc=0.8018,test_accuracy=0.7889\n",
      "train_acc=0.8018,test_accuracy=0.7867\n",
      "train_acc=0.8099,test_accuracy=0.8022\n",
      "train_acc=0.8270,test_accuracy=0.7822\n",
      "train_acc=0.7869,test_accuracy=0.7622\n",
      "train_acc=0.7840,test_accuracy=0.7467\n",
      "train_acc=0.8278,test_accuracy=0.7756\n",
      "train_acc=0.8322,test_accuracy=0.8067\n",
      "train_acc=0.8293,test_accuracy=0.7956\n",
      "train_acc=0.8025,test_accuracy=0.7689\n",
      "train_acc=0.8337,test_accuracy=0.7956\n",
      "train_acc=0.8367,test_accuracy=0.7778\n",
      "train_acc=0.8352,test_accuracy=0.8178\n",
      "train_acc=0.8337,test_accuracy=0.8133\n",
      "train_acc=0.8070,test_accuracy=0.7178\n",
      "train_acc=0.8233,test_accuracy=0.8000\n",
      "train_acc=0.8493,test_accuracy=0.8333\n",
      "train_acc=0.8196,test_accuracy=0.7844\n",
      "train_acc=0.8270,test_accuracy=0.7867\n",
      "train_acc=0.7966,test_accuracy=0.7844\n",
      "train_acc=0.8099,test_accuracy=0.7689\n",
      "train_acc=0.8367,test_accuracy=0.7889\n",
      "train_acc=0.8382,test_accuracy=0.8044\n",
      "train_acc=0.8218,test_accuracy=0.7911\n",
      "train_acc=0.8523,test_accuracy=0.8489\n",
      "train_acc=0.8367,test_accuracy=0.8156\n",
      "train_acc=0.8523,test_accuracy=0.8289\n",
      "train_acc=0.8589,test_accuracy=0.8311\n",
      "train_acc=0.8396,test_accuracy=0.8333\n",
      "train_acc=0.8359,test_accuracy=0.8333\n",
      "train_acc=0.8530,test_accuracy=0.8267\n",
      "train_acc=0.8493,test_accuracy=0.8467\n",
      "train_acc=0.8537,test_accuracy=0.8044\n",
      "train_acc=0.8359,test_accuracy=0.8133\n",
      "train_acc=0.8367,test_accuracy=0.8000\n",
      "train_acc=0.8656,test_accuracy=0.8444\n",
      "train_acc=0.8649,test_accuracy=0.8333\n",
      "train_acc=0.8441,test_accuracy=0.8378\n",
      "train_acc=0.8493,test_accuracy=0.8156\n",
      "train_acc=0.8515,test_accuracy=0.8333\n",
      "train_acc=0.8656,test_accuracy=0.8422\n",
      "train_acc=0.8523,test_accuracy=0.8244\n",
      "train_acc=0.8641,test_accuracy=0.8222\n",
      "train_acc=0.8441,test_accuracy=0.8022\n",
      "train_acc=0.8575,test_accuracy=0.8200\n",
      "train_acc=0.8716,test_accuracy=0.8467\n",
      "train_acc=0.8679,test_accuracy=0.8444\n",
      "train_acc=0.8716,test_accuracy=0.8311\n",
      "train_acc=0.8738,test_accuracy=0.8356\n",
      "train_acc=0.8641,test_accuracy=0.8378\n",
      "train_acc=0.8723,test_accuracy=0.8311\n",
      "train_acc=0.8797,test_accuracy=0.8289\n",
      "train_acc=0.8701,test_accuracy=0.8133\n",
      "train_acc=0.8515,test_accuracy=0.8333\n",
      "train_acc=0.8753,test_accuracy=0.8133\n",
      "train_acc=0.8775,test_accuracy=0.8511\n",
      "train_acc=0.8701,test_accuracy=0.8733\n",
      "train_acc=0.8790,test_accuracy=0.8311\n",
      "train_acc=0.8716,test_accuracy=0.8489\n",
      "train_acc=0.8693,test_accuracy=0.8422\n",
      "train_acc=0.8463,test_accuracy=0.8356\n",
      "train_acc=0.8842,test_accuracy=0.8556\n",
      "train_acc=0.8842,test_accuracy=0.8533\n",
      "train_acc=0.8656,test_accuracy=0.8356\n",
      "train_acc=0.8775,test_accuracy=0.8511\n",
      "train_acc=0.8753,test_accuracy=0.8644\n",
      "train_acc=0.8820,test_accuracy=0.8533\n",
      "train_acc=0.8612,test_accuracy=0.8356\n",
      "train_acc=0.8641,test_accuracy=0.8356\n",
      "train_acc=0.8790,test_accuracy=0.8356\n",
      "train_acc=0.8745,test_accuracy=0.8644\n",
      "train_acc=0.8864,test_accuracy=0.8556\n",
      "train_acc=0.8738,test_accuracy=0.8422\n",
      "train_acc=0.8716,test_accuracy=0.8222\n",
      "train_acc=0.8820,test_accuracy=0.8444\n",
      "train_acc=0.8849,test_accuracy=0.8578\n",
      "train_acc=0.8872,test_accuracy=0.8356\n",
      "train_acc=0.8693,test_accuracy=0.8311\n",
      "train_acc=0.8872,test_accuracy=0.8422\n"
     ]
    }
   ],
   "source": [
    "iters=[]\n",
    "train_accs=[]\n",
    "test_accs=[]\n",
    "for i in range(1,10001):\n",
    "    if i%100 == 0:\n",
    "        _,_,iter,train_acc,test_acc = model(X_train, y_train, X_test, y_test, num_iterations=i, learning_rate=0.001,print_cost=False)\n",
    "        iters.append(iter)\n",
    "        train_accs.append(train_acc)\n",
    "        test_accs.append(test_acc)"
   ]
  },
  {
   "cell_type": "code",
   "execution_count": 263,
   "metadata": {},
   "outputs": [
    {
     "data": {
      "text/plain": [
       "[<matplotlib.lines.Line2D at 0x1b6f45ff5f8>]"
      ]
     },
     "execution_count": 263,
     "metadata": {},
     "output_type": "execute_result"
    },
    {
     "data": {
      "image/png": "[encoded data removed]",
      "text/plain": [
       "<Figure size 432x288 with 1 Axes>"
      ]
     },
     "metadata": {
      "needs_background": "light"
     },
     "output_type": "display_data"
    }
   ],
   "source": [
    "import matplotlib.pyplot as plt\n",
    "plt.plot(range(len(test_accs)),test_accs,color='g',label=\"Lr=\"+str(Lr1))"
   ]
  },
  {
   "cell_type": "markdown",
   "metadata": {},
   "source": [
    "# Challenge ! ! !\n",
    "\n",
    "The original data have images labeled 0,1,2,3,4,5,6,7,8,9. In our logistic model, we only detect if the digit in the image is larger or smaller than 5. Now, Let's go for a more challenging problem. Try to use softmax function to build a model to recognize which digit (0,1,2,3,4,5,6,7,8,9) is in the image."
   ]
  },
  {
   "cell_type": "markdown",
   "metadata": {},
   "source": [
    "# Congratulations ! You have completed assigment 4. "
   ]
  },
  {
   "cell_type": "code",
   "execution_count": null,
   "metadata": {},
   "outputs": [],
   "source": []
  }
 ],
 "metadata": {
  "kernelspec": {
   "display_name": "Python 3",
   "language": "python",
   "name": "python3"
  },
  "language_info": {
   "codemirror_mode": {
    "name": "ipython",
    "version": 3
   },
   "file_extension": ".py",
   "mimetype": "text/x-python",
   "name": "python",
   "nbconvert_exporter": "python",
   "pygments_lexer": "ipython3",
   "version": "3.6.7"
  }
 },
 "nbformat": 4,
 "nbformat_minor": 2
}
