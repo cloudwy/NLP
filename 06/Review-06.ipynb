{
 "cells": [
  {
   "cell_type": "code",
   "execution_count": 2,
   "metadata": {},
   "outputs": [],
   "source": [
    "from __future__ import absolute_import,division,print_function,unicode_literals\n",
    "import os\n",
    "try:\n",
    "    %tensorflow_version 2.x\n",
    "except Exception:\n",
    "    pass\n",
    "import tensorflow as tf\n",
    "import cProfile"
   ]
  },
  {
   "cell_type": "markdown",
   "metadata": {},
   "source": [
    "# Basic of TF2.0"
   ]
  },
  {
   "cell_type": "code",
   "execution_count": 3,
   "metadata": {},
   "outputs": [
    {
     "data": {
      "text/plain": [
       "True"
      ]
     },
     "execution_count": 3,
     "metadata": {},
     "output_type": "execute_result"
    }
   ],
   "source": [
    "tf.executing_eagerly()"
   ]
  },
  {
   "cell_type": "code",
   "execution_count": 7,
   "metadata": {},
   "outputs": [
    {
     "name": "stdout",
     "output_type": "stream",
     "text": [
      "tf.Tensor(\n",
      "[[1 2]\n",
      " [3 4]], shape=(2, 2), dtype=int32)\n",
      "tf.Tensor(\n",
      "[[2 3]\n",
      " [4 5]], shape=(2, 2), dtype=int32)\n",
      "tf.Tensor(\n",
      "[[ 2  6]\n",
      " [12 20]], shape=(2, 2), dtype=int32)\n",
      "[[ 2  6]\n",
      " [12 20]]\n",
      "tf.Tensor(\n",
      "[[10 13]\n",
      " [22 29]], shape=(2, 2), dtype=int32)\n",
      "[[1 2]\n",
      " [3 4]]\n"
     ]
    }
   ],
   "source": [
    "a=tf.constant([[1,2],[3,4]])\n",
    "print(a)\n",
    "#Broadcasting\n",
    "b=tf.add(a,1)\n",
    "print(b)\n",
    "#element-wise multiplication\n",
    "print(a*b)\n",
    "import numpy as np\n",
    "c = np.multiply(a,b)\n",
    "print(c)\n",
    "#multiplication of matrices\n",
    "print(tf.matmul(a,b))\n",
    "#transfer a tensor to numpy array\n",
    "print(a.numpy())"
   ]
  },
  {
   "cell_type": "markdown",
   "metadata": {},
   "source": [
    "# Train a model"
   ]
  },
  {
   "cell_type": "markdown",
   "metadata": {},
   "source": [
    "## 1. load data"
   ]
  },
  {
   "cell_type": "code",
   "execution_count": 10,
   "metadata": {},
   "outputs": [],
   "source": [
    "(x_train,y_train),(x_test,y_test) = tf.keras.datasets.mnist.load_data()\n",
    "x_train = x_train[:10000,:,:]\n",
    "y_train = y_train[:10000]\n",
    "x_test = x_test[:1000,:,:]\n",
    "y_test = y_test[:1000]\n",
    "\n",
    "x_train = tf.cast(x_train[...,tf.newaxis]/255,tf.float32)\n",
    "x_test= tf.cast(x_test[...,tf.newaxis]/255,tf.float32)\n",
    "y_train = tf.keras.utils.to_categorical(y_train,10)\n",
    "y_test = tf.keras.utils.to_categorical(y_test,10)"
   ]
  },
  {
   "cell_type": "markdown",
   "metadata": {},
   "source": [
    "## 2.Build model (CNN)"
   ]
  },
  {
   "cell_type": "markdown",
   "metadata": {},
   "source": [
    "### 2.1 Build the model using Sequential"
   ]
  },
  {
   "cell_type": "code",
   "execution_count": 15,
   "metadata": {},
   "outputs": [],
   "source": [
    "mnist_model = tf.keras.Sequential([\n",
    "    tf.keras.layers.Conv2D(32,[3,3],activation='relu',input_shape=(28,28,1)),\n",
    "    tf.keras.layers.Conv2D(64,[3,3],activation='relu'),\n",
    "    tf.keras.layers.MaxPooling2D(pool_size=(2,2)),\n",
    "    tf.keras.layers.Dropout(0.25),\n",
    "    tf.keras.layers.Flatten(),\n",
    "    tf.keras.layers.Dense(128,activation='relu'),\n",
    "    tf.keras.layers.Dropout(0.5),\n",
    "    tf.keras.layers.Dense(10,activation='softmax')\n",
    "])"
   ]
  },
  {
   "cell_type": "code",
   "execution_count": 16,
   "metadata": {},
   "outputs": [
    {
     "name": "stdout",
     "output_type": "stream",
     "text": [
      "Model: \"sequential\"\n",
      "_________________________________________________________________\n",
      "Layer (type)                 Output Shape              Param #   \n",
      "=================================================================\n",
      "conv2d_2 (Conv2D)            (None, 26, 26, 32)        320       \n",
      "_________________________________________________________________\n",
      "conv2d_3 (Conv2D)            (None, 24, 24, 64)        18496     \n",
      "_________________________________________________________________\n",
      "max_pooling2d_1 (MaxPooling2 (None, 12, 12, 64)        0         \n",
      "_________________________________________________________________\n",
      "dropout_1 (Dropout)          (None, 12, 12, 64)        0         \n",
      "_________________________________________________________________\n",
      "flatten (Flatten)            (None, 9216)              0         \n",
      "_________________________________________________________________\n",
      "dense (Dense)                (None, 128)               1179776   \n",
      "_________________________________________________________________\n",
      "dropout_2 (Dropout)          (None, 128)               0         \n",
      "_________________________________________________________________\n",
      "dense_1 (Dense)              (None, 10)                1290      \n",
      "=================================================================\n",
      "Total params: 1,199,882\n",
      "Trainable params: 1,199,882\n",
      "Non-trainable params: 0\n",
      "_________________________________________________________________\n"
     ]
    }
   ],
   "source": [
    "mnist_model.summary()"
   ]
  },
  {
   "cell_type": "markdown",
   "metadata": {},
   "source": [
    "### 2.2 Build the model using Model"
   ]
  },
  {
   "cell_type": "code",
   "execution_count": 146,
   "metadata": {},
   "outputs": [],
   "source": [
    "inputs = tf.keras.Input(shape=(None,None,1),name=\"digits\")\n",
    "conv_1 = tf.keras.layers.Conv2D(16,[3,3],activation=\"relu\")(inputs)\n",
    "conv_2 = tf.keras.layers.Conv2D(16,[3,3],activation=\"relu\")(conv_1)\n",
    "ave_pool = tf.keras.layers.GlobalAveragePooling2D()(conv_2)\n",
    "outputs = tf.keras.layers.Dense(10,activation=\"softmax\")(ave_pool)\n",
    "mnist_model_2 = tf.keras.Model(inputs=inputs,outputs=outputs)"
   ]
  },
  {
   "cell_type": "code",
   "execution_count": 147,
   "metadata": {},
   "outputs": [
    {
     "name": "stdout",
     "output_type": "stream",
     "text": [
      "Model: \"model_27\"\n",
      "_________________________________________________________________\n",
      "Layer (type)                 Output Shape              Param #   \n",
      "=================================================================\n",
      "digits (InputLayer)          [(None, None, None, 1)]   0         \n",
      "_________________________________________________________________\n",
      "conv2d_86 (Conv2D)           (None, None, None, 16)    160       \n",
      "_________________________________________________________________\n",
      "conv2d_87 (Conv2D)           (None, None, None, 16)    2320      \n",
      "_________________________________________________________________\n",
      "global_average_pooling2d_13  (None, 16)                0         \n",
      "_________________________________________________________________\n",
      "dense_52 (Dense)             (None, 10)                170       \n",
      "=================================================================\n",
      "Total params: 2,650\n",
      "Trainable params: 2,650\n",
      "Non-trainable params: 0\n",
      "_________________________________________________________________\n"
     ]
    }
   ],
   "source": [
    "mnist_model_2.summary()"
   ]
  },
  {
   "cell_type": "markdown",
   "metadata": {},
   "source": [
    "## 3.Training methods"
   ]
  },
  {
   "cell_type": "markdown",
   "metadata": {},
   "source": [
    "### 3.1 Use keras fit"
   ]
  },
  {
   "cell_type": "code",
   "execution_count": 31,
   "metadata": {},
   "outputs": [],
   "source": [
    "mnist_model.compile(optimizer=tf.keras.optimizers.SGD(learning_rate=1e-3),\n",
    "                   validation_split=0.1,shuffle=True,\n",
    "                   loss=tf.keras.losses.categorical_crossentropy,\n",
    "                   metrics=[\"accuracy\"])"
   ]
  },
  {
   "cell_type": "code",
   "execution_count": 64,
   "metadata": {},
   "outputs": [
    {
     "name": "stdout",
     "output_type": "stream",
     "text": [
      "Train on 10000 samples\n",
      "Epoch 1/50\n",
      "10000/10000 [==============================] - 15s 2ms/sample - loss: 1.7994 - accuracy: 0.4904\n",
      "Epoch 2/50\n",
      "10000/10000 [==============================] - 15s 2ms/sample - loss: 1.6741 - accuracy: 0.5256\n",
      "Epoch 3/50\n",
      "10000/10000 [==============================] - 16s 2ms/sample - loss: 1.5353 - accuracy: 0.5578\n",
      "Epoch 4/50\n",
      "10000/10000 [==============================] - 17s 2ms/sample - loss: 1.3955 - accuracy: 0.5991\n",
      "Epoch 5/50\n",
      "10000/10000 [==============================] - 16s 2ms/sample - loss: 1.2759 - accuracy: 0.6238\n",
      "Epoch 6/50\n",
      "10000/10000 [==============================] - 17s 2ms/sample - loss: 1.1814 - accuracy: 0.6449\n",
      "Epoch 7/50\n",
      "10000/10000 [==============================] - 17s 2ms/sample - loss: 1.0891 - accuracy: 0.6744\n",
      "Epoch 8/50\n",
      "10000/10000 [==============================] - 16s 2ms/sample - loss: 1.0111 - accuracy: 0.6859\n",
      "Epoch 9/50\n",
      "10000/10000 [==============================] - 17s 2ms/sample - loss: 0.9512 - accuracy: 0.7052\n",
      "Epoch 10/50\n",
      "10000/10000 [==============================] - 17s 2ms/sample - loss: 0.8984 - accuracy: 0.7241\n",
      "Epoch 11/50\n",
      "10000/10000 [==============================] - 17s 2ms/sample - loss: 0.8697 - accuracy: 0.7276\n",
      "Epoch 12/50\n",
      "10000/10000 [==============================] - 17s 2ms/sample - loss: 0.8336 - accuracy: 0.7405\n",
      "Epoch 13/50\n",
      "10000/10000 [==============================] - 17s 2ms/sample - loss: 0.7964 - accuracy: 0.7536\n",
      "Epoch 14/50\n",
      "10000/10000 [==============================] - 18s 2ms/sample - loss: 0.7654 - accuracy: 0.7628\n",
      "Epoch 15/50\n",
      "10000/10000 [==============================] - 17s 2ms/sample - loss: 0.7474 - accuracy: 0.7703\n",
      "Epoch 16/50\n",
      "10000/10000 [==============================] - 17s 2ms/sample - loss: 0.7095 - accuracy: 0.7823\n",
      "Epoch 17/50\n",
      "10000/10000 [==============================] - 17s 2ms/sample - loss: 0.7015 - accuracy: 0.7837\n",
      "Epoch 18/50\n",
      "10000/10000 [==============================] - 17s 2ms/sample - loss: 0.6852 - accuracy: 0.7845\n",
      "Epoch 19/50\n",
      "10000/10000 [==============================] - 17s 2ms/sample - loss: 0.6667 - accuracy: 0.7979\n",
      "Epoch 20/50\n",
      "10000/10000 [==============================] - 17s 2ms/sample - loss: 0.6399 - accuracy: 0.8026\n",
      "Epoch 21/50\n",
      "10000/10000 [==============================] - 17s 2ms/sample - loss: 0.6287 - accuracy: 0.8046\n",
      "Epoch 22/50\n",
      "10000/10000 [==============================] - 17s 2ms/sample - loss: 0.6214 - accuracy: 0.8062\n",
      "Epoch 23/50\n",
      "10000/10000 [==============================] - 17s 2ms/sample - loss: 0.6142 - accuracy: 0.8134\n",
      "Epoch 24/50\n",
      "10000/10000 [==============================] - 17s 2ms/sample - loss: 0.5968 - accuracy: 0.8168\n",
      "Epoch 25/50\n",
      "10000/10000 [==============================] - 17s 2ms/sample - loss: 0.5897 - accuracy: 0.8162\n",
      "Epoch 26/50\n",
      "10000/10000 [==============================] - 17s 2ms/sample - loss: 0.5747 - accuracy: 0.8238\n",
      "Epoch 27/50\n",
      "10000/10000 [==============================] - 17s 2ms/sample - loss: 0.5697 - accuracy: 0.8247\n",
      "Epoch 28/50\n",
      "10000/10000 [==============================] - 17s 2ms/sample - loss: 0.5633 - accuracy: 0.8275\n",
      "Epoch 29/50\n",
      "10000/10000 [==============================] - 17s 2ms/sample - loss: 0.5519 - accuracy: 0.8281\n",
      "Epoch 30/50\n",
      "10000/10000 [==============================] - 17s 2ms/sample - loss: 0.5415 - accuracy: 0.8325\n",
      "Epoch 31/50\n",
      "10000/10000 [==============================] - 17s 2ms/sample - loss: 0.5331 - accuracy: 0.8399\n",
      "Epoch 32/50\n",
      "10000/10000 [==============================] - 17s 2ms/sample - loss: 0.5372 - accuracy: 0.8396\n",
      "Epoch 33/50\n",
      "10000/10000 [==============================] - 17s 2ms/sample - loss: 0.5359 - accuracy: 0.8361\n",
      "Epoch 34/50\n",
      "10000/10000 [==============================] - 17s 2ms/sample - loss: 0.5207 - accuracy: 0.8418\n",
      "Epoch 35/50\n",
      "10000/10000 [==============================] - 17s 2ms/sample - loss: 0.5146 - accuracy: 0.8422\n",
      "Epoch 36/50\n",
      "10000/10000 [==============================] - 17s 2ms/sample - loss: 0.5239 - accuracy: 0.8444\n",
      "Epoch 37/50\n",
      "10000/10000 [==============================] - 17s 2ms/sample - loss: 0.5081 - accuracy: 0.8473\n",
      "Epoch 38/50\n",
      "10000/10000 [==============================] - 17s 2ms/sample - loss: 0.5019 - accuracy: 0.8487\n",
      "Epoch 39/50\n",
      "10000/10000 [==============================] - 18s 2ms/sample - loss: 0.4982 - accuracy: 0.8492\n",
      "Epoch 40/50\n",
      "10000/10000 [==============================] - 19s 2ms/sample - loss: 0.4846 - accuracy: 0.8541\n",
      "Epoch 41/50\n",
      "10000/10000 [==============================] - 17s 2ms/sample - loss: 0.4827 - accuracy: 0.8539\n",
      "Epoch 42/50\n",
      "10000/10000 [==============================] - 17s 2ms/sample - loss: 0.4878 - accuracy: 0.8532\n",
      "Epoch 43/50\n",
      "10000/10000 [==============================] - 18s 2ms/sample - loss: 0.4756 - accuracy: 0.8564\n",
      "Epoch 44/50\n",
      "10000/10000 [==============================] - 17s 2ms/sample - loss: 0.4823 - accuracy: 0.8526\n",
      "Epoch 45/50\n",
      "10000/10000 [==============================] - 17s 2ms/sample - loss: 0.4781 - accuracy: 0.8535\n",
      "Epoch 46/50\n",
      "10000/10000 [==============================] - 18s 2ms/sample - loss: 0.4491 - accuracy: 0.8613\n",
      "Epoch 47/50\n",
      "10000/10000 [==============================] - 19s 2ms/sample - loss: 0.4609 - accuracy: 0.8603\n",
      "Epoch 48/50\n",
      "10000/10000 [==============================] - 18s 2ms/sample - loss: 0.4552 - accuracy: 0.8613\n",
      "Epoch 49/50\n",
      "10000/10000 [==============================] - 17s 2ms/sample - loss: 0.4549 - accuracy: 0.8646\n",
      "Epoch 50/50\n",
      "10000/10000 [==============================] - 17s 2ms/sample - loss: 0.4518 - accuracy: 0.8638\n"
     ]
    },
    {
     "data": {
      "text/plain": [
       "<tensorflow.python.keras.callbacks.History at 0x1c62a96f5f8>"
      ]
     },
     "execution_count": 64,
     "metadata": {},
     "output_type": "execute_result"
    }
   ],
   "source": [
    "mnist_model.fit(x_train,y_train,batch_size=128,epochs=50)"
   ]
  },
  {
   "cell_type": "code",
   "execution_count": 65,
   "metadata": {},
   "outputs": [
    {
     "name": "stdout",
     "output_type": "stream",
     "text": [
      "train_acc= 0.9176\n",
      "test_acc= 0.888\n"
     ]
    }
   ],
   "source": [
    "train_pred = mnist_model.predict(x_train)\n",
    "train_acc = sum(np.where(train_pred.argmax(axis=1)==y_train.argmax(axis=1),1,0))/y_train.shape[0]\n",
    "print(\"train_acc=\",train_acc)\n",
    "test_pred = mnist_model.predict(x_test)\n",
    "test_acc = train_acc = sum(np.where(test_pred.argmax(axis=1)==y_test.argmax(axis=1),1,0))/y_test.shape[0]\n",
    "print(\"test_acc=\",test_acc)"
   ]
  },
  {
   "cell_type": "code",
   "execution_count": 148,
   "metadata": {},
   "outputs": [],
   "source": [
    "mnist_model_2.compile(loss = tf.keras.losses.categorical_crossentropy,\n",
    "                      optimizer=tf.keras.optimizers.Adam(),\n",
    "                      metrics=[\"accuracy\"])"
   ]
  },
  {
   "cell_type": "code",
   "execution_count": 152,
   "metadata": {},
   "outputs": [
    {
     "name": "stdout",
     "output_type": "stream",
     "text": [
      "Train on 10000 samples\n",
      "Epoch 1/30\n",
      "10000/10000 [==============================] - 6s 566us/sample - loss: 1.5770 - accuracy: 0.4396\n",
      "Epoch 2/30\n",
      "10000/10000 [==============================] - 6s 598us/sample - loss: 1.5504 - accuracy: 0.4501\n",
      "Epoch 3/30\n",
      "10000/10000 [==============================] - 6s 595us/sample - loss: 1.5279 - accuracy: 0.4580\n",
      "Epoch 4/30\n",
      "10000/10000 [==============================] - 6s 580us/sample - loss: 1.5018 - accuracy: 0.4715\n",
      "Epoch 5/30\n",
      "10000/10000 [==============================] - 6s 615us/sample - loss: 1.4854 - accuracy: 0.4789\n",
      "Epoch 6/30\n",
      "10000/10000 [==============================] - 5s 547us/sample - loss: 1.4615 - accuracy: 0.4933\n",
      "Epoch 7/30\n",
      "10000/10000 [==============================] - 6s 553us/sample - loss: 1.4441 - accuracy: 0.4973\n",
      "Epoch 8/30\n",
      "10000/10000 [==============================] - 6s 602us/sample - loss: 1.4271 - accuracy: 0.5077\n",
      "Epoch 9/30\n",
      "10000/10000 [==============================] - 6s 587us/sample - loss: 1.4116 - accuracy: 0.5135\n",
      "Epoch 10/30\n",
      "10000/10000 [==============================] - 6s 577us/sample - loss: 1.3954 - accuracy: 0.5250\n",
      "Epoch 11/30\n",
      "10000/10000 [==============================] - 6s 580us/sample - loss: 1.3791 - accuracy: 0.5300\n",
      "Epoch 12/30\n",
      "10000/10000 [==============================] - 6s 586us/sample - loss: 1.3629 - accuracy: 0.5374\n",
      "Epoch 13/30\n",
      "10000/10000 [==============================] - 6s 593us/sample - loss: 1.3498 - accuracy: 0.5475\n",
      "Epoch 14/30\n",
      "10000/10000 [==============================] - 6s 604us/sample - loss: 1.3346 - accuracy: 0.5573\n",
      "Epoch 15/30\n",
      "10000/10000 [==============================] - 6s 615us/sample - loss: 1.3231 - accuracy: 0.5597\n",
      "Epoch 16/30\n",
      "10000/10000 [==============================] - 6s 623us/sample - loss: 1.3031 - accuracy: 0.5741\n",
      "Epoch 17/30\n",
      "10000/10000 [==============================] - 7s 662us/sample - loss: 1.2935 - accuracy: 0.5689\n",
      "Epoch 18/30\n",
      "10000/10000 [==============================] - 7s 725us/sample - loss: 1.2816 - accuracy: 0.5863\n",
      "Epoch 19/30\n",
      "10000/10000 [==============================] - 6s 586us/sample - loss: 1.2647 - accuracy: 0.5943\n",
      "Epoch 20/30\n",
      "10000/10000 [==============================] - 6s 609us/sample - loss: 1.2627 - accuracy: 0.5825\n",
      "Epoch 21/30\n",
      "10000/10000 [==============================] - 6s 615us/sample - loss: 1.2420 - accuracy: 0.5975\n",
      "Epoch 22/30\n",
      "10000/10000 [==============================] - 6s 628us/sample - loss: 1.2333 - accuracy: 0.6058\n",
      "Epoch 23/30\n",
      "10000/10000 [==============================] - 6s 612us/sample - loss: 1.2150 - accuracy: 0.6145\n",
      "Epoch 24/30\n",
      "10000/10000 [==============================] - 6s 602us/sample - loss: 1.2074 - accuracy: 0.6212\n",
      "Epoch 25/30\n",
      "10000/10000 [==============================] - 6s 633us/sample - loss: 1.1946 - accuracy: 0.6231\n",
      "Epoch 26/30\n",
      "10000/10000 [==============================] - 6s 600us/sample - loss: 1.1856 - accuracy: 0.6191\n",
      "Epoch 27/30\n",
      "10000/10000 [==============================] - 6s 587us/sample - loss: 1.1682 - accuracy: 0.6364\n",
      "Epoch 28/30\n",
      "10000/10000 [==============================] - 6s 609us/sample - loss: 1.1633 - accuracy: 0.6312\n",
      "Epoch 29/30\n",
      "10000/10000 [==============================] - 6s 602us/sample - loss: 1.1467 - accuracy: 0.6465\n",
      "Epoch 30/30\n",
      "10000/10000 [==============================] - 6s 628us/sample - loss: 1.1361 - accuracy: 0.6434\n"
     ]
    },
    {
     "data": {
      "text/plain": [
       "<tensorflow.python.keras.callbacks.History at 0x1c6381f11d0>"
      ]
     },
     "execution_count": 152,
     "metadata": {},
     "output_type": "execute_result"
    }
   ],
   "source": [
    "mnist_model_2.fit(x_train,y_train,batch_size=128,epochs=30)"
   ]
  },
  {
   "cell_type": "code",
   "execution_count": 154,
   "metadata": {},
   "outputs": [
    {
     "name": "stdout",
     "output_type": "stream",
     "text": [
      "train_acc= 0.6311\n",
      "test_acc= 0.616\n"
     ]
    }
   ],
   "source": [
    "train_pred = mnist_model_2.predict(x_train)\n",
    "train_acc = sum(np.where(train_pred.argmax(axis=1)==y_train.argmax(axis=1),1,0))/y_train.shape[0]\n",
    "print(\"train_acc=\",train_acc)\n",
    "test_pred = mnist_model_2.predict(x_test)\n",
    "test_acc = train_acc = sum(np.where(test_pred.argmax(axis=1)==y_test.argmax(axis=1),1,0))/y_test.shape[0]\n",
    "print(\"test_acc=\",test_acc)"
   ]
  },
  {
   "cell_type": "markdown",
   "metadata": {},
   "source": [
    "### 3.2 Use TF2.0"
   ]
  },
  {
   "cell_type": "code",
   "execution_count": 197,
   "metadata": {},
   "outputs": [],
   "source": [
    "(x_train,y_train),(x_test,y_test) = tf.keras.datasets.mnist.load_data()\n",
    "x_train = x_train[:10000,:,:]\n",
    "y_train = y_train[:10000]\n",
    "x_test = x_test[:1000,:,:]\n",
    "y_test = y_test[:1000]"
   ]
  },
  {
   "cell_type": "code",
   "execution_count": 198,
   "metadata": {},
   "outputs": [],
   "source": [
    "x_train = tf.cast(x_train[...,tf.newaxis]/255, tf.float32)\n",
    "x_test = tf.cast(x_test[...,tf.newaxis]/255, tf.float32)"
   ]
  },
  {
   "cell_type": "code",
   "execution_count": 199,
   "metadata": {},
   "outputs": [],
   "source": [
    "dataset = tf.data.Dataset.from_tensor_slices((x_train,tf.cast(y_train,tf.int64)))\n",
    "\n",
    "dataset = dataset.shuffle(1000).batch(32)"
   ]
  },
  {
   "cell_type": "code",
   "execution_count": 207,
   "metadata": {},
   "outputs": [],
   "source": [
    "optimizer = tf.keras.optimizers.SGD(learning_rate=1e-3)\n",
    "loss = tf.keras.losses.SparseCategoricalCrossentropy(from_logits=False) \n",
    "loss_history=[]"
   ]
  },
  {
   "cell_type": "code",
   "execution_count": 209,
   "metadata": {},
   "outputs": [
    {
     "name": "stdout",
     "output_type": "stream",
     "text": [
      "Epoch 0 finished, loss=0.07374794036149979\n",
      "Epoch 1 finished, loss=0.07220444828271866\n",
      "Epoch 2 finished, loss=0.07176249474287033\n",
      "Epoch 3 finished, loss=0.07087982445955276\n",
      "Epoch 4 finished, loss=0.07136518508195877\n",
      "Epoch 5 finished, loss=0.07041977345943451\n",
      "Epoch 6 finished, loss=0.0707215741276741\n",
      "Epoch 7 finished, loss=0.06859298050403595\n",
      "Epoch 8 finished, loss=0.07042422890663147\n",
      "Epoch 9 finished, loss=0.0667891651391983\n"
     ]
    }
   ],
   "source": [
    "for epoch in range(10):\n",
    "    total_loss = 0\n",
    "    for (batch,(images,labels)) in enumerate (dataset):\n",
    "        with tf.GradientTape() as tape:\n",
    "            logits = mnist_model(images,training=True) #predicted labels\n",
    "            loss_value = loss(labels,logits)\n",
    "            total_loss += loss_value\n",
    "        grads = tape.gradient(loss_value,mnist_model.trainable_variables)\n",
    "        optimizer.apply_gradients(zip(grads,mnist_model.trainable_variables))\n",
    "    print(\"Epoch {} finished, loss={}\".format(epoch,total_loss/1000))"
   ]
  },
  {
   "cell_type": "code",
   "execution_count": 211,
   "metadata": {},
   "outputs": [
    {
     "name": "stdout",
     "output_type": "stream",
     "text": [
      "train_acc= 0.9676\n",
      "test_acc= 0.942\n"
     ]
    }
   ],
   "source": [
    "train_pred = mnist_model.predict(x_train)\n",
    "train_acc = sum(np.where(train_pred.argmax(axis=1)==y_train,1,0))/y_train.shape[0]\n",
    "print(\"train_acc=\",train_acc)\n",
    "test_pred = mnist_model.predict(x_test)\n",
    "test_acc = train_acc = sum(np.where(test_pred.argmax(axis=1)==y_test,1,0))/y_test.shape[0]\n",
    "print(\"test_acc=\",test_acc)"
   ]
  },
  {
   "cell_type": "code",
   "execution_count": null,
   "metadata": {},
   "outputs": [],
   "source": []
  }
 ],
 "metadata": {
  "kernelspec": {
   "display_name": "Python 3",
   "language": "python",
   "name": "python3"
  },
  "language_info": {
   "codemirror_mode": {
    "name": "ipython",
    "version": 3
   },
   "file_extension": ".py",
   "mimetype": "text/x-python",
   "name": "python",
   "nbconvert_exporter": "python",
   "pygments_lexer": "ipython3",
   "version": "3.6.7"
  }
 },
 "nbformat": 4,
 "nbformat_minor": 2
}
